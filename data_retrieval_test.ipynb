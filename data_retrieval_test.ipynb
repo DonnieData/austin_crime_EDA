{
 "cells": [
  {
   "cell_type": "code",
   "execution_count": 11,
   "id": "uniform-florida",
   "metadata": {
    "execution": {
     "iopub.execute_input": "2021-03-01T00:55:45.392041Z",
     "iopub.status.busy": "2021-03-01T00:55:45.392041Z",
     "iopub.status.idle": "2021-03-01T00:55:45.395034Z",
     "shell.execute_reply": "2021-03-01T00:55:45.395034Z",
     "shell.execute_reply.started": "2021-03-01T00:55:45.392041Z"
    }
   },
   "outputs": [],
   "source": [
    "# import dependencies \n",
    "import requests \n",
    "import pandas as pd\n",
    "import time "
   ]
  },
  {
   "cell_type": "markdown",
   "id": "suffering-intermediate",
   "metadata": {},
   "source": [
    "## Test API / Data retrieval "
   ]
  },
  {
   "cell_type": "code",
   "execution_count": 12,
   "id": "previous-birth",
   "metadata": {
    "execution": {
     "iopub.execute_input": "2021-03-01T00:58:37.001819Z",
     "iopub.status.busy": "2021-03-01T00:58:37.001819Z",
     "iopub.status.idle": "2021-03-01T00:58:44.246446Z",
     "shell.execute_reply": "2021-03-01T00:58:44.246446Z",
     "shell.execute_reply.started": "2021-03-01T00:58:37.001819Z"
    }
   },
   "outputs": [
    {
     "data": {
      "text/plain": [
       "200"
      ]
     },
     "execution_count": 12,
     "metadata": {},
     "output_type": "execute_result"
    }
   ],
   "source": [
    "# API request for crime data \n",
    "r = requests.get(\"https://data.austintexas.gov/resource/fdj4-gpfu.json?$limit=10000\")\n",
    "# status for API request\n",
    "r.status_code"
   ]
  },
  {
   "cell_type": "code",
   "execution_count": 13,
   "id": "supported-button",
   "metadata": {
    "execution": {
     "iopub.execute_input": "2021-03-01T00:59:13.332914Z",
     "iopub.status.busy": "2021-03-01T00:59:13.332914Z",
     "iopub.status.idle": "2021-03-01T00:59:13.471518Z",
     "shell.execute_reply": "2021-03-01T00:59:13.470520Z",
     "shell.execute_reply.started": "2021-03-01T00:59:13.332914Z"
    }
   },
   "outputs": [
    {
     "data": {
      "text/plain": [
       "10000"
      ]
     },
     "execution_count": 13,
     "metadata": {},
     "output_type": "execute_result"
    }
   ],
   "source": [
    "len(r.json())"
   ]
  },
  {
   "cell_type": "code",
   "execution_count": 15,
   "id": "previous-saint",
   "metadata": {
    "execution": {
     "iopub.execute_input": "2021-03-01T00:59:23.479170Z",
     "iopub.status.busy": "2021-03-01T00:59:23.479170Z",
     "iopub.status.idle": "2021-03-01T00:59:23.721553Z",
     "shell.execute_reply": "2021-03-01T00:59:23.721553Z",
     "shell.execute_reply.started": "2021-03-01T00:59:23.479170Z"
    }
   },
   "outputs": [],
   "source": [
    "crime_incident_data = pd.DataFrame.from_records(r.json())"
   ]
  },
  {
   "cell_type": "markdown",
   "id": "reserved-arnold",
   "metadata": {
    "execution": {
     "iopub.execute_input": "2021-03-01T00:59:56.530710Z",
     "iopub.status.busy": "2021-03-01T00:59:56.529713Z",
     "iopub.status.idle": "2021-03-01T00:59:56.535671Z",
     "shell.execute_reply": "2021-03-01T00:59:56.534673Z",
     "shell.execute_reply.started": "2021-03-01T00:59:56.530710Z"
    }
   },
   "source": [
    "----------------"
   ]
  },
  {
   "cell_type": "markdown",
   "id": "conceptual-anchor",
   "metadata": {},
   "source": [
    "## Review Data "
   ]
  },
  {
   "cell_type": "code",
   "execution_count": 46,
   "id": "following-document",
   "metadata": {
    "execution": {
     "iopub.execute_input": "2021-03-01T20:19:25.414917Z",
     "iopub.status.busy": "2021-03-01T20:19:25.414917Z",
     "iopub.status.idle": "2021-03-01T20:19:25.447787Z",
     "shell.execute_reply": "2021-03-01T20:19:25.447787Z",
     "shell.execute_reply.started": "2021-03-01T20:19:25.414917Z"
    }
   },
   "outputs": [
    {
     "data": {
      "text/html": [
       "<div>\n",
       "<style scoped>\n",
       "    .dataframe tbody tr th:only-of-type {\n",
       "        vertical-align: middle;\n",
       "    }\n",
       "\n",
       "    .dataframe tbody tr th {\n",
       "        vertical-align: top;\n",
       "    }\n",
       "\n",
       "    .dataframe thead th {\n",
       "        text-align: right;\n",
       "    }\n",
       "</style>\n",
       "<table border=\"1\" class=\"dataframe\">\n",
       "  <thead>\n",
       "    <tr style=\"text-align: right;\">\n",
       "      <th></th>\n",
       "      <th>incident_report_number</th>\n",
       "      <th>crime_type</th>\n",
       "      <th>ucr_code</th>\n",
       "      <th>family_violence</th>\n",
       "      <th>occ_date_time</th>\n",
       "      <th>occ_date</th>\n",
       "      <th>occ_time</th>\n",
       "      <th>rep_date_time</th>\n",
       "      <th>rep_date</th>\n",
       "      <th>rep_time</th>\n",
       "      <th>...</th>\n",
       "      <th>y_coordinate</th>\n",
       "      <th>latitude</th>\n",
       "      <th>longitude</th>\n",
       "      <th>location</th>\n",
       "      <th>:@computed_region_a3it_2a2z</th>\n",
       "      <th>:@computed_region_8spj_utxs</th>\n",
       "      <th>:@computed_region_q9nd_rr82</th>\n",
       "      <th>:@computed_region_qwte_z96m</th>\n",
       "      <th>clearance_status</th>\n",
       "      <th>clearance_date</th>\n",
       "    </tr>\n",
       "  </thead>\n",
       "  <tbody>\n",
       "    <tr>\n",
       "      <th>0</th>\n",
       "      <td>20215006549</td>\n",
       "      <td>BURGLARY OF VEHICLE</td>\n",
       "      <td>601</td>\n",
       "      <td>N</td>\n",
       "      <td>2021-02-20T17:00:00.000</td>\n",
       "      <td>2021-02-20T00:00:00.000</td>\n",
       "      <td>1700</td>\n",
       "      <td>2021-02-20T23:35:00.000</td>\n",
       "      <td>2021-02-20T00:00:00.000</td>\n",
       "      <td>2335</td>\n",
       "      <td>...</td>\n",
       "      <td>3125701</td>\n",
       "      <td>30.32530599</td>\n",
       "      <td>-97.7051651</td>\n",
       "      <td>{'latitude': '30.32530599', 'longitude': '-97....</td>\n",
       "      <td>3641</td>\n",
       "      <td>4</td>\n",
       "      <td>9</td>\n",
       "      <td>202</td>\n",
       "      <td>NaN</td>\n",
       "      <td>NaN</td>\n",
       "    </tr>\n",
       "    <tr>\n",
       "      <th>1</th>\n",
       "      <td>20215006547</td>\n",
       "      <td>BURGLARY NON RESIDENCE</td>\n",
       "      <td>502</td>\n",
       "      <td>N</td>\n",
       "      <td>2021-02-20T14:47:00.000</td>\n",
       "      <td>2021-02-20T00:00:00.000</td>\n",
       "      <td>1447</td>\n",
       "      <td>2021-02-20T18:41:00.000</td>\n",
       "      <td>2021-02-20T00:00:00.000</td>\n",
       "      <td>1841</td>\n",
       "      <td>...</td>\n",
       "      <td>3137519</td>\n",
       "      <td>30.4088995</td>\n",
       "      <td>-97.66538535</td>\n",
       "      <td>{'latitude': '30.4088995', 'longitude': '-97.6...</td>\n",
       "      <td>3642</td>\n",
       "      <td>7</td>\n",
       "      <td>7</td>\n",
       "      <td>1889</td>\n",
       "      <td>NaN</td>\n",
       "      <td>NaN</td>\n",
       "    </tr>\n",
       "    <tr>\n",
       "      <th>2</th>\n",
       "      <td>2021510833</td>\n",
       "      <td>CRIMINAL MISCHIEF</td>\n",
       "      <td>1400</td>\n",
       "      <td>N</td>\n",
       "      <td>2021-02-20T14:41:00.000</td>\n",
       "      <td>2021-02-20T00:00:00.000</td>\n",
       "      <td>1441</td>\n",
       "      <td>2021-02-20T14:41:00.000</td>\n",
       "      <td>2021-02-20T00:00:00.000</td>\n",
       "      <td>1441</td>\n",
       "      <td>...</td>\n",
       "      <td>3129379</td>\n",
       "      <td>30.37078232</td>\n",
       "      <td>-97.69225943</td>\n",
       "      <td>{'latitude': '30.37078232', 'longitude': '-97....</td>\n",
       "      <td>3642</td>\n",
       "      <td>4</td>\n",
       "      <td>9</td>\n",
       "      <td>1404</td>\n",
       "      <td>NaN</td>\n",
       "      <td>NaN</td>\n",
       "    </tr>\n",
       "    <tr>\n",
       "      <th>3</th>\n",
       "      <td>2021510758</td>\n",
       "      <td>RESISTING ARREST OR SEARCH</td>\n",
       "      <td>905</td>\n",
       "      <td>N</td>\n",
       "      <td>2021-02-20T14:30:00.000</td>\n",
       "      <td>2021-02-20T00:00:00.000</td>\n",
       "      <td>1430</td>\n",
       "      <td>2021-02-20T16:30:00.000</td>\n",
       "      <td>2021-02-20T00:00:00.000</td>\n",
       "      <td>1630</td>\n",
       "      <td>...</td>\n",
       "      <td>3115258</td>\n",
       "      <td>30.26755605</td>\n",
       "      <td>-97.73982607</td>\n",
       "      <td>{'latitude': '30.26755605', 'longitude': '-97....</td>\n",
       "      <td>2856</td>\n",
       "      <td>9</td>\n",
       "      <td>10</td>\n",
       "      <td>NaN</td>\n",
       "      <td>NaN</td>\n",
       "      <td>NaN</td>\n",
       "    </tr>\n",
       "    <tr>\n",
       "      <th>4</th>\n",
       "      <td>2021210510728</td>\n",
       "      <td>CRIMINAL TRESPASS</td>\n",
       "      <td>2716</td>\n",
       "      <td>N</td>\n",
       "      <td>2021-02-20T13:47:00.000</td>\n",
       "      <td>2021-02-20T00:00:00.000</td>\n",
       "      <td>1347</td>\n",
       "      <td>2021-02-20T13:47:00.000</td>\n",
       "      <td>2021-02-20T00:00:00.000</td>\n",
       "      <td>1347</td>\n",
       "      <td>...</td>\n",
       "      <td>3129379</td>\n",
       "      <td>30.37078232</td>\n",
       "      <td>-97.69225943</td>\n",
       "      <td>{'latitude': '30.37078232', 'longitude': '-97....</td>\n",
       "      <td>3642</td>\n",
       "      <td>4</td>\n",
       "      <td>9</td>\n",
       "      <td>1404</td>\n",
       "      <td>NaN</td>\n",
       "      <td>NaN</td>\n",
       "    </tr>\n",
       "  </tbody>\n",
       "</table>\n",
       "<p>5 rows × 30 columns</p>\n",
       "</div>"
      ],
      "text/plain": [
       "  incident_report_number                  crime_type ucr_code family_violence  \\\n",
       "0            20215006549         BURGLARY OF VEHICLE      601               N   \n",
       "1            20215006547      BURGLARY NON RESIDENCE      502               N   \n",
       "2             2021510833           CRIMINAL MISCHIEF     1400               N   \n",
       "3             2021510758  RESISTING ARREST OR SEARCH      905               N   \n",
       "4          2021210510728           CRIMINAL TRESPASS     2716               N   \n",
       "\n",
       "             occ_date_time                 occ_date occ_time  \\\n",
       "0  2021-02-20T17:00:00.000  2021-02-20T00:00:00.000     1700   \n",
       "1  2021-02-20T14:47:00.000  2021-02-20T00:00:00.000     1447   \n",
       "2  2021-02-20T14:41:00.000  2021-02-20T00:00:00.000     1441   \n",
       "3  2021-02-20T14:30:00.000  2021-02-20T00:00:00.000     1430   \n",
       "4  2021-02-20T13:47:00.000  2021-02-20T00:00:00.000     1347   \n",
       "\n",
       "             rep_date_time                 rep_date rep_time  ...  \\\n",
       "0  2021-02-20T23:35:00.000  2021-02-20T00:00:00.000     2335  ...   \n",
       "1  2021-02-20T18:41:00.000  2021-02-20T00:00:00.000     1841  ...   \n",
       "2  2021-02-20T14:41:00.000  2021-02-20T00:00:00.000     1441  ...   \n",
       "3  2021-02-20T16:30:00.000  2021-02-20T00:00:00.000     1630  ...   \n",
       "4  2021-02-20T13:47:00.000  2021-02-20T00:00:00.000     1347  ...   \n",
       "\n",
       "  y_coordinate     latitude     longitude  \\\n",
       "0      3125701  30.32530599   -97.7051651   \n",
       "1      3137519   30.4088995  -97.66538535   \n",
       "2      3129379  30.37078232  -97.69225943   \n",
       "3      3115258  30.26755605  -97.73982607   \n",
       "4      3129379  30.37078232  -97.69225943   \n",
       "\n",
       "                                            location  \\\n",
       "0  {'latitude': '30.32530599', 'longitude': '-97....   \n",
       "1  {'latitude': '30.4088995', 'longitude': '-97.6...   \n",
       "2  {'latitude': '30.37078232', 'longitude': '-97....   \n",
       "3  {'latitude': '30.26755605', 'longitude': '-97....   \n",
       "4  {'latitude': '30.37078232', 'longitude': '-97....   \n",
       "\n",
       "  :@computed_region_a3it_2a2z :@computed_region_8spj_utxs  \\\n",
       "0                        3641                           4   \n",
       "1                        3642                           7   \n",
       "2                        3642                           4   \n",
       "3                        2856                           9   \n",
       "4                        3642                           4   \n",
       "\n",
       "  :@computed_region_q9nd_rr82 :@computed_region_qwte_z96m clearance_status  \\\n",
       "0                           9                         202              NaN   \n",
       "1                           7                        1889              NaN   \n",
       "2                           9                        1404              NaN   \n",
       "3                          10                         NaN              NaN   \n",
       "4                           9                        1404              NaN   \n",
       "\n",
       "  clearance_date  \n",
       "0            NaN  \n",
       "1            NaN  \n",
       "2            NaN  \n",
       "3            NaN  \n",
       "4            NaN  \n",
       "\n",
       "[5 rows x 30 columns]"
      ]
     },
     "execution_count": 46,
     "metadata": {},
     "output_type": "execute_result"
    }
   ],
   "source": [
    "# display all column \n",
    "crime_incident_data[crime_incident_data.columns][0:5]"
   ]
  },
  {
   "cell_type": "code",
   "execution_count": 44,
   "id": "clinical-italian",
   "metadata": {
    "execution": {
     "iopub.execute_input": "2021-03-01T20:10:06.969711Z",
     "iopub.status.busy": "2021-03-01T20:10:06.967694Z",
     "iopub.status.idle": "2021-03-01T20:10:06.976667Z",
     "shell.execute_reply": "2021-03-01T20:10:06.975670Z",
     "shell.execute_reply.started": "2021-03-01T20:10:06.969711Z"
    }
   },
   "outputs": [
    {
     "data": {
      "text/plain": [
       "'2021-02-20T17:00:00.000'"
      ]
     },
     "execution_count": 44,
     "metadata": {},
     "output_type": "execute_result"
    }
   ],
   "source": [
    "# review time columns \n",
    "crime_incident_data.occ_date_time[0]"
   ]
  },
  {
   "cell_type": "code",
   "execution_count": null,
   "id": "noticed-municipality",
   "metadata": {},
   "outputs": [],
   "source": [
    "#drop unneeded/redundant columns \n",
    "drop_column_list = ['latitude', 'longitude', 'x_coordinate', 'y_coordinate','occ_date', 'occ_time',]"
   ]
  },
  {
   "cell_type": "code",
   "execution_count": 31,
   "id": "entertaining-edinburgh",
   "metadata": {
    "execution": {
     "iopub.execute_input": "2021-03-01T18:56:37.654936Z",
     "iopub.status.busy": "2021-03-01T18:56:37.654936Z",
     "iopub.status.idle": "2021-03-01T18:56:37.661133Z",
     "shell.execute_reply": "2021-03-01T18:56:37.661133Z",
     "shell.execute_reply.started": "2021-03-01T18:56:37.654936Z"
    }
   },
   "outputs": [
    {
     "data": {
      "text/plain": [
       "Index(['incident_report_number', 'crime_type', 'ucr_code', 'family_violence',\n",
       "       'occ_date_time', 'occ_date', 'occ_time', 'rep_date_time', 'rep_date',\n",
       "       'rep_time', 'location_type', 'address', 'zip_code', 'council_district',\n",
       "       'sector', 'district', 'pra', 'ucr_category', 'category_description',\n",
       "       'x_coordinate', 'y_coordinate', 'latitude', 'longitude', 'location',\n",
       "       ':@computed_region_a3it_2a2z', ':@computed_region_8spj_utxs',\n",
       "       ':@computed_region_q9nd_rr82', ':@computed_region_qwte_z96m',\n",
       "       'clearance_status', 'clearance_date'],\n",
       "      dtype='object')"
      ]
     },
     "execution_count": 31,
     "metadata": {},
     "output_type": "execute_result"
    },
    {
     "data": {
      "text/plain": [
       "(30,)"
      ]
     },
     "execution_count": 31,
     "metadata": {},
     "output_type": "execute_result"
    }
   ],
   "source": [
    "crime_incident_data.columns\n",
    "crime_incident_data.columns.shape"
   ]
  },
  {
   "cell_type": "code",
   "execution_count": 20,
   "id": "norman-bernard",
   "metadata": {
    "execution": {
     "iopub.execute_input": "2021-03-01T01:01:20.661644Z",
     "iopub.status.busy": "2021-03-01T01:01:20.661644Z",
     "iopub.status.idle": "2021-03-01T01:01:20.743950Z",
     "shell.execute_reply": "2021-03-01T01:01:20.743950Z",
     "shell.execute_reply.started": "2021-03-01T01:01:20.661644Z"
    }
   },
   "outputs": [
    {
     "name": "stdout",
     "output_type": "stream",
     "text": [
      "<class 'pandas.core.frame.DataFrame'>\n",
      "RangeIndex: 10000 entries, 0 to 9999\n",
      "Data columns (total 30 columns):\n",
      " #   Column                       Non-Null Count  Dtype \n",
      "---  ------                       --------------  ----- \n",
      " 0   incident_report_number       10000 non-null  object\n",
      " 1   crime_type                   10000 non-null  object\n",
      " 2   ucr_code                     10000 non-null  object\n",
      " 3   family_violence              10000 non-null  object\n",
      " 4   occ_date_time                10000 non-null  object\n",
      " 5   occ_date                     10000 non-null  object\n",
      " 6   occ_time                     10000 non-null  object\n",
      " 7   rep_date_time                10000 non-null  object\n",
      " 8   rep_date                     10000 non-null  object\n",
      " 9   rep_time                     10000 non-null  object\n",
      " 10  location_type                9999 non-null   object\n",
      " 11  address                      10000 non-null  object\n",
      " 12  zip_code                     9898 non-null   object\n",
      " 13  council_district             9883 non-null   object\n",
      " 14  sector                       9923 non-null   object\n",
      " 15  district                     9920 non-null   object\n",
      " 16  pra                          9910 non-null   object\n",
      " 17  ucr_category                 3930 non-null   object\n",
      " 18  category_description         3930 non-null   object\n",
      " 19  x_coordinate                 9912 non-null   object\n",
      " 20  y_coordinate                 9912 non-null   object\n",
      " 21  latitude                     9834 non-null   object\n",
      " 22  longitude                    9834 non-null   object\n",
      " 23  location                     9834 non-null   object\n",
      " 24  :@computed_region_a3it_2a2z  9834 non-null   object\n",
      " 25  :@computed_region_8spj_utxs  9791 non-null   object\n",
      " 26  :@computed_region_q9nd_rr82  9815 non-null   object\n",
      " 27  :@computed_region_qwte_z96m  5741 non-null   object\n",
      " 28  clearance_status             7378 non-null   object\n",
      " 29  clearance_date               7378 non-null   object\n",
      "dtypes: object(30)\n",
      "memory usage: 2.3+ MB\n"
     ]
    }
   ],
   "source": [
    "crime_incident_data.info()"
   ]
  },
  {
   "cell_type": "markdown",
   "id": "inappropriate-latex",
   "metadata": {},
   "source": [
    "---------------------------"
   ]
  },
  {
   "cell_type": "markdown",
   "id": "cordless-compromise",
   "metadata": {
    "execution": {
     "iopub.execute_input": "2021-03-01T19:18:24.288503Z",
     "iopub.status.busy": "2021-03-01T19:18:24.287505Z",
     "iopub.status.idle": "2021-03-01T19:18:24.291495Z",
     "shell.execute_reply": "2021-03-01T19:18:24.291495Z",
     "shell.execute_reply.started": "2021-03-01T19:18:24.288503Z"
    }
   },
   "source": [
    "## define database table relationships "
   ]
  },
  {
   "cell_type": "code",
   "execution_count": null,
   "id": "protecting-maryland",
   "metadata": {},
   "outputs": [],
   "source": []
  },
  {
   "cell_type": "code",
   "execution_count": null,
   "id": "friendly-backing",
   "metadata": {},
   "outputs": [],
   "source": []
  },
  {
   "cell_type": "code",
   "execution_count": null,
   "id": "brutal-contemporary",
   "metadata": {},
   "outputs": [],
   "source": []
  }
 ],
 "metadata": {
  "kernelspec": {
   "display_name": "PythonData",
   "language": "python",
   "name": "pythondata"
  },
  "language_info": {
   "codemirror_mode": {
    "name": "ipython",
    "version": 3
   },
   "file_extension": ".py",
   "mimetype": "text/x-python",
   "name": "python",
   "nbconvert_exporter": "python",
   "pygments_lexer": "ipython3",
   "version": "3.7.9"
  }
 },
 "nbformat": 4,
 "nbformat_minor": 5
}

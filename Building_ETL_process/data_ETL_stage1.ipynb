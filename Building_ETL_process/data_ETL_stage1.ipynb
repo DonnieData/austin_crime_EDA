{
 "cells": [
  {
   "cell_type": "markdown",
   "id": "present-denver",
   "metadata": {},
   "source": [
    "## Test API / Data retrieval "
   ]
  },
  {
   "cell_type": "code",
   "execution_count": 3,
   "id": "secondary-infrastructure",
   "metadata": {
    "execution": {
     "iopub.execute_input": "2021-03-03T20:55:08.222779Z",
     "iopub.status.busy": "2021-03-03T20:55:08.222779Z",
     "iopub.status.idle": "2021-03-03T20:55:08.256269Z",
     "shell.execute_reply": "2021-03-03T20:55:08.255272Z",
     "shell.execute_reply.started": "2021-03-03T20:55:08.222779Z"
    }
   },
   "outputs": [],
   "source": [
    "# import dependencies \n",
    "import requests \n",
    "import pandas as pd\n",
    "import time \n",
    "from datetime import datetime\n",
    "import numpy as np \n",
    "import config "
   ]
  },
  {
   "cell_type": "code",
   "execution_count": 4,
   "id": "cooked-nevada",
   "metadata": {
    "execution": {
     "iopub.execute_input": "2021-03-03T20:55:08.834749Z",
     "iopub.status.busy": "2021-03-03T20:55:08.833753Z",
     "iopub.status.idle": "2021-03-03T20:55:09.381814Z",
     "shell.execute_reply": "2021-03-03T20:55:09.380810Z",
     "shell.execute_reply.started": "2021-03-03T20:55:08.834749Z"
    }
   },
   "outputs": [
    {
     "data": {
      "text/plain": [
       "200"
      ]
     },
     "execution_count": 4,
     "metadata": {},
     "output_type": "execute_result"
    }
   ],
   "source": [
    "# API request for crime data \n",
    "data_request = requests.get(\"https://data.austintexas.gov/resource/fdj4-gpfu.json?$limit=100&$where=occ_date between '2018-01-01T00:00:00.000' and '2020-12-31T00:00:00.000'\")\n",
    "# status for API request\n",
    "data_request.status_code"
   ]
  },
  {
   "cell_type": "code",
   "execution_count": 675,
   "id": "ignored-secret",
   "metadata": {
    "execution": {
     "iopub.execute_input": "2021-03-03T05:52:56.701481Z",
     "iopub.status.busy": "2021-03-03T05:52:56.701481Z",
     "iopub.status.idle": "2021-03-03T05:53:01.078233Z",
     "shell.execute_reply": "2021-03-03T05:53:01.078233Z",
     "shell.execute_reply.started": "2021-03-03T05:52:56.701481Z"
    }
   },
   "outputs": [
    {
     "data": {
      "text/plain": [
       "310981"
      ]
     },
     "execution_count": 675,
     "metadata": {},
     "output_type": "execute_result"
    }
   ],
   "source": [
    "len(r.json())"
   ]
  },
  {
   "cell_type": "code",
   "execution_count": 33,
   "id": "artificial-suspension",
   "metadata": {
    "execution": {
     "iopub.execute_input": "2021-03-03T21:17:06.066137Z",
     "iopub.status.busy": "2021-03-03T21:17:06.066137Z",
     "iopub.status.idle": "2021-03-03T21:17:06.079074Z",
     "shell.execute_reply": "2021-03-03T21:17:06.078083Z",
     "shell.execute_reply.started": "2021-03-03T21:17:06.066137Z"
    }
   },
   "outputs": [],
   "source": [
    "data_df = pd.DataFrame.from_records(data_request.json())"
   ]
  },
  {
   "cell_type": "markdown",
   "id": "ranging-focus",
   "metadata": {
    "execution": {
     "iopub.execute_input": "2021-03-01T00:59:56.530710Z",
     "iopub.status.busy": "2021-03-01T00:59:56.529713Z",
     "iopub.status.idle": "2021-03-01T00:59:56.535671Z",
     "shell.execute_reply": "2021-03-01T00:59:56.534673Z",
     "shell.execute_reply.started": "2021-03-01T00:59:56.530710Z"
    }
   },
   "source": [
    "----------------"
   ]
  },
  {
   "cell_type": "markdown",
   "id": "plain-mediterranean",
   "metadata": {},
   "source": [
    "## Data \n",
    "Cleaning and transforming"
   ]
  },
  {
   "cell_type": "code",
   "execution_count": 34,
   "id": "false-scene",
   "metadata": {
    "execution": {
     "iopub.execute_input": "2021-03-03T21:17:12.165286Z",
     "iopub.status.busy": "2021-03-03T21:17:12.165286Z",
     "iopub.status.idle": "2021-03-03T21:17:12.174721Z",
     "shell.execute_reply": "2021-03-03T21:17:12.173754Z",
     "shell.execute_reply.started": "2021-03-03T21:17:12.165286Z"
    }
   },
   "outputs": [
    {
     "data": {
      "text/plain": [
       "0     2018-01-01T00:00:00.000\n",
       "1     2018-01-01T00:00:00.000\n",
       "2     2018-01-01T00:00:00.000\n",
       "3     2018-01-01T00:00:00.000\n",
       "4     2018-01-01T00:00:00.000\n",
       "               ...           \n",
       "95    2018-01-01T00:00:00.000\n",
       "96    2018-01-01T00:00:00.000\n",
       "97    2018-01-01T00:00:00.000\n",
       "98    2018-01-01T00:00:00.000\n",
       "99    2018-01-01T00:00:00.000\n",
       "Name: occ_date, Length: 100, dtype: object"
      ]
     },
     "execution_count": 34,
     "metadata": {},
     "output_type": "execute_result"
    }
   ],
   "source": [
    "data_df.occ_date"
   ]
  },
  {
   "cell_type": "code",
   "execution_count": 35,
   "id": "annoying-purse",
   "metadata": {
    "execution": {
     "iopub.execute_input": "2021-03-03T21:17:17.897523Z",
     "iopub.status.busy": "2021-03-03T21:17:17.896489Z",
     "iopub.status.idle": "2021-03-03T21:17:17.904470Z",
     "shell.execute_reply": "2021-03-03T21:17:17.903470Z",
     "shell.execute_reply.started": "2021-03-03T21:17:17.897523Z"
    }
   },
   "outputs": [
    {
     "data": {
      "text/plain": [
       "[Index(['incident_report_number', 'crime_type', 'ucr_code', 'family_violence',\n",
       "        'occ_date_time', 'occ_date', 'occ_time', 'rep_date_time', 'rep_date',\n",
       "        'rep_time', 'location_type', 'address', 'zip_code', 'council_district',\n",
       "        'sector', 'district', 'pra', 'x_coordinate', 'y_coordinate', 'latitude',\n",
       "        'longitude', 'location', 'census_tract', 'clearance_status',\n",
       "        'clearance_date', 'ucr_category', 'category_description'],\n",
       "       dtype='object')]"
      ]
     },
     "execution_count": 35,
     "metadata": {},
     "output_type": "execute_result"
    }
   ],
   "source": [
    "# display all column \n",
    "[data_df.columns][0:5]"
   ]
  },
  {
   "cell_type": "code",
   "execution_count": 41,
   "id": "duplicate-leather",
   "metadata": {
    "execution": {
     "iopub.execute_input": "2021-03-03T21:19:06.591523Z",
     "iopub.status.busy": "2021-03-03T21:19:06.591523Z",
     "iopub.status.idle": "2021-03-03T21:19:06.597474Z",
     "shell.execute_reply": "2021-03-03T21:19:06.596473Z",
     "shell.execute_reply.started": "2021-03-03T21:19:06.591523Z"
    }
   },
   "outputs": [],
   "source": [
    "#create list of unneeded/redundant columns to drop \n",
    "drop_column = ['latitude', 'longitude', 'location',\n",
    "                    'occ_date', 'occ_time','rep_date','rep_time','category_description', 'address',\n",
    "                    'ucr_category']"
   ]
  },
  {
   "cell_type": "code",
   "execution_count": 42,
   "id": "alpine-astrology",
   "metadata": {
    "execution": {
     "iopub.execute_input": "2021-03-03T21:19:07.430896Z",
     "iopub.status.busy": "2021-03-03T21:19:07.430896Z",
     "iopub.status.idle": "2021-03-03T21:19:07.436878Z",
     "shell.execute_reply": "2021-03-03T21:19:07.435883Z",
     "shell.execute_reply.started": "2021-03-03T21:19:07.430896Z"
    }
   },
   "outputs": [],
   "source": [
    "# drop columns )\n",
    "data_df.drop(drop_column, axis=1, inplace=True)"
   ]
  },
  {
   "cell_type": "code",
   "execution_count": 43,
   "id": "trying-invasion",
   "metadata": {
    "execution": {
     "iopub.execute_input": "2021-03-03T21:19:17.669160Z",
     "iopub.status.busy": "2021-03-03T21:19:17.668162Z",
     "iopub.status.idle": "2021-03-03T21:19:17.724038Z",
     "shell.execute_reply": "2021-03-03T21:19:17.723043Z",
     "shell.execute_reply.started": "2021-03-03T21:19:17.669160Z"
    }
   },
   "outputs": [
    {
     "name": "stdout",
     "output_type": "stream",
     "text": [
      "<class 'pandas.core.frame.DataFrame'>\n",
      "RangeIndex: 100 entries, 0 to 99\n",
      "Data columns (total 17 columns):\n",
      " #   Column                  Non-Null Count  Dtype \n",
      "---  ------                  --------------  ----- \n",
      " 0   incident_report_number  100 non-null    object\n",
      " 1   crime_type              100 non-null    object\n",
      " 2   ucr_code                100 non-null    object\n",
      " 3   family_violence         100 non-null    object\n",
      " 4   occ_date_time           100 non-null    object\n",
      " 5   rep_date_time           100 non-null    object\n",
      " 6   location_type           99 non-null     object\n",
      " 7   zip_code                99 non-null     object\n",
      " 8   council_district        99 non-null     object\n",
      " 9   sector                  99 non-null     object\n",
      " 10  district                99 non-null     object\n",
      " 11  pra                     99 non-null     object\n",
      " 12  x_coordinate            100 non-null    object\n",
      " 13  y_coordinate            100 non-null    object\n",
      " 14  census_tract            6 non-null      object\n",
      " 15  clearance_status        89 non-null     object\n",
      " 16  clearance_date          89 non-null     object\n",
      "dtypes: object(17)\n",
      "memory usage: 13.4+ KB\n"
     ]
    },
    {
     "data": {
      "text/plain": [
       "17"
      ]
     },
     "execution_count": 43,
     "metadata": {},
     "output_type": "execute_result"
    }
   ],
   "source": [
    "# review remaining columns data types\n",
    "data_df.info()\n",
    "# print remaining number of columns \n",
    "data_df.columns.size"
   ]
  },
  {
   "cell_type": "code",
   "execution_count": 44,
   "id": "animal-situation",
   "metadata": {
    "execution": {
     "iopub.execute_input": "2021-03-03T21:19:43.115797Z",
     "iopub.status.busy": "2021-03-03T21:19:43.115797Z",
     "iopub.status.idle": "2021-03-03T21:19:43.166203Z",
     "shell.execute_reply": "2021-03-03T21:19:43.165204Z",
     "shell.execute_reply.started": "2021-03-03T21:19:43.115797Z"
    }
   },
   "outputs": [
    {
     "data": {
      "text/html": [
       "<div>\n",
       "<style scoped>\n",
       "    .dataframe tbody tr th:only-of-type {\n",
       "        vertical-align: middle;\n",
       "    }\n",
       "\n",
       "    .dataframe tbody tr th {\n",
       "        vertical-align: top;\n",
       "    }\n",
       "\n",
       "    .dataframe thead th {\n",
       "        text-align: right;\n",
       "    }\n",
       "</style>\n",
       "<table border=\"1\" class=\"dataframe\">\n",
       "  <thead>\n",
       "    <tr style=\"text-align: right;\">\n",
       "      <th></th>\n",
       "      <th>incident_report_number</th>\n",
       "      <th>crime_type</th>\n",
       "      <th>ucr_code</th>\n",
       "      <th>family_violence</th>\n",
       "      <th>occ_date_time</th>\n",
       "      <th>rep_date_time</th>\n",
       "      <th>location_type</th>\n",
       "      <th>zip_code</th>\n",
       "      <th>council_district</th>\n",
       "      <th>sector</th>\n",
       "      <th>district</th>\n",
       "      <th>pra</th>\n",
       "      <th>x_coordinate</th>\n",
       "      <th>y_coordinate</th>\n",
       "      <th>census_tract</th>\n",
       "      <th>clearance_status</th>\n",
       "      <th>clearance_date</th>\n",
       "    </tr>\n",
       "  </thead>\n",
       "  <tbody>\n",
       "    <tr>\n",
       "      <th>37</th>\n",
       "      <td>201811906</td>\n",
       "      <td>FAMILY DISTURBANCE</td>\n",
       "      <td>3400</td>\n",
       "      <td>N</td>\n",
       "      <td>2018-01-01T22:53:00.000</td>\n",
       "      <td>2018-01-01T22:53:00.000</td>\n",
       "      <td>RESIDENCE / HOME</td>\n",
       "      <td>78750</td>\n",
       "      <td>6</td>\n",
       "      <td>AD</td>\n",
       "      <td>6</td>\n",
       "      <td>827</td>\n",
       "      <td>3095390</td>\n",
       "      <td>3095390</td>\n",
       "      <td>NaN</td>\n",
       "      <td>N</td>\n",
       "      <td>2018-01-14T00:00:00.000</td>\n",
       "    </tr>\n",
       "    <tr>\n",
       "      <th>59</th>\n",
       "      <td>20205029910</td>\n",
       "      <td>RAPE OF A CHILD</td>\n",
       "      <td>204</td>\n",
       "      <td>N</td>\n",
       "      <td>2018-01-01T13:31:00.000</td>\n",
       "      <td>2020-08-03T13:31:00.000</td>\n",
       "      <td>RESIDENCE / HOME</td>\n",
       "      <td>78751</td>\n",
       "      <td>9</td>\n",
       "      <td>BA</td>\n",
       "      <td>5</td>\n",
       "      <td>332</td>\n",
       "      <td>0</td>\n",
       "      <td>0</td>\n",
       "      <td>NaN</td>\n",
       "      <td>N</td>\n",
       "      <td>2020-08-18T00:00:00.000</td>\n",
       "    </tr>\n",
       "    <tr>\n",
       "      <th>14</th>\n",
       "      <td>20185000085</td>\n",
       "      <td>BURGLARY OF VEHICLE</td>\n",
       "      <td>601</td>\n",
       "      <td>N</td>\n",
       "      <td>2018-01-01T17:00:00.000</td>\n",
       "      <td>2018-01-01T22:12:00.000</td>\n",
       "      <td>PARKING LOTS / GARAGE</td>\n",
       "      <td>78704</td>\n",
       "      <td>9</td>\n",
       "      <td>DA</td>\n",
       "      <td>1</td>\n",
       "      <td>439</td>\n",
       "      <td>3113141</td>\n",
       "      <td>3113141</td>\n",
       "      <td>NaN</td>\n",
       "      <td>N</td>\n",
       "      <td>2018-01-03T00:00:00.000</td>\n",
       "    </tr>\n",
       "    <tr>\n",
       "      <th>9</th>\n",
       "      <td>201810847</td>\n",
       "      <td>CRIMINAL MISCHIEF</td>\n",
       "      <td>1400</td>\n",
       "      <td>N</td>\n",
       "      <td>2018-01-01T07:20:00.000</td>\n",
       "      <td>2018-01-01T07:20:00.000</td>\n",
       "      <td>PARKING LOTS / GARAGE</td>\n",
       "      <td>78745</td>\n",
       "      <td>2</td>\n",
       "      <td>FR</td>\n",
       "      <td>3</td>\n",
       "      <td>528</td>\n",
       "      <td>3103136</td>\n",
       "      <td>3103136</td>\n",
       "      <td>NaN</td>\n",
       "      <td>N</td>\n",
       "      <td>2018-01-03T00:00:00.000</td>\n",
       "    </tr>\n",
       "    <tr>\n",
       "      <th>69</th>\n",
       "      <td>20188000028</td>\n",
       "      <td>BURGLARY OF VEHICLE</td>\n",
       "      <td>601</td>\n",
       "      <td>N</td>\n",
       "      <td>2018-01-01T03:00:00.000</td>\n",
       "      <td>2018-01-02T09:52:00.000</td>\n",
       "      <td>RESIDENCE / HOME</td>\n",
       "      <td>78741</td>\n",
       "      <td>3</td>\n",
       "      <td>HE</td>\n",
       "      <td>2</td>\n",
       "      <td>441</td>\n",
       "      <td>3120119</td>\n",
       "      <td>3120119</td>\n",
       "      <td>NaN</td>\n",
       "      <td>N</td>\n",
       "      <td>2018-01-04T00:00:00.000</td>\n",
       "    </tr>\n",
       "  </tbody>\n",
       "</table>\n",
       "</div>"
      ],
      "text/plain": [
       "   incident_report_number           crime_type ucr_code family_violence  \\\n",
       "37              201811906   FAMILY DISTURBANCE     3400               N   \n",
       "59            20205029910      RAPE OF A CHILD      204               N   \n",
       "14            20185000085  BURGLARY OF VEHICLE      601               N   \n",
       "9               201810847    CRIMINAL MISCHIEF     1400               N   \n",
       "69            20188000028  BURGLARY OF VEHICLE      601               N   \n",
       "\n",
       "              occ_date_time            rep_date_time          location_type  \\\n",
       "37  2018-01-01T22:53:00.000  2018-01-01T22:53:00.000       RESIDENCE / HOME   \n",
       "59  2018-01-01T13:31:00.000  2020-08-03T13:31:00.000       RESIDENCE / HOME   \n",
       "14  2018-01-01T17:00:00.000  2018-01-01T22:12:00.000  PARKING LOTS / GARAGE   \n",
       "9   2018-01-01T07:20:00.000  2018-01-01T07:20:00.000  PARKING LOTS / GARAGE   \n",
       "69  2018-01-01T03:00:00.000  2018-01-02T09:52:00.000       RESIDENCE / HOME   \n",
       "\n",
       "   zip_code council_district sector district  pra x_coordinate y_coordinate  \\\n",
       "37    78750                6     AD        6  827      3095390      3095390   \n",
       "59    78751                9     BA        5  332            0            0   \n",
       "14    78704                9     DA        1  439      3113141      3113141   \n",
       "9     78745                2     FR        3  528      3103136      3103136   \n",
       "69    78741                3     HE        2  441      3120119      3120119   \n",
       "\n",
       "   census_tract clearance_status           clearance_date  \n",
       "37          NaN                N  2018-01-14T00:00:00.000  \n",
       "59          NaN                N  2020-08-18T00:00:00.000  \n",
       "14          NaN                N  2018-01-03T00:00:00.000  \n",
       "9           NaN                N  2018-01-03T00:00:00.000  \n",
       "69          NaN                N  2018-01-04T00:00:00.000  "
      ]
     },
     "execution_count": 44,
     "metadata": {},
     "output_type": "execute_result"
    }
   ],
   "source": [
    "# review data \n",
    "data_df.sample(5)"
   ]
  },
  {
   "cell_type": "code",
   "execution_count": 45,
   "id": "incident-pasta",
   "metadata": {
    "execution": {
     "iopub.execute_input": "2021-03-03T21:19:47.099879Z",
     "iopub.status.busy": "2021-03-03T21:19:47.098844Z",
     "iopub.status.idle": "2021-03-03T21:19:47.105823Z",
     "shell.execute_reply": "2021-03-03T21:19:47.105823Z",
     "shell.execute_reply.started": "2021-03-03T21:19:47.099879Z"
    }
   },
   "outputs": [
    {
     "data": {
      "text/plain": [
       "incident_report_number     0\n",
       "crime_type                 0\n",
       "ucr_code                   0\n",
       "family_violence            0\n",
       "occ_date_time              0\n",
       "rep_date_time              0\n",
       "location_type              1\n",
       "zip_code                   1\n",
       "council_district           1\n",
       "sector                     1\n",
       "district                   1\n",
       "pra                        1\n",
       "x_coordinate               0\n",
       "y_coordinate               0\n",
       "census_tract              94\n",
       "clearance_status          11\n",
       "clearance_date            11\n",
       "dtype: int64"
      ]
     },
     "execution_count": 45,
     "metadata": {},
     "output_type": "execute_result"
    }
   ],
   "source": [
    "data_df.isnull().sum()"
   ]
  },
  {
   "cell_type": "markdown",
   "id": "hundred-institute",
   "metadata": {},
   "source": [
    "### missing values"
   ]
  },
  {
   "cell_type": "code",
   "execution_count": 566,
   "id": "important-uzbekistan",
   "metadata": {
    "execution": {
     "iopub.execute_input": "2021-03-02T23:06:40.404848Z",
     "iopub.status.busy": "2021-03-02T23:06:40.403813Z",
     "iopub.status.idle": "2021-03-02T23:06:40.425790Z",
     "shell.execute_reply": "2021-03-02T23:06:40.425790Z",
     "shell.execute_reply.started": "2021-03-02T23:06:40.404848Z"
    }
   },
   "outputs": [
    {
     "data": {
      "text/plain": [
       "incident_report_number       0\n",
       "crime_type                   0\n",
       "ucr_code                     0\n",
       "family_violence              0\n",
       "occ_date_time                0\n",
       "rep_date_time                0\n",
       "location_type                1\n",
       "address                      0\n",
       "zip_code                   102\n",
       "council_district           117\n",
       "sector                      77\n",
       "district                    80\n",
       "pra                         90\n",
       "ucr_category              6070\n",
       "category_description      6070\n",
       "location                   166\n",
       "clearance_status          2622\n",
       "clearance_date            2622\n",
       "dtype: int64"
      ]
     },
     "execution_count": 566,
     "metadata": {},
     "output_type": "execute_result"
    }
   ],
   "source": [
    "stripped_crime_data.isnull().sum()"
   ]
  },
  {
   "cell_type": "code",
   "execution_count": 570,
   "id": "expanded-reading",
   "metadata": {
    "execution": {
     "iopub.execute_input": "2021-03-03T00:58:04.455983Z",
     "iopub.status.busy": "2021-03-03T00:58:04.455983Z",
     "iopub.status.idle": "2021-03-03T00:58:04.488545Z",
     "shell.execute_reply": "2021-03-03T00:58:04.488545Z",
     "shell.execute_reply.started": "2021-03-03T00:58:04.455983Z"
    }
   },
   "outputs": [
    {
     "data": {
      "text/plain": [
       "5"
      ]
     },
     "execution_count": 570,
     "metadata": {},
     "output_type": "execute_result"
    }
   ],
   "source": [
    "round(len(stripped_crime_data.columns) * 0.30)"
   ]
  },
  {
   "cell_type": "code",
   "execution_count": 572,
   "id": "pleasant-greeting",
   "metadata": {
    "execution": {
     "iopub.execute_input": "2021-03-03T01:12:15.034600Z",
     "iopub.status.busy": "2021-03-03T01:12:15.033602Z",
     "iopub.status.idle": "2021-03-03T01:12:15.080509Z",
     "shell.execute_reply": "2021-03-03T01:12:15.080509Z",
     "shell.execute_reply.started": "2021-03-03T01:12:15.033602Z"
    }
   },
   "outputs": [
    {
     "data": {
      "text/plain": [
       "incident_report_number       0\n",
       "crime_type                   0\n",
       "ucr_code                     0\n",
       "family_violence              0\n",
       "occ_date_time                0\n",
       "rep_date_time                0\n",
       "location_type                1\n",
       "address                      0\n",
       "zip_code                     7\n",
       "council_district            22\n",
       "sector                       0\n",
       "district                     0\n",
       "pra                          0\n",
       "ucr_category              5991\n",
       "category_description      5991\n",
       "location                    76\n",
       "clearance_status          2583\n",
       "clearance_date            2583\n",
       "dtype: int64"
      ]
     },
     "execution_count": 572,
     "metadata": {},
     "output_type": "execute_result"
    }
   ],
   "source": [
    "# remove rows with missing values\n",
    "# test 30% threshold\n",
    "stripped_crime_data.dropna(thresh=13 , axis=0).isnull().sum()"
   ]
  },
  {
   "cell_type": "code",
   "execution_count": null,
   "id": "productive-concept",
   "metadata": {},
   "outputs": [],
   "source": [
    "#check if priority columns (location_type, offense type) contain NAN, these cannot contain Nan due to table relationships\n",
    "[( ) & ()]"
   ]
  },
  {
   "cell_type": "markdown",
   "id": "negative-tolerance",
   "metadata": {},
   "source": [
    "### datetime formats "
   ]
  },
  {
   "cell_type": "code",
   "execution_count": 241,
   "id": "adverse-netscape",
   "metadata": {
    "execution": {
     "iopub.execute_input": "2021-03-02T04:57:12.388755Z",
     "iopub.status.busy": "2021-03-02T04:57:12.388755Z",
     "iopub.status.idle": "2021-03-02T04:57:12.441679Z",
     "shell.execute_reply": "2021-03-02T04:57:12.441679Z",
     "shell.execute_reply.started": "2021-03-02T04:57:12.388755Z"
    }
   },
   "outputs": [],
   "source": [
    "# test visualization of datetime format\n",
    "import plotly.graph_objects as go\n",
    "import numpy as np\n",
    "\n",
    "fig = go.Figure(data=go.Scatter(x=stripped_crime_data['occ_date_time'][20:80], y=stripped_crime_data['ucr_code'][20:80]))\n",
    "fig.write_html('viz_0.html')"
   ]
  },
  {
   "cell_type": "code",
   "execution_count": 335,
   "id": "narrow-gateway",
   "metadata": {
    "execution": {
     "iopub.execute_input": "2021-03-02T17:46:28.501800Z",
     "iopub.status.busy": "2021-03-02T17:46:28.500803Z",
     "iopub.status.idle": "2021-03-02T17:46:28.528725Z",
     "shell.execute_reply": "2021-03-02T17:46:28.527728Z",
     "shell.execute_reply.started": "2021-03-02T17:46:28.501800Z"
    }
   },
   "outputs": [
    {
     "data": {
      "text/plain": [
       "'2021-02-20 17:00:00.000'"
      ]
     },
     "execution_count": 335,
     "metadata": {},
     "output_type": "execute_result"
    },
    {
     "data": {
      "text/plain": [
       "'2021-02-20 17:00:00.000'"
      ]
     },
     "execution_count": 335,
     "metadata": {},
     "output_type": "execute_result"
    },
    {
     "data": {
      "text/plain": [
       "datetime.datetime(2021, 2, 20, 17, 0)"
      ]
     },
     "execution_count": 335,
     "metadata": {},
     "output_type": "execute_result"
    },
    {
     "data": {
      "text/plain": [
       "datetime.date(2021, 2, 20)"
      ]
     },
     "execution_count": 335,
     "metadata": {},
     "output_type": "execute_result"
    },
    {
     "data": {
      "text/plain": [
       "datetime.time(17, 0)"
      ]
     },
     "execution_count": 335,
     "metadata": {},
     "output_type": "execute_result"
    }
   ],
   "source": [
    "\n",
    "#remove timestamp denotation\n",
    "date_series = stripped_crime_data.occ_date_time.apply(lambda x: x.replace('T',' '))\n",
    "date_series[0]\n",
    "\n",
    "#convert from string to datetime format \n",
    "date_string = date_series[0]\n",
    "date_string\n",
    "\n",
    "date_object1 = datetime.strptime(date_string,\"%Y-%m-%d %H:%M:%S.%f\")\n",
    "date_object1\n",
    "\n",
    "# access date in from datetime \n",
    "date_object2 = date_object1.date()\n",
    "date_object2\n",
    "\n",
    "#access time from datetime \n",
    "date_object3 = date_object1.time()\n",
    "date_object3\n"
   ]
  },
  {
   "cell_type": "code",
   "execution_count": null,
   "id": "parliamentary-flight",
   "metadata": {},
   "outputs": [],
   "source": [
    "stripped_crime_data['occ_date_time'] = stripped_crime_data['occ_date_time'].apply(lambda x: x.replace('T',' '))\n",
    "stripped_crime_data['rep_date_time'] = stripped_crime_data['rep_date_time'].apply(lambda x: x.replace('T',' '))\n",
    "stripped_crime_data['clearance_date'] = stripped_crime_data['clearance_date'].apply(lambda x: x.replace('T',' '))"
   ]
  },
  {
   "cell_type": "markdown",
   "id": "sustained-brunswick",
   "metadata": {},
   "source": [
    "---------------------------"
   ]
  },
  {
   "cell_type": "markdown",
   "id": "cultural-channel",
   "metadata": {
    "execution": {
     "iopub.execute_input": "2021-03-01T19:18:24.288503Z",
     "iopub.status.busy": "2021-03-01T19:18:24.287505Z",
     "iopub.status.idle": "2021-03-01T19:18:24.291495Z",
     "shell.execute_reply": "2021-03-01T19:18:24.291495Z",
     "shell.execute_reply.started": "2021-03-01T19:18:24.288503Z"
    }
   },
   "source": [
    "## Database  \n",
    "creating dataframes to map database table relationships\n"
   ]
  },
  {
   "cell_type": "markdown",
   "id": "unnecessary-basket",
   "metadata": {
    "execution": {
     "iopub.execute_input": "2021-03-02T01:55:49.615122Z",
     "iopub.status.busy": "2021-03-02T01:55:49.614122Z",
     "iopub.status.idle": "2021-03-02T01:55:49.618117Z",
     "shell.execute_reply": "2021-03-02T01:55:49.618117Z",
     "shell.execute_reply.started": "2021-03-02T01:55:49.614122Z"
    }
   },
   "source": [
    "### Offense table "
   ]
  },
  {
   "cell_type": "code",
   "execution_count": 22,
   "id": "owned-packing",
   "metadata": {
    "execution": {
     "iopub.execute_input": "2021-03-03T21:06:00.654046Z",
     "iopub.status.busy": "2021-03-03T21:06:00.654046Z",
     "iopub.status.idle": "2021-03-03T21:06:00.661999Z",
     "shell.execute_reply": "2021-03-03T21:06:00.661002Z",
     "shell.execute_reply.started": "2021-03-03T21:06:00.654046Z"
    }
   },
   "outputs": [],
   "source": [
    "# offense_type table \n",
    "offense_type_df = crime_incident_data[['ucr_code','crime_type']].copy()\n",
    "offense_type_df.drop_duplicates(subset='ucr_code', inplace=True)"
   ]
  },
  {
   "cell_type": "code",
   "execution_count": 23,
   "id": "permanent-bearing",
   "metadata": {
    "execution": {
     "iopub.execute_input": "2021-03-03T21:06:01.209900Z",
     "iopub.status.busy": "2021-03-03T21:06:01.209900Z",
     "iopub.status.idle": "2021-03-03T21:06:01.223334Z",
     "shell.execute_reply": "2021-03-03T21:06:01.222350Z",
     "shell.execute_reply.started": "2021-03-03T21:06:01.209900Z"
    }
   },
   "outputs": [
    {
     "data": {
      "text/html": [
       "<div>\n",
       "<style scoped>\n",
       "    .dataframe tbody tr th:only-of-type {\n",
       "        vertical-align: middle;\n",
       "    }\n",
       "\n",
       "    .dataframe tbody tr th {\n",
       "        vertical-align: top;\n",
       "    }\n",
       "\n",
       "    .dataframe thead th {\n",
       "        text-align: right;\n",
       "    }\n",
       "</style>\n",
       "<table border=\"1\" class=\"dataframe\">\n",
       "  <thead>\n",
       "    <tr style=\"text-align: right;\">\n",
       "      <th></th>\n",
       "      <th>ucr_code</th>\n",
       "      <th>crime_type</th>\n",
       "    </tr>\n",
       "  </thead>\n",
       "  <tbody>\n",
       "    <tr>\n",
       "      <th>0</th>\n",
       "      <td>3400</td>\n",
       "      <td>FAMILY DISTURBANCE</td>\n",
       "    </tr>\n",
       "    <tr>\n",
       "      <th>1</th>\n",
       "      <td>2717</td>\n",
       "      <td>CRUELTY TO ANIMALS</td>\n",
       "    </tr>\n",
       "    <tr>\n",
       "      <th>2</th>\n",
       "      <td>300</td>\n",
       "      <td>AGG ROBBERY/DEADLY WEAPON</td>\n",
       "    </tr>\n",
       "    <tr>\n",
       "      <th>3</th>\n",
       "      <td>1803</td>\n",
       "      <td>POSSESSION OF MARIJUANA</td>\n",
       "    </tr>\n",
       "    <tr>\n",
       "      <th>4</th>\n",
       "      <td>4022</td>\n",
       "      <td>IDENTITY THEFT</td>\n",
       "    </tr>\n",
       "  </tbody>\n",
       "</table>\n",
       "</div>"
      ],
      "text/plain": [
       "  ucr_code                 crime_type\n",
       "0     3400         FAMILY DISTURBANCE\n",
       "1     2717         CRUELTY TO ANIMALS\n",
       "2      300  AGG ROBBERY/DEADLY WEAPON\n",
       "3     1803    POSSESSION OF MARIJUANA\n",
       "4     4022             IDENTITY THEFT"
      ]
     },
     "execution_count": 23,
     "metadata": {},
     "output_type": "execute_result"
    },
    {
     "data": {
      "text/plain": [
       "(42, 2)"
      ]
     },
     "execution_count": 23,
     "metadata": {},
     "output_type": "execute_result"
    }
   ],
   "source": [
    "# 189 unique offense codes\n",
    "offense_type_df.head()\n",
    "offense_type_df.shape"
   ]
  },
  {
   "cell_type": "code",
   "execution_count": 212,
   "id": "duplicate-therapist",
   "metadata": {
    "execution": {
     "iopub.execute_input": "2021-03-02T01:35:33.835580Z",
     "iopub.status.busy": "2021-03-02T01:35:33.835580Z",
     "iopub.status.idle": "2021-03-02T01:35:33.842099Z",
     "shell.execute_reply": "2021-03-02T01:35:33.841567Z",
     "shell.execute_reply.started": "2021-03-02T01:35:33.835580Z"
    }
   },
   "outputs": [
    {
     "data": {
      "text/plain": [
       "False"
      ]
     },
     "execution_count": 212,
     "metadata": {},
     "output_type": "execute_result"
    }
   ],
   "source": [
    "offense_type_df.isnull().values.any()"
   ]
  },
  {
   "cell_type": "code",
   "execution_count": 214,
   "id": "exterior-cambridge",
   "metadata": {
    "execution": {
     "iopub.execute_input": "2021-03-02T01:52:26.852008Z",
     "iopub.status.busy": "2021-03-02T01:52:26.852008Z",
     "iopub.status.idle": "2021-03-02T01:52:26.867935Z",
     "shell.execute_reply": "2021-03-02T01:52:26.866938Z",
     "shell.execute_reply.started": "2021-03-02T01:52:26.852008Z"
    }
   },
   "outputs": [
    {
     "data": {
      "text/html": [
       "<div>\n",
       "<style scoped>\n",
       "    .dataframe tbody tr th:only-of-type {\n",
       "        vertical-align: middle;\n",
       "    }\n",
       "\n",
       "    .dataframe tbody tr th {\n",
       "        vertical-align: top;\n",
       "    }\n",
       "\n",
       "    .dataframe thead th {\n",
       "        text-align: right;\n",
       "    }\n",
       "</style>\n",
       "<table border=\"1\" class=\"dataframe\">\n",
       "  <thead>\n",
       "    <tr style=\"text-align: right;\">\n",
       "      <th></th>\n",
       "      <th>offense_code</th>\n",
       "      <th>offense_description</th>\n",
       "    </tr>\n",
       "  </thead>\n",
       "  <tbody>\n",
       "    <tr>\n",
       "      <th>0</th>\n",
       "      <td>601</td>\n",
       "      <td>BURGLARY OF VEHICLE</td>\n",
       "    </tr>\n",
       "    <tr>\n",
       "      <th>1</th>\n",
       "      <td>502</td>\n",
       "      <td>BURGLARY NON RESIDENCE</td>\n",
       "    </tr>\n",
       "    <tr>\n",
       "      <th>2</th>\n",
       "      <td>1400</td>\n",
       "      <td>CRIMINAL MISCHIEF</td>\n",
       "    </tr>\n",
       "    <tr>\n",
       "      <th>3</th>\n",
       "      <td>905</td>\n",
       "      <td>RESISTING ARREST OR SEARCH</td>\n",
       "    </tr>\n",
       "    <tr>\n",
       "      <th>4</th>\n",
       "      <td>2716</td>\n",
       "      <td>CRIMINAL TRESPASS</td>\n",
       "    </tr>\n",
       "    <tr>\n",
       "      <th>...</th>\n",
       "      <td>...</td>\n",
       "      <td>...</td>\n",
       "    </tr>\n",
       "    <tr>\n",
       "      <th>9301</th>\n",
       "      <td>1716</td>\n",
       "      <td>FORCED SODOMY</td>\n",
       "    </tr>\n",
       "    <tr>\n",
       "      <th>9572</th>\n",
       "      <td>2718</td>\n",
       "      <td>THEFT BY EXTORTION</td>\n",
       "    </tr>\n",
       "    <tr>\n",
       "      <th>9616</th>\n",
       "      <td>907</td>\n",
       "      <td>TAMPERING WITH CONSUMER PROD</td>\n",
       "    </tr>\n",
       "    <tr>\n",
       "      <th>9721</th>\n",
       "      <td>2601</td>\n",
       "      <td>OBSCENITY</td>\n",
       "    </tr>\n",
       "    <tr>\n",
       "      <th>9949</th>\n",
       "      <td>1001</td>\n",
       "      <td>FORGERY BY ALTERATION</td>\n",
       "    </tr>\n",
       "  </tbody>\n",
       "</table>\n",
       "<p>189 rows × 2 columns</p>\n",
       "</div>"
      ],
      "text/plain": [
       "     offense_code           offense_description\n",
       "0             601           BURGLARY OF VEHICLE\n",
       "1             502        BURGLARY NON RESIDENCE\n",
       "2            1400             CRIMINAL MISCHIEF\n",
       "3             905    RESISTING ARREST OR SEARCH\n",
       "4            2716             CRIMINAL TRESPASS\n",
       "...           ...                           ...\n",
       "9301         1716                 FORCED SODOMY\n",
       "9572         2718            THEFT BY EXTORTION\n",
       "9616          907  TAMPERING WITH CONSUMER PROD\n",
       "9721         2601                     OBSCENITY\n",
       "9949         1001         FORGERY BY ALTERATION\n",
       "\n",
       "[189 rows x 2 columns]"
      ]
     },
     "execution_count": 214,
     "metadata": {},
     "output_type": "execute_result"
    }
   ],
   "source": [
    "#rename test \n",
    "offense_type_df.rename(columns={'ucr_code':'offense_code','crime_type':'offense_type'})"
   ]
  },
  {
   "cell_type": "code",
   "execution_count": 26,
   "id": "ahead-sitting",
   "metadata": {
    "execution": {
     "iopub.execute_input": "2021-03-03T21:07:02.619670Z",
     "iopub.status.busy": "2021-03-03T21:07:02.619670Z",
     "iopub.status.idle": "2021-03-03T21:07:02.625655Z",
     "shell.execute_reply": "2021-03-03T21:07:02.624657Z",
     "shell.execute_reply.started": "2021-03-03T21:07:02.619670Z"
    }
   },
   "outputs": [],
   "source": [
    "offense_type_df.copy().set_index('ucr_code', inplace=True)"
   ]
  },
  {
   "cell_type": "code",
   "execution_count": 28,
   "id": "anonymous-junction",
   "metadata": {
    "execution": {
     "iopub.execute_input": "2021-03-03T21:07:15.516550Z",
     "iopub.status.busy": "2021-03-03T21:07:15.516550Z",
     "iopub.status.idle": "2021-03-03T21:07:15.525531Z",
     "shell.execute_reply": "2021-03-03T21:07:15.524531Z",
     "shell.execute_reply.started": "2021-03-03T21:07:15.516550Z"
    }
   },
   "outputs": [
    {
     "data": {
      "text/html": [
       "<div>\n",
       "<style scoped>\n",
       "    .dataframe tbody tr th:only-of-type {\n",
       "        vertical-align: middle;\n",
       "    }\n",
       "\n",
       "    .dataframe tbody tr th {\n",
       "        vertical-align: top;\n",
       "    }\n",
       "\n",
       "    .dataframe thead th {\n",
       "        text-align: right;\n",
       "    }\n",
       "</style>\n",
       "<table border=\"1\" class=\"dataframe\">\n",
       "  <thead>\n",
       "    <tr style=\"text-align: right;\">\n",
       "      <th></th>\n",
       "      <th>ucr_code</th>\n",
       "      <th>crime_type</th>\n",
       "    </tr>\n",
       "  </thead>\n",
       "  <tbody>\n",
       "    <tr>\n",
       "      <th>0</th>\n",
       "      <td>3400</td>\n",
       "      <td>FAMILY DISTURBANCE</td>\n",
       "    </tr>\n",
       "    <tr>\n",
       "      <th>1</th>\n",
       "      <td>2717</td>\n",
       "      <td>CRUELTY TO ANIMALS</td>\n",
       "    </tr>\n",
       "    <tr>\n",
       "      <th>2</th>\n",
       "      <td>300</td>\n",
       "      <td>AGG ROBBERY/DEADLY WEAPON</td>\n",
       "    </tr>\n",
       "    <tr>\n",
       "      <th>3</th>\n",
       "      <td>1803</td>\n",
       "      <td>POSSESSION OF MARIJUANA</td>\n",
       "    </tr>\n",
       "    <tr>\n",
       "      <th>4</th>\n",
       "      <td>4022</td>\n",
       "      <td>IDENTITY THEFT</td>\n",
       "    </tr>\n",
       "  </tbody>\n",
       "</table>\n",
       "</div>"
      ],
      "text/plain": [
       "  ucr_code                 crime_type\n",
       "0     3400         FAMILY DISTURBANCE\n",
       "1     2717         CRUELTY TO ANIMALS\n",
       "2      300  AGG ROBBERY/DEADLY WEAPON\n",
       "3     1803    POSSESSION OF MARIJUANA\n",
       "4     4022             IDENTITY THEFT"
      ]
     },
     "execution_count": 28,
     "metadata": {},
     "output_type": "execute_result"
    }
   ],
   "source": [
    "offense_type_df.head()"
   ]
  },
  {
   "cell_type": "code",
   "execution_count": 18,
   "id": "black-enzyme",
   "metadata": {
    "execution": {
     "iopub.execute_input": "2021-03-03T20:59:52.795327Z",
     "iopub.status.busy": "2021-03-03T20:59:52.795327Z",
     "iopub.status.idle": "2021-03-03T20:59:52.800314Z",
     "shell.execute_reply": "2021-03-03T20:59:52.799317Z",
     "shell.execute_reply.started": "2021-03-03T20:59:52.795327Z"
    }
   },
   "outputs": [],
   "source": [
    "offense_type_df.set_index('ucr_code', inplace=True)"
   ]
  },
  {
   "cell_type": "code",
   "execution_count": null,
   "id": "seventh-device",
   "metadata": {},
   "outputs": [],
   "source": [
    "offense_type_df.to_dict()['crime_type']"
   ]
  },
  {
   "cell_type": "markdown",
   "id": "studied-replication",
   "metadata": {},
   "source": [
    "## location table"
   ]
  },
  {
   "cell_type": "code",
   "execution_count": 337,
   "id": "stunning-legislature",
   "metadata": {
    "execution": {
     "iopub.execute_input": "2021-03-02T17:53:35.096002Z",
     "iopub.status.busy": "2021-03-02T17:53:35.096002Z",
     "iopub.status.idle": "2021-03-02T17:53:35.115116Z",
     "shell.execute_reply": "2021-03-02T17:53:35.115116Z",
     "shell.execute_reply.started": "2021-03-02T17:53:35.096002Z"
    }
   },
   "outputs": [
    {
     "data": {
      "text/html": [
       "<div>\n",
       "<style scoped>\n",
       "    .dataframe tbody tr th:only-of-type {\n",
       "        vertical-align: middle;\n",
       "    }\n",
       "\n",
       "    .dataframe tbody tr th {\n",
       "        vertical-align: top;\n",
       "    }\n",
       "\n",
       "    .dataframe thead th {\n",
       "        text-align: right;\n",
       "    }\n",
       "</style>\n",
       "<table border=\"1\" class=\"dataframe\">\n",
       "  <thead>\n",
       "    <tr style=\"text-align: right;\">\n",
       "      <th></th>\n",
       "      <th>incident_report_number</th>\n",
       "      <th>crime_type</th>\n",
       "      <th>ucr_code</th>\n",
       "      <th>family_violence</th>\n",
       "      <th>occ_date_time</th>\n",
       "      <th>rep_date_time</th>\n",
       "      <th>location_type</th>\n",
       "      <th>address</th>\n",
       "      <th>zip_code</th>\n",
       "      <th>council_district</th>\n",
       "      <th>sector</th>\n",
       "      <th>district</th>\n",
       "      <th>pra</th>\n",
       "      <th>ucr_category</th>\n",
       "      <th>category_description</th>\n",
       "      <th>location</th>\n",
       "      <th>clearance_status</th>\n",
       "      <th>clearance_date</th>\n",
       "    </tr>\n",
       "  </thead>\n",
       "  <tbody>\n",
       "    <tr>\n",
       "      <th>0</th>\n",
       "      <td>20215006549</td>\n",
       "      <td>BURGLARY OF VEHICLE</td>\n",
       "      <td>601</td>\n",
       "      <td>N</td>\n",
       "      <td>2021-02-20T17:00:00.000</td>\n",
       "      <td>2021-02-20T23:35:00.000</td>\n",
       "      <td>RESTAURANTS</td>\n",
       "      <td>6319 N IH 35 SVRD NB</td>\n",
       "      <td>78752</td>\n",
       "      <td>4</td>\n",
       "      <td>ID</td>\n",
       "      <td>1</td>\n",
       "      <td>280</td>\n",
       "      <td>23F</td>\n",
       "      <td>Theft</td>\n",
       "      <td>{'latitude': '30.32530599', 'longitude': '-97....</td>\n",
       "      <td>NaN</td>\n",
       "      <td>NaN</td>\n",
       "    </tr>\n",
       "    <tr>\n",
       "      <th>1</th>\n",
       "      <td>20215006547</td>\n",
       "      <td>BURGLARY NON RESIDENCE</td>\n",
       "      <td>502</td>\n",
       "      <td>N</td>\n",
       "      <td>2021-02-20T14:47:00.000</td>\n",
       "      <td>2021-02-20T18:41:00.000</td>\n",
       "      <td>PARKING LOTS / GARAGE</td>\n",
       "      <td>13301 CENTER LAKE DR</td>\n",
       "      <td>78753</td>\n",
       "      <td>7</td>\n",
       "      <td>ED</td>\n",
       "      <td>6</td>\n",
       "      <td>206</td>\n",
       "      <td>220</td>\n",
       "      <td>Burglary</td>\n",
       "      <td>{'latitude': '30.4088995', 'longitude': '-97.6...</td>\n",
       "      <td>NaN</td>\n",
       "      <td>NaN</td>\n",
       "    </tr>\n",
       "    <tr>\n",
       "      <th>2</th>\n",
       "      <td>2021510833</td>\n",
       "      <td>CRIMINAL MISCHIEF</td>\n",
       "      <td>1400</td>\n",
       "      <td>N</td>\n",
       "      <td>2021-02-20T14:41:00.000</td>\n",
       "      <td>2021-02-20T14:41:00.000</td>\n",
       "      <td>CONVENIENCE STORE</td>\n",
       "      <td>10111 N LAMAR BLVD</td>\n",
       "      <td>78753</td>\n",
       "      <td>4</td>\n",
       "      <td>ED</td>\n",
       "      <td>1</td>\n",
       "      <td>240</td>\n",
       "      <td>NaN</td>\n",
       "      <td>NaN</td>\n",
       "      <td>{'latitude': '30.37078232', 'longitude': '-97....</td>\n",
       "      <td>NaN</td>\n",
       "      <td>NaN</td>\n",
       "    </tr>\n",
       "    <tr>\n",
       "      <th>3</th>\n",
       "      <td>2021510758</td>\n",
       "      <td>RESISTING ARREST OR SEARCH</td>\n",
       "      <td>905</td>\n",
       "      <td>N</td>\n",
       "      <td>2021-02-20T14:30:00.000</td>\n",
       "      <td>2021-02-20T16:30:00.000</td>\n",
       "      <td>STREETS / HWY / ROAD / ALLEY</td>\n",
       "      <td>310 E 6TH ST</td>\n",
       "      <td>78701</td>\n",
       "      <td>9</td>\n",
       "      <td>GE</td>\n",
       "      <td>2</td>\n",
       "      <td>381</td>\n",
       "      <td>NaN</td>\n",
       "      <td>NaN</td>\n",
       "      <td>{'latitude': '30.26755605', 'longitude': '-97....</td>\n",
       "      <td>NaN</td>\n",
       "      <td>NaN</td>\n",
       "    </tr>\n",
       "    <tr>\n",
       "      <th>4</th>\n",
       "      <td>2021210510728</td>\n",
       "      <td>CRIMINAL TRESPASS</td>\n",
       "      <td>2716</td>\n",
       "      <td>N</td>\n",
       "      <td>2021-02-20T13:47:00.000</td>\n",
       "      <td>2021-02-20T13:47:00.000</td>\n",
       "      <td>CONVENIENCE STORE</td>\n",
       "      <td>10111 N LAMAR BLVD</td>\n",
       "      <td>78753</td>\n",
       "      <td>4</td>\n",
       "      <td>ED</td>\n",
       "      <td>1</td>\n",
       "      <td>240</td>\n",
       "      <td>NaN</td>\n",
       "      <td>NaN</td>\n",
       "      <td>{'latitude': '30.37078232', 'longitude': '-97....</td>\n",
       "      <td>NaN</td>\n",
       "      <td>NaN</td>\n",
       "    </tr>\n",
       "  </tbody>\n",
       "</table>\n",
       "</div>"
      ],
      "text/plain": [
       "  incident_report_number                  crime_type ucr_code family_violence  \\\n",
       "0            20215006549         BURGLARY OF VEHICLE      601               N   \n",
       "1            20215006547      BURGLARY NON RESIDENCE      502               N   \n",
       "2             2021510833           CRIMINAL MISCHIEF     1400               N   \n",
       "3             2021510758  RESISTING ARREST OR SEARCH      905               N   \n",
       "4          2021210510728           CRIMINAL TRESPASS     2716               N   \n",
       "\n",
       "             occ_date_time            rep_date_time  \\\n",
       "0  2021-02-20T17:00:00.000  2021-02-20T23:35:00.000   \n",
       "1  2021-02-20T14:47:00.000  2021-02-20T18:41:00.000   \n",
       "2  2021-02-20T14:41:00.000  2021-02-20T14:41:00.000   \n",
       "3  2021-02-20T14:30:00.000  2021-02-20T16:30:00.000   \n",
       "4  2021-02-20T13:47:00.000  2021-02-20T13:47:00.000   \n",
       "\n",
       "                  location_type               address zip_code  \\\n",
       "0                   RESTAURANTS  6319 N IH 35 SVRD NB    78752   \n",
       "1         PARKING LOTS / GARAGE  13301 CENTER LAKE DR    78753   \n",
       "2             CONVENIENCE STORE    10111 N LAMAR BLVD    78753   \n",
       "3  STREETS / HWY / ROAD / ALLEY          310 E 6TH ST    78701   \n",
       "4             CONVENIENCE STORE    10111 N LAMAR BLVD    78753   \n",
       "\n",
       "  council_district sector district  pra ucr_category category_description  \\\n",
       "0                4     ID        1  280          23F                Theft   \n",
       "1                7     ED        6  206          220             Burglary   \n",
       "2                4     ED        1  240          NaN                  NaN   \n",
       "3                9     GE        2  381          NaN                  NaN   \n",
       "4                4     ED        1  240          NaN                  NaN   \n",
       "\n",
       "                                            location clearance_status  \\\n",
       "0  {'latitude': '30.32530599', 'longitude': '-97....              NaN   \n",
       "1  {'latitude': '30.4088995', 'longitude': '-97.6...              NaN   \n",
       "2  {'latitude': '30.37078232', 'longitude': '-97....              NaN   \n",
       "3  {'latitude': '30.26755605', 'longitude': '-97....              NaN   \n",
       "4  {'latitude': '30.37078232', 'longitude': '-97....              NaN   \n",
       "\n",
       "  clearance_date  \n",
       "0            NaN  \n",
       "1            NaN  \n",
       "2            NaN  \n",
       "3            NaN  \n",
       "4            NaN  "
      ]
     },
     "execution_count": 337,
     "metadata": {},
     "output_type": "execute_result"
    }
   ],
   "source": [
    "stripped_crime_data.head()"
   ]
  },
  {
   "cell_type": "code",
   "execution_count": 381,
   "id": "painted-piece",
   "metadata": {
    "execution": {
     "iopub.execute_input": "2021-03-02T18:09:07.449456Z",
     "iopub.status.busy": "2021-03-02T18:09:07.449456Z",
     "iopub.status.idle": "2021-03-02T18:09:07.457949Z",
     "shell.execute_reply": "2021-03-02T18:09:07.457949Z",
     "shell.execute_reply.started": "2021-03-02T18:09:07.449456Z"
    }
   },
   "outputs": [
    {
     "data": {
      "text/plain": [
       "43"
      ]
     },
     "execution_count": 381,
     "metadata": {},
     "output_type": "execute_result"
    }
   ],
   "source": [
    "#43 unique location types out of 1000 rows (by default does not count null values)\n",
    "stripped_crime_data.location_type.nunique()"
   ]
  },
  {
   "cell_type": "code",
   "execution_count": 529,
   "id": "gothic-break",
   "metadata": {
    "execution": {
     "iopub.execute_input": "2021-03-02T19:43:57.959118Z",
     "iopub.status.busy": "2021-03-02T19:43:57.958090Z",
     "iopub.status.idle": "2021-03-02T19:43:57.969085Z",
     "shell.execute_reply": "2021-03-02T19:43:57.969085Z",
     "shell.execute_reply.started": "2021-03-02T19:43:57.959118Z"
    }
   },
   "outputs": [],
   "source": [
    "# create location dataframe with only unique values  \n",
    "location_df = stripped_crime_data['location_type'].copy()\n",
    "location_df = location_df.to_frame()\n",
    " \n",
    "location_df.drop_duplicates(inplace=True)"
   ]
  },
  {
   "cell_type": "code",
   "execution_count": 530,
   "id": "alone-intranet",
   "metadata": {
    "execution": {
     "iopub.execute_input": "2021-03-02T19:44:00.422552Z",
     "iopub.status.busy": "2021-03-02T19:44:00.422552Z",
     "iopub.status.idle": "2021-03-02T19:44:00.432482Z",
     "shell.execute_reply": "2021-03-02T19:44:00.431486Z",
     "shell.execute_reply.started": "2021-03-02T19:44:00.422552Z"
    }
   },
   "outputs": [
    {
     "data": {
      "text/plain": [
       "1"
      ]
     },
     "execution_count": 530,
     "metadata": {},
     "output_type": "execute_result"
    }
   ],
   "source": [
    "# check for null values, if any remove\n",
    "location_null_list = location_df[location_df['location_type'].isnull()].index\n",
    "# print ammount of null values\n",
    "len(location_null_list)\n",
    "\n",
    "#dro null value(s)\n",
    "location_df.drop(location_null_list, axis=0,inplace=True)"
   ]
  },
  {
   "cell_type": "code",
   "execution_count": 531,
   "id": "architectural-mortality",
   "metadata": {
    "execution": {
     "iopub.execute_input": "2021-03-02T19:44:05.009767Z",
     "iopub.status.busy": "2021-03-02T19:44:05.009767Z",
     "iopub.status.idle": "2021-03-02T19:44:05.014751Z",
     "shell.execute_reply": "2021-03-02T19:44:05.014751Z",
     "shell.execute_reply.started": "2021-03-02T19:44:05.009767Z"
    }
   },
   "outputs": [],
   "source": [
    "#create numbered column to be used as unique identifier between tables \n",
    "location_df['location_code'] = np.arange(len(location_df))\n",
    "# rearange dataframe "
   ]
  },
  {
   "cell_type": "code",
   "execution_count": 532,
   "id": "proved-guarantee",
   "metadata": {
    "execution": {
     "iopub.execute_input": "2021-03-02T19:44:05.611202Z",
     "iopub.status.busy": "2021-03-02T19:44:05.611202Z",
     "iopub.status.idle": "2021-03-02T19:44:05.633097Z",
     "shell.execute_reply": "2021-03-02T19:44:05.632102Z",
     "shell.execute_reply.started": "2021-03-02T19:44:05.611202Z"
    }
   },
   "outputs": [
    {
     "name": "stdout",
     "output_type": "stream",
     "text": [
      "<class 'pandas.core.frame.DataFrame'>\n",
      "Int64Index: 43 entries, 0 to 9981\n",
      "Data columns (total 2 columns):\n",
      " #   Column         Non-Null Count  Dtype \n",
      "---  ------         --------------  ----- \n",
      " 0   location_type  43 non-null     object\n",
      " 1   location_code  43 non-null     int32 \n",
      "dtypes: int32(1), object(1)\n",
      "memory usage: 860.0+ bytes\n",
      "\n",
      "\n"
     ]
    },
    {
     "data": {
      "text/html": [
       "<div>\n",
       "<style scoped>\n",
       "    .dataframe tbody tr th:only-of-type {\n",
       "        vertical-align: middle;\n",
       "    }\n",
       "\n",
       "    .dataframe tbody tr th {\n",
       "        vertical-align: top;\n",
       "    }\n",
       "\n",
       "    .dataframe thead th {\n",
       "        text-align: right;\n",
       "    }\n",
       "</style>\n",
       "<table border=\"1\" class=\"dataframe\">\n",
       "  <thead>\n",
       "    <tr style=\"text-align: right;\">\n",
       "      <th></th>\n",
       "      <th>location_type</th>\n",
       "      <th>location_code</th>\n",
       "    </tr>\n",
       "  </thead>\n",
       "  <tbody>\n",
       "    <tr>\n",
       "      <th>0</th>\n",
       "      <td>RESTAURANTS</td>\n",
       "      <td>0</td>\n",
       "    </tr>\n",
       "    <tr>\n",
       "      <th>1</th>\n",
       "      <td>PARKING LOTS / GARAGE</td>\n",
       "      <td>1</td>\n",
       "    </tr>\n",
       "    <tr>\n",
       "      <th>2</th>\n",
       "      <td>CONVENIENCE STORE</td>\n",
       "      <td>2</td>\n",
       "    </tr>\n",
       "    <tr>\n",
       "      <th>3</th>\n",
       "      <td>STREETS / HWY / ROAD / ALLEY</td>\n",
       "      <td>3</td>\n",
       "    </tr>\n",
       "    <tr>\n",
       "      <th>7</th>\n",
       "      <td>RESIDENCE / HOME</td>\n",
       "      <td>4</td>\n",
       "    </tr>\n",
       "  </tbody>\n",
       "</table>\n",
       "</div>"
      ],
      "text/plain": [
       "                  location_type  location_code\n",
       "0                   RESTAURANTS              0\n",
       "1         PARKING LOTS / GARAGE              1\n",
       "2             CONVENIENCE STORE              2\n",
       "3  STREETS / HWY / ROAD / ALLEY              3\n",
       "7              RESIDENCE / HOME              4"
      ]
     },
     "execution_count": 532,
     "metadata": {},
     "output_type": "execute_result"
    }
   ],
   "source": [
    "location_df.info() \n",
    "print('\\n')\n",
    "location_df.head()"
   ]
  },
  {
   "cell_type": "code",
   "execution_count": 539,
   "id": "valuable-arbitration",
   "metadata": {
    "execution": {
     "iopub.execute_input": "2021-03-02T19:48:59.526559Z",
     "iopub.status.busy": "2021-03-02T19:48:59.526559Z",
     "iopub.status.idle": "2021-03-02T19:48:59.538527Z",
     "shell.execute_reply": "2021-03-02T19:48:59.538527Z",
     "shell.execute_reply.started": "2021-03-02T19:48:59.526559Z"
    }
   },
   "outputs": [
    {
     "data": {
      "text/html": [
       "<div>\n",
       "<style scoped>\n",
       "    .dataframe tbody tr th:only-of-type {\n",
       "        vertical-align: middle;\n",
       "    }\n",
       "\n",
       "    .dataframe tbody tr th {\n",
       "        vertical-align: top;\n",
       "    }\n",
       "\n",
       "    .dataframe thead th {\n",
       "        text-align: right;\n",
       "    }\n",
       "</style>\n",
       "<table border=\"1\" class=\"dataframe\">\n",
       "  <thead>\n",
       "    <tr style=\"text-align: right;\">\n",
       "      <th></th>\n",
       "      <th>location_code</th>\n",
       "      <th>location_type</th>\n",
       "    </tr>\n",
       "  </thead>\n",
       "  <tbody>\n",
       "    <tr>\n",
       "      <th>0</th>\n",
       "      <td>0</td>\n",
       "      <td>RESTAURANTS</td>\n",
       "    </tr>\n",
       "    <tr>\n",
       "      <th>1</th>\n",
       "      <td>1</td>\n",
       "      <td>PARKING LOTS / GARAGE</td>\n",
       "    </tr>\n",
       "    <tr>\n",
       "      <th>2</th>\n",
       "      <td>2</td>\n",
       "      <td>CONVENIENCE STORE</td>\n",
       "    </tr>\n",
       "    <tr>\n",
       "      <th>3</th>\n",
       "      <td>3</td>\n",
       "      <td>STREETS / HWY / ROAD / ALLEY</td>\n",
       "    </tr>\n",
       "    <tr>\n",
       "      <th>7</th>\n",
       "      <td>4</td>\n",
       "      <td>RESIDENCE / HOME</td>\n",
       "    </tr>\n",
       "  </tbody>\n",
       "</table>\n",
       "</div>"
      ],
      "text/plain": [
       "   location_code                 location_type\n",
       "0              0                   RESTAURANTS\n",
       "1              1         PARKING LOTS / GARAGE\n",
       "2              2             CONVENIENCE STORE\n",
       "3              3  STREETS / HWY / ROAD / ALLEY\n",
       "7              4              RESIDENCE / HOME"
      ]
     },
     "execution_count": 539,
     "metadata": {},
     "output_type": "execute_result"
    }
   ],
   "source": [
    "# rearange dataframe\n",
    "location_df = location_df[['location_code','location_type']]\n",
    "location_df.head()"
   ]
  },
  {
   "cell_type": "markdown",
   "id": "rough-compensation",
   "metadata": {
    "execution": {
     "iopub.execute_input": "2021-03-02T19:47:58.653022Z",
     "iopub.status.busy": "2021-03-02T19:47:58.653022Z",
     "iopub.status.idle": "2021-03-02T19:47:58.660045Z",
     "shell.execute_reply": "2021-03-02T19:47:58.659063Z",
     "shell.execute_reply.started": "2021-03-02T19:47:58.653022Z"
    }
   },
   "source": [
    "-----"
   ]
  },
  {
   "cell_type": "code",
   "execution_count": 533,
   "id": "framed-chaos",
   "metadata": {
    "execution": {
     "iopub.execute_input": "2021-03-02T19:44:08.768823Z",
     "iopub.status.busy": "2021-03-02T19:44:08.768823Z",
     "iopub.status.idle": "2021-03-02T19:44:08.775779Z",
     "shell.execute_reply": "2021-03-02T19:44:08.774802Z",
     "shell.execute_reply.started": "2021-03-02T19:44:08.768823Z"
    }
   },
   "outputs": [],
   "source": [
    "# creating mapping of location type to use as encoder for main incident dataframe\n",
    "map_location_df = location_df.copy()\n",
    "map_location_df.set_index('location_type', inplace=True)"
   ]
  },
  {
   "cell_type": "code",
   "execution_count": 534,
   "id": "infinite-jimmy",
   "metadata": {
    "execution": {
     "iopub.execute_input": "2021-03-02T19:44:15.298352Z",
     "iopub.status.busy": "2021-03-02T19:44:15.297317Z",
     "iopub.status.idle": "2021-03-02T19:44:15.303298Z",
     "shell.execute_reply": "2021-03-02T19:44:15.302301Z",
     "shell.execute_reply.started": "2021-03-02T19:44:15.298352Z"
    }
   },
   "outputs": [
    {
     "name": "stdout",
     "output_type": "stream",
     "text": [
      "{'RESTAURANTS': 0, 'PARKING LOTS / GARAGE': 1, 'CONVENIENCE STORE': 2, 'STREETS / HWY / ROAD / ALLEY': 3, 'RESIDENCE / HOME': 4, 'RENTAL STORAGE FACILITY': 5, 'DEPARTMENT / DISCOUNT STORE': 6, 'BANKS / SAVINGS & LOAN': 7, 'TRANSPORTATION (AIR / BUS / TRAIN - TERMINALS)': 8, 'HOTEL / MOTEL / ETC.': 9, 'DRUG STORE / DR. OFFICE / HOSPITAL': 10, 'GAS / SERVICE STATIONS': 11, 'SHELTER-MISSION / HOMELESS': 12, 'COMMERCIAL / OFFICE BUILDING': 13, 'OTHER / UNKNOWN': 14, 'SPECIALTY  STORE (TV  FUR ETC.)': 15, 'ARENA / STADIUM / FAIRGROUNDS / COLISEUM': 16, 'LIQUOR STORE': 17, 'INDUSTRIAL SITE': 18, 'GROCERY / SUPERMARKET': 19, 'COMMUNITY CENTER': 20, 'BAR / NIGHT CLUB': 21, 'CHURCH / SYNAGOGUE / TEMPLE / MOSQUE': 22, 'SHOPPING MALL': 23, 'GOVERNMENT / PUBLIC BUILDING': 24, 'CYBERSPACE': 25, 'AMUSEMENT PARK': 26, 'PARK / PLAYGROUND': 27, 'CAMP / CAMPGROUND': 28, 'AUTO DEALERSHIP NEW / USED': 29, 'SCHOOL - ELEMENTARY / SECONDARY': 30, 'CONSTRUCTION SITE': 31, 'SCHOOL - COLLEGE / UNIVERSITY': 32, 'DAYCARE FACILITY': 33, 'ATM SEPARATE FROM BANK': 34, 'FIELD / WOODS': 35, 'GAMBLING FACILITY / CASINO / RACE TRACK': 36, 'JAIL / PRISON': 37, 'LAKE / WATERWAY': 38, 'ABANDONED/CONDEMNED STRUCTURE': 39, 'DOCK / WHARF / FREIGHT / MODAL TERMINAL': 40, 'SCHOOLS / COLLEGES': 41, 'REST AREA': 42}\n"
     ]
    }
   ],
   "source": [
    "location_mapper = map_location_df.to_dict()['location_code'].copy()\n",
    "print(location_mapper)"
   ]
  },
  {
   "cell_type": "code",
   "execution_count": 551,
   "id": "individual-foster",
   "metadata": {
    "execution": {
     "iopub.execute_input": "2021-03-02T20:00:32.912606Z",
     "iopub.status.busy": "2021-03-02T20:00:32.912606Z",
     "iopub.status.idle": "2021-03-02T20:00:32.918593Z",
     "shell.execute_reply": "2021-03-02T20:00:32.917599Z",
     "shell.execute_reply.started": "2021-03-02T20:00:32.912606Z"
    }
   },
   "outputs": [
    {
     "data": {
      "text/plain": [
       "0"
      ]
     },
     "execution_count": 551,
     "metadata": {},
     "output_type": "execute_result"
    }
   ],
   "source": [
    "location_mapper[stripped_crime_data['location_type'][0]]"
   ]
  },
  {
   "cell_type": "code",
   "execution_count": 548,
   "id": "compressed-flexibility",
   "metadata": {
    "execution": {
     "iopub.execute_input": "2021-03-02T19:51:26.339324Z",
     "iopub.status.busy": "2021-03-02T19:51:26.339324Z",
     "iopub.status.idle": "2021-03-02T19:51:26.358231Z",
     "shell.execute_reply": "2021-03-02T19:51:26.358231Z",
     "shell.execute_reply.started": "2021-03-02T19:51:26.339324Z"
    }
   },
   "outputs": [
    {
     "data": {
      "text/html": [
       "<div>\n",
       "<style scoped>\n",
       "    .dataframe tbody tr th:only-of-type {\n",
       "        vertical-align: middle;\n",
       "    }\n",
       "\n",
       "    .dataframe tbody tr th {\n",
       "        vertical-align: top;\n",
       "    }\n",
       "\n",
       "    .dataframe thead th {\n",
       "        text-align: right;\n",
       "    }\n",
       "</style>\n",
       "<table border=\"1\" class=\"dataframe\">\n",
       "  <thead>\n",
       "    <tr style=\"text-align: right;\">\n",
       "      <th></th>\n",
       "      <th>incident_report_number</th>\n",
       "      <th>crime_type</th>\n",
       "      <th>ucr_code</th>\n",
       "      <th>family_violence</th>\n",
       "      <th>occ_date_time</th>\n",
       "      <th>rep_date_time</th>\n",
       "      <th>location_type</th>\n",
       "    </tr>\n",
       "  </thead>\n",
       "  <tbody>\n",
       "    <tr>\n",
       "      <th>0</th>\n",
       "      <td>20215006549</td>\n",
       "      <td>BURGLARY OF VEHICLE</td>\n",
       "      <td>601</td>\n",
       "      <td>N</td>\n",
       "      <td>2021-02-20T17:00:00.000</td>\n",
       "      <td>2021-02-20T23:35:00.000</td>\n",
       "      <td>RESTAURANTS</td>\n",
       "    </tr>\n",
       "    <tr>\n",
       "      <th>1</th>\n",
       "      <td>20215006547</td>\n",
       "      <td>BURGLARY NON RESIDENCE</td>\n",
       "      <td>502</td>\n",
       "      <td>N</td>\n",
       "      <td>2021-02-20T14:47:00.000</td>\n",
       "      <td>2021-02-20T18:41:00.000</td>\n",
       "      <td>PARKING LOTS / GARAGE</td>\n",
       "    </tr>\n",
       "  </tbody>\n",
       "</table>\n",
       "</div>"
      ],
      "text/plain": [
       "  incident_report_number              crime_type ucr_code family_violence  \\\n",
       "0            20215006549     BURGLARY OF VEHICLE      601               N   \n",
       "1            20215006547  BURGLARY NON RESIDENCE      502               N   \n",
       "\n",
       "             occ_date_time            rep_date_time          location_type  \n",
       "0  2021-02-20T17:00:00.000  2021-02-20T23:35:00.000            RESTAURANTS  \n",
       "1  2021-02-20T14:47:00.000  2021-02-20T18:41:00.000  PARKING LOTS / GARAGE  "
      ]
     },
     "execution_count": 548,
     "metadata": {},
     "output_type": "execute_result"
    }
   ],
   "source": [
    "# test mapper \n",
    "stripped_crime_data[stripped_crime_data.columns[0:7]].head(2)"
   ]
  },
  {
   "cell_type": "code",
   "execution_count": null,
   "id": "fresh-cable",
   "metadata": {},
   "outputs": [],
   "source": [
    "# replace and encode location column \n",
    "stripped_crime_data['location_type'] = stripped_crime_data['location_type'].apply(lambda x: location_mapper[x])"
   ]
  },
  {
   "cell_type": "code",
   "execution_count": null,
   "id": "assured-collectible",
   "metadata": {},
   "outputs": [],
   "source": []
  }
 ],
 "metadata": {
  "kernelspec": {
   "display_name": "PythonData",
   "language": "python",
   "name": "pythondata"
  },
  "language_info": {
   "codemirror_mode": {
    "name": "ipython",
    "version": 3
   },
   "file_extension": ".py",
   "mimetype": "text/x-python",
   "name": "python",
   "nbconvert_exporter": "python",
   "pygments_lexer": "ipython3",
   "version": "3.7.9"
  }
 },
 "nbformat": 4,
 "nbformat_minor": 5
}

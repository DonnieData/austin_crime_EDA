{
 "cells": [
  {
   "cell_type": "code",
   "execution_count": 1,
   "id": "gentle-wellington",
   "metadata": {
    "execution": {
     "iopub.execute_input": "2021-03-29T23:41:23.375513Z",
     "iopub.status.busy": "2021-03-29T23:41:23.375513Z",
     "iopub.status.idle": "2021-03-29T23:41:23.573529Z",
     "shell.execute_reply": "2021-03-29T23:41:23.573529Z",
     "shell.execute_reply.started": "2021-03-29T23:41:23.375513Z"
    }
   },
   "outputs": [],
   "source": [
    "import pandas as pd\n",
    "import plotly.express as px\n",
    "from plotly.subplots import make_subplots\n",
    "import plotly.graph_objects as go"
   ]
  },
  {
   "cell_type": "markdown",
   "id": "restricted-small",
   "metadata": {},
   "source": [
    "### Top Offense Type by Year"
   ]
  },
  {
   "cell_type": "code",
   "execution_count": 19,
   "id": "confused-novel",
   "metadata": {
    "execution": {
     "iopub.execute_input": "2021-03-24T23:31:26.106733Z",
     "iopub.status.busy": "2021-03-24T23:31:26.105732Z",
     "iopub.status.idle": "2021-03-24T23:31:26.129668Z",
     "shell.execute_reply": "2021-03-24T23:31:26.128671Z",
     "shell.execute_reply.started": "2021-03-24T23:31:26.106733Z"
    }
   },
   "outputs": [],
   "source": [
    "top_2018_loc_type = pd.read_csv('top_2018_loc_type.csv')\n",
    "top_2019_loc_type = pd.read_csv('top_2019_loc_type.csv')\n",
    "top_2020_loc_type = pd.read_csv('top_2020_loc_type.csv')\n",
    "top_category_year = pd.read_csv('top_category_year.csv')\n",
    "top_category_summary = pd.read_csv('top_category_summary.csv')"
   ]
  },
  {
   "cell_type": "code",
   "execution_count": 65,
   "id": "median-fiction",
   "metadata": {
    "execution": {
     "iopub.execute_input": "2021-03-22T17:18:03.312157Z",
     "iopub.status.busy": "2021-03-22T17:18:03.312157Z",
     "iopub.status.idle": "2021-03-22T17:18:03.318100Z",
     "shell.execute_reply": "2021-03-22T17:18:03.318100Z",
     "shell.execute_reply.started": "2021-03-22T17:18:03.312157Z"
    }
   },
   "outputs": [],
   "source": [
    "top_2018_loc_type['location_type'] = top_2018_loc_type['location_type'].apply( lambda x: x.title())\n",
    "top_2019_loc_type['location_type'] = top_2019_loc_type['location_type'].apply(lambda x: x.title())\n",
    "top_2020_loc_type['location_type'] = top_2020_loc_type['location_type'].apply(lambda x: x.title())"
   ]
  },
  {
   "cell_type": "code",
   "execution_count": 66,
   "id": "acquired-yukon",
   "metadata": {
    "execution": {
     "iopub.execute_input": "2021-03-22T17:18:13.255840Z",
     "iopub.status.busy": "2021-03-22T17:18:13.254845Z",
     "iopub.status.idle": "2021-03-22T17:18:13.274788Z",
     "shell.execute_reply": "2021-03-22T17:18:13.274788Z",
     "shell.execute_reply.started": "2021-03-22T17:18:13.255840Z"
    }
   },
   "outputs": [
    {
     "data": {
      "text/html": [
       "<div>\n",
       "<style scoped>\n",
       "    .dataframe tbody tr th:only-of-type {\n",
       "        vertical-align: middle;\n",
       "    }\n",
       "\n",
       "    .dataframe tbody tr th {\n",
       "        vertical-align: top;\n",
       "    }\n",
       "\n",
       "    .dataframe thead th {\n",
       "        text-align: right;\n",
       "    }\n",
       "</style>\n",
       "<table border=\"1\" class=\"dataframe\">\n",
       "  <thead>\n",
       "    <tr style=\"text-align: right;\">\n",
       "      <th></th>\n",
       "      <th>location_type</th>\n",
       "      <th>incident_count</th>\n",
       "      <th>%_of_annual_reports</th>\n",
       "    </tr>\n",
       "  </thead>\n",
       "  <tbody>\n",
       "    <tr>\n",
       "      <th>0</th>\n",
       "      <td>Residence / Home</td>\n",
       "      <td>39483</td>\n",
       "      <td>39.75</td>\n",
       "    </tr>\n",
       "    <tr>\n",
       "      <th>1</th>\n",
       "      <td>Streets / Hwy / Road / Alley</td>\n",
       "      <td>19017</td>\n",
       "      <td>19.15</td>\n",
       "    </tr>\n",
       "    <tr>\n",
       "      <th>2</th>\n",
       "      <td>Parking Lots / Garage</td>\n",
       "      <td>11804</td>\n",
       "      <td>11.89</td>\n",
       "    </tr>\n",
       "    <tr>\n",
       "      <th>3</th>\n",
       "      <td>Other / Unknown</td>\n",
       "      <td>7204</td>\n",
       "      <td>7.25</td>\n",
       "    </tr>\n",
       "    <tr>\n",
       "      <th>4</th>\n",
       "      <td>Department / Discount Store</td>\n",
       "      <td>2363</td>\n",
       "      <td>2.38</td>\n",
       "    </tr>\n",
       "  </tbody>\n",
       "</table>\n",
       "</div>"
      ],
      "text/plain": [
       "                  location_type  incident_count  %_of_annual_reports\n",
       "0              Residence / Home           39483                39.75\n",
       "1  Streets / Hwy / Road / Alley           19017                19.15\n",
       "2         Parking Lots / Garage           11804                11.89\n",
       "3               Other / Unknown            7204                 7.25\n",
       "4   Department / Discount Store            2363                 2.38"
      ]
     },
     "execution_count": 66,
     "metadata": {},
     "output_type": "execute_result"
    },
    {
     "data": {
      "text/html": [
       "<div>\n",
       "<style scoped>\n",
       "    .dataframe tbody tr th:only-of-type {\n",
       "        vertical-align: middle;\n",
       "    }\n",
       "\n",
       "    .dataframe tbody tr th {\n",
       "        vertical-align: top;\n",
       "    }\n",
       "\n",
       "    .dataframe thead th {\n",
       "        text-align: right;\n",
       "    }\n",
       "</style>\n",
       "<table border=\"1\" class=\"dataframe\">\n",
       "  <thead>\n",
       "    <tr style=\"text-align: right;\">\n",
       "      <th></th>\n",
       "      <th>location_type</th>\n",
       "      <th>incident_count</th>\n",
       "      <th>%_of_annual_reports</th>\n",
       "    </tr>\n",
       "  </thead>\n",
       "  <tbody>\n",
       "    <tr>\n",
       "      <th>0</th>\n",
       "      <td>Residence / Home</td>\n",
       "      <td>40957</td>\n",
       "      <td>37.59</td>\n",
       "    </tr>\n",
       "    <tr>\n",
       "      <th>1</th>\n",
       "      <td>Streets / Hwy / Road / Alley</td>\n",
       "      <td>19522</td>\n",
       "      <td>18.10</td>\n",
       "    </tr>\n",
       "    <tr>\n",
       "      <th>2</th>\n",
       "      <td>Parking Lots / Garage</td>\n",
       "      <td>13294</td>\n",
       "      <td>11.24</td>\n",
       "    </tr>\n",
       "    <tr>\n",
       "      <th>3</th>\n",
       "      <td>Other / Unknown</td>\n",
       "      <td>6455</td>\n",
       "      <td>6.86</td>\n",
       "    </tr>\n",
       "    <tr>\n",
       "      <th>4</th>\n",
       "      <td>Commercial / Office Building</td>\n",
       "      <td>2956</td>\n",
       "      <td>2.25</td>\n",
       "    </tr>\n",
       "  </tbody>\n",
       "</table>\n",
       "</div>"
      ],
      "text/plain": [
       "                  location_type  incident_count  %_of_annual_reports\n",
       "0              Residence / Home           40957                37.59\n",
       "1  Streets / Hwy / Road / Alley           19522                18.10\n",
       "2         Parking Lots / Garage           13294                11.24\n",
       "3               Other / Unknown            6455                 6.86\n",
       "4  Commercial / Office Building            2956                 2.25"
      ]
     },
     "execution_count": 66,
     "metadata": {},
     "output_type": "execute_result"
    },
    {
     "data": {
      "text/html": [
       "<div>\n",
       "<style scoped>\n",
       "    .dataframe tbody tr th:only-of-type {\n",
       "        vertical-align: middle;\n",
       "    }\n",
       "\n",
       "    .dataframe tbody tr th {\n",
       "        vertical-align: top;\n",
       "    }\n",
       "\n",
       "    .dataframe thead th {\n",
       "        text-align: right;\n",
       "    }\n",
       "</style>\n",
       "<table border=\"1\" class=\"dataframe\">\n",
       "  <thead>\n",
       "    <tr style=\"text-align: right;\">\n",
       "      <th></th>\n",
       "      <th>location_type</th>\n",
       "      <th>incident_count</th>\n",
       "      <th>%_of_annual_reports</th>\n",
       "    </tr>\n",
       "  </thead>\n",
       "  <tbody>\n",
       "    <tr>\n",
       "      <th>0</th>\n",
       "      <td>Residence / Home</td>\n",
       "      <td>44493</td>\n",
       "      <td>39.65</td>\n",
       "    </tr>\n",
       "    <tr>\n",
       "      <th>1</th>\n",
       "      <td>Streets / Hwy / Road / Alley</td>\n",
       "      <td>14790</td>\n",
       "      <td>19.10</td>\n",
       "    </tr>\n",
       "    <tr>\n",
       "      <th>2</th>\n",
       "      <td>Parking Lots / Garage</td>\n",
       "      <td>12525</td>\n",
       "      <td>11.85</td>\n",
       "    </tr>\n",
       "    <tr>\n",
       "      <th>3</th>\n",
       "      <td>Other / Unknown</td>\n",
       "      <td>7018</td>\n",
       "      <td>7.23</td>\n",
       "    </tr>\n",
       "    <tr>\n",
       "      <th>4</th>\n",
       "      <td>Commercial / Office Building</td>\n",
       "      <td>2767</td>\n",
       "      <td>2.37</td>\n",
       "    </tr>\n",
       "  </tbody>\n",
       "</table>\n",
       "</div>"
      ],
      "text/plain": [
       "                  location_type  incident_count  %_of_annual_reports\n",
       "0              Residence / Home           44493                39.65\n",
       "1  Streets / Hwy / Road / Alley           14790                19.10\n",
       "2         Parking Lots / Garage           12525                11.85\n",
       "3               Other / Unknown            7018                 7.23\n",
       "4  Commercial / Office Building            2767                 2.37"
      ]
     },
     "execution_count": 66,
     "metadata": {},
     "output_type": "execute_result"
    }
   ],
   "source": [
    "top_2018_loc_type\n",
    "top_2019_loc_type\n",
    "top_2020_loc_type"
   ]
  },
  {
   "cell_type": "code",
   "execution_count": 75,
   "id": "isolated-syndrome",
   "metadata": {
    "execution": {
     "iopub.execute_input": "2021-03-22T17:35:49.798339Z",
     "iopub.status.busy": "2021-03-22T17:35:49.798339Z",
     "iopub.status.idle": "2021-03-22T17:35:49.837723Z",
     "shell.execute_reply": "2021-03-22T17:35:49.836725Z",
     "shell.execute_reply.started": "2021-03-22T17:35:49.798339Z"
    }
   },
   "outputs": [
    {
     "data": {
      "application/vnd.plotly.v1+json": {
       "config": {
        "plotlyServerURL": "https://plotly.com"
       },
       "data": [
        {
         "marker": {
          "color": "#696FA6"
         },
         "name": "2018",
         "type": "bar",
         "x": [
          "Residence / Home",
          "Streets / Hwy / Road / Alley",
          "Parking Lots / Garage",
          "Other / Unknown",
          "Department / Discount Store"
         ],
         "y": [
          39483,
          19017,
          11804,
          7204,
          2363
         ]
        },
        {
         "marker": {
          "color": "#3C8546"
         },
         "name": "2019",
         "type": "bar",
         "x": [
          "Residence / Home",
          "Streets / Hwy / Road / Alley",
          "Parking Lots / Garage",
          "Other / Unknown",
          "Commercial / Office Building"
         ],
         "y": [
          40957,
          19522,
          13294,
          6455,
          2956
         ]
        },
        {
         "marker": {
          "color": "#3C6285"
         },
         "name": "2020",
         "type": "bar",
         "x": [
          "Residence / Home",
          "Streets / Hwy / Road / Alley",
          "Parking Lots / Garage",
          "Other / Unknown",
          "Commercial / Office Building"
         ],
         "y": [
          44493,
          14790,
          12525,
          7018,
          2767
         ]
        }
       ],
       "layout": {
        "autosize": true,
        "bargap": 0.15,
        "bargroupgap": 0.1,
        "barmode": "group",
        "legend": {
         "bgcolor": "rgba(255, 255, 255, 0)",
         "bordercolor": "rgba(255, 255, 255, 0)",
         "x": 0,
         "y": 1
        },
        "template": {
         "data": {
          "bar": [
           {
            "error_x": {
             "color": "#2a3f5f"
            },
            "error_y": {
             "color": "#2a3f5f"
            },
            "marker": {
             "line": {
              "color": "#E5ECF6",
              "width": 0.5
             }
            },
            "type": "bar"
           }
          ],
          "barpolar": [
           {
            "marker": {
             "line": {
              "color": "#E5ECF6",
              "width": 0.5
             }
            },
            "type": "barpolar"
           }
          ],
          "carpet": [
           {
            "aaxis": {
             "endlinecolor": "#2a3f5f",
             "gridcolor": "white",
             "linecolor": "white",
             "minorgridcolor": "white",
             "startlinecolor": "#2a3f5f"
            },
            "baxis": {
             "endlinecolor": "#2a3f5f",
             "gridcolor": "white",
             "linecolor": "white",
             "minorgridcolor": "white",
             "startlinecolor": "#2a3f5f"
            },
            "type": "carpet"
           }
          ],
          "choropleth": [
           {
            "colorbar": {
             "outlinewidth": 0,
             "ticks": ""
            },
            "type": "choropleth"
           }
          ],
          "contour": [
           {
            "colorbar": {
             "outlinewidth": 0,
             "ticks": ""
            },
            "colorscale": [
             [
              0,
              "#0d0887"
             ],
             [
              0.1111111111111111,
              "#46039f"
             ],
             [
              0.2222222222222222,
              "#7201a8"
             ],
             [
              0.3333333333333333,
              "#9c179e"
             ],
             [
              0.4444444444444444,
              "#bd3786"
             ],
             [
              0.5555555555555556,
              "#d8576b"
             ],
             [
              0.6666666666666666,
              "#ed7953"
             ],
             [
              0.7777777777777778,
              "#fb9f3a"
             ],
             [
              0.8888888888888888,
              "#fdca26"
             ],
             [
              1,
              "#f0f921"
             ]
            ],
            "type": "contour"
           }
          ],
          "contourcarpet": [
           {
            "colorbar": {
             "outlinewidth": 0,
             "ticks": ""
            },
            "type": "contourcarpet"
           }
          ],
          "heatmap": [
           {
            "colorbar": {
             "outlinewidth": 0,
             "ticks": ""
            },
            "colorscale": [
             [
              0,
              "#0d0887"
             ],
             [
              0.1111111111111111,
              "#46039f"
             ],
             [
              0.2222222222222222,
              "#7201a8"
             ],
             [
              0.3333333333333333,
              "#9c179e"
             ],
             [
              0.4444444444444444,
              "#bd3786"
             ],
             [
              0.5555555555555556,
              "#d8576b"
             ],
             [
              0.6666666666666666,
              "#ed7953"
             ],
             [
              0.7777777777777778,
              "#fb9f3a"
             ],
             [
              0.8888888888888888,
              "#fdca26"
             ],
             [
              1,
              "#f0f921"
             ]
            ],
            "type": "heatmap"
           }
          ],
          "heatmapgl": [
           {
            "colorbar": {
             "outlinewidth": 0,
             "ticks": ""
            },
            "colorscale": [
             [
              0,
              "#0d0887"
             ],
             [
              0.1111111111111111,
              "#46039f"
             ],
             [
              0.2222222222222222,
              "#7201a8"
             ],
             [
              0.3333333333333333,
              "#9c179e"
             ],
             [
              0.4444444444444444,
              "#bd3786"
             ],
             [
              0.5555555555555556,
              "#d8576b"
             ],
             [
              0.6666666666666666,
              "#ed7953"
             ],
             [
              0.7777777777777778,
              "#fb9f3a"
             ],
             [
              0.8888888888888888,
              "#fdca26"
             ],
             [
              1,
              "#f0f921"
             ]
            ],
            "type": "heatmapgl"
           }
          ],
          "histogram": [
           {
            "marker": {
             "colorbar": {
              "outlinewidth": 0,
              "ticks": ""
             }
            },
            "type": "histogram"
           }
          ],
          "histogram2d": [
           {
            "colorbar": {
             "outlinewidth": 0,
             "ticks": ""
            },
            "colorscale": [
             [
              0,
              "#0d0887"
             ],
             [
              0.1111111111111111,
              "#46039f"
             ],
             [
              0.2222222222222222,
              "#7201a8"
             ],
             [
              0.3333333333333333,
              "#9c179e"
             ],
             [
              0.4444444444444444,
              "#bd3786"
             ],
             [
              0.5555555555555556,
              "#d8576b"
             ],
             [
              0.6666666666666666,
              "#ed7953"
             ],
             [
              0.7777777777777778,
              "#fb9f3a"
             ],
             [
              0.8888888888888888,
              "#fdca26"
             ],
             [
              1,
              "#f0f921"
             ]
            ],
            "type": "histogram2d"
           }
          ],
          "histogram2dcontour": [
           {
            "colorbar": {
             "outlinewidth": 0,
             "ticks": ""
            },
            "colorscale": [
             [
              0,
              "#0d0887"
             ],
             [
              0.1111111111111111,
              "#46039f"
             ],
             [
              0.2222222222222222,
              "#7201a8"
             ],
             [
              0.3333333333333333,
              "#9c179e"
             ],
             [
              0.4444444444444444,
              "#bd3786"
             ],
             [
              0.5555555555555556,
              "#d8576b"
             ],
             [
              0.6666666666666666,
              "#ed7953"
             ],
             [
              0.7777777777777778,
              "#fb9f3a"
             ],
             [
              0.8888888888888888,
              "#fdca26"
             ],
             [
              1,
              "#f0f921"
             ]
            ],
            "type": "histogram2dcontour"
           }
          ],
          "mesh3d": [
           {
            "colorbar": {
             "outlinewidth": 0,
             "ticks": ""
            },
            "type": "mesh3d"
           }
          ],
          "parcoords": [
           {
            "line": {
             "colorbar": {
              "outlinewidth": 0,
              "ticks": ""
             }
            },
            "type": "parcoords"
           }
          ],
          "pie": [
           {
            "automargin": true,
            "type": "pie"
           }
          ],
          "scatter": [
           {
            "marker": {
             "colorbar": {
              "outlinewidth": 0,
              "ticks": ""
             }
            },
            "type": "scatter"
           }
          ],
          "scatter3d": [
           {
            "line": {
             "colorbar": {
              "outlinewidth": 0,
              "ticks": ""
             }
            },
            "marker": {
             "colorbar": {
              "outlinewidth": 0,
              "ticks": ""
             }
            },
            "type": "scatter3d"
           }
          ],
          "scattercarpet": [
           {
            "marker": {
             "colorbar": {
              "outlinewidth": 0,
              "ticks": ""
             }
            },
            "type": "scattercarpet"
           }
          ],
          "scattergeo": [
           {
            "marker": {
             "colorbar": {
              "outlinewidth": 0,
              "ticks": ""
             }
            },
            "type": "scattergeo"
           }
          ],
          "scattergl": [
           {
            "marker": {
             "colorbar": {
              "outlinewidth": 0,
              "ticks": ""
             }
            },
            "type": "scattergl"
           }
          ],
          "scattermapbox": [
           {
            "marker": {
             "colorbar": {
              "outlinewidth": 0,
              "ticks": ""
             }
            },
            "type": "scattermapbox"
           }
          ],
          "scatterpolar": [
           {
            "marker": {
             "colorbar": {
              "outlinewidth": 0,
              "ticks": ""
             }
            },
            "type": "scatterpolar"
           }
          ],
          "scatterpolargl": [
           {
            "marker": {
             "colorbar": {
              "outlinewidth": 0,
              "ticks": ""
             }
            },
            "type": "scatterpolargl"
           }
          ],
          "scatterternary": [
           {
            "marker": {
             "colorbar": {
              "outlinewidth": 0,
              "ticks": ""
             }
            },
            "type": "scatterternary"
           }
          ],
          "surface": [
           {
            "colorbar": {
             "outlinewidth": 0,
             "ticks": ""
            },
            "colorscale": [
             [
              0,
              "#0d0887"
             ],
             [
              0.1111111111111111,
              "#46039f"
             ],
             [
              0.2222222222222222,
              "#7201a8"
             ],
             [
              0.3333333333333333,
              "#9c179e"
             ],
             [
              0.4444444444444444,
              "#bd3786"
             ],
             [
              0.5555555555555556,
              "#d8576b"
             ],
             [
              0.6666666666666666,
              "#ed7953"
             ],
             [
              0.7777777777777778,
              "#fb9f3a"
             ],
             [
              0.8888888888888888,
              "#fdca26"
             ],
             [
              1,
              "#f0f921"
             ]
            ],
            "type": "surface"
           }
          ],
          "table": [
           {
            "cells": {
             "fill": {
              "color": "#EBF0F8"
             },
             "line": {
              "color": "white"
             }
            },
            "header": {
             "fill": {
              "color": "#C8D4E3"
             },
             "line": {
              "color": "white"
             }
            },
            "type": "table"
           }
          ]
         },
         "layout": {
          "annotationdefaults": {
           "arrowcolor": "#2a3f5f",
           "arrowhead": 0,
           "arrowwidth": 1
          },
          "coloraxis": {
           "colorbar": {
            "outlinewidth": 0,
            "ticks": ""
           }
          },
          "colorscale": {
           "diverging": [
            [
             0,
             "#8e0152"
            ],
            [
             0.1,
             "#c51b7d"
            ],
            [
             0.2,
             "#de77ae"
            ],
            [
             0.3,
             "#f1b6da"
            ],
            [
             0.4,
             "#fde0ef"
            ],
            [
             0.5,
             "#f7f7f7"
            ],
            [
             0.6,
             "#e6f5d0"
            ],
            [
             0.7,
             "#b8e186"
            ],
            [
             0.8,
             "#7fbc41"
            ],
            [
             0.9,
             "#4d9221"
            ],
            [
             1,
             "#276419"
            ]
           ],
           "sequential": [
            [
             0,
             "#0d0887"
            ],
            [
             0.1111111111111111,
             "#46039f"
            ],
            [
             0.2222222222222222,
             "#7201a8"
            ],
            [
             0.3333333333333333,
             "#9c179e"
            ],
            [
             0.4444444444444444,
             "#bd3786"
            ],
            [
             0.5555555555555556,
             "#d8576b"
            ],
            [
             0.6666666666666666,
             "#ed7953"
            ],
            [
             0.7777777777777778,
             "#fb9f3a"
            ],
            [
             0.8888888888888888,
             "#fdca26"
            ],
            [
             1,
             "#f0f921"
            ]
           ],
           "sequentialminus": [
            [
             0,
             "#0d0887"
            ],
            [
             0.1111111111111111,
             "#46039f"
            ],
            [
             0.2222222222222222,
             "#7201a8"
            ],
            [
             0.3333333333333333,
             "#9c179e"
            ],
            [
             0.4444444444444444,
             "#bd3786"
            ],
            [
             0.5555555555555556,
             "#d8576b"
            ],
            [
             0.6666666666666666,
             "#ed7953"
            ],
            [
             0.7777777777777778,
             "#fb9f3a"
            ],
            [
             0.8888888888888888,
             "#fdca26"
            ],
            [
             1,
             "#f0f921"
            ]
           ]
          },
          "colorway": [
           "#636efa",
           "#EF553B",
           "#00cc96",
           "#ab63fa",
           "#FFA15A",
           "#19d3f3",
           "#FF6692",
           "#B6E880",
           "#FF97FF",
           "#FECB52"
          ],
          "font": {
           "color": "#2a3f5f"
          },
          "geo": {
           "bgcolor": "white",
           "lakecolor": "white",
           "landcolor": "#E5ECF6",
           "showlakes": true,
           "showland": true,
           "subunitcolor": "white"
          },
          "hoverlabel": {
           "align": "left"
          },
          "hovermode": "closest",
          "mapbox": {
           "style": "light"
          },
          "paper_bgcolor": "white",
          "plot_bgcolor": "#E5ECF6",
          "polar": {
           "angularaxis": {
            "gridcolor": "white",
            "linecolor": "white",
            "ticks": ""
           },
           "bgcolor": "#E5ECF6",
           "radialaxis": {
            "gridcolor": "white",
            "linecolor": "white",
            "ticks": ""
           }
          },
          "scene": {
           "xaxis": {
            "backgroundcolor": "#E5ECF6",
            "gridcolor": "white",
            "gridwidth": 2,
            "linecolor": "white",
            "showbackground": true,
            "ticks": "",
            "zerolinecolor": "white"
           },
           "yaxis": {
            "backgroundcolor": "#E5ECF6",
            "gridcolor": "white",
            "gridwidth": 2,
            "linecolor": "white",
            "showbackground": true,
            "ticks": "",
            "zerolinecolor": "white"
           },
           "zaxis": {
            "backgroundcolor": "#E5ECF6",
            "gridcolor": "white",
            "gridwidth": 2,
            "linecolor": "white",
            "showbackground": true,
            "ticks": "",
            "zerolinecolor": "white"
           }
          },
          "shapedefaults": {
           "line": {
            "color": "#2a3f5f"
           }
          },
          "ternary": {
           "aaxis": {
            "gridcolor": "white",
            "linecolor": "white",
            "ticks": ""
           },
           "baxis": {
            "gridcolor": "white",
            "linecolor": "white",
            "ticks": ""
           },
           "bgcolor": "#E5ECF6",
           "caxis": {
            "gridcolor": "white",
            "linecolor": "white",
            "ticks": ""
           }
          },
          "title": {
           "x": 0.05
          },
          "xaxis": {
           "automargin": true,
           "gridcolor": "white",
           "linecolor": "white",
           "ticks": "",
           "title": {
            "standoff": 15
           },
           "zerolinecolor": "white",
           "zerolinewidth": 2
          },
          "yaxis": {
           "automargin": true,
           "gridcolor": "white",
           "linecolor": "white",
           "ticks": "",
           "title": {
            "standoff": 15
           },
           "zerolinecolor": "white",
           "zerolinewidth": 2
          }
         }
        },
        "xaxis": {
         "autorange": true,
         "range": [
          -0.5,
          5.5
         ],
         "tickangle": -45,
         "tickfont": {
          "size": 14
         },
         "type": "category"
        },
        "yaxis": {
         "autorange": true,
         "range": [
          0,
          46834.73684210527
         ],
         "tickfont": {
          "size": 14
         },
         "title": {
          "font": {
           "size": 16
          },
          "text": "USD (millions)"
         },
         "type": "linear"
        }
       }
      },
      "image/png": "[encoded data removed]",
      "text/html": [
       "<div>\n",
       "        \n",
       "        \n",
       "            <div id=\"1dff1543-8258-4822-aaaf-3f3929e0eb97\" class=\"plotly-graph-div\" style=\"height:525px; width:100%;\"></div>\n",
       "            <script type=\"text/javascript\">\n",
       "                require([\"plotly\"], function(Plotly) {\n",
       "                    window.PLOTLYENV=window.PLOTLYENV || {};\n",
       "                    \n",
       "                if (document.getElementById(\"1dff1543-8258-4822-aaaf-3f3929e0eb97\")) {\n",
       "                    Plotly.newPlot(\n",
       "                        '1dff1543-8258-4822-aaaf-3f3929e0eb97',\n",
       "                        [{\"marker\": {\"color\": \"#696FA6\"}, \"name\": \"2018\", \"type\": \"bar\", \"x\": [\"Residence / Home\", \"Streets / Hwy / Road / Alley\", \"Parking Lots / Garage\", \"Other / Unknown\", \"Department / Discount Store\"], \"y\": [39483, 19017, 11804, 7204, 2363]}, {\"marker\": {\"color\": \"#3C8546\"}, \"name\": \"2019\", \"type\": \"bar\", \"x\": [\"Residence / Home\", \"Streets / Hwy / Road / Alley\", \"Parking Lots / Garage\", \"Other / Unknown\", \"Commercial / Office Building\"], \"y\": [40957, 19522, 13294, 6455, 2956]}, {\"marker\": {\"color\": \"#3C6285\"}, \"name\": \"2020\", \"type\": \"bar\", \"x\": [\"Residence / Home\", \"Streets / Hwy / Road / Alley\", \"Parking Lots / Garage\", \"Other / Unknown\", \"Commercial / Office Building\"], \"y\": [44493, 14790, 12525, 7018, 2767]}],\n",
       "                        {\"bargap\": 0.15, \"bargroupgap\": 0.1, \"barmode\": \"group\", \"legend\": {\"bgcolor\": \"rgba(255, 255, 255, 0)\", \"bordercolor\": \"rgba(255, 255, 255, 0)\", \"x\": 0, \"y\": 1.0}, \"template\": {\"data\": {\"bar\": [{\"error_x\": {\"color\": \"#2a3f5f\"}, \"error_y\": {\"color\": \"#2a3f5f\"}, \"marker\": {\"line\": {\"color\": \"#E5ECF6\", \"width\": 0.5}}, \"type\": \"bar\"}], \"barpolar\": [{\"marker\": {\"line\": {\"color\": \"#E5ECF6\", \"width\": 0.5}}, \"type\": \"barpolar\"}], \"carpet\": [{\"aaxis\": {\"endlinecolor\": \"#2a3f5f\", \"gridcolor\": \"white\", \"linecolor\": \"white\", \"minorgridcolor\": \"white\", \"startlinecolor\": \"#2a3f5f\"}, \"baxis\": {\"endlinecolor\": \"#2a3f5f\", \"gridcolor\": \"white\", \"linecolor\": \"white\", \"minorgridcolor\": \"white\", \"startlinecolor\": \"#2a3f5f\"}, \"type\": \"carpet\"}], \"choropleth\": [{\"colorbar\": {\"outlinewidth\": 0, \"ticks\": \"\"}, \"type\": \"choropleth\"}], \"contour\": [{\"colorbar\": {\"outlinewidth\": 0, \"ticks\": \"\"}, \"colorscale\": [[0.0, \"#0d0887\"], [0.1111111111111111, \"#46039f\"], [0.2222222222222222, \"#7201a8\"], [0.3333333333333333, \"#9c179e\"], [0.4444444444444444, \"#bd3786\"], [0.5555555555555556, \"#d8576b\"], [0.6666666666666666, \"#ed7953\"], [0.7777777777777778, \"#fb9f3a\"], [0.8888888888888888, \"#fdca26\"], [1.0, \"#f0f921\"]], \"type\": \"contour\"}], \"contourcarpet\": [{\"colorbar\": {\"outlinewidth\": 0, \"ticks\": \"\"}, \"type\": \"contourcarpet\"}], \"heatmap\": [{\"colorbar\": {\"outlinewidth\": 0, \"ticks\": \"\"}, \"colorscale\": [[0.0, \"#0d0887\"], [0.1111111111111111, \"#46039f\"], [0.2222222222222222, \"#7201a8\"], [0.3333333333333333, \"#9c179e\"], [0.4444444444444444, \"#bd3786\"], [0.5555555555555556, \"#d8576b\"], [0.6666666666666666, \"#ed7953\"], [0.7777777777777778, \"#fb9f3a\"], [0.8888888888888888, \"#fdca26\"], [1.0, \"#f0f921\"]], \"type\": \"heatmap\"}], \"heatmapgl\": [{\"colorbar\": {\"outlinewidth\": 0, \"ticks\": \"\"}, \"colorscale\": [[0.0, \"#0d0887\"], [0.1111111111111111, \"#46039f\"], [0.2222222222222222, \"#7201a8\"], [0.3333333333333333, \"#9c179e\"], [0.4444444444444444, \"#bd3786\"], [0.5555555555555556, \"#d8576b\"], [0.6666666666666666, \"#ed7953\"], [0.7777777777777778, \"#fb9f3a\"], [0.8888888888888888, \"#fdca26\"], [1.0, \"#f0f921\"]], \"type\": \"heatmapgl\"}], \"histogram\": [{\"marker\": {\"colorbar\": {\"outlinewidth\": 0, \"ticks\": \"\"}}, \"type\": \"histogram\"}], \"histogram2d\": [{\"colorbar\": {\"outlinewidth\": 0, \"ticks\": \"\"}, \"colorscale\": [[0.0, \"#0d0887\"], [0.1111111111111111, \"#46039f\"], [0.2222222222222222, \"#7201a8\"], [0.3333333333333333, \"#9c179e\"], [0.4444444444444444, \"#bd3786\"], [0.5555555555555556, \"#d8576b\"], [0.6666666666666666, \"#ed7953\"], [0.7777777777777778, \"#fb9f3a\"], [0.8888888888888888, \"#fdca26\"], [1.0, \"#f0f921\"]], \"type\": \"histogram2d\"}], \"histogram2dcontour\": [{\"colorbar\": {\"outlinewidth\": 0, \"ticks\": \"\"}, \"colorscale\": [[0.0, \"#0d0887\"], [0.1111111111111111, \"#46039f\"], [0.2222222222222222, \"#7201a8\"], [0.3333333333333333, \"#9c179e\"], [0.4444444444444444, \"#bd3786\"], [0.5555555555555556, \"#d8576b\"], [0.6666666666666666, \"#ed7953\"], [0.7777777777777778, \"#fb9f3a\"], [0.8888888888888888, \"#fdca26\"], [1.0, \"#f0f921\"]], \"type\": \"histogram2dcontour\"}], \"mesh3d\": [{\"colorbar\": {\"outlinewidth\": 0, \"ticks\": \"\"}, \"type\": \"mesh3d\"}], \"parcoords\": [{\"line\": {\"colorbar\": {\"outlinewidth\": 0, \"ticks\": \"\"}}, \"type\": \"parcoords\"}], \"pie\": [{\"automargin\": true, \"type\": \"pie\"}], \"scatter\": [{\"marker\": {\"colorbar\": {\"outlinewidth\": 0, \"ticks\": \"\"}}, \"type\": \"scatter\"}], \"scatter3d\": [{\"line\": {\"colorbar\": {\"outlinewidth\": 0, \"ticks\": \"\"}}, \"marker\": {\"colorbar\": {\"outlinewidth\": 0, \"ticks\": \"\"}}, \"type\": \"scatter3d\"}], \"scattercarpet\": [{\"marker\": {\"colorbar\": {\"outlinewidth\": 0, \"ticks\": \"\"}}, \"type\": \"scattercarpet\"}], \"scattergeo\": [{\"marker\": {\"colorbar\": {\"outlinewidth\": 0, \"ticks\": \"\"}}, \"type\": \"scattergeo\"}], \"scattergl\": [{\"marker\": {\"colorbar\": {\"outlinewidth\": 0, \"ticks\": \"\"}}, \"type\": \"scattergl\"}], \"scattermapbox\": [{\"marker\": {\"colorbar\": {\"outlinewidth\": 0, \"ticks\": \"\"}}, \"type\": \"scattermapbox\"}], \"scatterpolar\": [{\"marker\": {\"colorbar\": {\"outlinewidth\": 0, \"ticks\": \"\"}}, \"type\": \"scatterpolar\"}], \"scatterpolargl\": [{\"marker\": {\"colorbar\": {\"outlinewidth\": 0, \"ticks\": \"\"}}, \"type\": \"scatterpolargl\"}], \"scatterternary\": [{\"marker\": {\"colorbar\": {\"outlinewidth\": 0, \"ticks\": \"\"}}, \"type\": \"scatterternary\"}], \"surface\": [{\"colorbar\": {\"outlinewidth\": 0, \"ticks\": \"\"}, \"colorscale\": [[0.0, \"#0d0887\"], [0.1111111111111111, \"#46039f\"], [0.2222222222222222, \"#7201a8\"], [0.3333333333333333, \"#9c179e\"], [0.4444444444444444, \"#bd3786\"], [0.5555555555555556, \"#d8576b\"], [0.6666666666666666, \"#ed7953\"], [0.7777777777777778, \"#fb9f3a\"], [0.8888888888888888, \"#fdca26\"], [1.0, \"#f0f921\"]], \"type\": \"surface\"}], \"table\": [{\"cells\": {\"fill\": {\"color\": \"#EBF0F8\"}, \"line\": {\"color\": \"white\"}}, \"header\": {\"fill\": {\"color\": \"#C8D4E3\"}, \"line\": {\"color\": \"white\"}}, \"type\": \"table\"}]}, \"layout\": {\"annotationdefaults\": {\"arrowcolor\": \"#2a3f5f\", \"arrowhead\": 0, \"arrowwidth\": 1}, \"coloraxis\": {\"colorbar\": {\"outlinewidth\": 0, \"ticks\": \"\"}}, \"colorscale\": {\"diverging\": [[0, \"#8e0152\"], [0.1, \"#c51b7d\"], [0.2, \"#de77ae\"], [0.3, \"#f1b6da\"], [0.4, \"#fde0ef\"], [0.5, \"#f7f7f7\"], [0.6, \"#e6f5d0\"], [0.7, \"#b8e186\"], [0.8, \"#7fbc41\"], [0.9, \"#4d9221\"], [1, \"#276419\"]], \"sequential\": [[0.0, \"#0d0887\"], [0.1111111111111111, \"#46039f\"], [0.2222222222222222, \"#7201a8\"], [0.3333333333333333, \"#9c179e\"], [0.4444444444444444, \"#bd3786\"], [0.5555555555555556, \"#d8576b\"], [0.6666666666666666, \"#ed7953\"], [0.7777777777777778, \"#fb9f3a\"], [0.8888888888888888, \"#fdca26\"], [1.0, \"#f0f921\"]], \"sequentialminus\": [[0.0, \"#0d0887\"], [0.1111111111111111, \"#46039f\"], [0.2222222222222222, \"#7201a8\"], [0.3333333333333333, \"#9c179e\"], [0.4444444444444444, \"#bd3786\"], [0.5555555555555556, \"#d8576b\"], [0.6666666666666666, \"#ed7953\"], [0.7777777777777778, \"#fb9f3a\"], [0.8888888888888888, \"#fdca26\"], [1.0, \"#f0f921\"]]}, \"colorway\": [\"#636efa\", \"#EF553B\", \"#00cc96\", \"#ab63fa\", \"#FFA15A\", \"#19d3f3\", \"#FF6692\", \"#B6E880\", \"#FF97FF\", \"#FECB52\"], \"font\": {\"color\": \"#2a3f5f\"}, \"geo\": {\"bgcolor\": \"white\", \"lakecolor\": \"white\", \"landcolor\": \"#E5ECF6\", \"showlakes\": true, \"showland\": true, \"subunitcolor\": \"white\"}, \"hoverlabel\": {\"align\": \"left\"}, \"hovermode\": \"closest\", \"mapbox\": {\"style\": \"light\"}, \"paper_bgcolor\": \"white\", \"plot_bgcolor\": \"#E5ECF6\", \"polar\": {\"angularaxis\": {\"gridcolor\": \"white\", \"linecolor\": \"white\", \"ticks\": \"\"}, \"bgcolor\": \"#E5ECF6\", \"radialaxis\": {\"gridcolor\": \"white\", \"linecolor\": \"white\", \"ticks\": \"\"}}, \"scene\": {\"xaxis\": {\"backgroundcolor\": \"#E5ECF6\", \"gridcolor\": \"white\", \"gridwidth\": 2, \"linecolor\": \"white\", \"showbackground\": true, \"ticks\": \"\", \"zerolinecolor\": \"white\"}, \"yaxis\": {\"backgroundcolor\": \"#E5ECF6\", \"gridcolor\": \"white\", \"gridwidth\": 2, \"linecolor\": \"white\", \"showbackground\": true, \"ticks\": \"\", \"zerolinecolor\": \"white\"}, \"zaxis\": {\"backgroundcolor\": \"#E5ECF6\", \"gridcolor\": \"white\", \"gridwidth\": 2, \"linecolor\": \"white\", \"showbackground\": true, \"ticks\": \"\", \"zerolinecolor\": \"white\"}}, \"shapedefaults\": {\"line\": {\"color\": \"#2a3f5f\"}}, \"ternary\": {\"aaxis\": {\"gridcolor\": \"white\", \"linecolor\": \"white\", \"ticks\": \"\"}, \"baxis\": {\"gridcolor\": \"white\", \"linecolor\": \"white\", \"ticks\": \"\"}, \"bgcolor\": \"#E5ECF6\", \"caxis\": {\"gridcolor\": \"white\", \"linecolor\": \"white\", \"ticks\": \"\"}}, \"title\": {\"x\": 0.05}, \"xaxis\": {\"automargin\": true, \"gridcolor\": \"white\", \"linecolor\": \"white\", \"ticks\": \"\", \"title\": {\"standoff\": 15}, \"zerolinecolor\": \"white\", \"zerolinewidth\": 2}, \"yaxis\": {\"automargin\": true, \"gridcolor\": \"white\", \"linecolor\": \"white\", \"ticks\": \"\", \"title\": {\"standoff\": 15}, \"zerolinecolor\": \"white\", \"zerolinewidth\": 2}}}, \"xaxis\": {\"tickangle\": -45, \"tickfont\": {\"size\": 14}}, \"yaxis\": {\"tickfont\": {\"size\": 14}, \"title\": {\"font\": {\"size\": 16}, \"text\": \"USD (millions)\"}}},\n",
       "                        {\"responsive\": true}\n",
       "                    ).then(function(){\n",
       "                            \n",
       "var gd = document.getElementById('1dff1543-8258-4822-aaaf-3f3929e0eb97');\n",
       "var x = new MutationObserver(function (mutations, observer) {{\n",
       "        var display = window.getComputedStyle(gd).display;\n",
       "        if (!display || display === 'none') {{\n",
       "            console.log([gd, 'removed!']);\n",
       "            Plotly.purge(gd);\n",
       "            observer.disconnect();\n",
       "        }}\n",
       "}});\n",
       "\n",
       "// Listen for the removal of the full notebook cells\n",
       "var notebookContainer = gd.closest('#notebook-container');\n",
       "if (notebookContainer) {{\n",
       "    x.observe(notebookContainer, {childList: true});\n",
       "}}\n",
       "\n",
       "// Listen for the clearing of the current output cell\n",
       "var outputEl = gd.closest('.output');\n",
       "if (outputEl) {{\n",
       "    x.observe(outputEl, {childList: true});\n",
       "}}\n",
       "\n",
       "                        })\n",
       "                };\n",
       "                });\n",
       "            </script>\n",
       "        </div>"
      ]
     },
     "metadata": {},
     "output_type": "display_data"
    }
   ],
   "source": [
    "fig = go.Figure()\n",
    "fig.add_trace(go.Bar(x=top_2018_loc_type['location_type'],\n",
    "                     y=top_2018_loc_type['incident_count'], name='2018',marker_color ='#696FA6'));\n",
    "\n",
    "fig.add_trace(go.Bar(x=top_2019_loc_type['location_type'],\n",
    "                     y=top_2019_loc_type['incident_count'], name='2019',marker_color='#3C8546'));\n",
    "\n",
    "fig.add_trace(go.Bar(x=top_2020_loc_type['location_type']\n",
    "                     ,y=top_2020_loc_type['incident_count'], name='2020', marker_color='#3C6285'));\n",
    "\n",
    "fig.update_layout(\n",
    "    xaxis_tickfont_size=14,\n",
    "    yaxis=dict(\n",
    "        title='USD (millions)',\n",
    "        titlefont_size=16,\n",
    "        tickfont_size=14,\n",
    "    ),\n",
    "    legend=dict(\n",
    "        x=0,\n",
    "        y=1.0,\n",
    "        bgcolor='rgba(255, 255, 255, 0)',\n",
    "        bordercolor='rgba(255, 255, 255, 0)'\n",
    "    ),\n",
    "    barmode='group',\n",
    "    bargap=0.15, \n",
    "    bargroupgap=0.1,\n",
    "    xaxis_tickangle=-45\n",
    ");\n",
    "fig.show();"
   ]
  },
  {
   "cell_type": "markdown",
   "id": "integrated-arena",
   "metadata": {},
   "source": [
    "All years  have the categories of Residence, street, parking lot, and other in common as type offense locations. \n",
    "While 2019 and 2019 share commercial, meaning 2019 and 2020 have all 5 top locations in common.\n",
    "only 2018 has department in its top 5. "
   ]
  },
  {
   "cell_type": "code",
   "execution_count": null,
   "id": "sacred-perth",
   "metadata": {},
   "outputs": [],
   "source": [
    "fig = px.bar(top_2018_loc_type.sort_values(by='incident_count',ascending=True),x='incident_count', y='location_type')\n",
    "fig.show()"
   ]
  },
  {
   "cell_type": "code",
   "execution_count": 21,
   "id": "multiple-blogger",
   "metadata": {
    "execution": {
     "iopub.execute_input": "2021-03-24T23:31:43.295208Z",
     "iopub.status.busy": "2021-03-24T23:31:43.295208Z",
     "iopub.status.idle": "2021-03-24T23:31:43.304350Z",
     "shell.execute_reply": "2021-03-24T23:31:43.304350Z",
     "shell.execute_reply.started": "2021-03-24T23:31:43.295208Z"
    }
   },
   "outputs": [
    {
     "data": {
      "text/html": [
       "<div>\n",
       "<style scoped>\n",
       "    .dataframe tbody tr th:only-of-type {\n",
       "        vertical-align: middle;\n",
       "    }\n",
       "\n",
       "    .dataframe tbody tr th {\n",
       "        vertical-align: top;\n",
       "    }\n",
       "\n",
       "    .dataframe thead th {\n",
       "        text-align: right;\n",
       "    }\n",
       "</style>\n",
       "<table border=\"1\" class=\"dataframe\">\n",
       "  <thead>\n",
       "    <tr style=\"text-align: right;\">\n",
       "      <th></th>\n",
       "      <th>count</th>\n",
       "      <th>year</th>\n",
       "      <th>offense_type</th>\n",
       "    </tr>\n",
       "  </thead>\n",
       "  <tbody>\n",
       "    <tr>\n",
       "      <th>0</th>\n",
       "      <td>2570</td>\n",
       "      <td>2018.0</td>\n",
       "      <td>ASSAULT BY CONTACT FAM/DATING</td>\n",
       "    </tr>\n",
       "    <tr>\n",
       "      <th>1</th>\n",
       "      <td>2745</td>\n",
       "      <td>2019.0</td>\n",
       "      <td>ASSAULT BY CONTACT FAM/DATING</td>\n",
       "    </tr>\n",
       "    <tr>\n",
       "      <th>2</th>\n",
       "      <td>2593</td>\n",
       "      <td>2020.0</td>\n",
       "      <td>ASSAULT BY CONTACT FAM/DATING</td>\n",
       "    </tr>\n",
       "    <tr>\n",
       "      <th>3</th>\n",
       "      <td>5701</td>\n",
       "      <td>2018.0</td>\n",
       "      <td>ASSAULT W/INJURY-FAM/DATE VIOL</td>\n",
       "    </tr>\n",
       "    <tr>\n",
       "      <th>4</th>\n",
       "      <td>6128</td>\n",
       "      <td>2019.0</td>\n",
       "      <td>ASSAULT W/INJURY-FAM/DATE VIOL</td>\n",
       "    </tr>\n",
       "  </tbody>\n",
       "</table>\n",
       "</div>"
      ],
      "text/plain": [
       "   count    year                    offense_type\n",
       "0   2570  2018.0   ASSAULT BY CONTACT FAM/DATING\n",
       "1   2745  2019.0   ASSAULT BY CONTACT FAM/DATING\n",
       "2   2593  2020.0   ASSAULT BY CONTACT FAM/DATING\n",
       "3   5701  2018.0  ASSAULT W/INJURY-FAM/DATE VIOL\n",
       "4   6128  2019.0  ASSAULT W/INJURY-FAM/DATE VIOL"
      ]
     },
     "execution_count": 21,
     "metadata": {},
     "output_type": "execute_result"
    }
   ],
   "source": [
    "top_category_year.head()"
   ]
  },
  {
   "cell_type": "code",
   "execution_count": 23,
   "id": "polished-mapping",
   "metadata": {
    "execution": {
     "iopub.execute_input": "2021-03-24T23:36:40.473630Z",
     "iopub.status.busy": "2021-03-24T23:36:40.473630Z",
     "iopub.status.idle": "2021-03-24T23:36:40.477621Z",
     "shell.execute_reply": "2021-03-24T23:36:40.477098Z",
     "shell.execute_reply.started": "2021-03-24T23:36:40.473630Z"
    }
   },
   "outputs": [],
   "source": [
    "top_category_year['year'] = top_category_year['year'].astype(str)"
   ]
  },
  {
   "cell_type": "code",
   "execution_count": 25,
   "id": "spoken-percentage",
   "metadata": {
    "execution": {
     "iopub.execute_input": "2021-03-24T23:37:50.030969Z",
     "iopub.status.busy": "2021-03-24T23:37:50.029971Z",
     "iopub.status.idle": "2021-03-24T23:37:50.089338Z",
     "shell.execute_reply": "2021-03-24T23:37:50.089338Z",
     "shell.execute_reply.started": "2021-03-24T23:37:50.030969Z"
    }
   },
   "outputs": [
    {
     "data": {
      "application/vnd.plotly.v1+json": {
       "config": {
        "plotlyServerURL": "https://plotly.com"
       },
       "data": [
        {
         "hovertemplate": "year=2018.0<br>count=%{marker.size}<br>offense_type=%{y}<extra></extra>",
         "legendgroup": "2018.0",
         "marker": {
          "color": "#636efa",
          "size": [
           2570,
           5701,
           2416,
           10500,
           4632,
           3181,
           10505,
           2620,
           9109,
           2963
          ],
          "sizemode": "area",
          "sizeref": 29.3825,
          "symbol": "circle"
         },
         "mode": "markers",
         "name": "2018.0",
         "orientation": "h",
         "showlegend": true,
         "type": "scatter",
         "x": [
          2570,
          5701,
          2416,
          10500,
          4632,
          3181,
          10505,
          2620,
          9109,
          2963
         ],
         "xaxis": "x",
         "y": [
          "ASSAULT BY CONTACT FAM/DATING",
          "ASSAULT W/INJURY-FAM/DATE VIOL",
          "AUTO THEFT",
          "BURGLARY OF VEHICLE",
          "CRIMINAL MISCHIEF",
          "DISTURBANCE - OTHER",
          "FAMILY DISTURBANCE",
          "HARASSMENT",
          "THEFT",
          "THEFT BY SHOPLIFTING"
         ],
         "yaxis": "y"
        },
        {
         "hovertemplate": "year=2019.0<br>count=%{marker.size}<br>offense_type=%{y}<extra></extra>",
         "legendgroup": "2019.0",
         "marker": {
          "color": "#EF553B",
          "size": [
           2745,
           6128,
           2942,
           11753,
           5530,
           2794,
           10356,
           2792,
           9603,
           3155
          ],
          "sizemode": "area",
          "sizeref": 29.3825,
          "symbol": "circle"
         },
         "mode": "markers",
         "name": "2019.0",
         "orientation": "h",
         "showlegend": true,
         "type": "scatter",
         "x": [
          2745,
          6128,
          2942,
          11753,
          5530,
          2794,
          10356,
          2792,
          9603,
          3155
         ],
         "xaxis": "x",
         "y": [
          "ASSAULT BY CONTACT FAM/DATING",
          "ASSAULT W/INJURY-FAM/DATE VIOL",
          "AUTO THEFT",
          "BURGLARY OF VEHICLE",
          "CRIMINAL MISCHIEF",
          "DISTURBANCE - OTHER",
          "FAMILY DISTURBANCE",
          "HARASSMENT",
          "THEFT",
          "THEFT BY SHOPLIFTING"
         ],
         "yaxis": "y"
        },
        {
         "hovertemplate": "year=2020.0<br>count=%{marker.size}<br>offense_type=%{y}<extra></extra>",
         "legendgroup": "2020.0",
         "marker": {
          "color": "#00cc96",
          "size": [
           2593,
           5610,
           3846,
           10958,
           5890,
           2557,
           10181,
           2888,
           7445,
           2639
          ],
          "sizemode": "area",
          "sizeref": 29.3825,
          "symbol": "circle"
         },
         "mode": "markers",
         "name": "2020.0",
         "orientation": "h",
         "showlegend": true,
         "type": "scatter",
         "x": [
          2593,
          5610,
          3846,
          10958,
          5890,
          2557,
          10181,
          2888,
          7445,
          2639
         ],
         "xaxis": "x",
         "y": [
          "ASSAULT BY CONTACT FAM/DATING",
          "ASSAULT W/INJURY-FAM/DATE VIOL",
          "AUTO THEFT",
          "BURGLARY OF VEHICLE",
          "CRIMINAL MISCHIEF",
          "DISTURBANCE - OTHER",
          "FAMILY DISTURBANCE",
          "HARASSMENT",
          "THEFT",
          "THEFT BY SHOPLIFTING"
         ],
         "yaxis": "y"
        }
       ],
       "layout": {
        "autosize": true,
        "legend": {
         "itemsizing": "constant",
         "title": {
          "text": "year"
         },
         "tracegroupgap": 0
        },
        "margin": {
         "t": 60
        },
        "template": {
         "data": {
          "bar": [
           {
            "error_x": {
             "color": "#2a3f5f"
            },
            "error_y": {
             "color": "#2a3f5f"
            },
            "marker": {
             "line": {
              "color": "#E5ECF6",
              "width": 0.5
             }
            },
            "type": "bar"
           }
          ],
          "barpolar": [
           {
            "marker": {
             "line": {
              "color": "#E5ECF6",
              "width": 0.5
             }
            },
            "type": "barpolar"
           }
          ],
          "carpet": [
           {
            "aaxis": {
             "endlinecolor": "#2a3f5f",
             "gridcolor": "white",
             "linecolor": "white",
             "minorgridcolor": "white",
             "startlinecolor": "#2a3f5f"
            },
            "baxis": {
             "endlinecolor": "#2a3f5f",
             "gridcolor": "white",
             "linecolor": "white",
             "minorgridcolor": "white",
             "startlinecolor": "#2a3f5f"
            },
            "type": "carpet"
           }
          ],
          "choropleth": [
           {
            "colorbar": {
             "outlinewidth": 0,
             "ticks": ""
            },
            "type": "choropleth"
           }
          ],
          "contour": [
           {
            "colorbar": {
             "outlinewidth": 0,
             "ticks": ""
            },
            "colorscale": [
             [
              0,
              "#0d0887"
             ],
             [
              0.1111111111111111,
              "#46039f"
             ],
             [
              0.2222222222222222,
              "#7201a8"
             ],
             [
              0.3333333333333333,
              "#9c179e"
             ],
             [
              0.4444444444444444,
              "#bd3786"
             ],
             [
              0.5555555555555556,
              "#d8576b"
             ],
             [
              0.6666666666666666,
              "#ed7953"
             ],
             [
              0.7777777777777778,
              "#fb9f3a"
             ],
             [
              0.8888888888888888,
              "#fdca26"
             ],
             [
              1,
              "#f0f921"
             ]
            ],
            "type": "contour"
           }
          ],
          "contourcarpet": [
           {
            "colorbar": {
             "outlinewidth": 0,
             "ticks": ""
            },
            "type": "contourcarpet"
           }
          ],
          "heatmap": [
           {
            "colorbar": {
             "outlinewidth": 0,
             "ticks": ""
            },
            "colorscale": [
             [
              0,
              "#0d0887"
             ],
             [
              0.1111111111111111,
              "#46039f"
             ],
             [
              0.2222222222222222,
              "#7201a8"
             ],
             [
              0.3333333333333333,
              "#9c179e"
             ],
             [
              0.4444444444444444,
              "#bd3786"
             ],
             [
              0.5555555555555556,
              "#d8576b"
             ],
             [
              0.6666666666666666,
              "#ed7953"
             ],
             [
              0.7777777777777778,
              "#fb9f3a"
             ],
             [
              0.8888888888888888,
              "#fdca26"
             ],
             [
              1,
              "#f0f921"
             ]
            ],
            "type": "heatmap"
           }
          ],
          "heatmapgl": [
           {
            "colorbar": {
             "outlinewidth": 0,
             "ticks": ""
            },
            "colorscale": [
             [
              0,
              "#0d0887"
             ],
             [
              0.1111111111111111,
              "#46039f"
             ],
             [
              0.2222222222222222,
              "#7201a8"
             ],
             [
              0.3333333333333333,
              "#9c179e"
             ],
             [
              0.4444444444444444,
              "#bd3786"
             ],
             [
              0.5555555555555556,
              "#d8576b"
             ],
             [
              0.6666666666666666,
              "#ed7953"
             ],
             [
              0.7777777777777778,
              "#fb9f3a"
             ],
             [
              0.8888888888888888,
              "#fdca26"
             ],
             [
              1,
              "#f0f921"
             ]
            ],
            "type": "heatmapgl"
           }
          ],
          "histogram": [
           {
            "marker": {
             "colorbar": {
              "outlinewidth": 0,
              "ticks": ""
             }
            },
            "type": "histogram"
           }
          ],
          "histogram2d": [
           {
            "colorbar": {
             "outlinewidth": 0,
             "ticks": ""
            },
            "colorscale": [
             [
              0,
              "#0d0887"
             ],
             [
              0.1111111111111111,
              "#46039f"
             ],
             [
              0.2222222222222222,
              "#7201a8"
             ],
             [
              0.3333333333333333,
              "#9c179e"
             ],
             [
              0.4444444444444444,
              "#bd3786"
             ],
             [
              0.5555555555555556,
              "#d8576b"
             ],
             [
              0.6666666666666666,
              "#ed7953"
             ],
             [
              0.7777777777777778,
              "#fb9f3a"
             ],
             [
              0.8888888888888888,
              "#fdca26"
             ],
             [
              1,
              "#f0f921"
             ]
            ],
            "type": "histogram2d"
           }
          ],
          "histogram2dcontour": [
           {
            "colorbar": {
             "outlinewidth": 0,
             "ticks": ""
            },
            "colorscale": [
             [
              0,
              "#0d0887"
             ],
             [
              0.1111111111111111,
              "#46039f"
             ],
             [
              0.2222222222222222,
              "#7201a8"
             ],
             [
              0.3333333333333333,
              "#9c179e"
             ],
             [
              0.4444444444444444,
              "#bd3786"
             ],
             [
              0.5555555555555556,
              "#d8576b"
             ],
             [
              0.6666666666666666,
              "#ed7953"
             ],
             [
              0.7777777777777778,
              "#fb9f3a"
             ],
             [
              0.8888888888888888,
              "#fdca26"
             ],
             [
              1,
              "#f0f921"
             ]
            ],
            "type": "histogram2dcontour"
           }
          ],
          "mesh3d": [
           {
            "colorbar": {
             "outlinewidth": 0,
             "ticks": ""
            },
            "type": "mesh3d"
           }
          ],
          "parcoords": [
           {
            "line": {
             "colorbar": {
              "outlinewidth": 0,
              "ticks": ""
             }
            },
            "type": "parcoords"
           }
          ],
          "pie": [
           {
            "automargin": true,
            "type": "pie"
           }
          ],
          "scatter": [
           {
            "marker": {
             "colorbar": {
              "outlinewidth": 0,
              "ticks": ""
             }
            },
            "type": "scatter"
           }
          ],
          "scatter3d": [
           {
            "line": {
             "colorbar": {
              "outlinewidth": 0,
              "ticks": ""
             }
            },
            "marker": {
             "colorbar": {
              "outlinewidth": 0,
              "ticks": ""
             }
            },
            "type": "scatter3d"
           }
          ],
          "scattercarpet": [
           {
            "marker": {
             "colorbar": {
              "outlinewidth": 0,
              "ticks": ""
             }
            },
            "type": "scattercarpet"
           }
          ],
          "scattergeo": [
           {
            "marker": {
             "colorbar": {
              "outlinewidth": 0,
              "ticks": ""
             }
            },
            "type": "scattergeo"
           }
          ],
          "scattergl": [
           {
            "marker": {
             "colorbar": {
              "outlinewidth": 0,
              "ticks": ""
             }
            },
            "type": "scattergl"
           }
          ],
          "scattermapbox": [
           {
            "marker": {
             "colorbar": {
              "outlinewidth": 0,
              "ticks": ""
             }
            },
            "type": "scattermapbox"
           }
          ],
          "scatterpolar": [
           {
            "marker": {
             "colorbar": {
              "outlinewidth": 0,
              "ticks": ""
             }
            },
            "type": "scatterpolar"
           }
          ],
          "scatterpolargl": [
           {
            "marker": {
             "colorbar": {
              "outlinewidth": 0,
              "ticks": ""
             }
            },
            "type": "scatterpolargl"
           }
          ],
          "scatterternary": [
           {
            "marker": {
             "colorbar": {
              "outlinewidth": 0,
              "ticks": ""
             }
            },
            "type": "scatterternary"
           }
          ],
          "surface": [
           {
            "colorbar": {
             "outlinewidth": 0,
             "ticks": ""
            },
            "colorscale": [
             [
              0,
              "#0d0887"
             ],
             [
              0.1111111111111111,
              "#46039f"
             ],
             [
              0.2222222222222222,
              "#7201a8"
             ],
             [
              0.3333333333333333,
              "#9c179e"
             ],
             [
              0.4444444444444444,
              "#bd3786"
             ],
             [
              0.5555555555555556,
              "#d8576b"
             ],
             [
              0.6666666666666666,
              "#ed7953"
             ],
             [
              0.7777777777777778,
              "#fb9f3a"
             ],
             [
              0.8888888888888888,
              "#fdca26"
             ],
             [
              1,
              "#f0f921"
             ]
            ],
            "type": "surface"
           }
          ],
          "table": [
           {
            "cells": {
             "fill": {
              "color": "#EBF0F8"
             },
             "line": {
              "color": "white"
             }
            },
            "header": {
             "fill": {
              "color": "#C8D4E3"
             },
             "line": {
              "color": "white"
             }
            },
            "type": "table"
           }
          ]
         },
         "layout": {
          "annotationdefaults": {
           "arrowcolor": "#2a3f5f",
           "arrowhead": 0,
           "arrowwidth": 1
          },
          "coloraxis": {
           "colorbar": {
            "outlinewidth": 0,
            "ticks": ""
           }
          },
          "colorscale": {
           "diverging": [
            [
             0,
             "#8e0152"
            ],
            [
             0.1,
             "#c51b7d"
            ],
            [
             0.2,
             "#de77ae"
            ],
            [
             0.3,
             "#f1b6da"
            ],
            [
             0.4,
             "#fde0ef"
            ],
            [
             0.5,
             "#f7f7f7"
            ],
            [
             0.6,
             "#e6f5d0"
            ],
            [
             0.7,
             "#b8e186"
            ],
            [
             0.8,
             "#7fbc41"
            ],
            [
             0.9,
             "#4d9221"
            ],
            [
             1,
             "#276419"
            ]
           ],
           "sequential": [
            [
             0,
             "#0d0887"
            ],
            [
             0.1111111111111111,
             "#46039f"
            ],
            [
             0.2222222222222222,
             "#7201a8"
            ],
            [
             0.3333333333333333,
             "#9c179e"
            ],
            [
             0.4444444444444444,
             "#bd3786"
            ],
            [
             0.5555555555555556,
             "#d8576b"
            ],
            [
             0.6666666666666666,
             "#ed7953"
            ],
            [
             0.7777777777777778,
             "#fb9f3a"
            ],
            [
             0.8888888888888888,
             "#fdca26"
            ],
            [
             1,
             "#f0f921"
            ]
           ],
           "sequentialminus": [
            [
             0,
             "#0d0887"
            ],
            [
             0.1111111111111111,
             "#46039f"
            ],
            [
             0.2222222222222222,
             "#7201a8"
            ],
            [
             0.3333333333333333,
             "#9c179e"
            ],
            [
             0.4444444444444444,
             "#bd3786"
            ],
            [
             0.5555555555555556,
             "#d8576b"
            ],
            [
             0.6666666666666666,
             "#ed7953"
            ],
            [
             0.7777777777777778,
             "#fb9f3a"
            ],
            [
             0.8888888888888888,
             "#fdca26"
            ],
            [
             1,
             "#f0f921"
            ]
           ]
          },
          "colorway": [
           "#636efa",
           "#EF553B",
           "#00cc96",
           "#ab63fa",
           "#FFA15A",
           "#19d3f3",
           "#FF6692",
           "#B6E880",
           "#FF97FF",
           "#FECB52"
          ],
          "font": {
           "color": "#2a3f5f"
          },
          "geo": {
           "bgcolor": "white",
           "lakecolor": "white",
           "landcolor": "#E5ECF6",
           "showlakes": true,
           "showland": true,
           "subunitcolor": "white"
          },
          "hoverlabel": {
           "align": "left"
          },
          "hovermode": "closest",
          "mapbox": {
           "style": "light"
          },
          "paper_bgcolor": "white",
          "plot_bgcolor": "#E5ECF6",
          "polar": {
           "angularaxis": {
            "gridcolor": "white",
            "linecolor": "white",
            "ticks": ""
           },
           "bgcolor": "#E5ECF6",
           "radialaxis": {
            "gridcolor": "white",
            "linecolor": "white",
            "ticks": ""
           }
          },
          "scene": {
           "xaxis": {
            "backgroundcolor": "#E5ECF6",
            "gridcolor": "white",
            "gridwidth": 2,
            "linecolor": "white",
            "showbackground": true,
            "ticks": "",
            "zerolinecolor": "white"
           },
           "yaxis": {
            "backgroundcolor": "#E5ECF6",
            "gridcolor": "white",
            "gridwidth": 2,
            "linecolor": "white",
            "showbackground": true,
            "ticks": "",
            "zerolinecolor": "white"
           },
           "zaxis": {
            "backgroundcolor": "#E5ECF6",
            "gridcolor": "white",
            "gridwidth": 2,
            "linecolor": "white",
            "showbackground": true,
            "ticks": "",
            "zerolinecolor": "white"
           }
          },
          "shapedefaults": {
           "line": {
            "color": "#2a3f5f"
           }
          },
          "ternary": {
           "aaxis": {
            "gridcolor": "white",
            "linecolor": "white",
            "ticks": ""
           },
           "baxis": {
            "gridcolor": "white",
            "linecolor": "white",
            "ticks": ""
           },
           "bgcolor": "#E5ECF6",
           "caxis": {
            "gridcolor": "white",
            "linecolor": "white",
            "ticks": ""
           }
          },
          "title": {
           "x": 0.05
          },
          "xaxis": {
           "automargin": true,
           "gridcolor": "white",
           "linecolor": "white",
           "ticks": "",
           "title": {
            "standoff": 15
           },
           "zerolinecolor": "white",
           "zerolinewidth": 2
          },
          "yaxis": {
           "automargin": true,
           "gridcolor": "white",
           "linecolor": "white",
           "ticks": "",
           "title": {
            "standoff": 15
           },
           "zerolinecolor": "white",
           "zerolinewidth": 2
          }
         }
        },
        "xaxis": {
         "anchor": "y",
         "autorange": true,
         "domain": [
          0,
          1
         ],
         "range": [
          1804.9978436863948,
          12458.436722232955
         ],
         "title": {
          "text": "count"
         },
         "type": "linear"
        },
        "yaxis": {
         "anchor": "x",
         "autorange": true,
         "domain": [
          0,
          1
         ],
         "range": [
          -0.7914059964411096,
          9.810243044664837
         ],
         "title": {
          "text": "offense_type"
         },
         "type": "category"
        }
       }
      },
      "image/png": "[encoded data removed]",
      "text/html": [
       "<div>\n",
       "        \n",
       "        \n",
       "            <div id=\"46fb669c-0e97-4190-bfd6-713dfe49461d\" class=\"plotly-graph-div\" style=\"height:525px; width:100%;\"></div>\n",
       "            <script type=\"text/javascript\">\n",
       "                require([\"plotly\"], function(Plotly) {\n",
       "                    window.PLOTLYENV=window.PLOTLYENV || {};\n",
       "                    \n",
       "                if (document.getElementById(\"46fb669c-0e97-4190-bfd6-713dfe49461d\")) {\n",
       "                    Plotly.newPlot(\n",
       "                        '46fb669c-0e97-4190-bfd6-713dfe49461d',\n",
       "                        [{\"hovertemplate\": \"year=2018.0<br>count=%{marker.size}<br>offense_type=%{y}<extra></extra>\", \"legendgroup\": \"2018.0\", \"marker\": {\"color\": \"#636efa\", \"size\": [2570, 5701, 2416, 10500, 4632, 3181, 10505, 2620, 9109, 2963], \"sizemode\": \"area\", \"sizeref\": 29.3825, \"symbol\": \"circle\"}, \"mode\": \"markers\", \"name\": \"2018.0\", \"orientation\": \"h\", \"showlegend\": true, \"type\": \"scatter\", \"x\": [2570, 5701, 2416, 10500, 4632, 3181, 10505, 2620, 9109, 2963], \"xaxis\": \"x\", \"y\": [\"ASSAULT BY CONTACT FAM/DATING\", \"ASSAULT W/INJURY-FAM/DATE VIOL\", \"AUTO THEFT\", \"BURGLARY OF VEHICLE\", \"CRIMINAL MISCHIEF\", \"DISTURBANCE - OTHER\", \"FAMILY DISTURBANCE\", \"HARASSMENT\", \"THEFT\", \"THEFT BY SHOPLIFTING\"], \"yaxis\": \"y\"}, {\"hovertemplate\": \"year=2019.0<br>count=%{marker.size}<br>offense_type=%{y}<extra></extra>\", \"legendgroup\": \"2019.0\", \"marker\": {\"color\": \"#EF553B\", \"size\": [2745, 6128, 2942, 11753, 5530, 2794, 10356, 2792, 9603, 3155], \"sizemode\": \"area\", \"sizeref\": 29.3825, \"symbol\": \"circle\"}, \"mode\": \"markers\", \"name\": \"2019.0\", \"orientation\": \"h\", \"showlegend\": true, \"type\": \"scatter\", \"x\": [2745, 6128, 2942, 11753, 5530, 2794, 10356, 2792, 9603, 3155], \"xaxis\": \"x\", \"y\": [\"ASSAULT BY CONTACT FAM/DATING\", \"ASSAULT W/INJURY-FAM/DATE VIOL\", \"AUTO THEFT\", \"BURGLARY OF VEHICLE\", \"CRIMINAL MISCHIEF\", \"DISTURBANCE - OTHER\", \"FAMILY DISTURBANCE\", \"HARASSMENT\", \"THEFT\", \"THEFT BY SHOPLIFTING\"], \"yaxis\": \"y\"}, {\"hovertemplate\": \"year=2020.0<br>count=%{marker.size}<br>offense_type=%{y}<extra></extra>\", \"legendgroup\": \"2020.0\", \"marker\": {\"color\": \"#00cc96\", \"size\": [2593, 5610, 3846, 10958, 5890, 2557, 10181, 2888, 7445, 2639], \"sizemode\": \"area\", \"sizeref\": 29.3825, \"symbol\": \"circle\"}, \"mode\": \"markers\", \"name\": \"2020.0\", \"orientation\": \"h\", \"showlegend\": true, \"type\": \"scatter\", \"x\": [2593, 5610, 3846, 10958, 5890, 2557, 10181, 2888, 7445, 2639], \"xaxis\": \"x\", \"y\": [\"ASSAULT BY CONTACT FAM/DATING\", \"ASSAULT W/INJURY-FAM/DATE VIOL\", \"AUTO THEFT\", \"BURGLARY OF VEHICLE\", \"CRIMINAL MISCHIEF\", \"DISTURBANCE - OTHER\", \"FAMILY DISTURBANCE\", \"HARASSMENT\", \"THEFT\", \"THEFT BY SHOPLIFTING\"], \"yaxis\": \"y\"}],\n",
       "                        {\"legend\": {\"itemsizing\": \"constant\", \"title\": {\"text\": \"year\"}, \"tracegroupgap\": 0}, \"margin\": {\"t\": 60}, \"template\": {\"data\": {\"bar\": [{\"error_x\": {\"color\": \"#2a3f5f\"}, \"error_y\": {\"color\": \"#2a3f5f\"}, \"marker\": {\"line\": {\"color\": \"#E5ECF6\", \"width\": 0.5}}, \"type\": \"bar\"}], \"barpolar\": [{\"marker\": {\"line\": {\"color\": \"#E5ECF6\", \"width\": 0.5}}, \"type\": \"barpolar\"}], \"carpet\": [{\"aaxis\": {\"endlinecolor\": \"#2a3f5f\", \"gridcolor\": \"white\", \"linecolor\": \"white\", \"minorgridcolor\": \"white\", \"startlinecolor\": \"#2a3f5f\"}, \"baxis\": {\"endlinecolor\": \"#2a3f5f\", \"gridcolor\": \"white\", \"linecolor\": \"white\", \"minorgridcolor\": \"white\", \"startlinecolor\": \"#2a3f5f\"}, \"type\": \"carpet\"}], \"choropleth\": [{\"colorbar\": {\"outlinewidth\": 0, \"ticks\": \"\"}, \"type\": \"choropleth\"}], \"contour\": [{\"colorbar\": {\"outlinewidth\": 0, \"ticks\": \"\"}, \"colorscale\": [[0.0, \"#0d0887\"], [0.1111111111111111, \"#46039f\"], [0.2222222222222222, \"#7201a8\"], [0.3333333333333333, \"#9c179e\"], [0.4444444444444444, \"#bd3786\"], [0.5555555555555556, \"#d8576b\"], [0.6666666666666666, \"#ed7953\"], [0.7777777777777778, \"#fb9f3a\"], [0.8888888888888888, \"#fdca26\"], [1.0, \"#f0f921\"]], \"type\": \"contour\"}], \"contourcarpet\": [{\"colorbar\": {\"outlinewidth\": 0, \"ticks\": \"\"}, \"type\": \"contourcarpet\"}], \"heatmap\": [{\"colorbar\": {\"outlinewidth\": 0, \"ticks\": \"\"}, \"colorscale\": [[0.0, \"#0d0887\"], [0.1111111111111111, \"#46039f\"], [0.2222222222222222, \"#7201a8\"], [0.3333333333333333, \"#9c179e\"], [0.4444444444444444, \"#bd3786\"], [0.5555555555555556, \"#d8576b\"], [0.6666666666666666, \"#ed7953\"], [0.7777777777777778, \"#fb9f3a\"], [0.8888888888888888, \"#fdca26\"], [1.0, \"#f0f921\"]], \"type\": \"heatmap\"}], \"heatmapgl\": [{\"colorbar\": {\"outlinewidth\": 0, \"ticks\": \"\"}, \"colorscale\": [[0.0, \"#0d0887\"], [0.1111111111111111, \"#46039f\"], [0.2222222222222222, \"#7201a8\"], [0.3333333333333333, \"#9c179e\"], [0.4444444444444444, \"#bd3786\"], [0.5555555555555556, \"#d8576b\"], [0.6666666666666666, \"#ed7953\"], [0.7777777777777778, \"#fb9f3a\"], [0.8888888888888888, \"#fdca26\"], [1.0, \"#f0f921\"]], \"type\": \"heatmapgl\"}], \"histogram\": [{\"marker\": {\"colorbar\": {\"outlinewidth\": 0, \"ticks\": \"\"}}, \"type\": \"histogram\"}], \"histogram2d\": [{\"colorbar\": {\"outlinewidth\": 0, \"ticks\": \"\"}, \"colorscale\": [[0.0, \"#0d0887\"], [0.1111111111111111, \"#46039f\"], [0.2222222222222222, \"#7201a8\"], [0.3333333333333333, \"#9c179e\"], [0.4444444444444444, \"#bd3786\"], [0.5555555555555556, \"#d8576b\"], [0.6666666666666666, \"#ed7953\"], [0.7777777777777778, \"#fb9f3a\"], [0.8888888888888888, \"#fdca26\"], [1.0, \"#f0f921\"]], \"type\": \"histogram2d\"}], \"histogram2dcontour\": [{\"colorbar\": {\"outlinewidth\": 0, \"ticks\": \"\"}, \"colorscale\": [[0.0, \"#0d0887\"], [0.1111111111111111, \"#46039f\"], [0.2222222222222222, \"#7201a8\"], [0.3333333333333333, \"#9c179e\"], [0.4444444444444444, \"#bd3786\"], [0.5555555555555556, \"#d8576b\"], [0.6666666666666666, \"#ed7953\"], [0.7777777777777778, \"#fb9f3a\"], [0.8888888888888888, \"#fdca26\"], [1.0, \"#f0f921\"]], \"type\": \"histogram2dcontour\"}], \"mesh3d\": [{\"colorbar\": {\"outlinewidth\": 0, \"ticks\": \"\"}, \"type\": \"mesh3d\"}], \"parcoords\": [{\"line\": {\"colorbar\": {\"outlinewidth\": 0, \"ticks\": \"\"}}, \"type\": \"parcoords\"}], \"pie\": [{\"automargin\": true, \"type\": \"pie\"}], \"scatter\": [{\"marker\": {\"colorbar\": {\"outlinewidth\": 0, \"ticks\": \"\"}}, \"type\": \"scatter\"}], \"scatter3d\": [{\"line\": {\"colorbar\": {\"outlinewidth\": 0, \"ticks\": \"\"}}, \"marker\": {\"colorbar\": {\"outlinewidth\": 0, \"ticks\": \"\"}}, \"type\": \"scatter3d\"}], \"scattercarpet\": [{\"marker\": {\"colorbar\": {\"outlinewidth\": 0, \"ticks\": \"\"}}, \"type\": \"scattercarpet\"}], \"scattergeo\": [{\"marker\": {\"colorbar\": {\"outlinewidth\": 0, \"ticks\": \"\"}}, \"type\": \"scattergeo\"}], \"scattergl\": [{\"marker\": {\"colorbar\": {\"outlinewidth\": 0, \"ticks\": \"\"}}, \"type\": \"scattergl\"}], \"scattermapbox\": [{\"marker\": {\"colorbar\": {\"outlinewidth\": 0, \"ticks\": \"\"}}, \"type\": \"scattermapbox\"}], \"scatterpolar\": [{\"marker\": {\"colorbar\": {\"outlinewidth\": 0, \"ticks\": \"\"}}, \"type\": \"scatterpolar\"}], \"scatterpolargl\": [{\"marker\": {\"colorbar\": {\"outlinewidth\": 0, \"ticks\": \"\"}}, \"type\": \"scatterpolargl\"}], \"scatterternary\": [{\"marker\": {\"colorbar\": {\"outlinewidth\": 0, \"ticks\": \"\"}}, \"type\": \"scatterternary\"}], \"surface\": [{\"colorbar\": {\"outlinewidth\": 0, \"ticks\": \"\"}, \"colorscale\": [[0.0, \"#0d0887\"], [0.1111111111111111, \"#46039f\"], [0.2222222222222222, \"#7201a8\"], [0.3333333333333333, \"#9c179e\"], [0.4444444444444444, \"#bd3786\"], [0.5555555555555556, \"#d8576b\"], [0.6666666666666666, \"#ed7953\"], [0.7777777777777778, \"#fb9f3a\"], [0.8888888888888888, \"#fdca26\"], [1.0, \"#f0f921\"]], \"type\": \"surface\"}], \"table\": [{\"cells\": {\"fill\": {\"color\": \"#EBF0F8\"}, \"line\": {\"color\": \"white\"}}, \"header\": {\"fill\": {\"color\": \"#C8D4E3\"}, \"line\": {\"color\": \"white\"}}, \"type\": \"table\"}]}, \"layout\": {\"annotationdefaults\": {\"arrowcolor\": \"#2a3f5f\", \"arrowhead\": 0, \"arrowwidth\": 1}, \"coloraxis\": {\"colorbar\": {\"outlinewidth\": 0, \"ticks\": \"\"}}, \"colorscale\": {\"diverging\": [[0, \"#8e0152\"], [0.1, \"#c51b7d\"], [0.2, \"#de77ae\"], [0.3, \"#f1b6da\"], [0.4, \"#fde0ef\"], [0.5, \"#f7f7f7\"], [0.6, \"#e6f5d0\"], [0.7, \"#b8e186\"], [0.8, \"#7fbc41\"], [0.9, \"#4d9221\"], [1, \"#276419\"]], \"sequential\": [[0.0, \"#0d0887\"], [0.1111111111111111, \"#46039f\"], [0.2222222222222222, \"#7201a8\"], [0.3333333333333333, \"#9c179e\"], [0.4444444444444444, \"#bd3786\"], [0.5555555555555556, \"#d8576b\"], [0.6666666666666666, \"#ed7953\"], [0.7777777777777778, \"#fb9f3a\"], [0.8888888888888888, \"#fdca26\"], [1.0, \"#f0f921\"]], \"sequentialminus\": [[0.0, \"#0d0887\"], [0.1111111111111111, \"#46039f\"], [0.2222222222222222, \"#7201a8\"], [0.3333333333333333, \"#9c179e\"], [0.4444444444444444, \"#bd3786\"], [0.5555555555555556, \"#d8576b\"], [0.6666666666666666, \"#ed7953\"], [0.7777777777777778, \"#fb9f3a\"], [0.8888888888888888, \"#fdca26\"], [1.0, \"#f0f921\"]]}, \"colorway\": [\"#636efa\", \"#EF553B\", \"#00cc96\", \"#ab63fa\", \"#FFA15A\", \"#19d3f3\", \"#FF6692\", \"#B6E880\", \"#FF97FF\", \"#FECB52\"], \"font\": {\"color\": \"#2a3f5f\"}, \"geo\": {\"bgcolor\": \"white\", \"lakecolor\": \"white\", \"landcolor\": \"#E5ECF6\", \"showlakes\": true, \"showland\": true, \"subunitcolor\": \"white\"}, \"hoverlabel\": {\"align\": \"left\"}, \"hovermode\": \"closest\", \"mapbox\": {\"style\": \"light\"}, \"paper_bgcolor\": \"white\", \"plot_bgcolor\": \"#E5ECF6\", \"polar\": {\"angularaxis\": {\"gridcolor\": \"white\", \"linecolor\": \"white\", \"ticks\": \"\"}, \"bgcolor\": \"#E5ECF6\", \"radialaxis\": {\"gridcolor\": \"white\", \"linecolor\": \"white\", \"ticks\": \"\"}}, \"scene\": {\"xaxis\": {\"backgroundcolor\": \"#E5ECF6\", \"gridcolor\": \"white\", \"gridwidth\": 2, \"linecolor\": \"white\", \"showbackground\": true, \"ticks\": \"\", \"zerolinecolor\": \"white\"}, \"yaxis\": {\"backgroundcolor\": \"#E5ECF6\", \"gridcolor\": \"white\", \"gridwidth\": 2, \"linecolor\": \"white\", \"showbackground\": true, \"ticks\": \"\", \"zerolinecolor\": \"white\"}, \"zaxis\": {\"backgroundcolor\": \"#E5ECF6\", \"gridcolor\": \"white\", \"gridwidth\": 2, \"linecolor\": \"white\", \"showbackground\": true, \"ticks\": \"\", \"zerolinecolor\": \"white\"}}, \"shapedefaults\": {\"line\": {\"color\": \"#2a3f5f\"}}, \"ternary\": {\"aaxis\": {\"gridcolor\": \"white\", \"linecolor\": \"white\", \"ticks\": \"\"}, \"baxis\": {\"gridcolor\": \"white\", \"linecolor\": \"white\", \"ticks\": \"\"}, \"bgcolor\": \"#E5ECF6\", \"caxis\": {\"gridcolor\": \"white\", \"linecolor\": \"white\", \"ticks\": \"\"}}, \"title\": {\"x\": 0.05}, \"xaxis\": {\"automargin\": true, \"gridcolor\": \"white\", \"linecolor\": \"white\", \"ticks\": \"\", \"title\": {\"standoff\": 15}, \"zerolinecolor\": \"white\", \"zerolinewidth\": 2}, \"yaxis\": {\"automargin\": true, \"gridcolor\": \"white\", \"linecolor\": \"white\", \"ticks\": \"\", \"title\": {\"standoff\": 15}, \"zerolinecolor\": \"white\", \"zerolinewidth\": 2}}}, \"xaxis\": {\"anchor\": \"y\", \"domain\": [0.0, 1.0], \"title\": {\"text\": \"count\"}}, \"yaxis\": {\"anchor\": \"x\", \"domain\": [0.0, 1.0], \"title\": {\"text\": \"offense_type\"}}},\n",
       "                        {\"responsive\": true}\n",
       "                    ).then(function(){\n",
       "                            \n",
       "var gd = document.getElementById('46fb669c-0e97-4190-bfd6-713dfe49461d');\n",
       "var x = new MutationObserver(function (mutations, observer) {{\n",
       "        var display = window.getComputedStyle(gd).display;\n",
       "        if (!display || display === 'none') {{\n",
       "            console.log([gd, 'removed!']);\n",
       "            Plotly.purge(gd);\n",
       "            observer.disconnect();\n",
       "        }}\n",
       "}});\n",
       "\n",
       "// Listen for the removal of the full notebook cells\n",
       "var notebookContainer = gd.closest('#notebook-container');\n",
       "if (notebookContainer) {{\n",
       "    x.observe(notebookContainer, {childList: true});\n",
       "}}\n",
       "\n",
       "// Listen for the clearing of the current output cell\n",
       "var outputEl = gd.closest('.output');\n",
       "if (outputEl) {{\n",
       "    x.observe(outputEl, {childList: true});\n",
       "}}\n",
       "\n",
       "                        })\n",
       "                };\n",
       "                });\n",
       "            </script>\n",
       "        </div>"
      ]
     },
     "metadata": {},
     "output_type": "display_data"
    }
   ],
   "source": [
    "import plotly.express as px\n",
    "df = px.data.iris()\n",
    "fig = px.scatter(top_category_year, x='count', y='offense_type',\n",
    "                 size='count', color='year' )\n",
    "fig.show()"
   ]
  },
  {
   "cell_type": "code",
   "execution_count": 2,
   "id": "roman-backup",
   "metadata": {
    "execution": {
     "iopub.execute_input": "2021-03-29T23:43:20.008422Z",
     "iopub.status.busy": "2021-03-29T23:43:20.008422Z",
     "iopub.status.idle": "2021-03-29T23:43:20.073022Z",
     "shell.execute_reply": "2021-03-29T23:43:20.072026Z",
     "shell.execute_reply.started": "2021-03-29T23:43:20.008422Z"
    }
   },
   "outputs": [],
   "source": [
    "crime_day_2018 = pd.read_csv('crime_day_18.csv')\n",
    "crime_day_2019 = pd.read_csv('crime_day_18.csv')\n",
    "crime_day_2020 = pd.read_csv('crime_day_18.csv')"
   ]
  },
  {
   "cell_type": "code",
   "execution_count": 31,
   "id": "novel-short",
   "metadata": {
    "execution": {
     "iopub.execute_input": "2021-03-30T00:09:32.296456Z",
     "iopub.status.busy": "2021-03-30T00:09:32.296456Z",
     "iopub.status.idle": "2021-03-30T00:09:32.301500Z",
     "shell.execute_reply": "2021-03-30T00:09:32.301500Z",
     "shell.execute_reply.started": "2021-03-30T00:09:32.296456Z"
    }
   },
   "outputs": [
    {
     "data": {
      "text/plain": [
       "{3: 2}"
      ]
     },
     "execution_count": 31,
     "metadata": {},
     "output_type": "execute_result"
    }
   ],
   "source": [
    "dict({3:2})"
   ]
  },
  {
   "cell_type": "code",
   "execution_count": null,
   "id": "alive-haiti",
   "metadata": {},
   "outputs": [],
   "source": [
    "hours = ['1am',2am]"
   ]
  },
  {
   "cell_type": "code",
   "execution_count": null,
   "id": "functioning-bullet",
   "metadata": {},
   "outputs": [],
   "source": [
    "hour_map = [dict({i} for i in crime_day_2018['hour'].unique()]"
   ]
  },
  {
   "cell_type": "code",
   "execution_count": null,
   "id": "demographic-generator",
   "metadata": {},
   "outputs": [],
   "source": [
    "#mapper \n",
    "hour_ma = {\n",
    "    \n",
    "}"
   ]
  },
  {
   "cell_type": "code",
   "execution_count": 15,
   "id": "technical-petite",
   "metadata": {
    "execution": {
     "iopub.execute_input": "2021-03-29T23:59:45.447412Z",
     "iopub.status.busy": "2021-03-29T23:59:45.447412Z",
     "iopub.status.idle": "2021-03-29T23:59:45.480324Z",
     "shell.execute_reply": "2021-03-29T23:59:45.479329Z",
     "shell.execute_reply.started": "2021-03-29T23:59:45.447412Z"
    }
   },
   "outputs": [],
   "source": []
  },
  {
   "cell_type": "code",
   "execution_count": 82,
   "id": "commercial-maker",
   "metadata": {
    "execution": {
     "iopub.execute_input": "2021-03-30T02:26:54.285134Z",
     "iopub.status.busy": "2021-03-30T02:26:54.285134Z",
     "iopub.status.idle": "2021-03-30T02:26:54.292116Z",
     "shell.execute_reply": "2021-03-30T02:26:54.291120Z",
     "shell.execute_reply.started": "2021-03-30T02:26:54.285134Z"
    }
   },
   "outputs": [],
   "source": [
    "crime_day_2018['hour'] = crime_day_2018['hour'].astype(str)\n",
    "crime_day_2019['hour'] = crime_day_2019['hour'].astype(str)\n",
    "crime_day_2020['hour'] = crime_day_2020['hour'].astype(str)"
   ]
  },
  {
   "cell_type": "code",
   "execution_count": 83,
   "id": "polar-ownership",
   "metadata": {
    "execution": {
     "iopub.execute_input": "2021-03-30T02:26:55.623011Z",
     "iopub.status.busy": "2021-03-30T02:26:55.623011Z",
     "iopub.status.idle": "2021-03-30T02:26:55.630990Z",
     "shell.execute_reply": "2021-03-30T02:26:55.629992Z",
     "shell.execute_reply.started": "2021-03-30T02:26:55.623011Z"
    }
   },
   "outputs": [],
   "source": [
    "crime_day_2018['hour'] = crime_day_2018['hour'].apply(lambda x: x +''+'t')\n",
    "crime_day_2019['hour'] = crime_day_2019['hour'].apply(lambda x: x +''+'t')\n",
    "crime_day_2020['hour'] = crime_day_2020['hour'].apply(lambda x: x +''+'t')"
   ]
  },
  {
   "cell_type": "code",
   "execution_count": 84,
   "id": "violent-behavior",
   "metadata": {
    "execution": {
     "iopub.execute_input": "2021-03-30T02:33:54.989822Z",
     "iopub.status.busy": "2021-03-30T02:33:54.988823Z",
     "iopub.status.idle": "2021-03-30T02:33:54.998798Z",
     "shell.execute_reply": "2021-03-30T02:33:54.998798Z",
     "shell.execute_reply.started": "2021-03-30T02:33:54.989822Z"
    }
   },
   "outputs": [],
   "source": [
    "all_crime_day = pd.read_csv('all_crime_day.csv')"
   ]
  },
  {
   "cell_type": "code",
   "execution_count": 113,
   "id": "upper-forestry",
   "metadata": {
    "execution": {
     "iopub.execute_input": "2021-03-30T03:01:09.888333Z",
     "iopub.status.busy": "2021-03-30T03:01:09.888333Z",
     "iopub.status.idle": "2021-03-30T03:01:09.921378Z",
     "shell.execute_reply": "2021-03-30T03:01:09.920418Z",
     "shell.execute_reply.started": "2021-03-30T03:01:09.888333Z"
    }
   },
   "outputs": [],
   "source": [
    "all_crime_day['hour'] = all_crime_day['hour'].astype(str)\n",
    "all_crime_day['hour'] = all_crime_day['hour'].apply(lambda x: x +''+'t')"
   ]
  },
  {
   "cell_type": "code",
   "execution_count": 116,
   "id": "biological-suffering",
   "metadata": {
    "execution": {
     "iopub.execute_input": "2021-03-30T03:01:27.517958Z",
     "iopub.status.busy": "2021-03-30T03:01:27.517958Z",
     "iopub.status.idle": "2021-03-30T03:01:27.594752Z",
     "shell.execute_reply": "2021-03-30T03:01:27.594752Z",
     "shell.execute_reply.started": "2021-03-30T03:01:27.517958Z"
    }
   },
   "outputs": [
    {
     "data": {
      "application/vnd.plotly.v1+json": {
       "config": {
        "plotlyServerURL": "https://plotly.com"
       },
       "data": [
        {
         "coloraxis": "coloraxis",
         "histfunc": "sum",
         "hovertemplate": "year=2018.0<br>day=%{x}<br>hour=%{y}<br>sum of count=%{z}<extra></extra>",
         "name": "",
         "nbinsy": 24,
         "type": "histogram2d",
         "x": [
          "FRI",
          "FRI",
          "FRI",
          "FRI",
          "FRI",
          "FRI",
          "FRI",
          "FRI",
          "FRI",
          "FRI",
          "FRI",
          "FRI",
          "FRI",
          "FRI",
          "FRI",
          "FRI",
          "FRI",
          "FRI",
          "FRI",
          "FRI",
          "FRI",
          "FRI",
          "FRI",
          "FRI",
          "MON",
          "MON",
          "MON",
          "MON",
          "MON",
          "MON",
          "MON",
          "MON",
          "MON",
          "MON",
          "MON",
          "MON",
          "MON",
          "MON",
          "MON",
          "MON",
          "MON",
          "MON",
          "MON",
          "MON",
          "MON",
          "MON",
          "MON",
          "MON",
          "SAT",
          "SAT",
          "SAT",
          "SAT",
          "SAT",
          "SAT",
          "SAT",
          "SAT",
          "SAT",
          "SAT",
          "SAT",
          "SAT",
          "SAT",
          "SAT",
          "SAT",
          "SAT",
          "SAT",
          "SAT",
          "SAT",
          "SAT",
          "SAT",
          "SAT",
          "SAT",
          "SAT",
          "SUN",
          "SUN",
          "SUN",
          "SUN",
          "SUN",
          "SUN",
          "SUN",
          "SUN",
          "SUN",
          "SUN",
          "SUN",
          "SUN",
          "SUN",
          "SUN",
          "SUN",
          "SUN",
          "SUN",
          "SUN",
          "SUN",
          "SUN",
          "SUN",
          "SUN",
          "SUN",
          "SUN",
          "THU",
          "THU",
          "THU",
          "THU",
          "THU",
          "THU",
          "THU",
          "THU",
          "THU",
          "THU",
          "THU",
          "THU",
          "THU",
          "THU",
          "THU",
          "THU",
          "THU",
          "THU",
          "THU",
          "THU",
          "THU",
          "THU",
          "THU",
          "THU",
          "TUE",
          "TUE",
          "TUE",
          "TUE",
          "TUE",
          "TUE",
          "TUE",
          "TUE",
          "TUE",
          "TUE",
          "TUE",
          "TUE",
          "TUE",
          "TUE",
          "TUE",
          "TUE",
          "TUE",
          "TUE",
          "TUE",
          "TUE",
          "TUE",
          "TUE",
          "TUE",
          "TUE",
          "WED",
          "WED",
          "WED",
          "WED",
          "WED",
          "WED",
          "WED",
          "WED",
          "WED",
          "WED",
          "WED",
          "WED",
          "WED",
          "WED",
          "WED",
          "WED",
          "WED",
          "WED",
          "WED",
          "WED",
          "WED",
          "WED",
          "WED",
          "WED"
         ],
         "xaxis": "x",
         "xbingroup": "x",
         "y": [
          "0.0t",
          "1.0t",
          "2.0t",
          "3.0t",
          "4.0t",
          "5.0t",
          "6.0t",
          "7.0t",
          "8.0t",
          "9.0t",
          "10.0t",
          "11.0t",
          "12.0t",
          "13.0t",
          "14.0t",
          "15.0t",
          "16.0t",
          "17.0t",
          "18.0t",
          "19.0t",
          "20.0t",
          "21.0t",
          "22.0t",
          "23.0t",
          "0.0t",
          "1.0t",
          "2.0t",
          "3.0t",
          "4.0t",
          "5.0t",
          "6.0t",
          "7.0t",
          "8.0t",
          "9.0t",
          "10.0t",
          "11.0t",
          "12.0t",
          "13.0t",
          "14.0t",
          "15.0t",
          "16.0t",
          "17.0t",
          "18.0t",
          "19.0t",
          "20.0t",
          "21.0t",
          "22.0t",
          "23.0t",
          "0.0t",
          "1.0t",
          "2.0t",
          "3.0t",
          "4.0t",
          "5.0t",
          "6.0t",
          "7.0t",
          "8.0t",
          "9.0t",
          "10.0t",
          "11.0t",
          "12.0t",
          "13.0t",
          "14.0t",
          "15.0t",
          "16.0t",
          "17.0t",
          "18.0t",
          "19.0t",
          "20.0t",
          "21.0t",
          "22.0t",
          "23.0t",
          "0.0t",
          "1.0t",
          "2.0t",
          "3.0t",
          "4.0t",
          "5.0t",
          "6.0t",
          "7.0t",
          "8.0t",
          "9.0t",
          "10.0t",
          "11.0t",
          "12.0t",
          "13.0t",
          "14.0t",
          "15.0t",
          "16.0t",
          "17.0t",
          "18.0t",
          "19.0t",
          "20.0t",
          "21.0t",
          "22.0t",
          "23.0t",
          "0.0t",
          "1.0t",
          "2.0t",
          "3.0t",
          "4.0t",
          "5.0t",
          "6.0t",
          "7.0t",
          "8.0t",
          "9.0t",
          "10.0t",
          "11.0t",
          "12.0t",
          "13.0t",
          "14.0t",
          "15.0t",
          "16.0t",
          "17.0t",
          "18.0t",
          "19.0t",
          "20.0t",
          "21.0t",
          "22.0t",
          "23.0t",
          "0.0t",
          "1.0t",
          "2.0t",
          "3.0t",
          "4.0t",
          "5.0t",
          "6.0t",
          "7.0t",
          "8.0t",
          "9.0t",
          "10.0t",
          "11.0t",
          "12.0t",
          "13.0t",
          "14.0t",
          "15.0t",
          "16.0t",
          "17.0t",
          "18.0t",
          "19.0t",
          "20.0t",
          "21.0t",
          "22.0t",
          "23.0t",
          "0.0t",
          "1.0t",
          "2.0t",
          "3.0t",
          "4.0t",
          "5.0t",
          "6.0t",
          "7.0t",
          "8.0t",
          "9.0t",
          "10.0t",
          "11.0t",
          "12.0t",
          "13.0t",
          "14.0t",
          "15.0t",
          "16.0t",
          "17.0t",
          "18.0t",
          "19.0t",
          "20.0t",
          "21.0t",
          "22.0t",
          "23.0t"
         ],
         "yaxis": "y",
         "ybingroup": "y",
         "z": [
          828,
          602,
          540,
          336,
          231,
          175,
          183,
          290,
          473,
          438,
          556,
          565,
          1099,
          632,
          662,
          709,
          692,
          868,
          980,
          789,
          816,
          825,
          826,
          829,
          856,
          453,
          473,
          294,
          200,
          188,
          199,
          286,
          452,
          452,
          529,
          536,
          1091,
          547,
          615,
          689,
          759,
          841,
          908,
          864,
          817,
          774,
          865,
          666,
          961,
          681,
          762,
          512,
          340,
          235,
          172,
          225,
          330,
          396,
          520,
          469,
          894,
          565,
          625,
          659,
          680,
          784,
          767,
          746,
          838,
          787,
          855,
          806,
          980,
          797,
          749,
          546,
          322,
          261,
          187,
          209,
          273,
          341,
          391,
          390,
          785,
          475,
          490,
          592,
          617,
          740,
          829,
          724,
          797,
          750,
          827,
          726,
          702,
          460,
          450,
          314,
          214,
          160,
          224,
          260,
          420,
          417,
          527,
          503,
          1055,
          606,
          632,
          647,
          700,
          735,
          876,
          822,
          885,
          839,
          869,
          779,
          731,
          412,
          361,
          239,
          205,
          188,
          171,
          279,
          437,
          442,
          482,
          541,
          971,
          593,
          619,
          617,
          677,
          815,
          824,
          853,
          849,
          814,
          857,
          672,
          708,
          490,
          396,
          283,
          191,
          146,
          190,
          311,
          434,
          459,
          508,
          524,
          1009,
          580,
          596,
          643,
          693,
          814,
          848,
          860,
          846,
          795,
          877,
          666
         ]
        },
        {
         "coloraxis": "coloraxis",
         "histfunc": "sum",
         "hovertemplate": "year=2019.0<br>day=%{x}<br>hour=%{y}<br>sum of count=%{z}<extra></extra>",
         "name": "",
         "nbinsy": 24,
         "type": "histogram2d",
         "x": [
          "FRI",
          "FRI",
          "FRI",
          "FRI",
          "FRI",
          "FRI",
          "FRI",
          "FRI",
          "FRI",
          "FRI",
          "FRI",
          "FRI",
          "FRI",
          "FRI",
          "FRI",
          "FRI",
          "FRI",
          "FRI",
          "FRI",
          "FRI",
          "FRI",
          "FRI",
          "FRI",
          "FRI",
          "MON",
          "MON",
          "MON",
          "MON",
          "MON",
          "MON",
          "MON",
          "MON",
          "MON",
          "MON",
          "MON",
          "MON",
          "MON",
          "MON",
          "MON",
          "MON",
          "MON",
          "MON",
          "MON",
          "MON",
          "MON",
          "MON",
          "MON",
          "MON",
          "SAT",
          "SAT",
          "SAT",
          "SAT",
          "SAT",
          "SAT",
          "SAT",
          "SAT",
          "SAT",
          "SAT",
          "SAT",
          "SAT",
          "SAT",
          "SAT",
          "SAT",
          "SAT",
          "SAT",
          "SAT",
          "SAT",
          "SAT",
          "SAT",
          "SAT",
          "SAT",
          "SAT",
          "SUN",
          "SUN",
          "SUN",
          "SUN",
          "SUN",
          "SUN",
          "SUN",
          "SUN",
          "SUN",
          "SUN",
          "SUN",
          "SUN",
          "SUN",
          "SUN",
          "SUN",
          "SUN",
          "SUN",
          "SUN",
          "SUN",
          "SUN",
          "SUN",
          "SUN",
          "SUN",
          "SUN",
          "THU",
          "THU",
          "THU",
          "THU",
          "THU",
          "THU",
          "THU",
          "THU",
          "THU",
          "THU",
          "THU",
          "THU",
          "THU",
          "THU",
          "THU",
          "THU",
          "THU",
          "THU",
          "THU",
          "THU",
          "THU",
          "THU",
          "THU",
          "THU",
          "TUE",
          "TUE",
          "TUE",
          "TUE",
          "TUE",
          "TUE",
          "TUE",
          "TUE",
          "TUE",
          "TUE",
          "TUE",
          "TUE",
          "TUE",
          "TUE",
          "TUE",
          "TUE",
          "TUE",
          "TUE",
          "TUE",
          "TUE",
          "TUE",
          "TUE",
          "TUE",
          "TUE",
          "WED",
          "WED",
          "WED",
          "WED",
          "WED",
          "WED",
          "WED",
          "WED",
          "WED",
          "WED",
          "WED",
          "WED",
          "WED",
          "WED",
          "WED",
          "WED",
          "WED",
          "WED",
          "WED",
          "WED",
          "WED",
          "WED",
          "WED",
          "WED"
         ],
         "xaxis": "x2",
         "xbingroup": "x",
         "y": [
          "0.0t",
          "1.0t",
          "2.0t",
          "3.0t",
          "4.0t",
          "5.0t",
          "6.0t",
          "7.0t",
          "8.0t",
          "9.0t",
          "10.0t",
          "11.0t",
          "12.0t",
          "13.0t",
          "14.0t",
          "15.0t",
          "16.0t",
          "17.0t",
          "18.0t",
          "19.0t",
          "20.0t",
          "21.0t",
          "22.0t",
          "23.0t",
          "0.0t",
          "1.0t",
          "2.0t",
          "3.0t",
          "4.0t",
          "5.0t",
          "6.0t",
          "7.0t",
          "8.0t",
          "9.0t",
          "10.0t",
          "11.0t",
          "12.0t",
          "13.0t",
          "14.0t",
          "15.0t",
          "16.0t",
          "17.0t",
          "18.0t",
          "19.0t",
          "20.0t",
          "21.0t",
          "22.0t",
          "23.0t",
          "0.0t",
          "1.0t",
          "2.0t",
          "3.0t",
          "4.0t",
          "5.0t",
          "6.0t",
          "7.0t",
          "8.0t",
          "9.0t",
          "10.0t",
          "11.0t",
          "12.0t",
          "13.0t",
          "14.0t",
          "15.0t",
          "16.0t",
          "17.0t",
          "18.0t",
          "19.0t",
          "20.0t",
          "21.0t",
          "22.0t",
          "23.0t",
          "0.0t",
          "1.0t",
          "2.0t",
          "3.0t",
          "4.0t",
          "5.0t",
          "6.0t",
          "7.0t",
          "8.0t",
          "9.0t",
          "10.0t",
          "11.0t",
          "12.0t",
          "13.0t",
          "14.0t",
          "15.0t",
          "16.0t",
          "17.0t",
          "18.0t",
          "19.0t",
          "20.0t",
          "21.0t",
          "22.0t",
          "23.0t",
          "0.0t",
          "1.0t",
          "2.0t",
          "3.0t",
          "4.0t",
          "5.0t",
          "6.0t",
          "7.0t",
          "8.0t",
          "9.0t",
          "10.0t",
          "11.0t",
          "12.0t",
          "13.0t",
          "14.0t",
          "15.0t",
          "16.0t",
          "17.0t",
          "18.0t",
          "19.0t",
          "20.0t",
          "21.0t",
          "22.0t",
          "23.0t",
          "0.0t",
          "1.0t",
          "2.0t",
          "3.0t",
          "4.0t",
          "5.0t",
          "6.0t",
          "7.0t",
          "8.0t",
          "9.0t",
          "10.0t",
          "11.0t",
          "12.0t",
          "13.0t",
          "14.0t",
          "15.0t",
          "16.0t",
          "17.0t",
          "18.0t",
          "19.0t",
          "20.0t",
          "21.0t",
          "22.0t",
          "23.0t",
          "0.0t",
          "1.0t",
          "2.0t",
          "3.0t",
          "4.0t",
          "5.0t",
          "6.0t",
          "7.0t",
          "8.0t",
          "9.0t",
          "10.0t",
          "11.0t",
          "12.0t",
          "13.0t",
          "14.0t",
          "15.0t",
          "16.0t",
          "17.0t",
          "18.0t",
          "19.0t",
          "20.0t",
          "21.0t",
          "22.0t",
          "23.0t"
         ],
         "yaxis": "y2",
         "ybingroup": "y",
         "z": [
          1035,
          538,
          632,
          352,
          257,
          183,
          206,
          314,
          467,
          455,
          612,
          597,
          1047,
          676,
          703,
          782,
          821,
          964,
          1101,
          852,
          958,
          837,
          944,
          880,
          960,
          462,
          522,
          303,
          242,
          178,
          225,
          371,
          501,
          473,
          566,
          578,
          1066,
          665,
          689,
          732,
          755,
          913,
          940,
          841,
          834,
          803,
          835,
          632,
          1065,
          794,
          723,
          479,
          308,
          212,
          194,
          251,
          370,
          446,
          519,
          550,
          843,
          507,
          630,
          738,
          688,
          798,
          864,
          812,
          821,
          855,
          914,
          880,
          1145,
          790,
          822,
          554,
          372,
          257,
          208,
          227,
          355,
          406,
          431,
          453,
          793,
          494,
          583,
          626,
          696,
          766,
          903,
          800,
          820,
          863,
          910,
          729,
          814,
          440,
          477,
          276,
          255,
          196,
          215,
          306,
          424,
          464,
          553,
          547,
          947,
          619,
          620,
          696,
          738,
          811,
          912,
          830,
          837,
          831,
          849,
          706,
          889,
          426,
          465,
          310,
          220,
          200,
          204,
          297,
          467,
          480,
          541,
          562,
          1057,
          662,
          667,
          697,
          688,
          841,
          934,
          858,
          899,
          857,
          840,
          686,
          818,
          442,
          459,
          296,
          189,
          174,
          234,
          338,
          434,
          421,
          563,
          518,
          943,
          630,
          695,
          705,
          787,
          863,
          858,
          843,
          856,
          820,
          813,
          670
         ]
        },
        {
         "coloraxis": "coloraxis",
         "histfunc": "sum",
         "hovertemplate": "year=2020.0<br>day=%{x}<br>hour=%{y}<br>sum of count=%{z}<extra></extra>",
         "name": "",
         "nbinsy": 24,
         "type": "histogram2d",
         "x": [
          "FRI",
          "FRI",
          "FRI",
          "FRI",
          "FRI",
          "FRI",
          "FRI",
          "FRI",
          "FRI",
          "FRI",
          "FRI",
          "FRI",
          "FRI",
          "FRI",
          "FRI",
          "FRI",
          "FRI",
          "FRI",
          "FRI",
          "FRI",
          "FRI",
          "FRI",
          "FRI",
          "FRI",
          "MON",
          "MON",
          "MON",
          "MON",
          "MON",
          "MON",
          "MON",
          "MON",
          "MON",
          "MON",
          "MON",
          "MON",
          "MON",
          "MON",
          "MON",
          "MON",
          "MON",
          "MON",
          "MON",
          "MON",
          "MON",
          "MON",
          "MON",
          "MON",
          "SAT",
          "SAT",
          "SAT",
          "SAT",
          "SAT",
          "SAT",
          "SAT",
          "SAT",
          "SAT",
          "SAT",
          "SAT",
          "SAT",
          "SAT",
          "SAT",
          "SAT",
          "SAT",
          "SAT",
          "SAT",
          "SAT",
          "SAT",
          "SAT",
          "SAT",
          "SAT",
          "SAT",
          "SUN",
          "SUN",
          "SUN",
          "SUN",
          "SUN",
          "SUN",
          "SUN",
          "SUN",
          "SUN",
          "SUN",
          "SUN",
          "SUN",
          "SUN",
          "SUN",
          "SUN",
          "SUN",
          "SUN",
          "SUN",
          "SUN",
          "SUN",
          "SUN",
          "SUN",
          "SUN",
          "SUN",
          "THU",
          "THU",
          "THU",
          "THU",
          "THU",
          "THU",
          "THU",
          "THU",
          "THU",
          "THU",
          "THU",
          "THU",
          "THU",
          "THU",
          "THU",
          "THU",
          "THU",
          "THU",
          "THU",
          "THU",
          "THU",
          "THU",
          "THU",
          "THU",
          "TUE",
          "TUE",
          "TUE",
          "TUE",
          "TUE",
          "TUE",
          "TUE",
          "TUE",
          "TUE",
          "TUE",
          "TUE",
          "TUE",
          "TUE",
          "TUE",
          "TUE",
          "TUE",
          "TUE",
          "TUE",
          "TUE",
          "TUE",
          "TUE",
          "TUE",
          "TUE",
          "TUE",
          "WED",
          "WED",
          "WED",
          "WED",
          "WED",
          "WED",
          "WED",
          "WED",
          "WED",
          "WED",
          "WED",
          "WED",
          "WED",
          "WED",
          "WED",
          "WED",
          "WED",
          "WED",
          "WED",
          "WED",
          "WED",
          "WED",
          "WED",
          "WED"
         ],
         "xaxis": "x3",
         "xbingroup": "x",
         "y": [
          "0.0t",
          "1.0t",
          "2.0t",
          "3.0t",
          "4.0t",
          "5.0t",
          "6.0t",
          "7.0t",
          "8.0t",
          "9.0t",
          "10.0t",
          "11.0t",
          "12.0t",
          "13.0t",
          "14.0t",
          "15.0t",
          "16.0t",
          "17.0t",
          "18.0t",
          "19.0t",
          "20.0t",
          "21.0t",
          "22.0t",
          "23.0t",
          "0.0t",
          "1.0t",
          "2.0t",
          "3.0t",
          "4.0t",
          "5.0t",
          "6.0t",
          "7.0t",
          "8.0t",
          "9.0t",
          "10.0t",
          "11.0t",
          "12.0t",
          "13.0t",
          "14.0t",
          "15.0t",
          "16.0t",
          "17.0t",
          "18.0t",
          "19.0t",
          "20.0t",
          "21.0t",
          "22.0t",
          "23.0t",
          "0.0t",
          "1.0t",
          "2.0t",
          "3.0t",
          "4.0t",
          "5.0t",
          "6.0t",
          "7.0t",
          "8.0t",
          "9.0t",
          "10.0t",
          "11.0t",
          "12.0t",
          "13.0t",
          "14.0t",
          "15.0t",
          "16.0t",
          "17.0t",
          "18.0t",
          "19.0t",
          "20.0t",
          "21.0t",
          "22.0t",
          "23.0t",
          "0.0t",
          "1.0t",
          "2.0t",
          "3.0t",
          "4.0t",
          "5.0t",
          "6.0t",
          "7.0t",
          "8.0t",
          "9.0t",
          "10.0t",
          "11.0t",
          "12.0t",
          "13.0t",
          "14.0t",
          "15.0t",
          "16.0t",
          "17.0t",
          "18.0t",
          "19.0t",
          "20.0t",
          "21.0t",
          "22.0t",
          "23.0t",
          "0.0t",
          "1.0t",
          "2.0t",
          "3.0t",
          "4.0t",
          "5.0t",
          "6.0t",
          "7.0t",
          "8.0t",
          "9.0t",
          "10.0t",
          "11.0t",
          "12.0t",
          "13.0t",
          "14.0t",
          "15.0t",
          "16.0t",
          "17.0t",
          "18.0t",
          "19.0t",
          "20.0t",
          "21.0t",
          "22.0t",
          "23.0t",
          "0.0t",
          "1.0t",
          "2.0t",
          "3.0t",
          "4.0t",
          "5.0t",
          "6.0t",
          "7.0t",
          "8.0t",
          "9.0t",
          "10.0t",
          "11.0t",
          "12.0t",
          "13.0t",
          "14.0t",
          "15.0t",
          "16.0t",
          "17.0t",
          "18.0t",
          "19.0t",
          "20.0t",
          "21.0t",
          "22.0t",
          "23.0t",
          "0.0t",
          "1.0t",
          "2.0t",
          "3.0t",
          "4.0t",
          "5.0t",
          "6.0t",
          "7.0t",
          "8.0t",
          "9.0t",
          "10.0t",
          "11.0t",
          "12.0t",
          "13.0t",
          "14.0t",
          "15.0t",
          "16.0t",
          "17.0t",
          "18.0t",
          "19.0t",
          "20.0t",
          "21.0t",
          "22.0t",
          "23.0t"
         ],
         "yaxis": "y3",
         "ybingroup": "y",
         "z": [
          912,
          478,
          464,
          386,
          239,
          218,
          218,
          316,
          496,
          456,
          552,
          516,
          1076,
          581,
          669,
          749,
          752,
          781,
          1035,
          797,
          871,
          730,
          847,
          694,
          864,
          448,
          456,
          331,
          255,
          224,
          257,
          323,
          483,
          491,
          498,
          523,
          1209,
          609,
          646,
          713,
          694,
          784,
          793,
          761,
          836,
          755,
          715,
          662,
          958,
          603,
          604,
          415,
          296,
          212,
          173,
          213,
          409,
          373,
          514,
          449,
          936,
          504,
          617,
          688,
          664,
          748,
          765,
          716,
          729,
          701,
          853,
          769,
          956,
          668,
          654,
          481,
          348,
          249,
          213,
          231,
          348,
          343,
          411,
          459,
          919,
          515,
          590,
          588,
          591,
          692,
          851,
          767,
          757,
          761,
          754,
          669,
          843,
          442,
          444,
          284,
          255,
          219,
          218,
          285,
          470,
          434,
          515,
          542,
          1091,
          594,
          608,
          696,
          737,
          719,
          937,
          779,
          839,
          701,
          849,
          714,
          839,
          423,
          374,
          266,
          240,
          207,
          242,
          268,
          449,
          450,
          529,
          553,
          1109,
          654,
          687,
          693,
          725,
          775,
          826,
          782,
          790,
          757,
          780,
          613,
          907,
          463,
          436,
          324,
          235,
          228,
          272,
          293,
          500,
          468,
          487,
          537,
          1190,
          640,
          697,
          689,
          689,
          806,
          882,
          739,
          806,
          756,
          755,
          648
         ]
        }
       ],
       "layout": {
        "annotations": [
         {
          "font": {},
          "showarrow": false,
          "text": "year=2018.0",
          "x": 0.15999999999999998,
          "xanchor": "center",
          "xref": "paper",
          "y": 1,
          "yanchor": "bottom",
          "yref": "paper"
         },
         {
          "font": {},
          "showarrow": false,
          "text": "year=2019.0",
          "x": 0.49999999999999994,
          "xanchor": "center",
          "xref": "paper",
          "y": 1,
          "yanchor": "bottom",
          "yref": "paper"
         },
         {
          "font": {},
          "showarrow": false,
          "text": "year=2020.0",
          "x": 0.8399999999999999,
          "xanchor": "center",
          "xref": "paper",
          "y": 1,
          "yanchor": "bottom",
          "yref": "paper"
         }
        ],
        "autosize": true,
        "coloraxis": {
         "colorbar": {
          "title": {
           "text": "sum of count"
          }
         },
         "colorscale": [
          [
           0,
           "rgb(210, 251, 212)"
          ],
          [
           0.16666666666666666,
           "rgb(165, 219, 194)"
          ],
          [
           0.3333333333333333,
           "rgb(123, 188, 176)"
          ],
          [
           0.5,
           "rgb(85, 156, 158)"
          ],
          [
           0.6666666666666666,
           "rgb(58, 124, 137)"
          ],
          [
           0.8333333333333334,
           "rgb(35, 93, 114)"
          ],
          [
           1,
           "rgb(18, 63, 90)"
          ]
         ]
        },
        "legend": {
         "tracegroupgap": 0
        },
        "margin": {
         "t": 60
        },
        "template": {
         "data": {
          "bar": [
           {
            "error_x": {
             "color": "#2a3f5f"
            },
            "error_y": {
             "color": "#2a3f5f"
            },
            "marker": {
             "line": {
              "color": "#E5ECF6",
              "width": 0.5
             }
            },
            "type": "bar"
           }
          ],
          "barpolar": [
           {
            "marker": {
             "line": {
              "color": "#E5ECF6",
              "width": 0.5
             }
            },
            "type": "barpolar"
           }
          ],
          "carpet": [
           {
            "aaxis": {
             "endlinecolor": "#2a3f5f",
             "gridcolor": "white",
             "linecolor": "white",
             "minorgridcolor": "white",
             "startlinecolor": "#2a3f5f"
            },
            "baxis": {
             "endlinecolor": "#2a3f5f",
             "gridcolor": "white",
             "linecolor": "white",
             "minorgridcolor": "white",
             "startlinecolor": "#2a3f5f"
            },
            "type": "carpet"
           }
          ],
          "choropleth": [
           {
            "colorbar": {
             "outlinewidth": 0,
             "ticks": ""
            },
            "type": "choropleth"
           }
          ],
          "contour": [
           {
            "colorbar": {
             "outlinewidth": 0,
             "ticks": ""
            },
            "colorscale": [
             [
              0,
              "#0d0887"
             ],
             [
              0.1111111111111111,
              "#46039f"
             ],
             [
              0.2222222222222222,
              "#7201a8"
             ],
             [
              0.3333333333333333,
              "#9c179e"
             ],
             [
              0.4444444444444444,
              "#bd3786"
             ],
             [
              0.5555555555555556,
              "#d8576b"
             ],
             [
              0.6666666666666666,
              "#ed7953"
             ],
             [
              0.7777777777777778,
              "#fb9f3a"
             ],
             [
              0.8888888888888888,
              "#fdca26"
             ],
             [
              1,
              "#f0f921"
             ]
            ],
            "type": "contour"
           }
          ],
          "contourcarpet": [
           {
            "colorbar": {
             "outlinewidth": 0,
             "ticks": ""
            },
            "type": "contourcarpet"
           }
          ],
          "heatmap": [
           {
            "colorbar": {
             "outlinewidth": 0,
             "ticks": ""
            },
            "colorscale": [
             [
              0,
              "#0d0887"
             ],
             [
              0.1111111111111111,
              "#46039f"
             ],
             [
              0.2222222222222222,
              "#7201a8"
             ],
             [
              0.3333333333333333,
              "#9c179e"
             ],
             [
              0.4444444444444444,
              "#bd3786"
             ],
             [
              0.5555555555555556,
              "#d8576b"
             ],
             [
              0.6666666666666666,
              "#ed7953"
             ],
             [
              0.7777777777777778,
              "#fb9f3a"
             ],
             [
              0.8888888888888888,
              "#fdca26"
             ],
             [
              1,
              "#f0f921"
             ]
            ],
            "type": "heatmap"
           }
          ],
          "heatmapgl": [
           {
            "colorbar": {
             "outlinewidth": 0,
             "ticks": ""
            },
            "colorscale": [
             [
              0,
              "#0d0887"
             ],
             [
              0.1111111111111111,
              "#46039f"
             ],
             [
              0.2222222222222222,
              "#7201a8"
             ],
             [
              0.3333333333333333,
              "#9c179e"
             ],
             [
              0.4444444444444444,
              "#bd3786"
             ],
             [
              0.5555555555555556,
              "#d8576b"
             ],
             [
              0.6666666666666666,
              "#ed7953"
             ],
             [
              0.7777777777777778,
              "#fb9f3a"
             ],
             [
              0.8888888888888888,
              "#fdca26"
             ],
             [
              1,
              "#f0f921"
             ]
            ],
            "type": "heatmapgl"
           }
          ],
          "histogram": [
           {
            "marker": {
             "colorbar": {
              "outlinewidth": 0,
              "ticks": ""
             }
            },
            "type": "histogram"
           }
          ],
          "histogram2d": [
           {
            "colorbar": {
             "outlinewidth": 0,
             "ticks": ""
            },
            "colorscale": [
             [
              0,
              "#0d0887"
             ],
             [
              0.1111111111111111,
              "#46039f"
             ],
             [
              0.2222222222222222,
              "#7201a8"
             ],
             [
              0.3333333333333333,
              "#9c179e"
             ],
             [
              0.4444444444444444,
              "#bd3786"
             ],
             [
              0.5555555555555556,
              "#d8576b"
             ],
             [
              0.6666666666666666,
              "#ed7953"
             ],
             [
              0.7777777777777778,
              "#fb9f3a"
             ],
             [
              0.8888888888888888,
              "#fdca26"
             ],
             [
              1,
              "#f0f921"
             ]
            ],
            "type": "histogram2d"
           }
          ],
          "histogram2dcontour": [
           {
            "colorbar": {
             "outlinewidth": 0,
             "ticks": ""
            },
            "colorscale": [
             [
              0,
              "#0d0887"
             ],
             [
              0.1111111111111111,
              "#46039f"
             ],
             [
              0.2222222222222222,
              "#7201a8"
             ],
             [
              0.3333333333333333,
              "#9c179e"
             ],
             [
              0.4444444444444444,
              "#bd3786"
             ],
             [
              0.5555555555555556,
              "#d8576b"
             ],
             [
              0.6666666666666666,
              "#ed7953"
             ],
             [
              0.7777777777777778,
              "#fb9f3a"
             ],
             [
              0.8888888888888888,
              "#fdca26"
             ],
             [
              1,
              "#f0f921"
             ]
            ],
            "type": "histogram2dcontour"
           }
          ],
          "mesh3d": [
           {
            "colorbar": {
             "outlinewidth": 0,
             "ticks": ""
            },
            "type": "mesh3d"
           }
          ],
          "parcoords": [
           {
            "line": {
             "colorbar": {
              "outlinewidth": 0,
              "ticks": ""
             }
            },
            "type": "parcoords"
           }
          ],
          "pie": [
           {
            "automargin": true,
            "type": "pie"
           }
          ],
          "scatter": [
           {
            "marker": {
             "colorbar": {
              "outlinewidth": 0,
              "ticks": ""
             }
            },
            "type": "scatter"
           }
          ],
          "scatter3d": [
           {
            "line": {
             "colorbar": {
              "outlinewidth": 0,
              "ticks": ""
             }
            },
            "marker": {
             "colorbar": {
              "outlinewidth": 0,
              "ticks": ""
             }
            },
            "type": "scatter3d"
           }
          ],
          "scattercarpet": [
           {
            "marker": {
             "colorbar": {
              "outlinewidth": 0,
              "ticks": ""
             }
            },
            "type": "scattercarpet"
           }
          ],
          "scattergeo": [
           {
            "marker": {
             "colorbar": {
              "outlinewidth": 0,
              "ticks": ""
             }
            },
            "type": "scattergeo"
           }
          ],
          "scattergl": [
           {
            "marker": {
             "colorbar": {
              "outlinewidth": 0,
              "ticks": ""
             }
            },
            "type": "scattergl"
           }
          ],
          "scattermapbox": [
           {
            "marker": {
             "colorbar": {
              "outlinewidth": 0,
              "ticks": ""
             }
            },
            "type": "scattermapbox"
           }
          ],
          "scatterpolar": [
           {
            "marker": {
             "colorbar": {
              "outlinewidth": 0,
              "ticks": ""
             }
            },
            "type": "scatterpolar"
           }
          ],
          "scatterpolargl": [
           {
            "marker": {
             "colorbar": {
              "outlinewidth": 0,
              "ticks": ""
             }
            },
            "type": "scatterpolargl"
           }
          ],
          "scatterternary": [
           {
            "marker": {
             "colorbar": {
              "outlinewidth": 0,
              "ticks": ""
             }
            },
            "type": "scatterternary"
           }
          ],
          "surface": [
           {
            "colorbar": {
             "outlinewidth": 0,
             "ticks": ""
            },
            "colorscale": [
             [
              0,
              "#0d0887"
             ],
             [
              0.1111111111111111,
              "#46039f"
             ],
             [
              0.2222222222222222,
              "#7201a8"
             ],
             [
              0.3333333333333333,
              "#9c179e"
             ],
             [
              0.4444444444444444,
              "#bd3786"
             ],
             [
              0.5555555555555556,
              "#d8576b"
             ],
             [
              0.6666666666666666,
              "#ed7953"
             ],
             [
              0.7777777777777778,
              "#fb9f3a"
             ],
             [
              0.8888888888888888,
              "#fdca26"
             ],
             [
              1,
              "#f0f921"
             ]
            ],
            "type": "surface"
           }
          ],
          "table": [
           {
            "cells": {
             "fill": {
              "color": "#EBF0F8"
             },
             "line": {
              "color": "white"
             }
            },
            "header": {
             "fill": {
              "color": "#C8D4E3"
             },
             "line": {
              "color": "white"
             }
            },
            "type": "table"
           }
          ]
         },
         "layout": {
          "annotationdefaults": {
           "arrowcolor": "#2a3f5f",
           "arrowhead": 0,
           "arrowwidth": 1
          },
          "coloraxis": {
           "colorbar": {
            "outlinewidth": 0,
            "ticks": ""
           }
          },
          "colorscale": {
           "diverging": [
            [
             0,
             "#8e0152"
            ],
            [
             0.1,
             "#c51b7d"
            ],
            [
             0.2,
             "#de77ae"
            ],
            [
             0.3,
             "#f1b6da"
            ],
            [
             0.4,
             "#fde0ef"
            ],
            [
             0.5,
             "#f7f7f7"
            ],
            [
             0.6,
             "#e6f5d0"
            ],
            [
             0.7,
             "#b8e186"
            ],
            [
             0.8,
             "#7fbc41"
            ],
            [
             0.9,
             "#4d9221"
            ],
            [
             1,
             "#276419"
            ]
           ],
           "sequential": [
            [
             0,
             "#0d0887"
            ],
            [
             0.1111111111111111,
             "#46039f"
            ],
            [
             0.2222222222222222,
             "#7201a8"
            ],
            [
             0.3333333333333333,
             "#9c179e"
            ],
            [
             0.4444444444444444,
             "#bd3786"
            ],
            [
             0.5555555555555556,
             "#d8576b"
            ],
            [
             0.6666666666666666,
             "#ed7953"
            ],
            [
             0.7777777777777778,
             "#fb9f3a"
            ],
            [
             0.8888888888888888,
             "#fdca26"
            ],
            [
             1,
             "#f0f921"
            ]
           ],
           "sequentialminus": [
            [
             0,
             "#0d0887"
            ],
            [
             0.1111111111111111,
             "#46039f"
            ],
            [
             0.2222222222222222,
             "#7201a8"
            ],
            [
             0.3333333333333333,
             "#9c179e"
            ],
            [
             0.4444444444444444,
             "#bd3786"
            ],
            [
             0.5555555555555556,
             "#d8576b"
            ],
            [
             0.6666666666666666,
             "#ed7953"
            ],
            [
             0.7777777777777778,
             "#fb9f3a"
            ],
            [
             0.8888888888888888,
             "#fdca26"
            ],
            [
             1,
             "#f0f921"
            ]
           ]
          },
          "colorway": [
           "#636efa",
           "#EF553B",
           "#00cc96",
           "#ab63fa",
           "#FFA15A",
           "#19d3f3",
           "#FF6692",
           "#B6E880",
           "#FF97FF",
           "#FECB52"
          ],
          "font": {
           "color": "#2a3f5f"
          },
          "geo": {
           "bgcolor": "white",
           "lakecolor": "white",
           "landcolor": "#E5ECF6",
           "showlakes": true,
           "showland": true,
           "subunitcolor": "white"
          },
          "hoverlabel": {
           "align": "left"
          },
          "hovermode": "closest",
          "mapbox": {
           "style": "light"
          },
          "paper_bgcolor": "white",
          "plot_bgcolor": "#E5ECF6",
          "polar": {
           "angularaxis": {
            "gridcolor": "white",
            "linecolor": "white",
            "ticks": ""
           },
           "bgcolor": "#E5ECF6",
           "radialaxis": {
            "gridcolor": "white",
            "linecolor": "white",
            "ticks": ""
           }
          },
          "scene": {
           "xaxis": {
            "backgroundcolor": "#E5ECF6",
            "gridcolor": "white",
            "gridwidth": 2,
            "linecolor": "white",
            "showbackground": true,
            "ticks": "",
            "zerolinecolor": "white"
           },
           "yaxis": {
            "backgroundcolor": "#E5ECF6",
            "gridcolor": "white",
            "gridwidth": 2,
            "linecolor": "white",
            "showbackground": true,
            "ticks": "",
            "zerolinecolor": "white"
           },
           "zaxis": {
            "backgroundcolor": "#E5ECF6",
            "gridcolor": "white",
            "gridwidth": 2,
            "linecolor": "white",
            "showbackground": true,
            "ticks": "",
            "zerolinecolor": "white"
           }
          },
          "shapedefaults": {
           "line": {
            "color": "#2a3f5f"
           }
          },
          "ternary": {
           "aaxis": {
            "gridcolor": "white",
            "linecolor": "white",
            "ticks": ""
           },
           "baxis": {
            "gridcolor": "white",
            "linecolor": "white",
            "ticks": ""
           },
           "bgcolor": "#E5ECF6",
           "caxis": {
            "gridcolor": "white",
            "linecolor": "white",
            "ticks": ""
           }
          },
          "title": {
           "x": 0.05
          },
          "xaxis": {
           "automargin": true,
           "gridcolor": "white",
           "linecolor": "white",
           "ticks": "",
           "title": {
            "standoff": 15
           },
           "zerolinecolor": "white",
           "zerolinewidth": 2
          },
          "yaxis": {
           "automargin": true,
           "gridcolor": "white",
           "linecolor": "white",
           "ticks": "",
           "title": {
            "standoff": 15
           },
           "zerolinecolor": "white",
           "zerolinewidth": 2
          }
         }
        },
        "xaxis": {
         "anchor": "y",
         "autorange": true,
         "domain": [
          0,
          0.31999999999999995
         ],
         "range": [
          -0.5,
          6.5
         ],
         "title": {
          "text": "day"
         },
         "type": "category"
        },
        "xaxis2": {
         "anchor": "y2",
         "autorange": true,
         "domain": [
          0.33999999999999997,
          0.6599999999999999
         ],
         "matches": "x",
         "range": [
          -0.5,
          6.5
         ],
         "title": {
          "text": "day"
         },
         "type": "category"
        },
        "xaxis3": {
         "anchor": "y3",
         "autorange": true,
         "domain": [
          0.6799999999999999,
          0.9999999999999999
         ],
         "matches": "x",
         "range": [
          -0.5,
          6.5
         ],
         "title": {
          "text": "day"
         },
         "type": "category"
        },
        "yaxis": {
         "anchor": "x",
         "autorange": true,
         "domain": [
          0,
          1
         ],
         "nticks": 24,
         "range": [
          -0.5,
          23.5
         ],
         "title": {
          "text": "hour"
         },
         "type": "category"
        },
        "yaxis2": {
         "anchor": "x2",
         "autorange": true,
         "domain": [
          0,
          1
         ],
         "matches": "y",
         "range": [
          -0.5,
          23.5
         ],
         "showticklabels": false,
         "type": "category"
        },
        "yaxis3": {
         "anchor": "x3",
         "autorange": true,
         "domain": [
          0,
          1
         ],
         "matches": "y",
         "range": [
          -0.5,
          23.5
         ],
         "showticklabels": false,
         "type": "category"
        }
       }
      },
      "image/png": "[encoded data removed]",
      "text/html": [
       "<div>\n",
       "        \n",
       "        \n",
       "            <div id=\"1a1120f5-f990-4a4e-b15e-924d56116261\" class=\"plotly-graph-div\" style=\"height:600px; width:100%;\"></div>\n",
       "            <script type=\"text/javascript\">\n",
       "                require([\"plotly\"], function(Plotly) {\n",
       "                    window.PLOTLYENV=window.PLOTLYENV || {};\n",
       "                    \n",
       "                if (document.getElementById(\"1a1120f5-f990-4a4e-b15e-924d56116261\")) {\n",
       "                    Plotly.newPlot(\n",
       "                        '1a1120f5-f990-4a4e-b15e-924d56116261',\n",
       "                        [{\"coloraxis\": \"coloraxis\", \"histfunc\": \"sum\", \"hovertemplate\": \"year=2018.0<br>day=%{x}<br>hour=%{y}<br>sum of count=%{z}<extra></extra>\", \"name\": \"\", \"nbinsy\": 24, \"type\": \"histogram2d\", \"x\": [\"FRI\", \"FRI\", \"FRI\", \"FRI\", \"FRI\", \"FRI\", \"FRI\", \"FRI\", \"FRI\", \"FRI\", \"FRI\", \"FRI\", \"FRI\", \"FRI\", \"FRI\", \"FRI\", \"FRI\", \"FRI\", \"FRI\", \"FRI\", \"FRI\", \"FRI\", \"FRI\", \"FRI\", \"MON\", \"MON\", \"MON\", \"MON\", \"MON\", \"MON\", \"MON\", \"MON\", \"MON\", \"MON\", \"MON\", \"MON\", \"MON\", \"MON\", \"MON\", \"MON\", \"MON\", \"MON\", \"MON\", \"MON\", \"MON\", \"MON\", \"MON\", \"MON\", \"SAT\", \"SAT\", \"SAT\", \"SAT\", \"SAT\", \"SAT\", \"SAT\", \"SAT\", \"SAT\", \"SAT\", \"SAT\", \"SAT\", \"SAT\", \"SAT\", \"SAT\", \"SAT\", \"SAT\", \"SAT\", \"SAT\", \"SAT\", \"SAT\", \"SAT\", \"SAT\", \"SAT\", \"SUN\", \"SUN\", \"SUN\", \"SUN\", \"SUN\", \"SUN\", \"SUN\", \"SUN\", \"SUN\", \"SUN\", \"SUN\", \"SUN\", \"SUN\", \"SUN\", \"SUN\", \"SUN\", \"SUN\", \"SUN\", \"SUN\", \"SUN\", \"SUN\", \"SUN\", \"SUN\", \"SUN\", \"THU\", \"THU\", \"THU\", \"THU\", \"THU\", \"THU\", \"THU\", \"THU\", \"THU\", \"THU\", \"THU\", \"THU\", \"THU\", \"THU\", \"THU\", \"THU\", \"THU\", \"THU\", \"THU\", \"THU\", \"THU\", \"THU\", \"THU\", \"THU\", \"TUE\", \"TUE\", \"TUE\", \"TUE\", \"TUE\", \"TUE\", \"TUE\", \"TUE\", \"TUE\", \"TUE\", \"TUE\", \"TUE\", \"TUE\", \"TUE\", \"TUE\", \"TUE\", \"TUE\", \"TUE\", \"TUE\", \"TUE\", \"TUE\", \"TUE\", \"TUE\", \"TUE\", \"WED\", \"WED\", \"WED\", \"WED\", \"WED\", \"WED\", \"WED\", \"WED\", \"WED\", \"WED\", \"WED\", \"WED\", \"WED\", \"WED\", \"WED\", \"WED\", \"WED\", \"WED\", \"WED\", \"WED\", \"WED\", \"WED\", \"WED\", \"WED\"], \"xaxis\": \"x\", \"xbingroup\": \"x\", \"y\": [\"0.0t\", \"1.0t\", \"2.0t\", \"3.0t\", \"4.0t\", \"5.0t\", \"6.0t\", \"7.0t\", \"8.0t\", \"9.0t\", \"10.0t\", \"11.0t\", \"12.0t\", \"13.0t\", \"14.0t\", \"15.0t\", \"16.0t\", \"17.0t\", \"18.0t\", \"19.0t\", \"20.0t\", \"21.0t\", \"22.0t\", \"23.0t\", \"0.0t\", \"1.0t\", \"2.0t\", \"3.0t\", \"4.0t\", \"5.0t\", \"6.0t\", \"7.0t\", \"8.0t\", \"9.0t\", \"10.0t\", \"11.0t\", \"12.0t\", \"13.0t\", \"14.0t\", \"15.0t\", \"16.0t\", \"17.0t\", \"18.0t\", \"19.0t\", \"20.0t\", \"21.0t\", \"22.0t\", \"23.0t\", \"0.0t\", \"1.0t\", \"2.0t\", \"3.0t\", \"4.0t\", \"5.0t\", \"6.0t\", \"7.0t\", \"8.0t\", \"9.0t\", \"10.0t\", \"11.0t\", \"12.0t\", \"13.0t\", \"14.0t\", \"15.0t\", \"16.0t\", \"17.0t\", \"18.0t\", \"19.0t\", \"20.0t\", \"21.0t\", \"22.0t\", \"23.0t\", \"0.0t\", \"1.0t\", \"2.0t\", \"3.0t\", \"4.0t\", \"5.0t\", \"6.0t\", \"7.0t\", \"8.0t\", \"9.0t\", \"10.0t\", \"11.0t\", \"12.0t\", \"13.0t\", \"14.0t\", \"15.0t\", \"16.0t\", \"17.0t\", \"18.0t\", \"19.0t\", \"20.0t\", \"21.0t\", \"22.0t\", \"23.0t\", \"0.0t\", \"1.0t\", \"2.0t\", \"3.0t\", \"4.0t\", \"5.0t\", \"6.0t\", \"7.0t\", \"8.0t\", \"9.0t\", \"10.0t\", \"11.0t\", \"12.0t\", \"13.0t\", \"14.0t\", \"15.0t\", \"16.0t\", \"17.0t\", \"18.0t\", \"19.0t\", \"20.0t\", \"21.0t\", \"22.0t\", \"23.0t\", \"0.0t\", \"1.0t\", \"2.0t\", \"3.0t\", \"4.0t\", \"5.0t\", \"6.0t\", \"7.0t\", \"8.0t\", \"9.0t\", \"10.0t\", \"11.0t\", \"12.0t\", \"13.0t\", \"14.0t\", \"15.0t\", \"16.0t\", \"17.0t\", \"18.0t\", \"19.0t\", \"20.0t\", \"21.0t\", \"22.0t\", \"23.0t\", \"0.0t\", \"1.0t\", \"2.0t\", \"3.0t\", \"4.0t\", \"5.0t\", \"6.0t\", \"7.0t\", \"8.0t\", \"9.0t\", \"10.0t\", \"11.0t\", \"12.0t\", \"13.0t\", \"14.0t\", \"15.0t\", \"16.0t\", \"17.0t\", \"18.0t\", \"19.0t\", \"20.0t\", \"21.0t\", \"22.0t\", \"23.0t\"], \"yaxis\": \"y\", \"ybingroup\": \"y\", \"z\": [828, 602, 540, 336, 231, 175, 183, 290, 473, 438, 556, 565, 1099, 632, 662, 709, 692, 868, 980, 789, 816, 825, 826, 829, 856, 453, 473, 294, 200, 188, 199, 286, 452, 452, 529, 536, 1091, 547, 615, 689, 759, 841, 908, 864, 817, 774, 865, 666, 961, 681, 762, 512, 340, 235, 172, 225, 330, 396, 520, 469, 894, 565, 625, 659, 680, 784, 767, 746, 838, 787, 855, 806, 980, 797, 749, 546, 322, 261, 187, 209, 273, 341, 391, 390, 785, 475, 490, 592, 617, 740, 829, 724, 797, 750, 827, 726, 702, 460, 450, 314, 214, 160, 224, 260, 420, 417, 527, 503, 1055, 606, 632, 647, 700, 735, 876, 822, 885, 839, 869, 779, 731, 412, 361, 239, 205, 188, 171, 279, 437, 442, 482, 541, 971, 593, 619, 617, 677, 815, 824, 853, 849, 814, 857, 672, 708, 490, 396, 283, 191, 146, 190, 311, 434, 459, 508, 524, 1009, 580, 596, 643, 693, 814, 848, 860, 846, 795, 877, 666]}, {\"coloraxis\": \"coloraxis\", \"histfunc\": \"sum\", \"hovertemplate\": \"year=2019.0<br>day=%{x}<br>hour=%{y}<br>sum of count=%{z}<extra></extra>\", \"name\": \"\", \"nbinsy\": 24, \"type\": \"histogram2d\", \"x\": [\"FRI\", \"FRI\", \"FRI\", \"FRI\", \"FRI\", \"FRI\", \"FRI\", \"FRI\", \"FRI\", \"FRI\", \"FRI\", \"FRI\", \"FRI\", \"FRI\", \"FRI\", \"FRI\", \"FRI\", \"FRI\", \"FRI\", \"FRI\", \"FRI\", \"FRI\", \"FRI\", \"FRI\", \"MON\", \"MON\", \"MON\", \"MON\", \"MON\", \"MON\", \"MON\", \"MON\", \"MON\", \"MON\", \"MON\", \"MON\", \"MON\", \"MON\", \"MON\", \"MON\", \"MON\", \"MON\", \"MON\", \"MON\", \"MON\", \"MON\", \"MON\", \"MON\", \"SAT\", \"SAT\", \"SAT\", \"SAT\", \"SAT\", \"SAT\", \"SAT\", \"SAT\", \"SAT\", \"SAT\", \"SAT\", \"SAT\", \"SAT\", \"SAT\", \"SAT\", \"SAT\", \"SAT\", \"SAT\", \"SAT\", \"SAT\", \"SAT\", \"SAT\", \"SAT\", \"SAT\", \"SUN\", \"SUN\", \"SUN\", \"SUN\", \"SUN\", \"SUN\", \"SUN\", \"SUN\", \"SUN\", \"SUN\", \"SUN\", \"SUN\", \"SUN\", \"SUN\", \"SUN\", \"SUN\", \"SUN\", \"SUN\", \"SUN\", \"SUN\", \"SUN\", \"SUN\", \"SUN\", \"SUN\", \"THU\", \"THU\", \"THU\", \"THU\", \"THU\", \"THU\", \"THU\", \"THU\", \"THU\", \"THU\", \"THU\", \"THU\", \"THU\", \"THU\", \"THU\", \"THU\", \"THU\", \"THU\", \"THU\", \"THU\", \"THU\", \"THU\", \"THU\", \"THU\", \"TUE\", \"TUE\", \"TUE\", \"TUE\", \"TUE\", \"TUE\", \"TUE\", \"TUE\", \"TUE\", \"TUE\", \"TUE\", \"TUE\", \"TUE\", \"TUE\", \"TUE\", \"TUE\", \"TUE\", \"TUE\", \"TUE\", \"TUE\", \"TUE\", \"TUE\", \"TUE\", \"TUE\", \"WED\", \"WED\", \"WED\", \"WED\", \"WED\", \"WED\", \"WED\", \"WED\", \"WED\", \"WED\", \"WED\", \"WED\", \"WED\", \"WED\", \"WED\", \"WED\", \"WED\", \"WED\", \"WED\", \"WED\", \"WED\", \"WED\", \"WED\", \"WED\"], \"xaxis\": \"x2\", \"xbingroup\": \"x\", \"y\": [\"0.0t\", \"1.0t\", \"2.0t\", \"3.0t\", \"4.0t\", \"5.0t\", \"6.0t\", \"7.0t\", \"8.0t\", \"9.0t\", \"10.0t\", \"11.0t\", \"12.0t\", \"13.0t\", \"14.0t\", \"15.0t\", \"16.0t\", \"17.0t\", \"18.0t\", \"19.0t\", \"20.0t\", \"21.0t\", \"22.0t\", \"23.0t\", \"0.0t\", \"1.0t\", \"2.0t\", \"3.0t\", \"4.0t\", \"5.0t\", \"6.0t\", \"7.0t\", \"8.0t\", \"9.0t\", \"10.0t\", \"11.0t\", \"12.0t\", \"13.0t\", \"14.0t\", \"15.0t\", \"16.0t\", \"17.0t\", \"18.0t\", \"19.0t\", \"20.0t\", \"21.0t\", \"22.0t\", \"23.0t\", \"0.0t\", \"1.0t\", \"2.0t\", \"3.0t\", \"4.0t\", \"5.0t\", \"6.0t\", \"7.0t\", \"8.0t\", \"9.0t\", \"10.0t\", \"11.0t\", \"12.0t\", \"13.0t\", \"14.0t\", \"15.0t\", \"16.0t\", \"17.0t\", \"18.0t\", \"19.0t\", \"20.0t\", \"21.0t\", \"22.0t\", \"23.0t\", \"0.0t\", \"1.0t\", \"2.0t\", \"3.0t\", \"4.0t\", \"5.0t\", \"6.0t\", \"7.0t\", \"8.0t\", \"9.0t\", \"10.0t\", \"11.0t\", \"12.0t\", \"13.0t\", \"14.0t\", \"15.0t\", \"16.0t\", \"17.0t\", \"18.0t\", \"19.0t\", \"20.0t\", \"21.0t\", \"22.0t\", \"23.0t\", \"0.0t\", \"1.0t\", \"2.0t\", \"3.0t\", \"4.0t\", \"5.0t\", \"6.0t\", \"7.0t\", \"8.0t\", \"9.0t\", \"10.0t\", \"11.0t\", \"12.0t\", \"13.0t\", \"14.0t\", \"15.0t\", \"16.0t\", \"17.0t\", \"18.0t\", \"19.0t\", \"20.0t\", \"21.0t\", \"22.0t\", \"23.0t\", \"0.0t\", \"1.0t\", \"2.0t\", \"3.0t\", \"4.0t\", \"5.0t\", \"6.0t\", \"7.0t\", \"8.0t\", \"9.0t\", \"10.0t\", \"11.0t\", \"12.0t\", \"13.0t\", \"14.0t\", \"15.0t\", \"16.0t\", \"17.0t\", \"18.0t\", \"19.0t\", \"20.0t\", \"21.0t\", \"22.0t\", \"23.0t\", \"0.0t\", \"1.0t\", \"2.0t\", \"3.0t\", \"4.0t\", \"5.0t\", \"6.0t\", \"7.0t\", \"8.0t\", \"9.0t\", \"10.0t\", \"11.0t\", \"12.0t\", \"13.0t\", \"14.0t\", \"15.0t\", \"16.0t\", \"17.0t\", \"18.0t\", \"19.0t\", \"20.0t\", \"21.0t\", \"22.0t\", \"23.0t\"], \"yaxis\": \"y2\", \"ybingroup\": \"y\", \"z\": [1035, 538, 632, 352, 257, 183, 206, 314, 467, 455, 612, 597, 1047, 676, 703, 782, 821, 964, 1101, 852, 958, 837, 944, 880, 960, 462, 522, 303, 242, 178, 225, 371, 501, 473, 566, 578, 1066, 665, 689, 732, 755, 913, 940, 841, 834, 803, 835, 632, 1065, 794, 723, 479, 308, 212, 194, 251, 370, 446, 519, 550, 843, 507, 630, 738, 688, 798, 864, 812, 821, 855, 914, 880, 1145, 790, 822, 554, 372, 257, 208, 227, 355, 406, 431, 453, 793, 494, 583, 626, 696, 766, 903, 800, 820, 863, 910, 729, 814, 440, 477, 276, 255, 196, 215, 306, 424, 464, 553, 547, 947, 619, 620, 696, 738, 811, 912, 830, 837, 831, 849, 706, 889, 426, 465, 310, 220, 200, 204, 297, 467, 480, 541, 562, 1057, 662, 667, 697, 688, 841, 934, 858, 899, 857, 840, 686, 818, 442, 459, 296, 189, 174, 234, 338, 434, 421, 563, 518, 943, 630, 695, 705, 787, 863, 858, 843, 856, 820, 813, 670]}, {\"coloraxis\": \"coloraxis\", \"histfunc\": \"sum\", \"hovertemplate\": \"year=2020.0<br>day=%{x}<br>hour=%{y}<br>sum of count=%{z}<extra></extra>\", \"name\": \"\", \"nbinsy\": 24, \"type\": \"histogram2d\", \"x\": [\"FRI\", \"FRI\", \"FRI\", \"FRI\", \"FRI\", \"FRI\", \"FRI\", \"FRI\", \"FRI\", \"FRI\", \"FRI\", \"FRI\", \"FRI\", \"FRI\", \"FRI\", \"FRI\", \"FRI\", \"FRI\", \"FRI\", \"FRI\", \"FRI\", \"FRI\", \"FRI\", \"FRI\", \"MON\", \"MON\", \"MON\", \"MON\", \"MON\", \"MON\", \"MON\", \"MON\", \"MON\", \"MON\", \"MON\", \"MON\", \"MON\", \"MON\", \"MON\", \"MON\", \"MON\", \"MON\", \"MON\", \"MON\", \"MON\", \"MON\", \"MON\", \"MON\", \"SAT\", \"SAT\", \"SAT\", \"SAT\", \"SAT\", \"SAT\", \"SAT\", \"SAT\", \"SAT\", \"SAT\", \"SAT\", \"SAT\", \"SAT\", \"SAT\", \"SAT\", \"SAT\", \"SAT\", \"SAT\", \"SAT\", \"SAT\", \"SAT\", \"SAT\", \"SAT\", \"SAT\", \"SUN\", \"SUN\", \"SUN\", \"SUN\", \"SUN\", \"SUN\", \"SUN\", \"SUN\", \"SUN\", \"SUN\", \"SUN\", \"SUN\", \"SUN\", \"SUN\", \"SUN\", \"SUN\", \"SUN\", \"SUN\", \"SUN\", \"SUN\", \"SUN\", \"SUN\", \"SUN\", \"SUN\", \"THU\", \"THU\", \"THU\", \"THU\", \"THU\", \"THU\", \"THU\", \"THU\", \"THU\", \"THU\", \"THU\", \"THU\", \"THU\", \"THU\", \"THU\", \"THU\", \"THU\", \"THU\", \"THU\", \"THU\", \"THU\", \"THU\", \"THU\", \"THU\", \"TUE\", \"TUE\", \"TUE\", \"TUE\", \"TUE\", \"TUE\", \"TUE\", \"TUE\", \"TUE\", \"TUE\", \"TUE\", \"TUE\", \"TUE\", \"TUE\", \"TUE\", \"TUE\", \"TUE\", \"TUE\", \"TUE\", \"TUE\", \"TUE\", \"TUE\", \"TUE\", \"TUE\", \"WED\", \"WED\", \"WED\", \"WED\", \"WED\", \"WED\", \"WED\", \"WED\", \"WED\", \"WED\", \"WED\", \"WED\", \"WED\", \"WED\", \"WED\", \"WED\", \"WED\", \"WED\", \"WED\", \"WED\", \"WED\", \"WED\", \"WED\", \"WED\"], \"xaxis\": \"x3\", \"xbingroup\": \"x\", \"y\": [\"0.0t\", \"1.0t\", \"2.0t\", \"3.0t\", \"4.0t\", \"5.0t\", \"6.0t\", \"7.0t\", \"8.0t\", \"9.0t\", \"10.0t\", \"11.0t\", \"12.0t\", \"13.0t\", \"14.0t\", \"15.0t\", \"16.0t\", \"17.0t\", \"18.0t\", \"19.0t\", \"20.0t\", \"21.0t\", \"22.0t\", \"23.0t\", \"0.0t\", \"1.0t\", \"2.0t\", \"3.0t\", \"4.0t\", \"5.0t\", \"6.0t\", \"7.0t\", \"8.0t\", \"9.0t\", \"10.0t\", \"11.0t\", \"12.0t\", \"13.0t\", \"14.0t\", \"15.0t\", \"16.0t\", \"17.0t\", \"18.0t\", \"19.0t\", \"20.0t\", \"21.0t\", \"22.0t\", \"23.0t\", \"0.0t\", \"1.0t\", \"2.0t\", \"3.0t\", \"4.0t\", \"5.0t\", \"6.0t\", \"7.0t\", \"8.0t\", \"9.0t\", \"10.0t\", \"11.0t\", \"12.0t\", \"13.0t\", \"14.0t\", \"15.0t\", \"16.0t\", \"17.0t\", \"18.0t\", \"19.0t\", \"20.0t\", \"21.0t\", \"22.0t\", \"23.0t\", \"0.0t\", \"1.0t\", \"2.0t\", \"3.0t\", \"4.0t\", \"5.0t\", \"6.0t\", \"7.0t\", \"8.0t\", \"9.0t\", \"10.0t\", \"11.0t\", \"12.0t\", \"13.0t\", \"14.0t\", \"15.0t\", \"16.0t\", \"17.0t\", \"18.0t\", \"19.0t\", \"20.0t\", \"21.0t\", \"22.0t\", \"23.0t\", \"0.0t\", \"1.0t\", \"2.0t\", \"3.0t\", \"4.0t\", \"5.0t\", \"6.0t\", \"7.0t\", \"8.0t\", \"9.0t\", \"10.0t\", \"11.0t\", \"12.0t\", \"13.0t\", \"14.0t\", \"15.0t\", \"16.0t\", \"17.0t\", \"18.0t\", \"19.0t\", \"20.0t\", \"21.0t\", \"22.0t\", \"23.0t\", \"0.0t\", \"1.0t\", \"2.0t\", \"3.0t\", \"4.0t\", \"5.0t\", \"6.0t\", \"7.0t\", \"8.0t\", \"9.0t\", \"10.0t\", \"11.0t\", \"12.0t\", \"13.0t\", \"14.0t\", \"15.0t\", \"16.0t\", \"17.0t\", \"18.0t\", \"19.0t\", \"20.0t\", \"21.0t\", \"22.0t\", \"23.0t\", \"0.0t\", \"1.0t\", \"2.0t\", \"3.0t\", \"4.0t\", \"5.0t\", \"6.0t\", \"7.0t\", \"8.0t\", \"9.0t\", \"10.0t\", \"11.0t\", \"12.0t\", \"13.0t\", \"14.0t\", \"15.0t\", \"16.0t\", \"17.0t\", \"18.0t\", \"19.0t\", \"20.0t\", \"21.0t\", \"22.0t\", \"23.0t\"], \"yaxis\": \"y3\", \"ybingroup\": \"y\", \"z\": [912, 478, 464, 386, 239, 218, 218, 316, 496, 456, 552, 516, 1076, 581, 669, 749, 752, 781, 1035, 797, 871, 730, 847, 694, 864, 448, 456, 331, 255, 224, 257, 323, 483, 491, 498, 523, 1209, 609, 646, 713, 694, 784, 793, 761, 836, 755, 715, 662, 958, 603, 604, 415, 296, 212, 173, 213, 409, 373, 514, 449, 936, 504, 617, 688, 664, 748, 765, 716, 729, 701, 853, 769, 956, 668, 654, 481, 348, 249, 213, 231, 348, 343, 411, 459, 919, 515, 590, 588, 591, 692, 851, 767, 757, 761, 754, 669, 843, 442, 444, 284, 255, 219, 218, 285, 470, 434, 515, 542, 1091, 594, 608, 696, 737, 719, 937, 779, 839, 701, 849, 714, 839, 423, 374, 266, 240, 207, 242, 268, 449, 450, 529, 553, 1109, 654, 687, 693, 725, 775, 826, 782, 790, 757, 780, 613, 907, 463, 436, 324, 235, 228, 272, 293, 500, 468, 487, 537, 1190, 640, 697, 689, 689, 806, 882, 739, 806, 756, 755, 648]}],\n",
       "                        {\"annotations\": [{\"font\": {}, \"showarrow\": false, \"text\": \"year=2018.0\", \"x\": 0.15999999999999998, \"xanchor\": \"center\", \"xref\": \"paper\", \"y\": 1.0, \"yanchor\": \"bottom\", \"yref\": \"paper\"}, {\"font\": {}, \"showarrow\": false, \"text\": \"year=2019.0\", \"x\": 0.49999999999999994, \"xanchor\": \"center\", \"xref\": \"paper\", \"y\": 1.0, \"yanchor\": \"bottom\", \"yref\": \"paper\"}, {\"font\": {}, \"showarrow\": false, \"text\": \"year=2020.0\", \"x\": 0.8399999999999999, \"xanchor\": \"center\", \"xref\": \"paper\", \"y\": 1.0, \"yanchor\": \"bottom\", \"yref\": \"paper\"}], \"coloraxis\": {\"colorbar\": {\"title\": {\"text\": \"sum of count\"}}, \"colorscale\": [[0.0, \"rgb(210, 251, 212)\"], [0.16666666666666666, \"rgb(165, 219, 194)\"], [0.3333333333333333, \"rgb(123, 188, 176)\"], [0.5, \"rgb(85, 156, 158)\"], [0.6666666666666666, \"rgb(58, 124, 137)\"], [0.8333333333333334, \"rgb(35, 93, 114)\"], [1.0, \"rgb(18, 63, 90)\"]]}, \"height\": 600, \"legend\": {\"tracegroupgap\": 0}, \"margin\": {\"t\": 60}, \"template\": {\"data\": {\"bar\": [{\"error_x\": {\"color\": \"#2a3f5f\"}, \"error_y\": {\"color\": \"#2a3f5f\"}, \"marker\": {\"line\": {\"color\": \"#E5ECF6\", \"width\": 0.5}}, \"type\": \"bar\"}], \"barpolar\": [{\"marker\": {\"line\": {\"color\": \"#E5ECF6\", \"width\": 0.5}}, \"type\": \"barpolar\"}], \"carpet\": [{\"aaxis\": {\"endlinecolor\": \"#2a3f5f\", \"gridcolor\": \"white\", \"linecolor\": \"white\", \"minorgridcolor\": \"white\", \"startlinecolor\": \"#2a3f5f\"}, \"baxis\": {\"endlinecolor\": \"#2a3f5f\", \"gridcolor\": \"white\", \"linecolor\": \"white\", \"minorgridcolor\": \"white\", \"startlinecolor\": \"#2a3f5f\"}, \"type\": \"carpet\"}], \"choropleth\": [{\"colorbar\": {\"outlinewidth\": 0, \"ticks\": \"\"}, \"type\": \"choropleth\"}], \"contour\": [{\"colorbar\": {\"outlinewidth\": 0, \"ticks\": \"\"}, \"colorscale\": [[0.0, \"#0d0887\"], [0.1111111111111111, \"#46039f\"], [0.2222222222222222, \"#7201a8\"], [0.3333333333333333, \"#9c179e\"], [0.4444444444444444, \"#bd3786\"], [0.5555555555555556, \"#d8576b\"], [0.6666666666666666, \"#ed7953\"], [0.7777777777777778, \"#fb9f3a\"], [0.8888888888888888, \"#fdca26\"], [1.0, \"#f0f921\"]], \"type\": \"contour\"}], \"contourcarpet\": [{\"colorbar\": {\"outlinewidth\": 0, \"ticks\": \"\"}, \"type\": \"contourcarpet\"}], \"heatmap\": [{\"colorbar\": {\"outlinewidth\": 0, \"ticks\": \"\"}, \"colorscale\": [[0.0, \"#0d0887\"], [0.1111111111111111, \"#46039f\"], [0.2222222222222222, \"#7201a8\"], [0.3333333333333333, \"#9c179e\"], [0.4444444444444444, \"#bd3786\"], [0.5555555555555556, \"#d8576b\"], [0.6666666666666666, \"#ed7953\"], [0.7777777777777778, \"#fb9f3a\"], [0.8888888888888888, \"#fdca26\"], [1.0, \"#f0f921\"]], \"type\": \"heatmap\"}], \"heatmapgl\": [{\"colorbar\": {\"outlinewidth\": 0, \"ticks\": \"\"}, \"colorscale\": [[0.0, \"#0d0887\"], [0.1111111111111111, \"#46039f\"], [0.2222222222222222, \"#7201a8\"], [0.3333333333333333, \"#9c179e\"], [0.4444444444444444, \"#bd3786\"], [0.5555555555555556, \"#d8576b\"], [0.6666666666666666, \"#ed7953\"], [0.7777777777777778, \"#fb9f3a\"], [0.8888888888888888, \"#fdca26\"], [1.0, \"#f0f921\"]], \"type\": \"heatmapgl\"}], \"histogram\": [{\"marker\": {\"colorbar\": {\"outlinewidth\": 0, \"ticks\": \"\"}}, \"type\": \"histogram\"}], \"histogram2d\": [{\"colorbar\": {\"outlinewidth\": 0, \"ticks\": \"\"}, \"colorscale\": [[0.0, \"#0d0887\"], [0.1111111111111111, \"#46039f\"], [0.2222222222222222, \"#7201a8\"], [0.3333333333333333, \"#9c179e\"], [0.4444444444444444, \"#bd3786\"], [0.5555555555555556, \"#d8576b\"], [0.6666666666666666, \"#ed7953\"], [0.7777777777777778, \"#fb9f3a\"], [0.8888888888888888, \"#fdca26\"], [1.0, \"#f0f921\"]], \"type\": \"histogram2d\"}], \"histogram2dcontour\": [{\"colorbar\": {\"outlinewidth\": 0, \"ticks\": \"\"}, \"colorscale\": [[0.0, \"#0d0887\"], [0.1111111111111111, \"#46039f\"], [0.2222222222222222, \"#7201a8\"], [0.3333333333333333, \"#9c179e\"], [0.4444444444444444, \"#bd3786\"], [0.5555555555555556, \"#d8576b\"], [0.6666666666666666, \"#ed7953\"], [0.7777777777777778, \"#fb9f3a\"], [0.8888888888888888, \"#fdca26\"], [1.0, \"#f0f921\"]], \"type\": \"histogram2dcontour\"}], \"mesh3d\": [{\"colorbar\": {\"outlinewidth\": 0, \"ticks\": \"\"}, \"type\": \"mesh3d\"}], \"parcoords\": [{\"line\": {\"colorbar\": {\"outlinewidth\": 0, \"ticks\": \"\"}}, \"type\": \"parcoords\"}], \"pie\": [{\"automargin\": true, \"type\": \"pie\"}], \"scatter\": [{\"marker\": {\"colorbar\": {\"outlinewidth\": 0, \"ticks\": \"\"}}, \"type\": \"scatter\"}], \"scatter3d\": [{\"line\": {\"colorbar\": {\"outlinewidth\": 0, \"ticks\": \"\"}}, \"marker\": {\"colorbar\": {\"outlinewidth\": 0, \"ticks\": \"\"}}, \"type\": \"scatter3d\"}], \"scattercarpet\": [{\"marker\": {\"colorbar\": {\"outlinewidth\": 0, \"ticks\": \"\"}}, \"type\": \"scattercarpet\"}], \"scattergeo\": [{\"marker\": {\"colorbar\": {\"outlinewidth\": 0, \"ticks\": \"\"}}, \"type\": \"scattergeo\"}], \"scattergl\": [{\"marker\": {\"colorbar\": {\"outlinewidth\": 0, \"ticks\": \"\"}}, \"type\": \"scattergl\"}], \"scattermapbox\": [{\"marker\": {\"colorbar\": {\"outlinewidth\": 0, \"ticks\": \"\"}}, \"type\": \"scattermapbox\"}], \"scatterpolar\": [{\"marker\": {\"colorbar\": {\"outlinewidth\": 0, \"ticks\": \"\"}}, \"type\": \"scatterpolar\"}], \"scatterpolargl\": [{\"marker\": {\"colorbar\": {\"outlinewidth\": 0, \"ticks\": \"\"}}, \"type\": \"scatterpolargl\"}], \"scatterternary\": [{\"marker\": {\"colorbar\": {\"outlinewidth\": 0, \"ticks\": \"\"}}, \"type\": \"scatterternary\"}], \"surface\": [{\"colorbar\": {\"outlinewidth\": 0, \"ticks\": \"\"}, \"colorscale\": [[0.0, \"#0d0887\"], [0.1111111111111111, \"#46039f\"], [0.2222222222222222, \"#7201a8\"], [0.3333333333333333, \"#9c179e\"], [0.4444444444444444, \"#bd3786\"], [0.5555555555555556, \"#d8576b\"], [0.6666666666666666, \"#ed7953\"], [0.7777777777777778, \"#fb9f3a\"], [0.8888888888888888, \"#fdca26\"], [1.0, \"#f0f921\"]], \"type\": \"surface\"}], \"table\": [{\"cells\": {\"fill\": {\"color\": \"#EBF0F8\"}, \"line\": {\"color\": \"white\"}}, \"header\": {\"fill\": {\"color\": \"#C8D4E3\"}, \"line\": {\"color\": \"white\"}}, \"type\": \"table\"}]}, \"layout\": {\"annotationdefaults\": {\"arrowcolor\": \"#2a3f5f\", \"arrowhead\": 0, \"arrowwidth\": 1}, \"coloraxis\": {\"colorbar\": {\"outlinewidth\": 0, \"ticks\": \"\"}}, \"colorscale\": {\"diverging\": [[0, \"#8e0152\"], [0.1, \"#c51b7d\"], [0.2, \"#de77ae\"], [0.3, \"#f1b6da\"], [0.4, \"#fde0ef\"], [0.5, \"#f7f7f7\"], [0.6, \"#e6f5d0\"], [0.7, \"#b8e186\"], [0.8, \"#7fbc41\"], [0.9, \"#4d9221\"], [1, \"#276419\"]], \"sequential\": [[0.0, \"#0d0887\"], [0.1111111111111111, \"#46039f\"], [0.2222222222222222, \"#7201a8\"], [0.3333333333333333, \"#9c179e\"], [0.4444444444444444, \"#bd3786\"], [0.5555555555555556, \"#d8576b\"], [0.6666666666666666, \"#ed7953\"], [0.7777777777777778, \"#fb9f3a\"], [0.8888888888888888, \"#fdca26\"], [1.0, \"#f0f921\"]], \"sequentialminus\": [[0.0, \"#0d0887\"], [0.1111111111111111, \"#46039f\"], [0.2222222222222222, \"#7201a8\"], [0.3333333333333333, \"#9c179e\"], [0.4444444444444444, \"#bd3786\"], [0.5555555555555556, \"#d8576b\"], [0.6666666666666666, \"#ed7953\"], [0.7777777777777778, \"#fb9f3a\"], [0.8888888888888888, \"#fdca26\"], [1.0, \"#f0f921\"]]}, \"colorway\": [\"#636efa\", \"#EF553B\", \"#00cc96\", \"#ab63fa\", \"#FFA15A\", \"#19d3f3\", \"#FF6692\", \"#B6E880\", \"#FF97FF\", \"#FECB52\"], \"font\": {\"color\": \"#2a3f5f\"}, \"geo\": {\"bgcolor\": \"white\", \"lakecolor\": \"white\", \"landcolor\": \"#E5ECF6\", \"showlakes\": true, \"showland\": true, \"subunitcolor\": \"white\"}, \"hoverlabel\": {\"align\": \"left\"}, \"hovermode\": \"closest\", \"mapbox\": {\"style\": \"light\"}, \"paper_bgcolor\": \"white\", \"plot_bgcolor\": \"#E5ECF6\", \"polar\": {\"angularaxis\": {\"gridcolor\": \"white\", \"linecolor\": \"white\", \"ticks\": \"\"}, \"bgcolor\": \"#E5ECF6\", \"radialaxis\": {\"gridcolor\": \"white\", \"linecolor\": \"white\", \"ticks\": \"\"}}, \"scene\": {\"xaxis\": {\"backgroundcolor\": \"#E5ECF6\", \"gridcolor\": \"white\", \"gridwidth\": 2, \"linecolor\": \"white\", \"showbackground\": true, \"ticks\": \"\", \"zerolinecolor\": \"white\"}, \"yaxis\": {\"backgroundcolor\": \"#E5ECF6\", \"gridcolor\": \"white\", \"gridwidth\": 2, \"linecolor\": \"white\", \"showbackground\": true, \"ticks\": \"\", \"zerolinecolor\": \"white\"}, \"zaxis\": {\"backgroundcolor\": \"#E5ECF6\", \"gridcolor\": \"white\", \"gridwidth\": 2, \"linecolor\": \"white\", \"showbackground\": true, \"ticks\": \"\", \"zerolinecolor\": \"white\"}}, \"shapedefaults\": {\"line\": {\"color\": \"#2a3f5f\"}}, \"ternary\": {\"aaxis\": {\"gridcolor\": \"white\", \"linecolor\": \"white\", \"ticks\": \"\"}, \"baxis\": {\"gridcolor\": \"white\", \"linecolor\": \"white\", \"ticks\": \"\"}, \"bgcolor\": \"#E5ECF6\", \"caxis\": {\"gridcolor\": \"white\", \"linecolor\": \"white\", \"ticks\": \"\"}}, \"title\": {\"x\": 0.05}, \"xaxis\": {\"automargin\": true, \"gridcolor\": \"white\", \"linecolor\": \"white\", \"ticks\": \"\", \"title\": {\"standoff\": 15}, \"zerolinecolor\": \"white\", \"zerolinewidth\": 2}, \"yaxis\": {\"automargin\": true, \"gridcolor\": \"white\", \"linecolor\": \"white\", \"ticks\": \"\", \"title\": {\"standoff\": 15}, \"zerolinecolor\": \"white\", \"zerolinewidth\": 2}}}, \"xaxis\": {\"anchor\": \"y\", \"domain\": [0.0, 0.31999999999999995], \"title\": {\"text\": \"day\"}}, \"xaxis2\": {\"anchor\": \"y2\", \"domain\": [0.33999999999999997, 0.6599999999999999], \"matches\": \"x\", \"title\": {\"text\": \"day\"}}, \"xaxis3\": {\"anchor\": \"y3\", \"domain\": [0.6799999999999999, 0.9999999999999999], \"matches\": \"x\", \"title\": {\"text\": \"day\"}}, \"yaxis\": {\"anchor\": \"x\", \"domain\": [0.0, 1.0], \"nticks\": 24, \"title\": {\"text\": \"hour\"}}, \"yaxis2\": {\"anchor\": \"x2\", \"domain\": [0.0, 1.0], \"matches\": \"y\", \"showticklabels\": false}, \"yaxis3\": {\"anchor\": \"x3\", \"domain\": [0.0, 1.0], \"matches\": \"y\", \"showticklabels\": false}},\n",
       "                        {\"responsive\": true}\n",
       "                    ).then(function(){\n",
       "                            \n",
       "var gd = document.getElementById('1a1120f5-f990-4a4e-b15e-924d56116261');\n",
       "var x = new MutationObserver(function (mutations, observer) {{\n",
       "        var display = window.getComputedStyle(gd).display;\n",
       "        if (!display || display === 'none') {{\n",
       "            console.log([gd, 'removed!']);\n",
       "            Plotly.purge(gd);\n",
       "            observer.disconnect();\n",
       "        }}\n",
       "}});\n",
       "\n",
       "// Listen for the removal of the full notebook cells\n",
       "var notebookContainer = gd.closest('#notebook-container');\n",
       "if (notebookContainer) {{\n",
       "    x.observe(notebookContainer, {childList: true});\n",
       "}}\n",
       "\n",
       "// Listen for the clearing of the current output cell\n",
       "var outputEl = gd.closest('.output');\n",
       "if (outputEl) {{\n",
       "    x.observe(outputEl, {childList: true});\n",
       "}}\n",
       "\n",
       "                        })\n",
       "                };\n",
       "                });\n",
       "            </script>\n",
       "        </div>"
      ]
     },
     "metadata": {},
     "output_type": "display_data"
    }
   ],
   "source": [
    "fig = px.density_heatmap(all_crime_day, x='day', y='hour',z='count', facet_col='year',nbinsy=24, color_continuous_scale='Darkmint',height=600);\n",
    "fig.update_layout(yaxis_nticks=24);\n",
    "fig.show();"
   ]
  },
  {
   "cell_type": "code",
   "execution_count": 69,
   "id": "historic-rotation",
   "metadata": {
    "execution": {
     "iopub.execute_input": "2021-03-30T02:13:29.665215Z",
     "iopub.status.busy": "2021-03-30T02:13:29.665215Z",
     "iopub.status.idle": "2021-03-30T02:13:29.721591Z",
     "shell.execute_reply": "2021-03-30T02:13:29.720594Z",
     "shell.execute_reply.started": "2021-03-30T02:13:29.665215Z"
    }
   },
   "outputs": [
    {
     "data": {
      "application/vnd.plotly.v1+json": {
       "config": {
        "plotlyServerURL": "https://plotly.com"
       },
       "data": [
        {
         "coloraxis": "coloraxis",
         "histfunc": "sum",
         "hovertemplate": "day=%{x}<br>hour=%{y}<br>sum of count=%{z}<extra></extra>",
         "name": "",
         "type": "histogram2d",
         "x": [
          "FRI",
          "FRI",
          "FRI",
          "FRI",
          "FRI",
          "FRI",
          "FRI",
          "FRI",
          "FRI",
          "FRI",
          "FRI",
          "FRI",
          "FRI",
          "FRI",
          "FRI",
          "FRI",
          "FRI",
          "FRI",
          "FRI",
          "FRI",
          "FRI",
          "FRI",
          "FRI",
          "FRI",
          "MON",
          "MON",
          "MON",
          "MON",
          "MON",
          "MON",
          "MON",
          "MON",
          "MON",
          "MON",
          "MON",
          "MON",
          "MON",
          "MON",
          "MON",
          "MON",
          "MON",
          "MON",
          "MON",
          "MON",
          "MON",
          "MON",
          "MON",
          "MON",
          "SAT",
          "SAT",
          "SAT",
          "SAT",
          "SAT",
          "SAT",
          "SAT",
          "SAT",
          "SAT",
          "SAT",
          "SAT",
          "SAT",
          "SAT",
          "SAT",
          "SAT",
          "SAT",
          "SAT",
          "SAT",
          "SAT",
          "SAT",
          "SAT",
          "SAT",
          "SAT",
          "SAT",
          "SUN",
          "SUN",
          "SUN",
          "SUN",
          "SUN",
          "SUN",
          "SUN",
          "SUN",
          "SUN",
          "SUN",
          "SUN",
          "SUN",
          "SUN",
          "SUN",
          "SUN",
          "SUN",
          "SUN",
          "SUN",
          "SUN",
          "SUN",
          "SUN",
          "SUN",
          "SUN",
          "SUN",
          "THU",
          "THU",
          "THU",
          "THU",
          "THU",
          "THU",
          "THU",
          "THU",
          "THU",
          "THU",
          "THU",
          "THU",
          "THU",
          "THU",
          "THU",
          "THU",
          "THU",
          "THU",
          "THU",
          "THU",
          "THU",
          "THU",
          "THU",
          "THU",
          "TUE",
          "TUE",
          "TUE",
          "TUE",
          "TUE",
          "TUE",
          "TUE",
          "TUE",
          "TUE",
          "TUE",
          "TUE",
          "TUE",
          "TUE",
          "TUE",
          "TUE",
          "TUE",
          "TUE",
          "TUE",
          "TUE",
          "TUE",
          "TUE",
          "TUE",
          "TUE",
          "TUE",
          "WED",
          "WED",
          "WED",
          "WED",
          "WED",
          "WED",
          "WED",
          "WED",
          "WED",
          "WED",
          "WED",
          "WED",
          "WED",
          "WED",
          "WED",
          "WED",
          "WED",
          "WED",
          "WED",
          "WED",
          "WED",
          "WED",
          "WED",
          "WED"
         ],
         "xaxis": "x",
         "xbingroup": "x",
         "y": [
          "0.0t",
          "1.0t",
          "2.0t",
          "3.0t",
          "4.0t",
          "5.0t",
          "6.0t",
          "7.0t",
          "8.0t",
          "9.0t",
          "10.0t",
          "11.0t",
          "12.0t",
          "13.0t",
          "14.0t",
          "15.0t",
          "16.0t",
          "17.0t",
          "18.0t",
          "19.0t",
          "20.0t",
          "21.0t",
          "22.0t",
          "23.0t",
          "0.0t",
          "1.0t",
          "2.0t",
          "3.0t",
          "4.0t",
          "5.0t",
          "6.0t",
          "7.0t",
          "8.0t",
          "9.0t",
          "10.0t",
          "11.0t",
          "12.0t",
          "13.0t",
          "14.0t",
          "15.0t",
          "16.0t",
          "17.0t",
          "18.0t",
          "19.0t",
          "20.0t",
          "21.0t",
          "22.0t",
          "23.0t",
          "0.0t",
          "1.0t",
          "2.0t",
          "3.0t",
          "4.0t",
          "5.0t",
          "6.0t",
          "7.0t",
          "8.0t",
          "9.0t",
          "10.0t",
          "11.0t",
          "12.0t",
          "13.0t",
          "14.0t",
          "15.0t",
          "16.0t",
          "17.0t",
          "18.0t",
          "19.0t",
          "20.0t",
          "21.0t",
          "22.0t",
          "23.0t",
          "0.0t",
          "1.0t",
          "2.0t",
          "3.0t",
          "4.0t",
          "5.0t",
          "6.0t",
          "7.0t",
          "8.0t",
          "9.0t",
          "10.0t",
          "11.0t",
          "12.0t",
          "13.0t",
          "14.0t",
          "15.0t",
          "16.0t",
          "17.0t",
          "18.0t",
          "19.0t",
          "20.0t",
          "21.0t",
          "22.0t",
          "23.0t",
          "0.0t",
          "1.0t",
          "2.0t",
          "3.0t",
          "4.0t",
          "5.0t",
          "6.0t",
          "7.0t",
          "8.0t",
          "9.0t",
          "10.0t",
          "11.0t",
          "12.0t",
          "13.0t",
          "14.0t",
          "15.0t",
          "16.0t",
          "17.0t",
          "18.0t",
          "19.0t",
          "20.0t",
          "21.0t",
          "22.0t",
          "23.0t",
          "0.0t",
          "1.0t",
          "2.0t",
          "3.0t",
          "4.0t",
          "5.0t",
          "6.0t",
          "7.0t",
          "8.0t",
          "9.0t",
          "10.0t",
          "11.0t",
          "12.0t",
          "13.0t",
          "14.0t",
          "15.0t",
          "16.0t",
          "17.0t",
          "18.0t",
          "19.0t",
          "20.0t",
          "21.0t",
          "22.0t",
          "23.0t",
          "0.0t",
          "1.0t",
          "2.0t",
          "3.0t",
          "4.0t",
          "5.0t",
          "6.0t",
          "7.0t",
          "8.0t",
          "9.0t",
          "10.0t",
          "11.0t",
          "12.0t",
          "13.0t",
          "14.0t",
          "15.0t",
          "16.0t",
          "17.0t",
          "18.0t",
          "19.0t",
          "20.0t",
          "21.0t",
          "22.0t",
          "23.0t"
         ],
         "yaxis": "y",
         "ybingroup": "y",
         "z": [
          828,
          602,
          540,
          336,
          231,
          175,
          183,
          290,
          473,
          438,
          556,
          565,
          1099,
          632,
          662,
          709,
          692,
          868,
          980,
          789,
          816,
          825,
          826,
          829,
          856,
          453,
          473,
          294,
          200,
          188,
          199,
          286,
          452,
          452,
          529,
          536,
          1091,
          547,
          615,
          689,
          759,
          841,
          908,
          864,
          817,
          774,
          865,
          666,
          961,
          681,
          762,
          512,
          340,
          235,
          172,
          225,
          330,
          396,
          520,
          469,
          894,
          565,
          625,
          659,
          680,
          784,
          767,
          746,
          838,
          787,
          855,
          806,
          980,
          797,
          749,
          546,
          322,
          261,
          187,
          209,
          273,
          341,
          391,
          390,
          785,
          475,
          490,
          592,
          617,
          740,
          829,
          724,
          797,
          750,
          827,
          726,
          702,
          460,
          450,
          314,
          214,
          160,
          224,
          260,
          420,
          417,
          527,
          503,
          1055,
          606,
          632,
          647,
          700,
          735,
          876,
          822,
          885,
          839,
          869,
          779,
          731,
          412,
          361,
          239,
          205,
          188,
          171,
          279,
          437,
          442,
          482,
          541,
          971,
          593,
          619,
          617,
          677,
          815,
          824,
          853,
          849,
          814,
          857,
          672,
          708,
          490,
          396,
          283,
          191,
          146,
          190,
          311,
          434,
          459,
          508,
          524,
          1009,
          580,
          596,
          643,
          693,
          814,
          848,
          860,
          846,
          795,
          877,
          666
         ]
        }
       ],
       "layout": {
        "autosize": true,
        "coloraxis": {
         "colorbar": {
          "title": {
           "text": "sum of count"
          }
         },
         "colorscale": [
          [
           0,
           "rgb(210, 251, 212)"
          ],
          [
           0.16666666666666666,
           "rgb(165, 219, 194)"
          ],
          [
           0.3333333333333333,
           "rgb(123, 188, 176)"
          ],
          [
           0.5,
           "rgb(85, 156, 158)"
          ],
          [
           0.6666666666666666,
           "rgb(58, 124, 137)"
          ],
          [
           0.8333333333333334,
           "rgb(35, 93, 114)"
          ],
          [
           1,
           "rgb(18, 63, 90)"
          ]
         ]
        },
        "legend": {
         "tracegroupgap": 0
        },
        "margin": {
         "t": 60
        },
        "template": {
         "data": {
          "bar": [
           {
            "error_x": {
             "color": "#2a3f5f"
            },
            "error_y": {
             "color": "#2a3f5f"
            },
            "marker": {
             "line": {
              "color": "#E5ECF6",
              "width": 0.5
             }
            },
            "type": "bar"
           }
          ],
          "barpolar": [
           {
            "marker": {
             "line": {
              "color": "#E5ECF6",
              "width": 0.5
             }
            },
            "type": "barpolar"
           }
          ],
          "carpet": [
           {
            "aaxis": {
             "endlinecolor": "#2a3f5f",
             "gridcolor": "white",
             "linecolor": "white",
             "minorgridcolor": "white",
             "startlinecolor": "#2a3f5f"
            },
            "baxis": {
             "endlinecolor": "#2a3f5f",
             "gridcolor": "white",
             "linecolor": "white",
             "minorgridcolor": "white",
             "startlinecolor": "#2a3f5f"
            },
            "type": "carpet"
           }
          ],
          "choropleth": [
           {
            "colorbar": {
             "outlinewidth": 0,
             "ticks": ""
            },
            "type": "choropleth"
           }
          ],
          "contour": [
           {
            "colorbar": {
             "outlinewidth": 0,
             "ticks": ""
            },
            "colorscale": [
             [
              0,
              "#0d0887"
             ],
             [
              0.1111111111111111,
              "#46039f"
             ],
             [
              0.2222222222222222,
              "#7201a8"
             ],
             [
              0.3333333333333333,
              "#9c179e"
             ],
             [
              0.4444444444444444,
              "#bd3786"
             ],
             [
              0.5555555555555556,
              "#d8576b"
             ],
             [
              0.6666666666666666,
              "#ed7953"
             ],
             [
              0.7777777777777778,
              "#fb9f3a"
             ],
             [
              0.8888888888888888,
              "#fdca26"
             ],
             [
              1,
              "#f0f921"
             ]
            ],
            "type": "contour"
           }
          ],
          "contourcarpet": [
           {
            "colorbar": {
             "outlinewidth": 0,
             "ticks": ""
            },
            "type": "contourcarpet"
           }
          ],
          "heatmap": [
           {
            "colorbar": {
             "outlinewidth": 0,
             "ticks": ""
            },
            "colorscale": [
             [
              0,
              "#0d0887"
             ],
             [
              0.1111111111111111,
              "#46039f"
             ],
             [
              0.2222222222222222,
              "#7201a8"
             ],
             [
              0.3333333333333333,
              "#9c179e"
             ],
             [
              0.4444444444444444,
              "#bd3786"
             ],
             [
              0.5555555555555556,
              "#d8576b"
             ],
             [
              0.6666666666666666,
              "#ed7953"
             ],
             [
              0.7777777777777778,
              "#fb9f3a"
             ],
             [
              0.8888888888888888,
              "#fdca26"
             ],
             [
              1,
              "#f0f921"
             ]
            ],
            "type": "heatmap"
           }
          ],
          "heatmapgl": [
           {
            "colorbar": {
             "outlinewidth": 0,
             "ticks": ""
            },
            "colorscale": [
             [
              0,
              "#0d0887"
             ],
             [
              0.1111111111111111,
              "#46039f"
             ],
             [
              0.2222222222222222,
              "#7201a8"
             ],
             [
              0.3333333333333333,
              "#9c179e"
             ],
             [
              0.4444444444444444,
              "#bd3786"
             ],
             [
              0.5555555555555556,
              "#d8576b"
             ],
             [
              0.6666666666666666,
              "#ed7953"
             ],
             [
              0.7777777777777778,
              "#fb9f3a"
             ],
             [
              0.8888888888888888,
              "#fdca26"
             ],
             [
              1,
              "#f0f921"
             ]
            ],
            "type": "heatmapgl"
           }
          ],
          "histogram": [
           {
            "marker": {
             "colorbar": {
              "outlinewidth": 0,
              "ticks": ""
             }
            },
            "type": "histogram"
           }
          ],
          "histogram2d": [
           {
            "colorbar": {
             "outlinewidth": 0,
             "ticks": ""
            },
            "colorscale": [
             [
              0,
              "#0d0887"
             ],
             [
              0.1111111111111111,
              "#46039f"
             ],
             [
              0.2222222222222222,
              "#7201a8"
             ],
             [
              0.3333333333333333,
              "#9c179e"
             ],
             [
              0.4444444444444444,
              "#bd3786"
             ],
             [
              0.5555555555555556,
              "#d8576b"
             ],
             [
              0.6666666666666666,
              "#ed7953"
             ],
             [
              0.7777777777777778,
              "#fb9f3a"
             ],
             [
              0.8888888888888888,
              "#fdca26"
             ],
             [
              1,
              "#f0f921"
             ]
            ],
            "type": "histogram2d"
           }
          ],
          "histogram2dcontour": [
           {
            "colorbar": {
             "outlinewidth": 0,
             "ticks": ""
            },
            "colorscale": [
             [
              0,
              "#0d0887"
             ],
             [
              0.1111111111111111,
              "#46039f"
             ],
             [
              0.2222222222222222,
              "#7201a8"
             ],
             [
              0.3333333333333333,
              "#9c179e"
             ],
             [
              0.4444444444444444,
              "#bd3786"
             ],
             [
              0.5555555555555556,
              "#d8576b"
             ],
             [
              0.6666666666666666,
              "#ed7953"
             ],
             [
              0.7777777777777778,
              "#fb9f3a"
             ],
             [
              0.8888888888888888,
              "#fdca26"
             ],
             [
              1,
              "#f0f921"
             ]
            ],
            "type": "histogram2dcontour"
           }
          ],
          "mesh3d": [
           {
            "colorbar": {
             "outlinewidth": 0,
             "ticks": ""
            },
            "type": "mesh3d"
           }
          ],
          "parcoords": [
           {
            "line": {
             "colorbar": {
              "outlinewidth": 0,
              "ticks": ""
             }
            },
            "type": "parcoords"
           }
          ],
          "pie": [
           {
            "automargin": true,
            "type": "pie"
           }
          ],
          "scatter": [
           {
            "marker": {
             "colorbar": {
              "outlinewidth": 0,
              "ticks": ""
             }
            },
            "type": "scatter"
           }
          ],
          "scatter3d": [
           {
            "line": {
             "colorbar": {
              "outlinewidth": 0,
              "ticks": ""
             }
            },
            "marker": {
             "colorbar": {
              "outlinewidth": 0,
              "ticks": ""
             }
            },
            "type": "scatter3d"
           }
          ],
          "scattercarpet": [
           {
            "marker": {
             "colorbar": {
              "outlinewidth": 0,
              "ticks": ""
             }
            },
            "type": "scattercarpet"
           }
          ],
          "scattergeo": [
           {
            "marker": {
             "colorbar": {
              "outlinewidth": 0,
              "ticks": ""
             }
            },
            "type": "scattergeo"
           }
          ],
          "scattergl": [
           {
            "marker": {
             "colorbar": {
              "outlinewidth": 0,
              "ticks": ""
             }
            },
            "type": "scattergl"
           }
          ],
          "scattermapbox": [
           {
            "marker": {
             "colorbar": {
              "outlinewidth": 0,
              "ticks": ""
             }
            },
            "type": "scattermapbox"
           }
          ],
          "scatterpolar": [
           {
            "marker": {
             "colorbar": {
              "outlinewidth": 0,
              "ticks": ""
             }
            },
            "type": "scatterpolar"
           }
          ],
          "scatterpolargl": [
           {
            "marker": {
             "colorbar": {
              "outlinewidth": 0,
              "ticks": ""
             }
            },
            "type": "scatterpolargl"
           }
          ],
          "scatterternary": [
           {
            "marker": {
             "colorbar": {
              "outlinewidth": 0,
              "ticks": ""
             }
            },
            "type": "scatterternary"
           }
          ],
          "surface": [
           {
            "colorbar": {
             "outlinewidth": 0,
             "ticks": ""
            },
            "colorscale": [
             [
              0,
              "#0d0887"
             ],
             [
              0.1111111111111111,
              "#46039f"
             ],
             [
              0.2222222222222222,
              "#7201a8"
             ],
             [
              0.3333333333333333,
              "#9c179e"
             ],
             [
              0.4444444444444444,
              "#bd3786"
             ],
             [
              0.5555555555555556,
              "#d8576b"
             ],
             [
              0.6666666666666666,
              "#ed7953"
             ],
             [
              0.7777777777777778,
              "#fb9f3a"
             ],
             [
              0.8888888888888888,
              "#fdca26"
             ],
             [
              1,
              "#f0f921"
             ]
            ],
            "type": "surface"
           }
          ],
          "table": [
           {
            "cells": {
             "fill": {
              "color": "#EBF0F8"
             },
             "line": {
              "color": "white"
             }
            },
            "header": {
             "fill": {
              "color": "#C8D4E3"
             },
             "line": {
              "color": "white"
             }
            },
            "type": "table"
           }
          ]
         },
         "layout": {
          "annotationdefaults": {
           "arrowcolor": "#2a3f5f",
           "arrowhead": 0,
           "arrowwidth": 1
          },
          "coloraxis": {
           "colorbar": {
            "outlinewidth": 0,
            "ticks": ""
           }
          },
          "colorscale": {
           "diverging": [
            [
             0,
             "#8e0152"
            ],
            [
             0.1,
             "#c51b7d"
            ],
            [
             0.2,
             "#de77ae"
            ],
            [
             0.3,
             "#f1b6da"
            ],
            [
             0.4,
             "#fde0ef"
            ],
            [
             0.5,
             "#f7f7f7"
            ],
            [
             0.6,
             "#e6f5d0"
            ],
            [
             0.7,
             "#b8e186"
            ],
            [
             0.8,
             "#7fbc41"
            ],
            [
             0.9,
             "#4d9221"
            ],
            [
             1,
             "#276419"
            ]
           ],
           "sequential": [
            [
             0,
             "#0d0887"
            ],
            [
             0.1111111111111111,
             "#46039f"
            ],
            [
             0.2222222222222222,
             "#7201a8"
            ],
            [
             0.3333333333333333,
             "#9c179e"
            ],
            [
             0.4444444444444444,
             "#bd3786"
            ],
            [
             0.5555555555555556,
             "#d8576b"
            ],
            [
             0.6666666666666666,
             "#ed7953"
            ],
            [
             0.7777777777777778,
             "#fb9f3a"
            ],
            [
             0.8888888888888888,
             "#fdca26"
            ],
            [
             1,
             "#f0f921"
            ]
           ],
           "sequentialminus": [
            [
             0,
             "#0d0887"
            ],
            [
             0.1111111111111111,
             "#46039f"
            ],
            [
             0.2222222222222222,
             "#7201a8"
            ],
            [
             0.3333333333333333,
             "#9c179e"
            ],
            [
             0.4444444444444444,
             "#bd3786"
            ],
            [
             0.5555555555555556,
             "#d8576b"
            ],
            [
             0.6666666666666666,
             "#ed7953"
            ],
            [
             0.7777777777777778,
             "#fb9f3a"
            ],
            [
             0.8888888888888888,
             "#fdca26"
            ],
            [
             1,
             "#f0f921"
            ]
           ]
          },
          "colorway": [
           "#636efa",
           "#EF553B",
           "#00cc96",
           "#ab63fa",
           "#FFA15A",
           "#19d3f3",
           "#FF6692",
           "#B6E880",
           "#FF97FF",
           "#FECB52"
          ],
          "font": {
           "color": "#2a3f5f"
          },
          "geo": {
           "bgcolor": "white",
           "lakecolor": "white",
           "landcolor": "#E5ECF6",
           "showlakes": true,
           "showland": true,
           "subunitcolor": "white"
          },
          "hoverlabel": {
           "align": "left"
          },
          "hovermode": "closest",
          "mapbox": {
           "style": "light"
          },
          "paper_bgcolor": "white",
          "plot_bgcolor": "#E5ECF6",
          "polar": {
           "angularaxis": {
            "gridcolor": "white",
            "linecolor": "white",
            "ticks": ""
           },
           "bgcolor": "#E5ECF6",
           "radialaxis": {
            "gridcolor": "white",
            "linecolor": "white",
            "ticks": ""
           }
          },
          "scene": {
           "xaxis": {
            "backgroundcolor": "#E5ECF6",
            "gridcolor": "white",
            "gridwidth": 2,
            "linecolor": "white",
            "showbackground": true,
            "ticks": "",
            "zerolinecolor": "white"
           },
           "yaxis": {
            "backgroundcolor": "#E5ECF6",
            "gridcolor": "white",
            "gridwidth": 2,
            "linecolor": "white",
            "showbackground": true,
            "ticks": "",
            "zerolinecolor": "white"
           },
           "zaxis": {
            "backgroundcolor": "#E5ECF6",
            "gridcolor": "white",
            "gridwidth": 2,
            "linecolor": "white",
            "showbackground": true,
            "ticks": "",
            "zerolinecolor": "white"
           }
          },
          "shapedefaults": {
           "line": {
            "color": "#2a3f5f"
           }
          },
          "ternary": {
           "aaxis": {
            "gridcolor": "white",
            "linecolor": "white",
            "ticks": ""
           },
           "baxis": {
            "gridcolor": "white",
            "linecolor": "white",
            "ticks": ""
           },
           "bgcolor": "#E5ECF6",
           "caxis": {
            "gridcolor": "white",
            "linecolor": "white",
            "ticks": ""
           }
          },
          "title": {
           "x": 0.05
          },
          "xaxis": {
           "automargin": true,
           "gridcolor": "white",
           "linecolor": "white",
           "ticks": "",
           "title": {
            "standoff": 15
           },
           "zerolinecolor": "white",
           "zerolinewidth": 2
          },
          "yaxis": {
           "automargin": true,
           "gridcolor": "white",
           "linecolor": "white",
           "ticks": "",
           "title": {
            "standoff": 15
           },
           "zerolinecolor": "white",
           "zerolinewidth": 2
          }
         }
        },
        "xaxis": {
         "anchor": "y",
         "autorange": true,
         "domain": [
          0,
          1
         ],
         "range": [
          -0.5,
          6.5
         ],
         "title": {
          "text": "day"
         },
         "type": "category"
        },
        "yaxis": {
         "anchor": "x",
         "autorange": true,
         "domain": [
          0,
          1
         ],
         "nticks": 24,
         "range": [
          -0.5,
          23.5
         ],
         "title": {
          "text": "hour"
         },
         "type": "category"
        }
       }
      },
      "image/png": "[encoded data removed]",
      "text/html": [
       "<div>\n",
       "        \n",
       "        \n",
       "            <div id=\"f07054e6-04bb-41f7-97f4-502e5bd62639\" class=\"plotly-graph-div\" style=\"height:525px; width:100%;\"></div>\n",
       "            <script type=\"text/javascript\">\n",
       "                require([\"plotly\"], function(Plotly) {\n",
       "                    window.PLOTLYENV=window.PLOTLYENV || {};\n",
       "                    \n",
       "                if (document.getElementById(\"f07054e6-04bb-41f7-97f4-502e5bd62639\")) {\n",
       "                    Plotly.newPlot(\n",
       "                        'f07054e6-04bb-41f7-97f4-502e5bd62639',\n",
       "                        [{\"coloraxis\": \"coloraxis\", \"histfunc\": \"sum\", \"hovertemplate\": \"day=%{x}<br>hour=%{y}<br>sum of count=%{z}<extra></extra>\", \"name\": \"\", \"type\": \"histogram2d\", \"x\": [\"FRI\", \"FRI\", \"FRI\", \"FRI\", \"FRI\", \"FRI\", \"FRI\", \"FRI\", \"FRI\", \"FRI\", \"FRI\", \"FRI\", \"FRI\", \"FRI\", \"FRI\", \"FRI\", \"FRI\", \"FRI\", \"FRI\", \"FRI\", \"FRI\", \"FRI\", \"FRI\", \"FRI\", \"MON\", \"MON\", \"MON\", \"MON\", \"MON\", \"MON\", \"MON\", \"MON\", \"MON\", \"MON\", \"MON\", \"MON\", \"MON\", \"MON\", \"MON\", \"MON\", \"MON\", \"MON\", \"MON\", \"MON\", \"MON\", \"MON\", \"MON\", \"MON\", \"SAT\", \"SAT\", \"SAT\", \"SAT\", \"SAT\", \"SAT\", \"SAT\", \"SAT\", \"SAT\", \"SAT\", \"SAT\", \"SAT\", \"SAT\", \"SAT\", \"SAT\", \"SAT\", \"SAT\", \"SAT\", \"SAT\", \"SAT\", \"SAT\", \"SAT\", \"SAT\", \"SAT\", \"SUN\", \"SUN\", \"SUN\", \"SUN\", \"SUN\", \"SUN\", \"SUN\", \"SUN\", \"SUN\", \"SUN\", \"SUN\", \"SUN\", \"SUN\", \"SUN\", \"SUN\", \"SUN\", \"SUN\", \"SUN\", \"SUN\", \"SUN\", \"SUN\", \"SUN\", \"SUN\", \"SUN\", \"THU\", \"THU\", \"THU\", \"THU\", \"THU\", \"THU\", \"THU\", \"THU\", \"THU\", \"THU\", \"THU\", \"THU\", \"THU\", \"THU\", \"THU\", \"THU\", \"THU\", \"THU\", \"THU\", \"THU\", \"THU\", \"THU\", \"THU\", \"THU\", \"TUE\", \"TUE\", \"TUE\", \"TUE\", \"TUE\", \"TUE\", \"TUE\", \"TUE\", \"TUE\", \"TUE\", \"TUE\", \"TUE\", \"TUE\", \"TUE\", \"TUE\", \"TUE\", \"TUE\", \"TUE\", \"TUE\", \"TUE\", \"TUE\", \"TUE\", \"TUE\", \"TUE\", \"WED\", \"WED\", \"WED\", \"WED\", \"WED\", \"WED\", \"WED\", \"WED\", \"WED\", \"WED\", \"WED\", \"WED\", \"WED\", \"WED\", \"WED\", \"WED\", \"WED\", \"WED\", \"WED\", \"WED\", \"WED\", \"WED\", \"WED\", \"WED\"], \"xaxis\": \"x\", \"xbingroup\": \"x\", \"y\": [\"0.0t\", \"1.0t\", \"2.0t\", \"3.0t\", \"4.0t\", \"5.0t\", \"6.0t\", \"7.0t\", \"8.0t\", \"9.0t\", \"10.0t\", \"11.0t\", \"12.0t\", \"13.0t\", \"14.0t\", \"15.0t\", \"16.0t\", \"17.0t\", \"18.0t\", \"19.0t\", \"20.0t\", \"21.0t\", \"22.0t\", \"23.0t\", \"0.0t\", \"1.0t\", \"2.0t\", \"3.0t\", \"4.0t\", \"5.0t\", \"6.0t\", \"7.0t\", \"8.0t\", \"9.0t\", \"10.0t\", \"11.0t\", \"12.0t\", \"13.0t\", \"14.0t\", \"15.0t\", \"16.0t\", \"17.0t\", \"18.0t\", \"19.0t\", \"20.0t\", \"21.0t\", \"22.0t\", \"23.0t\", \"0.0t\", \"1.0t\", \"2.0t\", \"3.0t\", \"4.0t\", \"5.0t\", \"6.0t\", \"7.0t\", \"8.0t\", \"9.0t\", \"10.0t\", \"11.0t\", \"12.0t\", \"13.0t\", \"14.0t\", \"15.0t\", \"16.0t\", \"17.0t\", \"18.0t\", \"19.0t\", \"20.0t\", \"21.0t\", \"22.0t\", \"23.0t\", \"0.0t\", \"1.0t\", \"2.0t\", \"3.0t\", \"4.0t\", \"5.0t\", \"6.0t\", \"7.0t\", \"8.0t\", \"9.0t\", \"10.0t\", \"11.0t\", \"12.0t\", \"13.0t\", \"14.0t\", \"15.0t\", \"16.0t\", \"17.0t\", \"18.0t\", \"19.0t\", \"20.0t\", \"21.0t\", \"22.0t\", \"23.0t\", \"0.0t\", \"1.0t\", \"2.0t\", \"3.0t\", \"4.0t\", \"5.0t\", \"6.0t\", \"7.0t\", \"8.0t\", \"9.0t\", \"10.0t\", \"11.0t\", \"12.0t\", \"13.0t\", \"14.0t\", \"15.0t\", \"16.0t\", \"17.0t\", \"18.0t\", \"19.0t\", \"20.0t\", \"21.0t\", \"22.0t\", \"23.0t\", \"0.0t\", \"1.0t\", \"2.0t\", \"3.0t\", \"4.0t\", \"5.0t\", \"6.0t\", \"7.0t\", \"8.0t\", \"9.0t\", \"10.0t\", \"11.0t\", \"12.0t\", \"13.0t\", \"14.0t\", \"15.0t\", \"16.0t\", \"17.0t\", \"18.0t\", \"19.0t\", \"20.0t\", \"21.0t\", \"22.0t\", \"23.0t\", \"0.0t\", \"1.0t\", \"2.0t\", \"3.0t\", \"4.0t\", \"5.0t\", \"6.0t\", \"7.0t\", \"8.0t\", \"9.0t\", \"10.0t\", \"11.0t\", \"12.0t\", \"13.0t\", \"14.0t\", \"15.0t\", \"16.0t\", \"17.0t\", \"18.0t\", \"19.0t\", \"20.0t\", \"21.0t\", \"22.0t\", \"23.0t\"], \"yaxis\": \"y\", \"ybingroup\": \"y\", \"z\": [828, 602, 540, 336, 231, 175, 183, 290, 473, 438, 556, 565, 1099, 632, 662, 709, 692, 868, 980, 789, 816, 825, 826, 829, 856, 453, 473, 294, 200, 188, 199, 286, 452, 452, 529, 536, 1091, 547, 615, 689, 759, 841, 908, 864, 817, 774, 865, 666, 961, 681, 762, 512, 340, 235, 172, 225, 330, 396, 520, 469, 894, 565, 625, 659, 680, 784, 767, 746, 838, 787, 855, 806, 980, 797, 749, 546, 322, 261, 187, 209, 273, 341, 391, 390, 785, 475, 490, 592, 617, 740, 829, 724, 797, 750, 827, 726, 702, 460, 450, 314, 214, 160, 224, 260, 420, 417, 527, 503, 1055, 606, 632, 647, 700, 735, 876, 822, 885, 839, 869, 779, 731, 412, 361, 239, 205, 188, 171, 279, 437, 442, 482, 541, 971, 593, 619, 617, 677, 815, 824, 853, 849, 814, 857, 672, 708, 490, 396, 283, 191, 146, 190, 311, 434, 459, 508, 524, 1009, 580, 596, 643, 693, 814, 848, 860, 846, 795, 877, 666]}],\n",
       "                        {\"coloraxis\": {\"colorbar\": {\"title\": {\"text\": \"sum of count\"}}, \"colorscale\": [[0.0, \"rgb(210, 251, 212)\"], [0.16666666666666666, \"rgb(165, 219, 194)\"], [0.3333333333333333, \"rgb(123, 188, 176)\"], [0.5, \"rgb(85, 156, 158)\"], [0.6666666666666666, \"rgb(58, 124, 137)\"], [0.8333333333333334, \"rgb(35, 93, 114)\"], [1.0, \"rgb(18, 63, 90)\"]]}, \"legend\": {\"tracegroupgap\": 0}, \"margin\": {\"t\": 60}, \"template\": {\"data\": {\"bar\": [{\"error_x\": {\"color\": \"#2a3f5f\"}, \"error_y\": {\"color\": \"#2a3f5f\"}, \"marker\": {\"line\": {\"color\": \"#E5ECF6\", \"width\": 0.5}}, \"type\": \"bar\"}], \"barpolar\": [{\"marker\": {\"line\": {\"color\": \"#E5ECF6\", \"width\": 0.5}}, \"type\": \"barpolar\"}], \"carpet\": [{\"aaxis\": {\"endlinecolor\": \"#2a3f5f\", \"gridcolor\": \"white\", \"linecolor\": \"white\", \"minorgridcolor\": \"white\", \"startlinecolor\": \"#2a3f5f\"}, \"baxis\": {\"endlinecolor\": \"#2a3f5f\", \"gridcolor\": \"white\", \"linecolor\": \"white\", \"minorgridcolor\": \"white\", \"startlinecolor\": \"#2a3f5f\"}, \"type\": \"carpet\"}], \"choropleth\": [{\"colorbar\": {\"outlinewidth\": 0, \"ticks\": \"\"}, \"type\": \"choropleth\"}], \"contour\": [{\"colorbar\": {\"outlinewidth\": 0, \"ticks\": \"\"}, \"colorscale\": [[0.0, \"#0d0887\"], [0.1111111111111111, \"#46039f\"], [0.2222222222222222, \"#7201a8\"], [0.3333333333333333, \"#9c179e\"], [0.4444444444444444, \"#bd3786\"], [0.5555555555555556, \"#d8576b\"], [0.6666666666666666, \"#ed7953\"], [0.7777777777777778, \"#fb9f3a\"], [0.8888888888888888, \"#fdca26\"], [1.0, \"#f0f921\"]], \"type\": \"contour\"}], \"contourcarpet\": [{\"colorbar\": {\"outlinewidth\": 0, \"ticks\": \"\"}, \"type\": \"contourcarpet\"}], \"heatmap\": [{\"colorbar\": {\"outlinewidth\": 0, \"ticks\": \"\"}, \"colorscale\": [[0.0, \"#0d0887\"], [0.1111111111111111, \"#46039f\"], [0.2222222222222222, \"#7201a8\"], [0.3333333333333333, \"#9c179e\"], [0.4444444444444444, \"#bd3786\"], [0.5555555555555556, \"#d8576b\"], [0.6666666666666666, \"#ed7953\"], [0.7777777777777778, \"#fb9f3a\"], [0.8888888888888888, \"#fdca26\"], [1.0, \"#f0f921\"]], \"type\": \"heatmap\"}], \"heatmapgl\": [{\"colorbar\": {\"outlinewidth\": 0, \"ticks\": \"\"}, \"colorscale\": [[0.0, \"#0d0887\"], [0.1111111111111111, \"#46039f\"], [0.2222222222222222, \"#7201a8\"], [0.3333333333333333, \"#9c179e\"], [0.4444444444444444, \"#bd3786\"], [0.5555555555555556, \"#d8576b\"], [0.6666666666666666, \"#ed7953\"], [0.7777777777777778, \"#fb9f3a\"], [0.8888888888888888, \"#fdca26\"], [1.0, \"#f0f921\"]], \"type\": \"heatmapgl\"}], \"histogram\": [{\"marker\": {\"colorbar\": {\"outlinewidth\": 0, \"ticks\": \"\"}}, \"type\": \"histogram\"}], \"histogram2d\": [{\"colorbar\": {\"outlinewidth\": 0, \"ticks\": \"\"}, \"colorscale\": [[0.0, \"#0d0887\"], [0.1111111111111111, \"#46039f\"], [0.2222222222222222, \"#7201a8\"], [0.3333333333333333, \"#9c179e\"], [0.4444444444444444, \"#bd3786\"], [0.5555555555555556, \"#d8576b\"], [0.6666666666666666, \"#ed7953\"], [0.7777777777777778, \"#fb9f3a\"], [0.8888888888888888, \"#fdca26\"], [1.0, \"#f0f921\"]], \"type\": \"histogram2d\"}], \"histogram2dcontour\": [{\"colorbar\": {\"outlinewidth\": 0, \"ticks\": \"\"}, \"colorscale\": [[0.0, \"#0d0887\"], [0.1111111111111111, \"#46039f\"], [0.2222222222222222, \"#7201a8\"], [0.3333333333333333, \"#9c179e\"], [0.4444444444444444, \"#bd3786\"], [0.5555555555555556, \"#d8576b\"], [0.6666666666666666, \"#ed7953\"], [0.7777777777777778, \"#fb9f3a\"], [0.8888888888888888, \"#fdca26\"], [1.0, \"#f0f921\"]], \"type\": \"histogram2dcontour\"}], \"mesh3d\": [{\"colorbar\": {\"outlinewidth\": 0, \"ticks\": \"\"}, \"type\": \"mesh3d\"}], \"parcoords\": [{\"line\": {\"colorbar\": {\"outlinewidth\": 0, \"ticks\": \"\"}}, \"type\": \"parcoords\"}], \"pie\": [{\"automargin\": true, \"type\": \"pie\"}], \"scatter\": [{\"marker\": {\"colorbar\": {\"outlinewidth\": 0, \"ticks\": \"\"}}, \"type\": \"scatter\"}], \"scatter3d\": [{\"line\": {\"colorbar\": {\"outlinewidth\": 0, \"ticks\": \"\"}}, \"marker\": {\"colorbar\": {\"outlinewidth\": 0, \"ticks\": \"\"}}, \"type\": \"scatter3d\"}], \"scattercarpet\": [{\"marker\": {\"colorbar\": {\"outlinewidth\": 0, \"ticks\": \"\"}}, \"type\": \"scattercarpet\"}], \"scattergeo\": [{\"marker\": {\"colorbar\": {\"outlinewidth\": 0, \"ticks\": \"\"}}, \"type\": \"scattergeo\"}], \"scattergl\": [{\"marker\": {\"colorbar\": {\"outlinewidth\": 0, \"ticks\": \"\"}}, \"type\": \"scattergl\"}], \"scattermapbox\": [{\"marker\": {\"colorbar\": {\"outlinewidth\": 0, \"ticks\": \"\"}}, \"type\": \"scattermapbox\"}], \"scatterpolar\": [{\"marker\": {\"colorbar\": {\"outlinewidth\": 0, \"ticks\": \"\"}}, \"type\": \"scatterpolar\"}], \"scatterpolargl\": [{\"marker\": {\"colorbar\": {\"outlinewidth\": 0, \"ticks\": \"\"}}, \"type\": \"scatterpolargl\"}], \"scatterternary\": [{\"marker\": {\"colorbar\": {\"outlinewidth\": 0, \"ticks\": \"\"}}, \"type\": \"scatterternary\"}], \"surface\": [{\"colorbar\": {\"outlinewidth\": 0, \"ticks\": \"\"}, \"colorscale\": [[0.0, \"#0d0887\"], [0.1111111111111111, \"#46039f\"], [0.2222222222222222, \"#7201a8\"], [0.3333333333333333, \"#9c179e\"], [0.4444444444444444, \"#bd3786\"], [0.5555555555555556, \"#d8576b\"], [0.6666666666666666, \"#ed7953\"], [0.7777777777777778, \"#fb9f3a\"], [0.8888888888888888, \"#fdca26\"], [1.0, \"#f0f921\"]], \"type\": \"surface\"}], \"table\": [{\"cells\": {\"fill\": {\"color\": \"#EBF0F8\"}, \"line\": {\"color\": \"white\"}}, \"header\": {\"fill\": {\"color\": \"#C8D4E3\"}, \"line\": {\"color\": \"white\"}}, \"type\": \"table\"}]}, \"layout\": {\"annotationdefaults\": {\"arrowcolor\": \"#2a3f5f\", \"arrowhead\": 0, \"arrowwidth\": 1}, \"coloraxis\": {\"colorbar\": {\"outlinewidth\": 0, \"ticks\": \"\"}}, \"colorscale\": {\"diverging\": [[0, \"#8e0152\"], [0.1, \"#c51b7d\"], [0.2, \"#de77ae\"], [0.3, \"#f1b6da\"], [0.4, \"#fde0ef\"], [0.5, \"#f7f7f7\"], [0.6, \"#e6f5d0\"], [0.7, \"#b8e186\"], [0.8, \"#7fbc41\"], [0.9, \"#4d9221\"], [1, \"#276419\"]], \"sequential\": [[0.0, \"#0d0887\"], [0.1111111111111111, \"#46039f\"], [0.2222222222222222, \"#7201a8\"], [0.3333333333333333, \"#9c179e\"], [0.4444444444444444, \"#bd3786\"], [0.5555555555555556, \"#d8576b\"], [0.6666666666666666, \"#ed7953\"], [0.7777777777777778, \"#fb9f3a\"], [0.8888888888888888, \"#fdca26\"], [1.0, \"#f0f921\"]], \"sequentialminus\": [[0.0, \"#0d0887\"], [0.1111111111111111, \"#46039f\"], [0.2222222222222222, \"#7201a8\"], [0.3333333333333333, \"#9c179e\"], [0.4444444444444444, \"#bd3786\"], [0.5555555555555556, \"#d8576b\"], [0.6666666666666666, \"#ed7953\"], [0.7777777777777778, \"#fb9f3a\"], [0.8888888888888888, \"#fdca26\"], [1.0, \"#f0f921\"]]}, \"colorway\": [\"#636efa\", \"#EF553B\", \"#00cc96\", \"#ab63fa\", \"#FFA15A\", \"#19d3f3\", \"#FF6692\", \"#B6E880\", \"#FF97FF\", \"#FECB52\"], \"font\": {\"color\": \"#2a3f5f\"}, \"geo\": {\"bgcolor\": \"white\", \"lakecolor\": \"white\", \"landcolor\": \"#E5ECF6\", \"showlakes\": true, \"showland\": true, \"subunitcolor\": \"white\"}, \"hoverlabel\": {\"align\": \"left\"}, \"hovermode\": \"closest\", \"mapbox\": {\"style\": \"light\"}, \"paper_bgcolor\": \"white\", \"plot_bgcolor\": \"#E5ECF6\", \"polar\": {\"angularaxis\": {\"gridcolor\": \"white\", \"linecolor\": \"white\", \"ticks\": \"\"}, \"bgcolor\": \"#E5ECF6\", \"radialaxis\": {\"gridcolor\": \"white\", \"linecolor\": \"white\", \"ticks\": \"\"}}, \"scene\": {\"xaxis\": {\"backgroundcolor\": \"#E5ECF6\", \"gridcolor\": \"white\", \"gridwidth\": 2, \"linecolor\": \"white\", \"showbackground\": true, \"ticks\": \"\", \"zerolinecolor\": \"white\"}, \"yaxis\": {\"backgroundcolor\": \"#E5ECF6\", \"gridcolor\": \"white\", \"gridwidth\": 2, \"linecolor\": \"white\", \"showbackground\": true, \"ticks\": \"\", \"zerolinecolor\": \"white\"}, \"zaxis\": {\"backgroundcolor\": \"#E5ECF6\", \"gridcolor\": \"white\", \"gridwidth\": 2, \"linecolor\": \"white\", \"showbackground\": true, \"ticks\": \"\", \"zerolinecolor\": \"white\"}}, \"shapedefaults\": {\"line\": {\"color\": \"#2a3f5f\"}}, \"ternary\": {\"aaxis\": {\"gridcolor\": \"white\", \"linecolor\": \"white\", \"ticks\": \"\"}, \"baxis\": {\"gridcolor\": \"white\", \"linecolor\": \"white\", \"ticks\": \"\"}, \"bgcolor\": \"#E5ECF6\", \"caxis\": {\"gridcolor\": \"white\", \"linecolor\": \"white\", \"ticks\": \"\"}}, \"title\": {\"x\": 0.05}, \"xaxis\": {\"automargin\": true, \"gridcolor\": \"white\", \"linecolor\": \"white\", \"ticks\": \"\", \"title\": {\"standoff\": 15}, \"zerolinecolor\": \"white\", \"zerolinewidth\": 2}, \"yaxis\": {\"automargin\": true, \"gridcolor\": \"white\", \"linecolor\": \"white\", \"ticks\": \"\", \"title\": {\"standoff\": 15}, \"zerolinecolor\": \"white\", \"zerolinewidth\": 2}}}, \"xaxis\": {\"anchor\": \"y\", \"domain\": [0.0, 1.0], \"title\": {\"text\": \"day\"}}, \"yaxis\": {\"anchor\": \"x\", \"domain\": [0.0, 1.0], \"nticks\": 24, \"title\": {\"text\": \"hour\"}}},\n",
       "                        {\"responsive\": true}\n",
       "                    ).then(function(){\n",
       "                            \n",
       "var gd = document.getElementById('f07054e6-04bb-41f7-97f4-502e5bd62639');\n",
       "var x = new MutationObserver(function (mutations, observer) {{\n",
       "        var display = window.getComputedStyle(gd).display;\n",
       "        if (!display || display === 'none') {{\n",
       "            console.log([gd, 'removed!']);\n",
       "            Plotly.purge(gd);\n",
       "            observer.disconnect();\n",
       "        }}\n",
       "}});\n",
       "\n",
       "// Listen for the removal of the full notebook cells\n",
       "var notebookContainer = gd.closest('#notebook-container');\n",
       "if (notebookContainer) {{\n",
       "    x.observe(notebookContainer, {childList: true});\n",
       "}}\n",
       "\n",
       "// Listen for the clearing of the current output cell\n",
       "var outputEl = gd.closest('.output');\n",
       "if (outputEl) {{\n",
       "    x.observe(outputEl, {childList: true});\n",
       "}}\n",
       "\n",
       "                        })\n",
       "                };\n",
       "                });\n",
       "            </script>\n",
       "        </div>"
      ]
     },
     "metadata": {},
     "output_type": "display_data"
    }
   ],
   "source": [
    "fig = px.density_heatmap(crime_day_2018, x='day',y='hour', z='count', histfunc='sum',color_continuous_scale='Darkmint');\n",
    "fig.update_layout(yaxis_nticks=24);\n",
    "fig.show();"
   ]
  },
  {
   "cell_type": "code",
   "execution_count": 77,
   "id": "pleasant-invalid",
   "metadata": {
    "execution": {
     "iopub.execute_input": "2021-03-30T02:20:19.523671Z",
     "iopub.status.busy": "2021-03-30T02:20:19.523671Z",
     "iopub.status.idle": "2021-03-30T02:20:19.544576Z",
     "shell.execute_reply": "2021-03-30T02:20:19.544576Z",
     "shell.execute_reply.started": "2021-03-30T02:20:19.523671Z"
    }
   },
   "outputs": [
    {
     "data": {
      "application/vnd.plotly.v1+json": {
       "config": {
        "plotlyServerURL": "https://plotly.com"
       },
       "data": [
        {
         "type": "histogram2d",
         "x": [
          "FRI",
          "FRI",
          "FRI",
          "FRI",
          "FRI",
          "FRI",
          "FRI",
          "FRI",
          "FRI",
          "FRI",
          "FRI",
          "FRI",
          "FRI",
          "FRI",
          "FRI",
          "FRI",
          "FRI",
          "FRI",
          "FRI",
          "FRI",
          "FRI",
          "FRI",
          "FRI",
          "FRI",
          "MON",
          "MON",
          "MON",
          "MON",
          "MON",
          "MON",
          "MON",
          "MON",
          "MON",
          "MON",
          "MON",
          "MON",
          "MON",
          "MON",
          "MON",
          "MON",
          "MON",
          "MON",
          "MON",
          "MON",
          "MON",
          "MON",
          "MON",
          "MON",
          "SAT",
          "SAT",
          "SAT",
          "SAT",
          "SAT",
          "SAT",
          "SAT",
          "SAT",
          "SAT",
          "SAT",
          "SAT",
          "SAT",
          "SAT",
          "SAT",
          "SAT",
          "SAT",
          "SAT",
          "SAT",
          "SAT",
          "SAT",
          "SAT",
          "SAT",
          "SAT",
          "SAT",
          "SUN",
          "SUN",
          "SUN",
          "SUN",
          "SUN",
          "SUN",
          "SUN",
          "SUN",
          "SUN",
          "SUN",
          "SUN",
          "SUN",
          "SUN",
          "SUN",
          "SUN",
          "SUN",
          "SUN",
          "SUN",
          "SUN",
          "SUN",
          "SUN",
          "SUN",
          "SUN",
          "SUN",
          "THU",
          "THU",
          "THU",
          "THU",
          "THU",
          "THU",
          "THU",
          "THU",
          "THU",
          "THU",
          "THU",
          "THU",
          "THU",
          "THU",
          "THU",
          "THU",
          "THU",
          "THU",
          "THU",
          "THU",
          "THU",
          "THU",
          "THU",
          "THU",
          "TUE",
          "TUE",
          "TUE",
          "TUE",
          "TUE",
          "TUE",
          "TUE",
          "TUE",
          "TUE",
          "TUE",
          "TUE",
          "TUE",
          "TUE",
          "TUE",
          "TUE",
          "TUE",
          "TUE",
          "TUE",
          "TUE",
          "TUE",
          "TUE",
          "TUE",
          "TUE",
          "TUE",
          "WED",
          "WED",
          "WED",
          "WED",
          "WED",
          "WED",
          "WED",
          "WED",
          "WED",
          "WED",
          "WED",
          "WED",
          "WED",
          "WED",
          "WED",
          "WED",
          "WED",
          "WED",
          "WED",
          "WED",
          "WED",
          "WED",
          "WED",
          "WED"
         ],
         "y": [
          "0.0t",
          "1.0t",
          "2.0t",
          "3.0t",
          "4.0t",
          "5.0t",
          "6.0t",
          "7.0t",
          "8.0t",
          "9.0t",
          "10.0t",
          "11.0t",
          "12.0t",
          "13.0t",
          "14.0t",
          "15.0t",
          "16.0t",
          "17.0t",
          "18.0t",
          "19.0t",
          "20.0t",
          "21.0t",
          "22.0t",
          "23.0t",
          "0.0t",
          "1.0t",
          "2.0t",
          "3.0t",
          "4.0t",
          "5.0t",
          "6.0t",
          "7.0t",
          "8.0t",
          "9.0t",
          "10.0t",
          "11.0t",
          "12.0t",
          "13.0t",
          "14.0t",
          "15.0t",
          "16.0t",
          "17.0t",
          "18.0t",
          "19.0t",
          "20.0t",
          "21.0t",
          "22.0t",
          "23.0t",
          "0.0t",
          "1.0t",
          "2.0t",
          "3.0t",
          "4.0t",
          "5.0t",
          "6.0t",
          "7.0t",
          "8.0t",
          "9.0t",
          "10.0t",
          "11.0t",
          "12.0t",
          "13.0t",
          "14.0t",
          "15.0t",
          "16.0t",
          "17.0t",
          "18.0t",
          "19.0t",
          "20.0t",
          "21.0t",
          "22.0t",
          "23.0t",
          "0.0t",
          "1.0t",
          "2.0t",
          "3.0t",
          "4.0t",
          "5.0t",
          "6.0t",
          "7.0t",
          "8.0t",
          "9.0t",
          "10.0t",
          "11.0t",
          "12.0t",
          "13.0t",
          "14.0t",
          "15.0t",
          "16.0t",
          "17.0t",
          "18.0t",
          "19.0t",
          "20.0t",
          "21.0t",
          "22.0t",
          "23.0t",
          "0.0t",
          "1.0t",
          "2.0t",
          "3.0t",
          "4.0t",
          "5.0t",
          "6.0t",
          "7.0t",
          "8.0t",
          "9.0t",
          "10.0t",
          "11.0t",
          "12.0t",
          "13.0t",
          "14.0t",
          "15.0t",
          "16.0t",
          "17.0t",
          "18.0t",
          "19.0t",
          "20.0t",
          "21.0t",
          "22.0t",
          "23.0t",
          "0.0t",
          "1.0t",
          "2.0t",
          "3.0t",
          "4.0t",
          "5.0t",
          "6.0t",
          "7.0t",
          "8.0t",
          "9.0t",
          "10.0t",
          "11.0t",
          "12.0t",
          "13.0t",
          "14.0t",
          "15.0t",
          "16.0t",
          "17.0t",
          "18.0t",
          "19.0t",
          "20.0t",
          "21.0t",
          "22.0t",
          "23.0t",
          "0.0t",
          "1.0t",
          "2.0t",
          "3.0t",
          "4.0t",
          "5.0t",
          "6.0t",
          "7.0t",
          "8.0t",
          "9.0t",
          "10.0t",
          "11.0t",
          "12.0t",
          "13.0t",
          "14.0t",
          "15.0t",
          "16.0t",
          "17.0t",
          "18.0t",
          "19.0t",
          "20.0t",
          "21.0t",
          "22.0t",
          "23.0t"
         ]
        }
       ],
       "layout": {
        "autosize": true,
        "template": {
         "data": {
          "bar": [
           {
            "error_x": {
             "color": "#2a3f5f"
            },
            "error_y": {
             "color": "#2a3f5f"
            },
            "marker": {
             "line": {
              "color": "#E5ECF6",
              "width": 0.5
             }
            },
            "type": "bar"
           }
          ],
          "barpolar": [
           {
            "marker": {
             "line": {
              "color": "#E5ECF6",
              "width": 0.5
             }
            },
            "type": "barpolar"
           }
          ],
          "carpet": [
           {
            "aaxis": {
             "endlinecolor": "#2a3f5f",
             "gridcolor": "white",
             "linecolor": "white",
             "minorgridcolor": "white",
             "startlinecolor": "#2a3f5f"
            },
            "baxis": {
             "endlinecolor": "#2a3f5f",
             "gridcolor": "white",
             "linecolor": "white",
             "minorgridcolor": "white",
             "startlinecolor": "#2a3f5f"
            },
            "type": "carpet"
           }
          ],
          "choropleth": [
           {
            "colorbar": {
             "outlinewidth": 0,
             "ticks": ""
            },
            "type": "choropleth"
           }
          ],
          "contour": [
           {
            "colorbar": {
             "outlinewidth": 0,
             "ticks": ""
            },
            "colorscale": [
             [
              0,
              "#0d0887"
             ],
             [
              0.1111111111111111,
              "#46039f"
             ],
             [
              0.2222222222222222,
              "#7201a8"
             ],
             [
              0.3333333333333333,
              "#9c179e"
             ],
             [
              0.4444444444444444,
              "#bd3786"
             ],
             [
              0.5555555555555556,
              "#d8576b"
             ],
             [
              0.6666666666666666,
              "#ed7953"
             ],
             [
              0.7777777777777778,
              "#fb9f3a"
             ],
             [
              0.8888888888888888,
              "#fdca26"
             ],
             [
              1,
              "#f0f921"
             ]
            ],
            "type": "contour"
           }
          ],
          "contourcarpet": [
           {
            "colorbar": {
             "outlinewidth": 0,
             "ticks": ""
            },
            "type": "contourcarpet"
           }
          ],
          "heatmap": [
           {
            "colorbar": {
             "outlinewidth": 0,
             "ticks": ""
            },
            "colorscale": [
             [
              0,
              "#0d0887"
             ],
             [
              0.1111111111111111,
              "#46039f"
             ],
             [
              0.2222222222222222,
              "#7201a8"
             ],
             [
              0.3333333333333333,
              "#9c179e"
             ],
             [
              0.4444444444444444,
              "#bd3786"
             ],
             [
              0.5555555555555556,
              "#d8576b"
             ],
             [
              0.6666666666666666,
              "#ed7953"
             ],
             [
              0.7777777777777778,
              "#fb9f3a"
             ],
             [
              0.8888888888888888,
              "#fdca26"
             ],
             [
              1,
              "#f0f921"
             ]
            ],
            "type": "heatmap"
           }
          ],
          "heatmapgl": [
           {
            "colorbar": {
             "outlinewidth": 0,
             "ticks": ""
            },
            "colorscale": [
             [
              0,
              "#0d0887"
             ],
             [
              0.1111111111111111,
              "#46039f"
             ],
             [
              0.2222222222222222,
              "#7201a8"
             ],
             [
              0.3333333333333333,
              "#9c179e"
             ],
             [
              0.4444444444444444,
              "#bd3786"
             ],
             [
              0.5555555555555556,
              "#d8576b"
             ],
             [
              0.6666666666666666,
              "#ed7953"
             ],
             [
              0.7777777777777778,
              "#fb9f3a"
             ],
             [
              0.8888888888888888,
              "#fdca26"
             ],
             [
              1,
              "#f0f921"
             ]
            ],
            "type": "heatmapgl"
           }
          ],
          "histogram": [
           {
            "marker": {
             "colorbar": {
              "outlinewidth": 0,
              "ticks": ""
             }
            },
            "type": "histogram"
           }
          ],
          "histogram2d": [
           {
            "colorbar": {
             "outlinewidth": 0,
             "ticks": ""
            },
            "colorscale": [
             [
              0,
              "#0d0887"
             ],
             [
              0.1111111111111111,
              "#46039f"
             ],
             [
              0.2222222222222222,
              "#7201a8"
             ],
             [
              0.3333333333333333,
              "#9c179e"
             ],
             [
              0.4444444444444444,
              "#bd3786"
             ],
             [
              0.5555555555555556,
              "#d8576b"
             ],
             [
              0.6666666666666666,
              "#ed7953"
             ],
             [
              0.7777777777777778,
              "#fb9f3a"
             ],
             [
              0.8888888888888888,
              "#fdca26"
             ],
             [
              1,
              "#f0f921"
             ]
            ],
            "type": "histogram2d"
           }
          ],
          "histogram2dcontour": [
           {
            "colorbar": {
             "outlinewidth": 0,
             "ticks": ""
            },
            "colorscale": [
             [
              0,
              "#0d0887"
             ],
             [
              0.1111111111111111,
              "#46039f"
             ],
             [
              0.2222222222222222,
              "#7201a8"
             ],
             [
              0.3333333333333333,
              "#9c179e"
             ],
             [
              0.4444444444444444,
              "#bd3786"
             ],
             [
              0.5555555555555556,
              "#d8576b"
             ],
             [
              0.6666666666666666,
              "#ed7953"
             ],
             [
              0.7777777777777778,
              "#fb9f3a"
             ],
             [
              0.8888888888888888,
              "#fdca26"
             ],
             [
              1,
              "#f0f921"
             ]
            ],
            "type": "histogram2dcontour"
           }
          ],
          "mesh3d": [
           {
            "colorbar": {
             "outlinewidth": 0,
             "ticks": ""
            },
            "type": "mesh3d"
           }
          ],
          "parcoords": [
           {
            "line": {
             "colorbar": {
              "outlinewidth": 0,
              "ticks": ""
             }
            },
            "type": "parcoords"
           }
          ],
          "pie": [
           {
            "automargin": true,
            "type": "pie"
           }
          ],
          "scatter": [
           {
            "marker": {
             "colorbar": {
              "outlinewidth": 0,
              "ticks": ""
             }
            },
            "type": "scatter"
           }
          ],
          "scatter3d": [
           {
            "line": {
             "colorbar": {
              "outlinewidth": 0,
              "ticks": ""
             }
            },
            "marker": {
             "colorbar": {
              "outlinewidth": 0,
              "ticks": ""
             }
            },
            "type": "scatter3d"
           }
          ],
          "scattercarpet": [
           {
            "marker": {
             "colorbar": {
              "outlinewidth": 0,
              "ticks": ""
             }
            },
            "type": "scattercarpet"
           }
          ],
          "scattergeo": [
           {
            "marker": {
             "colorbar": {
              "outlinewidth": 0,
              "ticks": ""
             }
            },
            "type": "scattergeo"
           }
          ],
          "scattergl": [
           {
            "marker": {
             "colorbar": {
              "outlinewidth": 0,
              "ticks": ""
             }
            },
            "type": "scattergl"
           }
          ],
          "scattermapbox": [
           {
            "marker": {
             "colorbar": {
              "outlinewidth": 0,
              "ticks": ""
             }
            },
            "type": "scattermapbox"
           }
          ],
          "scatterpolar": [
           {
            "marker": {
             "colorbar": {
              "outlinewidth": 0,
              "ticks": ""
             }
            },
            "type": "scatterpolar"
           }
          ],
          "scatterpolargl": [
           {
            "marker": {
             "colorbar": {
              "outlinewidth": 0,
              "ticks": ""
             }
            },
            "type": "scatterpolargl"
           }
          ],
          "scatterternary": [
           {
            "marker": {
             "colorbar": {
              "outlinewidth": 0,
              "ticks": ""
             }
            },
            "type": "scatterternary"
           }
          ],
          "surface": [
           {
            "colorbar": {
             "outlinewidth": 0,
             "ticks": ""
            },
            "colorscale": [
             [
              0,
              "#0d0887"
             ],
             [
              0.1111111111111111,
              "#46039f"
             ],
             [
              0.2222222222222222,
              "#7201a8"
             ],
             [
              0.3333333333333333,
              "#9c179e"
             ],
             [
              0.4444444444444444,
              "#bd3786"
             ],
             [
              0.5555555555555556,
              "#d8576b"
             ],
             [
              0.6666666666666666,
              "#ed7953"
             ],
             [
              0.7777777777777778,
              "#fb9f3a"
             ],
             [
              0.8888888888888888,
              "#fdca26"
             ],
             [
              1,
              "#f0f921"
             ]
            ],
            "type": "surface"
           }
          ],
          "table": [
           {
            "cells": {
             "fill": {
              "color": "#EBF0F8"
             },
             "line": {
              "color": "white"
             }
            },
            "header": {
             "fill": {
              "color": "#C8D4E3"
             },
             "line": {
              "color": "white"
             }
            },
            "type": "table"
           }
          ]
         },
         "layout": {
          "annotationdefaults": {
           "arrowcolor": "#2a3f5f",
           "arrowhead": 0,
           "arrowwidth": 1
          },
          "coloraxis": {
           "colorbar": {
            "outlinewidth": 0,
            "ticks": ""
           }
          },
          "colorscale": {
           "diverging": [
            [
             0,
             "#8e0152"
            ],
            [
             0.1,
             "#c51b7d"
            ],
            [
             0.2,
             "#de77ae"
            ],
            [
             0.3,
             "#f1b6da"
            ],
            [
             0.4,
             "#fde0ef"
            ],
            [
             0.5,
             "#f7f7f7"
            ],
            [
             0.6,
             "#e6f5d0"
            ],
            [
             0.7,
             "#b8e186"
            ],
            [
             0.8,
             "#7fbc41"
            ],
            [
             0.9,
             "#4d9221"
            ],
            [
             1,
             "#276419"
            ]
           ],
           "sequential": [
            [
             0,
             "#0d0887"
            ],
            [
             0.1111111111111111,
             "#46039f"
            ],
            [
             0.2222222222222222,
             "#7201a8"
            ],
            [
             0.3333333333333333,
             "#9c179e"
            ],
            [
             0.4444444444444444,
             "#bd3786"
            ],
            [
             0.5555555555555556,
             "#d8576b"
            ],
            [
             0.6666666666666666,
             "#ed7953"
            ],
            [
             0.7777777777777778,
             "#fb9f3a"
            ],
            [
             0.8888888888888888,
             "#fdca26"
            ],
            [
             1,
             "#f0f921"
            ]
           ],
           "sequentialminus": [
            [
             0,
             "#0d0887"
            ],
            [
             0.1111111111111111,
             "#46039f"
            ],
            [
             0.2222222222222222,
             "#7201a8"
            ],
            [
             0.3333333333333333,
             "#9c179e"
            ],
            [
             0.4444444444444444,
             "#bd3786"
            ],
            [
             0.5555555555555556,
             "#d8576b"
            ],
            [
             0.6666666666666666,
             "#ed7953"
            ],
            [
             0.7777777777777778,
             "#fb9f3a"
            ],
            [
             0.8888888888888888,
             "#fdca26"
            ],
            [
             1,
             "#f0f921"
            ]
           ]
          },
          "colorway": [
           "#636efa",
           "#EF553B",
           "#00cc96",
           "#ab63fa",
           "#FFA15A",
           "#19d3f3",
           "#FF6692",
           "#B6E880",
           "#FF97FF",
           "#FECB52"
          ],
          "font": {
           "color": "#2a3f5f"
          },
          "geo": {
           "bgcolor": "white",
           "lakecolor": "white",
           "landcolor": "#E5ECF6",
           "showlakes": true,
           "showland": true,
           "subunitcolor": "white"
          },
          "hoverlabel": {
           "align": "left"
          },
          "hovermode": "closest",
          "mapbox": {
           "style": "light"
          },
          "paper_bgcolor": "white",
          "plot_bgcolor": "#E5ECF6",
          "polar": {
           "angularaxis": {
            "gridcolor": "white",
            "linecolor": "white",
            "ticks": ""
           },
           "bgcolor": "#E5ECF6",
           "radialaxis": {
            "gridcolor": "white",
            "linecolor": "white",
            "ticks": ""
           }
          },
          "scene": {
           "xaxis": {
            "backgroundcolor": "#E5ECF6",
            "gridcolor": "white",
            "gridwidth": 2,
            "linecolor": "white",
            "showbackground": true,
            "ticks": "",
            "zerolinecolor": "white"
           },
           "yaxis": {
            "backgroundcolor": "#E5ECF6",
            "gridcolor": "white",
            "gridwidth": 2,
            "linecolor": "white",
            "showbackground": true,
            "ticks": "",
            "zerolinecolor": "white"
           },
           "zaxis": {
            "backgroundcolor": "#E5ECF6",
            "gridcolor": "white",
            "gridwidth": 2,
            "linecolor": "white",
            "showbackground": true,
            "ticks": "",
            "zerolinecolor": "white"
           }
          },
          "shapedefaults": {
           "line": {
            "color": "#2a3f5f"
           }
          },
          "ternary": {
           "aaxis": {
            "gridcolor": "white",
            "linecolor": "white",
            "ticks": ""
           },
           "baxis": {
            "gridcolor": "white",
            "linecolor": "white",
            "ticks": ""
           },
           "bgcolor": "#E5ECF6",
           "caxis": {
            "gridcolor": "white",
            "linecolor": "white",
            "ticks": ""
           }
          },
          "title": {
           "x": 0.05
          },
          "xaxis": {
           "automargin": true,
           "gridcolor": "white",
           "linecolor": "white",
           "ticks": "",
           "title": {
            "standoff": 15
           },
           "zerolinecolor": "white",
           "zerolinewidth": 2
          },
          "yaxis": {
           "automargin": true,
           "gridcolor": "white",
           "linecolor": "white",
           "ticks": "",
           "title": {
            "standoff": 15
           },
           "zerolinecolor": "white",
           "zerolinewidth": 2
          }
         }
        },
        "xaxis": {
         "anchor": "y",
         "autorange": true,
         "domain": [
          0,
          0.45
         ],
         "range": [
          -0.5,
          6.5
         ],
         "type": "category"
        },
        "xaxis2": {
         "anchor": "y2",
         "domain": [
          0.55,
          1
         ]
        },
        "xaxis3": {
         "anchor": "y3",
         "domain": [
          0,
          0.45
         ]
        },
        "xaxis4": {
         "anchor": "y4",
         "domain": [
          0.55,
          1
         ]
        },
        "yaxis": {
         "anchor": "x",
         "autorange": true,
         "domain": [
          0.575,
          1
         ],
         "range": [
          -0.5,
          23.5
         ],
         "type": "category"
        },
        "yaxis2": {
         "anchor": "x2",
         "domain": [
          0.575,
          1
         ]
        },
        "yaxis3": {
         "anchor": "x3",
         "domain": [
          0,
          0.425
         ]
        },
        "yaxis4": {
         "anchor": "x4",
         "domain": [
          0,
          0.425
         ]
        }
       }
      },
      "image/png": "[encoded data removed]",
      "text/html": [
       "<div>\n",
       "        \n",
       "        \n",
       "            <div id=\"fbed40dd-a16c-48d7-827a-79103f934417\" class=\"plotly-graph-div\" style=\"height:525px; width:100%;\"></div>\n",
       "            <script type=\"text/javascript\">\n",
       "                require([\"plotly\"], function(Plotly) {\n",
       "                    window.PLOTLYENV=window.PLOTLYENV || {};\n",
       "                    \n",
       "                if (document.getElementById(\"fbed40dd-a16c-48d7-827a-79103f934417\")) {\n",
       "                    Plotly.newPlot(\n",
       "                        'fbed40dd-a16c-48d7-827a-79103f934417',\n",
       "                        [{\"type\": \"histogram2d\", \"x\": [\"FRI\", \"FRI\", \"FRI\", \"FRI\", \"FRI\", \"FRI\", \"FRI\", \"FRI\", \"FRI\", \"FRI\", \"FRI\", \"FRI\", \"FRI\", \"FRI\", \"FRI\", \"FRI\", \"FRI\", \"FRI\", \"FRI\", \"FRI\", \"FRI\", \"FRI\", \"FRI\", \"FRI\", \"MON\", \"MON\", \"MON\", \"MON\", \"MON\", \"MON\", \"MON\", \"MON\", \"MON\", \"MON\", \"MON\", \"MON\", \"MON\", \"MON\", \"MON\", \"MON\", \"MON\", \"MON\", \"MON\", \"MON\", \"MON\", \"MON\", \"MON\", \"MON\", \"SAT\", \"SAT\", \"SAT\", \"SAT\", \"SAT\", \"SAT\", \"SAT\", \"SAT\", \"SAT\", \"SAT\", \"SAT\", \"SAT\", \"SAT\", \"SAT\", \"SAT\", \"SAT\", \"SAT\", \"SAT\", \"SAT\", \"SAT\", \"SAT\", \"SAT\", \"SAT\", \"SAT\", \"SUN\", \"SUN\", \"SUN\", \"SUN\", \"SUN\", \"SUN\", \"SUN\", \"SUN\", \"SUN\", \"SUN\", \"SUN\", \"SUN\", \"SUN\", \"SUN\", \"SUN\", \"SUN\", \"SUN\", \"SUN\", \"SUN\", \"SUN\", \"SUN\", \"SUN\", \"SUN\", \"SUN\", \"THU\", \"THU\", \"THU\", \"THU\", \"THU\", \"THU\", \"THU\", \"THU\", \"THU\", \"THU\", \"THU\", \"THU\", \"THU\", \"THU\", \"THU\", \"THU\", \"THU\", \"THU\", \"THU\", \"THU\", \"THU\", \"THU\", \"THU\", \"THU\", \"TUE\", \"TUE\", \"TUE\", \"TUE\", \"TUE\", \"TUE\", \"TUE\", \"TUE\", \"TUE\", \"TUE\", \"TUE\", \"TUE\", \"TUE\", \"TUE\", \"TUE\", \"TUE\", \"TUE\", \"TUE\", \"TUE\", \"TUE\", \"TUE\", \"TUE\", \"TUE\", \"TUE\", \"WED\", \"WED\", \"WED\", \"WED\", \"WED\", \"WED\", \"WED\", \"WED\", \"WED\", \"WED\", \"WED\", \"WED\", \"WED\", \"WED\", \"WED\", \"WED\", \"WED\", \"WED\", \"WED\", \"WED\", \"WED\", \"WED\", \"WED\", \"WED\"], \"y\": [\"0.0t\", \"1.0t\", \"2.0t\", \"3.0t\", \"4.0t\", \"5.0t\", \"6.0t\", \"7.0t\", \"8.0t\", \"9.0t\", \"10.0t\", \"11.0t\", \"12.0t\", \"13.0t\", \"14.0t\", \"15.0t\", \"16.0t\", \"17.0t\", \"18.0t\", \"19.0t\", \"20.0t\", \"21.0t\", \"22.0t\", \"23.0t\", \"0.0t\", \"1.0t\", \"2.0t\", \"3.0t\", \"4.0t\", \"5.0t\", \"6.0t\", \"7.0t\", \"8.0t\", \"9.0t\", \"10.0t\", \"11.0t\", \"12.0t\", \"13.0t\", \"14.0t\", \"15.0t\", \"16.0t\", \"17.0t\", \"18.0t\", \"19.0t\", \"20.0t\", \"21.0t\", \"22.0t\", \"23.0t\", \"0.0t\", \"1.0t\", \"2.0t\", \"3.0t\", \"4.0t\", \"5.0t\", \"6.0t\", \"7.0t\", \"8.0t\", \"9.0t\", \"10.0t\", \"11.0t\", \"12.0t\", \"13.0t\", \"14.0t\", \"15.0t\", \"16.0t\", \"17.0t\", \"18.0t\", \"19.0t\", \"20.0t\", \"21.0t\", \"22.0t\", \"23.0t\", \"0.0t\", \"1.0t\", \"2.0t\", \"3.0t\", \"4.0t\", \"5.0t\", \"6.0t\", \"7.0t\", \"8.0t\", \"9.0t\", \"10.0t\", \"11.0t\", \"12.0t\", \"13.0t\", \"14.0t\", \"15.0t\", \"16.0t\", \"17.0t\", \"18.0t\", \"19.0t\", \"20.0t\", \"21.0t\", \"22.0t\", \"23.0t\", \"0.0t\", \"1.0t\", \"2.0t\", \"3.0t\", \"4.0t\", \"5.0t\", \"6.0t\", \"7.0t\", \"8.0t\", \"9.0t\", \"10.0t\", \"11.0t\", \"12.0t\", \"13.0t\", \"14.0t\", \"15.0t\", \"16.0t\", \"17.0t\", \"18.0t\", \"19.0t\", \"20.0t\", \"21.0t\", \"22.0t\", \"23.0t\", \"0.0t\", \"1.0t\", \"2.0t\", \"3.0t\", \"4.0t\", \"5.0t\", \"6.0t\", \"7.0t\", \"8.0t\", \"9.0t\", \"10.0t\", \"11.0t\", \"12.0t\", \"13.0t\", \"14.0t\", \"15.0t\", \"16.0t\", \"17.0t\", \"18.0t\", \"19.0t\", \"20.0t\", \"21.0t\", \"22.0t\", \"23.0t\", \"0.0t\", \"1.0t\", \"2.0t\", \"3.0t\", \"4.0t\", \"5.0t\", \"6.0t\", \"7.0t\", \"8.0t\", \"9.0t\", \"10.0t\", \"11.0t\", \"12.0t\", \"13.0t\", \"14.0t\", \"15.0t\", \"16.0t\", \"17.0t\", \"18.0t\", \"19.0t\", \"20.0t\", \"21.0t\", \"22.0t\", \"23.0t\"]}],\n",
       "                        {\"template\": {\"data\": {\"bar\": [{\"error_x\": {\"color\": \"#2a3f5f\"}, \"error_y\": {\"color\": \"#2a3f5f\"}, \"marker\": {\"line\": {\"color\": \"#E5ECF6\", \"width\": 0.5}}, \"type\": \"bar\"}], \"barpolar\": [{\"marker\": {\"line\": {\"color\": \"#E5ECF6\", \"width\": 0.5}}, \"type\": \"barpolar\"}], \"carpet\": [{\"aaxis\": {\"endlinecolor\": \"#2a3f5f\", \"gridcolor\": \"white\", \"linecolor\": \"white\", \"minorgridcolor\": \"white\", \"startlinecolor\": \"#2a3f5f\"}, \"baxis\": {\"endlinecolor\": \"#2a3f5f\", \"gridcolor\": \"white\", \"linecolor\": \"white\", \"minorgridcolor\": \"white\", \"startlinecolor\": \"#2a3f5f\"}, \"type\": \"carpet\"}], \"choropleth\": [{\"colorbar\": {\"outlinewidth\": 0, \"ticks\": \"\"}, \"type\": \"choropleth\"}], \"contour\": [{\"colorbar\": {\"outlinewidth\": 0, \"ticks\": \"\"}, \"colorscale\": [[0.0, \"#0d0887\"], [0.1111111111111111, \"#46039f\"], [0.2222222222222222, \"#7201a8\"], [0.3333333333333333, \"#9c179e\"], [0.4444444444444444, \"#bd3786\"], [0.5555555555555556, \"#d8576b\"], [0.6666666666666666, \"#ed7953\"], [0.7777777777777778, \"#fb9f3a\"], [0.8888888888888888, \"#fdca26\"], [1.0, \"#f0f921\"]], \"type\": \"contour\"}], \"contourcarpet\": [{\"colorbar\": {\"outlinewidth\": 0, \"ticks\": \"\"}, \"type\": \"contourcarpet\"}], \"heatmap\": [{\"colorbar\": {\"outlinewidth\": 0, \"ticks\": \"\"}, \"colorscale\": [[0.0, \"#0d0887\"], [0.1111111111111111, \"#46039f\"], [0.2222222222222222, \"#7201a8\"], [0.3333333333333333, \"#9c179e\"], [0.4444444444444444, \"#bd3786\"], [0.5555555555555556, \"#d8576b\"], [0.6666666666666666, \"#ed7953\"], [0.7777777777777778, \"#fb9f3a\"], [0.8888888888888888, \"#fdca26\"], [1.0, \"#f0f921\"]], \"type\": \"heatmap\"}], \"heatmapgl\": [{\"colorbar\": {\"outlinewidth\": 0, \"ticks\": \"\"}, \"colorscale\": [[0.0, \"#0d0887\"], [0.1111111111111111, \"#46039f\"], [0.2222222222222222, \"#7201a8\"], [0.3333333333333333, \"#9c179e\"], [0.4444444444444444, \"#bd3786\"], [0.5555555555555556, \"#d8576b\"], [0.6666666666666666, \"#ed7953\"], [0.7777777777777778, \"#fb9f3a\"], [0.8888888888888888, \"#fdca26\"], [1.0, \"#f0f921\"]], \"type\": \"heatmapgl\"}], \"histogram\": [{\"marker\": {\"colorbar\": {\"outlinewidth\": 0, \"ticks\": \"\"}}, \"type\": \"histogram\"}], \"histogram2d\": [{\"colorbar\": {\"outlinewidth\": 0, \"ticks\": \"\"}, \"colorscale\": [[0.0, \"#0d0887\"], [0.1111111111111111, \"#46039f\"], [0.2222222222222222, \"#7201a8\"], [0.3333333333333333, \"#9c179e\"], [0.4444444444444444, \"#bd3786\"], [0.5555555555555556, \"#d8576b\"], [0.6666666666666666, \"#ed7953\"], [0.7777777777777778, \"#fb9f3a\"], [0.8888888888888888, \"#fdca26\"], [1.0, \"#f0f921\"]], \"type\": \"histogram2d\"}], \"histogram2dcontour\": [{\"colorbar\": {\"outlinewidth\": 0, \"ticks\": \"\"}, \"colorscale\": [[0.0, \"#0d0887\"], [0.1111111111111111, \"#46039f\"], [0.2222222222222222, \"#7201a8\"], [0.3333333333333333, \"#9c179e\"], [0.4444444444444444, \"#bd3786\"], [0.5555555555555556, \"#d8576b\"], [0.6666666666666666, \"#ed7953\"], [0.7777777777777778, \"#fb9f3a\"], [0.8888888888888888, \"#fdca26\"], [1.0, \"#f0f921\"]], \"type\": \"histogram2dcontour\"}], \"mesh3d\": [{\"colorbar\": {\"outlinewidth\": 0, \"ticks\": \"\"}, \"type\": \"mesh3d\"}], \"parcoords\": [{\"line\": {\"colorbar\": {\"outlinewidth\": 0, \"ticks\": \"\"}}, \"type\": \"parcoords\"}], \"pie\": [{\"automargin\": true, \"type\": \"pie\"}], \"scatter\": [{\"marker\": {\"colorbar\": {\"outlinewidth\": 0, \"ticks\": \"\"}}, \"type\": \"scatter\"}], \"scatter3d\": [{\"line\": {\"colorbar\": {\"outlinewidth\": 0, \"ticks\": \"\"}}, \"marker\": {\"colorbar\": {\"outlinewidth\": 0, \"ticks\": \"\"}}, \"type\": \"scatter3d\"}], \"scattercarpet\": [{\"marker\": {\"colorbar\": {\"outlinewidth\": 0, \"ticks\": \"\"}}, \"type\": \"scattercarpet\"}], \"scattergeo\": [{\"marker\": {\"colorbar\": {\"outlinewidth\": 0, \"ticks\": \"\"}}, \"type\": \"scattergeo\"}], \"scattergl\": [{\"marker\": {\"colorbar\": {\"outlinewidth\": 0, \"ticks\": \"\"}}, \"type\": \"scattergl\"}], \"scattermapbox\": [{\"marker\": {\"colorbar\": {\"outlinewidth\": 0, \"ticks\": \"\"}}, \"type\": \"scattermapbox\"}], \"scatterpolar\": [{\"marker\": {\"colorbar\": {\"outlinewidth\": 0, \"ticks\": \"\"}}, \"type\": \"scatterpolar\"}], \"scatterpolargl\": [{\"marker\": {\"colorbar\": {\"outlinewidth\": 0, \"ticks\": \"\"}}, \"type\": \"scatterpolargl\"}], \"scatterternary\": [{\"marker\": {\"colorbar\": {\"outlinewidth\": 0, \"ticks\": \"\"}}, \"type\": \"scatterternary\"}], \"surface\": [{\"colorbar\": {\"outlinewidth\": 0, \"ticks\": \"\"}, \"colorscale\": [[0.0, \"#0d0887\"], [0.1111111111111111, \"#46039f\"], [0.2222222222222222, \"#7201a8\"], [0.3333333333333333, \"#9c179e\"], [0.4444444444444444, \"#bd3786\"], [0.5555555555555556, \"#d8576b\"], [0.6666666666666666, \"#ed7953\"], [0.7777777777777778, \"#fb9f3a\"], [0.8888888888888888, \"#fdca26\"], [1.0, \"#f0f921\"]], \"type\": \"surface\"}], \"table\": [{\"cells\": {\"fill\": {\"color\": \"#EBF0F8\"}, \"line\": {\"color\": \"white\"}}, \"header\": {\"fill\": {\"color\": \"#C8D4E3\"}, \"line\": {\"color\": \"white\"}}, \"type\": \"table\"}]}, \"layout\": {\"annotationdefaults\": {\"arrowcolor\": \"#2a3f5f\", \"arrowhead\": 0, \"arrowwidth\": 1}, \"coloraxis\": {\"colorbar\": {\"outlinewidth\": 0, \"ticks\": \"\"}}, \"colorscale\": {\"diverging\": [[0, \"#8e0152\"], [0.1, \"#c51b7d\"], [0.2, \"#de77ae\"], [0.3, \"#f1b6da\"], [0.4, \"#fde0ef\"], [0.5, \"#f7f7f7\"], [0.6, \"#e6f5d0\"], [0.7, \"#b8e186\"], [0.8, \"#7fbc41\"], [0.9, \"#4d9221\"], [1, \"#276419\"]], \"sequential\": [[0.0, \"#0d0887\"], [0.1111111111111111, \"#46039f\"], [0.2222222222222222, \"#7201a8\"], [0.3333333333333333, \"#9c179e\"], [0.4444444444444444, \"#bd3786\"], [0.5555555555555556, \"#d8576b\"], [0.6666666666666666, \"#ed7953\"], [0.7777777777777778, \"#fb9f3a\"], [0.8888888888888888, \"#fdca26\"], [1.0, \"#f0f921\"]], \"sequentialminus\": [[0.0, \"#0d0887\"], [0.1111111111111111, \"#46039f\"], [0.2222222222222222, \"#7201a8\"], [0.3333333333333333, \"#9c179e\"], [0.4444444444444444, \"#bd3786\"], [0.5555555555555556, \"#d8576b\"], [0.6666666666666666, \"#ed7953\"], [0.7777777777777778, \"#fb9f3a\"], [0.8888888888888888, \"#fdca26\"], [1.0, \"#f0f921\"]]}, \"colorway\": [\"#636efa\", \"#EF553B\", \"#00cc96\", \"#ab63fa\", \"#FFA15A\", \"#19d3f3\", \"#FF6692\", \"#B6E880\", \"#FF97FF\", \"#FECB52\"], \"font\": {\"color\": \"#2a3f5f\"}, \"geo\": {\"bgcolor\": \"white\", \"lakecolor\": \"white\", \"landcolor\": \"#E5ECF6\", \"showlakes\": true, \"showland\": true, \"subunitcolor\": \"white\"}, \"hoverlabel\": {\"align\": \"left\"}, \"hovermode\": \"closest\", \"mapbox\": {\"style\": \"light\"}, \"paper_bgcolor\": \"white\", \"plot_bgcolor\": \"#E5ECF6\", \"polar\": {\"angularaxis\": {\"gridcolor\": \"white\", \"linecolor\": \"white\", \"ticks\": \"\"}, \"bgcolor\": \"#E5ECF6\", \"radialaxis\": {\"gridcolor\": \"white\", \"linecolor\": \"white\", \"ticks\": \"\"}}, \"scene\": {\"xaxis\": {\"backgroundcolor\": \"#E5ECF6\", \"gridcolor\": \"white\", \"gridwidth\": 2, \"linecolor\": \"white\", \"showbackground\": true, \"ticks\": \"\", \"zerolinecolor\": \"white\"}, \"yaxis\": {\"backgroundcolor\": \"#E5ECF6\", \"gridcolor\": \"white\", \"gridwidth\": 2, \"linecolor\": \"white\", \"showbackground\": true, \"ticks\": \"\", \"zerolinecolor\": \"white\"}, \"zaxis\": {\"backgroundcolor\": \"#E5ECF6\", \"gridcolor\": \"white\", \"gridwidth\": 2, \"linecolor\": \"white\", \"showbackground\": true, \"ticks\": \"\", \"zerolinecolor\": \"white\"}}, \"shapedefaults\": {\"line\": {\"color\": \"#2a3f5f\"}}, \"ternary\": {\"aaxis\": {\"gridcolor\": \"white\", \"linecolor\": \"white\", \"ticks\": \"\"}, \"baxis\": {\"gridcolor\": \"white\", \"linecolor\": \"white\", \"ticks\": \"\"}, \"bgcolor\": \"#E5ECF6\", \"caxis\": {\"gridcolor\": \"white\", \"linecolor\": \"white\", \"ticks\": \"\"}}, \"title\": {\"x\": 0.05}, \"xaxis\": {\"automargin\": true, \"gridcolor\": \"white\", \"linecolor\": \"white\", \"ticks\": \"\", \"title\": {\"standoff\": 15}, \"zerolinecolor\": \"white\", \"zerolinewidth\": 2}, \"yaxis\": {\"automargin\": true, \"gridcolor\": \"white\", \"linecolor\": \"white\", \"ticks\": \"\", \"title\": {\"standoff\": 15}, \"zerolinecolor\": \"white\", \"zerolinewidth\": 2}}}, \"xaxis\": {\"anchor\": \"y\", \"domain\": [0.0, 0.45]}, \"xaxis2\": {\"anchor\": \"y2\", \"domain\": [0.55, 1.0]}, \"xaxis3\": {\"anchor\": \"y3\", \"domain\": [0.0, 0.45]}, \"xaxis4\": {\"anchor\": \"y4\", \"domain\": [0.55, 1.0]}, \"yaxis\": {\"anchor\": \"x\", \"domain\": [0.575, 1.0]}, \"yaxis2\": {\"anchor\": \"x2\", \"domain\": [0.575, 1.0]}, \"yaxis3\": {\"anchor\": \"x3\", \"domain\": [0.0, 0.425]}, \"yaxis4\": {\"anchor\": \"x4\", \"domain\": [0.0, 0.425]}},\n",
       "                        {\"responsive\": true}\n",
       "                    ).then(function(){\n",
       "                            \n",
       "var gd = document.getElementById('fbed40dd-a16c-48d7-827a-79103f934417');\n",
       "var x = new MutationObserver(function (mutations, observer) {{\n",
       "        var display = window.getComputedStyle(gd).display;\n",
       "        if (!display || display === 'none') {{\n",
       "            console.log([gd, 'removed!']);\n",
       "            Plotly.purge(gd);\n",
       "            observer.disconnect();\n",
       "        }}\n",
       "}});\n",
       "\n",
       "// Listen for the removal of the full notebook cells\n",
       "var notebookContainer = gd.closest('#notebook-container');\n",
       "if (notebookContainer) {{\n",
       "    x.observe(notebookContainer, {childList: true});\n",
       "}}\n",
       "\n",
       "// Listen for the clearing of the current output cell\n",
       "var outputEl = gd.closest('.output');\n",
       "if (outputEl) {{\n",
       "    x.observe(outputEl, {childList: true});\n",
       "}}\n",
       "\n",
       "                        })\n",
       "                };\n",
       "                });\n",
       "            </script>\n",
       "        </div>"
      ]
     },
     "metadata": {},
     "output_type": "display_data"
    }
   ],
   "source": [
    "from plotly.subplots import make_subplots\n",
    "fig = make_subplots(2,2);\n",
    "fig.add_trace(go.Histogram2d(\n",
    "                x=crime_day_2018['day'],\n",
    "                y=crime_day_2018['hour']\n",
    "                    ));\n",
    "fig.show();"
   ]
  },
  {
   "cell_type": "code",
   "execution_count": 38,
   "id": "corresponding-service",
   "metadata": {
    "execution": {
     "iopub.execute_input": "2021-03-30T00:23:13.141255Z",
     "iopub.status.busy": "2021-03-30T00:23:13.140276Z",
     "iopub.status.idle": "2021-03-30T00:23:13.154893Z",
     "shell.execute_reply": "2021-03-30T00:23:13.154893Z",
     "shell.execute_reply.started": "2021-03-30T00:23:13.141255Z"
    }
   },
   "outputs": [
    {
     "data": {
      "application/vnd.plotly.v1+json": {
       "config": {
        "plotlyServerURL": "https://plotly.com"
       },
       "data": [
        {
         "type": "histogram2d",
         "x": [
          "FRI",
          "FRI",
          "FRI",
          "FRI",
          "FRI",
          "FRI",
          "FRI",
          "FRI",
          "FRI",
          "FRI",
          "FRI",
          "FRI",
          "FRI",
          "FRI",
          "FRI",
          "FRI",
          "FRI",
          "FRI",
          "FRI",
          "FRI",
          "FRI",
          "FRI",
          "FRI",
          "FRI",
          "MON",
          "MON",
          "MON",
          "MON",
          "MON",
          "MON",
          "MON",
          "MON",
          "MON",
          "MON",
          "MON",
          "MON",
          "MON",
          "MON",
          "MON",
          "MON",
          "MON",
          "MON",
          "MON",
          "MON",
          "MON",
          "MON",
          "MON",
          "MON",
          "SAT",
          "SAT",
          "SAT",
          "SAT",
          "SAT",
          "SAT",
          "SAT",
          "SAT",
          "SAT",
          "SAT",
          "SAT",
          "SAT",
          "SAT",
          "SAT",
          "SAT",
          "SAT",
          "SAT",
          "SAT",
          "SAT",
          "SAT",
          "SAT",
          "SAT",
          "SAT",
          "SAT",
          "SUN",
          "SUN",
          "SUN",
          "SUN",
          "SUN",
          "SUN",
          "SUN",
          "SUN",
          "SUN",
          "SUN",
          "SUN",
          "SUN",
          "SUN",
          "SUN",
          "SUN",
          "SUN",
          "SUN",
          "SUN",
          "SUN",
          "SUN",
          "SUN",
          "SUN",
          "SUN",
          "SUN",
          "THU",
          "THU",
          "THU",
          "THU",
          "THU",
          "THU",
          "THU",
          "THU",
          "THU",
          "THU",
          "THU",
          "THU",
          "THU",
          "THU",
          "THU",
          "THU",
          "THU",
          "THU",
          "THU",
          "THU",
          "THU",
          "THU",
          "THU",
          "THU",
          "TUE",
          "TUE",
          "TUE",
          "TUE",
          "TUE",
          "TUE",
          "TUE",
          "TUE",
          "TUE",
          "TUE",
          "TUE",
          "TUE",
          "TUE",
          "TUE",
          "TUE",
          "TUE",
          "TUE",
          "TUE",
          "TUE",
          "TUE",
          "TUE",
          "TUE",
          "TUE",
          "TUE",
          "WED",
          "WED",
          "WED",
          "WED",
          "WED",
          "WED",
          "WED",
          "WED",
          "WED",
          "WED",
          "WED",
          "WED",
          "WED",
          "WED",
          "WED",
          "WED",
          "WED",
          "WED",
          "WED",
          "WED",
          "WED",
          "WED",
          "WED",
          "WED"
         ],
         "y": [
          "0.0",
          "1.0",
          "2.0",
          "3.0",
          "4.0",
          "5.0",
          "6.0",
          "7.0",
          "8.0",
          "9.0",
          "10.0",
          "11.0",
          "12.0",
          "13.0",
          "14.0",
          "15.0",
          "16.0",
          "17.0",
          "18.0",
          "19.0",
          "20.0",
          "21.0",
          "22.0",
          "23.0",
          "0.0",
          "1.0",
          "2.0",
          "3.0",
          "4.0",
          "5.0",
          "6.0",
          "7.0",
          "8.0",
          "9.0",
          "10.0",
          "11.0",
          "12.0",
          "13.0",
          "14.0",
          "15.0",
          "16.0",
          "17.0",
          "18.0",
          "19.0",
          "20.0",
          "21.0",
          "22.0",
          "23.0",
          "0.0",
          "1.0",
          "2.0",
          "3.0",
          "4.0",
          "5.0",
          "6.0",
          "7.0",
          "8.0",
          "9.0",
          "10.0",
          "11.0",
          "12.0",
          "13.0",
          "14.0",
          "15.0",
          "16.0",
          "17.0",
          "18.0",
          "19.0",
          "20.0",
          "21.0",
          "22.0",
          "23.0",
          "0.0",
          "1.0",
          "2.0",
          "3.0",
          "4.0",
          "5.0",
          "6.0",
          "7.0",
          "8.0",
          "9.0",
          "10.0",
          "11.0",
          "12.0",
          "13.0",
          "14.0",
          "15.0",
          "16.0",
          "17.0",
          "18.0",
          "19.0",
          "20.0",
          "21.0",
          "22.0",
          "23.0",
          "0.0",
          "1.0",
          "2.0",
          "3.0",
          "4.0",
          "5.0",
          "6.0",
          "7.0",
          "8.0",
          "9.0",
          "10.0",
          "11.0",
          "12.0",
          "13.0",
          "14.0",
          "15.0",
          "16.0",
          "17.0",
          "18.0",
          "19.0",
          "20.0",
          "21.0",
          "22.0",
          "23.0",
          "0.0",
          "1.0",
          "2.0",
          "3.0",
          "4.0",
          "5.0",
          "6.0",
          "7.0",
          "8.0",
          "9.0",
          "10.0",
          "11.0",
          "12.0",
          "13.0",
          "14.0",
          "15.0",
          "16.0",
          "17.0",
          "18.0",
          "19.0",
          "20.0",
          "21.0",
          "22.0",
          "23.0",
          "0.0",
          "1.0",
          "2.0",
          "3.0",
          "4.0",
          "5.0",
          "6.0",
          "7.0",
          "8.0",
          "9.0",
          "10.0",
          "11.0",
          "12.0",
          "13.0",
          "14.0",
          "15.0",
          "16.0",
          "17.0",
          "18.0",
          "19.0",
          "20.0",
          "21.0",
          "22.0",
          "23.0"
         ]
        }
       ],
       "layout": {
        "autosize": true,
        "template": {
         "data": {
          "bar": [
           {
            "error_x": {
             "color": "#2a3f5f"
            },
            "error_y": {
             "color": "#2a3f5f"
            },
            "marker": {
             "line": {
              "color": "#E5ECF6",
              "width": 0.5
             }
            },
            "type": "bar"
           }
          ],
          "barpolar": [
           {
            "marker": {
             "line": {
              "color": "#E5ECF6",
              "width": 0.5
             }
            },
            "type": "barpolar"
           }
          ],
          "carpet": [
           {
            "aaxis": {
             "endlinecolor": "#2a3f5f",
             "gridcolor": "white",
             "linecolor": "white",
             "minorgridcolor": "white",
             "startlinecolor": "#2a3f5f"
            },
            "baxis": {
             "endlinecolor": "#2a3f5f",
             "gridcolor": "white",
             "linecolor": "white",
             "minorgridcolor": "white",
             "startlinecolor": "#2a3f5f"
            },
            "type": "carpet"
           }
          ],
          "choropleth": [
           {
            "colorbar": {
             "outlinewidth": 0,
             "ticks": ""
            },
            "type": "choropleth"
           }
          ],
          "contour": [
           {
            "colorbar": {
             "outlinewidth": 0,
             "ticks": ""
            },
            "colorscale": [
             [
              0,
              "#0d0887"
             ],
             [
              0.1111111111111111,
              "#46039f"
             ],
             [
              0.2222222222222222,
              "#7201a8"
             ],
             [
              0.3333333333333333,
              "#9c179e"
             ],
             [
              0.4444444444444444,
              "#bd3786"
             ],
             [
              0.5555555555555556,
              "#d8576b"
             ],
             [
              0.6666666666666666,
              "#ed7953"
             ],
             [
              0.7777777777777778,
              "#fb9f3a"
             ],
             [
              0.8888888888888888,
              "#fdca26"
             ],
             [
              1,
              "#f0f921"
             ]
            ],
            "type": "contour"
           }
          ],
          "contourcarpet": [
           {
            "colorbar": {
             "outlinewidth": 0,
             "ticks": ""
            },
            "type": "contourcarpet"
           }
          ],
          "heatmap": [
           {
            "colorbar": {
             "outlinewidth": 0,
             "ticks": ""
            },
            "colorscale": [
             [
              0,
              "#0d0887"
             ],
             [
              0.1111111111111111,
              "#46039f"
             ],
             [
              0.2222222222222222,
              "#7201a8"
             ],
             [
              0.3333333333333333,
              "#9c179e"
             ],
             [
              0.4444444444444444,
              "#bd3786"
             ],
             [
              0.5555555555555556,
              "#d8576b"
             ],
             [
              0.6666666666666666,
              "#ed7953"
             ],
             [
              0.7777777777777778,
              "#fb9f3a"
             ],
             [
              0.8888888888888888,
              "#fdca26"
             ],
             [
              1,
              "#f0f921"
             ]
            ],
            "type": "heatmap"
           }
          ],
          "heatmapgl": [
           {
            "colorbar": {
             "outlinewidth": 0,
             "ticks": ""
            },
            "colorscale": [
             [
              0,
              "#0d0887"
             ],
             [
              0.1111111111111111,
              "#46039f"
             ],
             [
              0.2222222222222222,
              "#7201a8"
             ],
             [
              0.3333333333333333,
              "#9c179e"
             ],
             [
              0.4444444444444444,
              "#bd3786"
             ],
             [
              0.5555555555555556,
              "#d8576b"
             ],
             [
              0.6666666666666666,
              "#ed7953"
             ],
             [
              0.7777777777777778,
              "#fb9f3a"
             ],
             [
              0.8888888888888888,
              "#fdca26"
             ],
             [
              1,
              "#f0f921"
             ]
            ],
            "type": "heatmapgl"
           }
          ],
          "histogram": [
           {
            "marker": {
             "colorbar": {
              "outlinewidth": 0,
              "ticks": ""
             }
            },
            "type": "histogram"
           }
          ],
          "histogram2d": [
           {
            "colorbar": {
             "outlinewidth": 0,
             "ticks": ""
            },
            "colorscale": [
             [
              0,
              "#0d0887"
             ],
             [
              0.1111111111111111,
              "#46039f"
             ],
             [
              0.2222222222222222,
              "#7201a8"
             ],
             [
              0.3333333333333333,
              "#9c179e"
             ],
             [
              0.4444444444444444,
              "#bd3786"
             ],
             [
              0.5555555555555556,
              "#d8576b"
             ],
             [
              0.6666666666666666,
              "#ed7953"
             ],
             [
              0.7777777777777778,
              "#fb9f3a"
             ],
             [
              0.8888888888888888,
              "#fdca26"
             ],
             [
              1,
              "#f0f921"
             ]
            ],
            "type": "histogram2d"
           }
          ],
          "histogram2dcontour": [
           {
            "colorbar": {
             "outlinewidth": 0,
             "ticks": ""
            },
            "colorscale": [
             [
              0,
              "#0d0887"
             ],
             [
              0.1111111111111111,
              "#46039f"
             ],
             [
              0.2222222222222222,
              "#7201a8"
             ],
             [
              0.3333333333333333,
              "#9c179e"
             ],
             [
              0.4444444444444444,
              "#bd3786"
             ],
             [
              0.5555555555555556,
              "#d8576b"
             ],
             [
              0.6666666666666666,
              "#ed7953"
             ],
             [
              0.7777777777777778,
              "#fb9f3a"
             ],
             [
              0.8888888888888888,
              "#fdca26"
             ],
             [
              1,
              "#f0f921"
             ]
            ],
            "type": "histogram2dcontour"
           }
          ],
          "mesh3d": [
           {
            "colorbar": {
             "outlinewidth": 0,
             "ticks": ""
            },
            "type": "mesh3d"
           }
          ],
          "parcoords": [
           {
            "line": {
             "colorbar": {
              "outlinewidth": 0,
              "ticks": ""
             }
            },
            "type": "parcoords"
           }
          ],
          "pie": [
           {
            "automargin": true,
            "type": "pie"
           }
          ],
          "scatter": [
           {
            "marker": {
             "colorbar": {
              "outlinewidth": 0,
              "ticks": ""
             }
            },
            "type": "scatter"
           }
          ],
          "scatter3d": [
           {
            "line": {
             "colorbar": {
              "outlinewidth": 0,
              "ticks": ""
             }
            },
            "marker": {
             "colorbar": {
              "outlinewidth": 0,
              "ticks": ""
             }
            },
            "type": "scatter3d"
           }
          ],
          "scattercarpet": [
           {
            "marker": {
             "colorbar": {
              "outlinewidth": 0,
              "ticks": ""
             }
            },
            "type": "scattercarpet"
           }
          ],
          "scattergeo": [
           {
            "marker": {
             "colorbar": {
              "outlinewidth": 0,
              "ticks": ""
             }
            },
            "type": "scattergeo"
           }
          ],
          "scattergl": [
           {
            "marker": {
             "colorbar": {
              "outlinewidth": 0,
              "ticks": ""
             }
            },
            "type": "scattergl"
           }
          ],
          "scattermapbox": [
           {
            "marker": {
             "colorbar": {
              "outlinewidth": 0,
              "ticks": ""
             }
            },
            "type": "scattermapbox"
           }
          ],
          "scatterpolar": [
           {
            "marker": {
             "colorbar": {
              "outlinewidth": 0,
              "ticks": ""
             }
            },
            "type": "scatterpolar"
           }
          ],
          "scatterpolargl": [
           {
            "marker": {
             "colorbar": {
              "outlinewidth": 0,
              "ticks": ""
             }
            },
            "type": "scatterpolargl"
           }
          ],
          "scatterternary": [
           {
            "marker": {
             "colorbar": {
              "outlinewidth": 0,
              "ticks": ""
             }
            },
            "type": "scatterternary"
           }
          ],
          "surface": [
           {
            "colorbar": {
             "outlinewidth": 0,
             "ticks": ""
            },
            "colorscale": [
             [
              0,
              "#0d0887"
             ],
             [
              0.1111111111111111,
              "#46039f"
             ],
             [
              0.2222222222222222,
              "#7201a8"
             ],
             [
              0.3333333333333333,
              "#9c179e"
             ],
             [
              0.4444444444444444,
              "#bd3786"
             ],
             [
              0.5555555555555556,
              "#d8576b"
             ],
             [
              0.6666666666666666,
              "#ed7953"
             ],
             [
              0.7777777777777778,
              "#fb9f3a"
             ],
             [
              0.8888888888888888,
              "#fdca26"
             ],
             [
              1,
              "#f0f921"
             ]
            ],
            "type": "surface"
           }
          ],
          "table": [
           {
            "cells": {
             "fill": {
              "color": "#EBF0F8"
             },
             "line": {
              "color": "white"
             }
            },
            "header": {
             "fill": {
              "color": "#C8D4E3"
             },
             "line": {
              "color": "white"
             }
            },
            "type": "table"
           }
          ]
         },
         "layout": {
          "annotationdefaults": {
           "arrowcolor": "#2a3f5f",
           "arrowhead": 0,
           "arrowwidth": 1
          },
          "coloraxis": {
           "colorbar": {
            "outlinewidth": 0,
            "ticks": ""
           }
          },
          "colorscale": {
           "diverging": [
            [
             0,
             "#8e0152"
            ],
            [
             0.1,
             "#c51b7d"
            ],
            [
             0.2,
             "#de77ae"
            ],
            [
             0.3,
             "#f1b6da"
            ],
            [
             0.4,
             "#fde0ef"
            ],
            [
             0.5,
             "#f7f7f7"
            ],
            [
             0.6,
             "#e6f5d0"
            ],
            [
             0.7,
             "#b8e186"
            ],
            [
             0.8,
             "#7fbc41"
            ],
            [
             0.9,
             "#4d9221"
            ],
            [
             1,
             "#276419"
            ]
           ],
           "sequential": [
            [
             0,
             "#0d0887"
            ],
            [
             0.1111111111111111,
             "#46039f"
            ],
            [
             0.2222222222222222,
             "#7201a8"
            ],
            [
             0.3333333333333333,
             "#9c179e"
            ],
            [
             0.4444444444444444,
             "#bd3786"
            ],
            [
             0.5555555555555556,
             "#d8576b"
            ],
            [
             0.6666666666666666,
             "#ed7953"
            ],
            [
             0.7777777777777778,
             "#fb9f3a"
            ],
            [
             0.8888888888888888,
             "#fdca26"
            ],
            [
             1,
             "#f0f921"
            ]
           ],
           "sequentialminus": [
            [
             0,
             "#0d0887"
            ],
            [
             0.1111111111111111,
             "#46039f"
            ],
            [
             0.2222222222222222,
             "#7201a8"
            ],
            [
             0.3333333333333333,
             "#9c179e"
            ],
            [
             0.4444444444444444,
             "#bd3786"
            ],
            [
             0.5555555555555556,
             "#d8576b"
            ],
            [
             0.6666666666666666,
             "#ed7953"
            ],
            [
             0.7777777777777778,
             "#fb9f3a"
            ],
            [
             0.8888888888888888,
             "#fdca26"
            ],
            [
             1,
             "#f0f921"
            ]
           ]
          },
          "colorway": [
           "#636efa",
           "#EF553B",
           "#00cc96",
           "#ab63fa",
           "#FFA15A",
           "#19d3f3",
           "#FF6692",
           "#B6E880",
           "#FF97FF",
           "#FECB52"
          ],
          "font": {
           "color": "#2a3f5f"
          },
          "geo": {
           "bgcolor": "white",
           "lakecolor": "white",
           "landcolor": "#E5ECF6",
           "showlakes": true,
           "showland": true,
           "subunitcolor": "white"
          },
          "hoverlabel": {
           "align": "left"
          },
          "hovermode": "closest",
          "mapbox": {
           "style": "light"
          },
          "paper_bgcolor": "white",
          "plot_bgcolor": "#E5ECF6",
          "polar": {
           "angularaxis": {
            "gridcolor": "white",
            "linecolor": "white",
            "ticks": ""
           },
           "bgcolor": "#E5ECF6",
           "radialaxis": {
            "gridcolor": "white",
            "linecolor": "white",
            "ticks": ""
           }
          },
          "scene": {
           "xaxis": {
            "backgroundcolor": "#E5ECF6",
            "gridcolor": "white",
            "gridwidth": 2,
            "linecolor": "white",
            "showbackground": true,
            "ticks": "",
            "zerolinecolor": "white"
           },
           "yaxis": {
            "backgroundcolor": "#E5ECF6",
            "gridcolor": "white",
            "gridwidth": 2,
            "linecolor": "white",
            "showbackground": true,
            "ticks": "",
            "zerolinecolor": "white"
           },
           "zaxis": {
            "backgroundcolor": "#E5ECF6",
            "gridcolor": "white",
            "gridwidth": 2,
            "linecolor": "white",
            "showbackground": true,
            "ticks": "",
            "zerolinecolor": "white"
           }
          },
          "shapedefaults": {
           "line": {
            "color": "#2a3f5f"
           }
          },
          "ternary": {
           "aaxis": {
            "gridcolor": "white",
            "linecolor": "white",
            "ticks": ""
           },
           "baxis": {
            "gridcolor": "white",
            "linecolor": "white",
            "ticks": ""
           },
           "bgcolor": "#E5ECF6",
           "caxis": {
            "gridcolor": "white",
            "linecolor": "white",
            "ticks": ""
           }
          },
          "title": {
           "x": 0.05
          },
          "xaxis": {
           "automargin": true,
           "gridcolor": "white",
           "linecolor": "white",
           "ticks": "",
           "title": {
            "standoff": 15
           },
           "zerolinecolor": "white",
           "zerolinewidth": 2
          },
          "yaxis": {
           "automargin": true,
           "gridcolor": "white",
           "linecolor": "white",
           "ticks": "",
           "title": {
            "standoff": 15
           },
           "zerolinecolor": "white",
           "zerolinewidth": 2
          }
         }
        },
        "xaxis": {
         "autorange": true,
         "range": [
          -0.5,
          6.5
         ],
         "type": "category"
        },
        "yaxis": {
         "autorange": true,
         "range": [
          -0.5,
          24.5
         ],
         "type": "linear"
        }
       }
      },
      "image/png": "[encoded data removed]",
      "text/html": [
       "<div>\n",
       "        \n",
       "        \n",
       "            <div id=\"d1a24a7d-dc2a-445a-8f8e-3969ca228a91\" class=\"plotly-graph-div\" style=\"height:525px; width:100%;\"></div>\n",
       "            <script type=\"text/javascript\">\n",
       "                require([\"plotly\"], function(Plotly) {\n",
       "                    window.PLOTLYENV=window.PLOTLYENV || {};\n",
       "                    \n",
       "                if (document.getElementById(\"d1a24a7d-dc2a-445a-8f8e-3969ca228a91\")) {\n",
       "                    Plotly.newPlot(\n",
       "                        'd1a24a7d-dc2a-445a-8f8e-3969ca228a91',\n",
       "                        [{\"type\": \"histogram2d\", \"x\": [\"FRI\", \"FRI\", \"FRI\", \"FRI\", \"FRI\", \"FRI\", \"FRI\", \"FRI\", \"FRI\", \"FRI\", \"FRI\", \"FRI\", \"FRI\", \"FRI\", \"FRI\", \"FRI\", \"FRI\", \"FRI\", \"FRI\", \"FRI\", \"FRI\", \"FRI\", \"FRI\", \"FRI\", \"MON\", \"MON\", \"MON\", \"MON\", \"MON\", \"MON\", \"MON\", \"MON\", \"MON\", \"MON\", \"MON\", \"MON\", \"MON\", \"MON\", \"MON\", \"MON\", \"MON\", \"MON\", \"MON\", \"MON\", \"MON\", \"MON\", \"MON\", \"MON\", \"SAT\", \"SAT\", \"SAT\", \"SAT\", \"SAT\", \"SAT\", \"SAT\", \"SAT\", \"SAT\", \"SAT\", \"SAT\", \"SAT\", \"SAT\", \"SAT\", \"SAT\", \"SAT\", \"SAT\", \"SAT\", \"SAT\", \"SAT\", \"SAT\", \"SAT\", \"SAT\", \"SAT\", \"SUN\", \"SUN\", \"SUN\", \"SUN\", \"SUN\", \"SUN\", \"SUN\", \"SUN\", \"SUN\", \"SUN\", \"SUN\", \"SUN\", \"SUN\", \"SUN\", \"SUN\", \"SUN\", \"SUN\", \"SUN\", \"SUN\", \"SUN\", \"SUN\", \"SUN\", \"SUN\", \"SUN\", \"THU\", \"THU\", \"THU\", \"THU\", \"THU\", \"THU\", \"THU\", \"THU\", \"THU\", \"THU\", \"THU\", \"THU\", \"THU\", \"THU\", \"THU\", \"THU\", \"THU\", \"THU\", \"THU\", \"THU\", \"THU\", \"THU\", \"THU\", \"THU\", \"TUE\", \"TUE\", \"TUE\", \"TUE\", \"TUE\", \"TUE\", \"TUE\", \"TUE\", \"TUE\", \"TUE\", \"TUE\", \"TUE\", \"TUE\", \"TUE\", \"TUE\", \"TUE\", \"TUE\", \"TUE\", \"TUE\", \"TUE\", \"TUE\", \"TUE\", \"TUE\", \"TUE\", \"WED\", \"WED\", \"WED\", \"WED\", \"WED\", \"WED\", \"WED\", \"WED\", \"WED\", \"WED\", \"WED\", \"WED\", \"WED\", \"WED\", \"WED\", \"WED\", \"WED\", \"WED\", \"WED\", \"WED\", \"WED\", \"WED\", \"WED\", \"WED\"], \"y\": [\"0.0\", \"1.0\", \"2.0\", \"3.0\", \"4.0\", \"5.0\", \"6.0\", \"7.0\", \"8.0\", \"9.0\", \"10.0\", \"11.0\", \"12.0\", \"13.0\", \"14.0\", \"15.0\", \"16.0\", \"17.0\", \"18.0\", \"19.0\", \"20.0\", \"21.0\", \"22.0\", \"23.0\", \"0.0\", \"1.0\", \"2.0\", \"3.0\", \"4.0\", \"5.0\", \"6.0\", \"7.0\", \"8.0\", \"9.0\", \"10.0\", \"11.0\", \"12.0\", \"13.0\", \"14.0\", \"15.0\", \"16.0\", \"17.0\", \"18.0\", \"19.0\", \"20.0\", \"21.0\", \"22.0\", \"23.0\", \"0.0\", \"1.0\", \"2.0\", \"3.0\", \"4.0\", \"5.0\", \"6.0\", \"7.0\", \"8.0\", \"9.0\", \"10.0\", \"11.0\", \"12.0\", \"13.0\", \"14.0\", \"15.0\", \"16.0\", \"17.0\", \"18.0\", \"19.0\", \"20.0\", \"21.0\", \"22.0\", \"23.0\", \"0.0\", \"1.0\", \"2.0\", \"3.0\", \"4.0\", \"5.0\", \"6.0\", \"7.0\", \"8.0\", \"9.0\", \"10.0\", \"11.0\", \"12.0\", \"13.0\", \"14.0\", \"15.0\", \"16.0\", \"17.0\", \"18.0\", \"19.0\", \"20.0\", \"21.0\", \"22.0\", \"23.0\", \"0.0\", \"1.0\", \"2.0\", \"3.0\", \"4.0\", \"5.0\", \"6.0\", \"7.0\", \"8.0\", \"9.0\", \"10.0\", \"11.0\", \"12.0\", \"13.0\", \"14.0\", \"15.0\", \"16.0\", \"17.0\", \"18.0\", \"19.0\", \"20.0\", \"21.0\", \"22.0\", \"23.0\", \"0.0\", \"1.0\", \"2.0\", \"3.0\", \"4.0\", \"5.0\", \"6.0\", \"7.0\", \"8.0\", \"9.0\", \"10.0\", \"11.0\", \"12.0\", \"13.0\", \"14.0\", \"15.0\", \"16.0\", \"17.0\", \"18.0\", \"19.0\", \"20.0\", \"21.0\", \"22.0\", \"23.0\", \"0.0\", \"1.0\", \"2.0\", \"3.0\", \"4.0\", \"5.0\", \"6.0\", \"7.0\", \"8.0\", \"9.0\", \"10.0\", \"11.0\", \"12.0\", \"13.0\", \"14.0\", \"15.0\", \"16.0\", \"17.0\", \"18.0\", \"19.0\", \"20.0\", \"21.0\", \"22.0\", \"23.0\"]}],\n",
       "                        {\"template\": {\"data\": {\"bar\": [{\"error_x\": {\"color\": \"#2a3f5f\"}, \"error_y\": {\"color\": \"#2a3f5f\"}, \"marker\": {\"line\": {\"color\": \"#E5ECF6\", \"width\": 0.5}}, \"type\": \"bar\"}], \"barpolar\": [{\"marker\": {\"line\": {\"color\": \"#E5ECF6\", \"width\": 0.5}}, \"type\": \"barpolar\"}], \"carpet\": [{\"aaxis\": {\"endlinecolor\": \"#2a3f5f\", \"gridcolor\": \"white\", \"linecolor\": \"white\", \"minorgridcolor\": \"white\", \"startlinecolor\": \"#2a3f5f\"}, \"baxis\": {\"endlinecolor\": \"#2a3f5f\", \"gridcolor\": \"white\", \"linecolor\": \"white\", \"minorgridcolor\": \"white\", \"startlinecolor\": \"#2a3f5f\"}, \"type\": \"carpet\"}], \"choropleth\": [{\"colorbar\": {\"outlinewidth\": 0, \"ticks\": \"\"}, \"type\": \"choropleth\"}], \"contour\": [{\"colorbar\": {\"outlinewidth\": 0, \"ticks\": \"\"}, \"colorscale\": [[0.0, \"#0d0887\"], [0.1111111111111111, \"#46039f\"], [0.2222222222222222, \"#7201a8\"], [0.3333333333333333, \"#9c179e\"], [0.4444444444444444, \"#bd3786\"], [0.5555555555555556, \"#d8576b\"], [0.6666666666666666, \"#ed7953\"], [0.7777777777777778, \"#fb9f3a\"], [0.8888888888888888, \"#fdca26\"], [1.0, \"#f0f921\"]], \"type\": \"contour\"}], \"contourcarpet\": [{\"colorbar\": {\"outlinewidth\": 0, \"ticks\": \"\"}, \"type\": \"contourcarpet\"}], \"heatmap\": [{\"colorbar\": {\"outlinewidth\": 0, \"ticks\": \"\"}, \"colorscale\": [[0.0, \"#0d0887\"], [0.1111111111111111, \"#46039f\"], [0.2222222222222222, \"#7201a8\"], [0.3333333333333333, \"#9c179e\"], [0.4444444444444444, \"#bd3786\"], [0.5555555555555556, \"#d8576b\"], [0.6666666666666666, \"#ed7953\"], [0.7777777777777778, \"#fb9f3a\"], [0.8888888888888888, \"#fdca26\"], [1.0, \"#f0f921\"]], \"type\": \"heatmap\"}], \"heatmapgl\": [{\"colorbar\": {\"outlinewidth\": 0, \"ticks\": \"\"}, \"colorscale\": [[0.0, \"#0d0887\"], [0.1111111111111111, \"#46039f\"], [0.2222222222222222, \"#7201a8\"], [0.3333333333333333, \"#9c179e\"], [0.4444444444444444, \"#bd3786\"], [0.5555555555555556, \"#d8576b\"], [0.6666666666666666, \"#ed7953\"], [0.7777777777777778, \"#fb9f3a\"], [0.8888888888888888, \"#fdca26\"], [1.0, \"#f0f921\"]], \"type\": \"heatmapgl\"}], \"histogram\": [{\"marker\": {\"colorbar\": {\"outlinewidth\": 0, \"ticks\": \"\"}}, \"type\": \"histogram\"}], \"histogram2d\": [{\"colorbar\": {\"outlinewidth\": 0, \"ticks\": \"\"}, \"colorscale\": [[0.0, \"#0d0887\"], [0.1111111111111111, \"#46039f\"], [0.2222222222222222, \"#7201a8\"], [0.3333333333333333, \"#9c179e\"], [0.4444444444444444, \"#bd3786\"], [0.5555555555555556, \"#d8576b\"], [0.6666666666666666, \"#ed7953\"], [0.7777777777777778, \"#fb9f3a\"], [0.8888888888888888, \"#fdca26\"], [1.0, \"#f0f921\"]], \"type\": \"histogram2d\"}], \"histogram2dcontour\": [{\"colorbar\": {\"outlinewidth\": 0, \"ticks\": \"\"}, \"colorscale\": [[0.0, \"#0d0887\"], [0.1111111111111111, \"#46039f\"], [0.2222222222222222, \"#7201a8\"], [0.3333333333333333, \"#9c179e\"], [0.4444444444444444, \"#bd3786\"], [0.5555555555555556, \"#d8576b\"], [0.6666666666666666, \"#ed7953\"], [0.7777777777777778, \"#fb9f3a\"], [0.8888888888888888, \"#fdca26\"], [1.0, \"#f0f921\"]], \"type\": \"histogram2dcontour\"}], \"mesh3d\": [{\"colorbar\": {\"outlinewidth\": 0, \"ticks\": \"\"}, \"type\": \"mesh3d\"}], \"parcoords\": [{\"line\": {\"colorbar\": {\"outlinewidth\": 0, \"ticks\": \"\"}}, \"type\": \"parcoords\"}], \"pie\": [{\"automargin\": true, \"type\": \"pie\"}], \"scatter\": [{\"marker\": {\"colorbar\": {\"outlinewidth\": 0, \"ticks\": \"\"}}, \"type\": \"scatter\"}], \"scatter3d\": [{\"line\": {\"colorbar\": {\"outlinewidth\": 0, \"ticks\": \"\"}}, \"marker\": {\"colorbar\": {\"outlinewidth\": 0, \"ticks\": \"\"}}, \"type\": \"scatter3d\"}], \"scattercarpet\": [{\"marker\": {\"colorbar\": {\"outlinewidth\": 0, \"ticks\": \"\"}}, \"type\": \"scattercarpet\"}], \"scattergeo\": [{\"marker\": {\"colorbar\": {\"outlinewidth\": 0, \"ticks\": \"\"}}, \"type\": \"scattergeo\"}], \"scattergl\": [{\"marker\": {\"colorbar\": {\"outlinewidth\": 0, \"ticks\": \"\"}}, \"type\": \"scattergl\"}], \"scattermapbox\": [{\"marker\": {\"colorbar\": {\"outlinewidth\": 0, \"ticks\": \"\"}}, \"type\": \"scattermapbox\"}], \"scatterpolar\": [{\"marker\": {\"colorbar\": {\"outlinewidth\": 0, \"ticks\": \"\"}}, \"type\": \"scatterpolar\"}], \"scatterpolargl\": [{\"marker\": {\"colorbar\": {\"outlinewidth\": 0, \"ticks\": \"\"}}, \"type\": \"scatterpolargl\"}], \"scatterternary\": [{\"marker\": {\"colorbar\": {\"outlinewidth\": 0, \"ticks\": \"\"}}, \"type\": \"scatterternary\"}], \"surface\": [{\"colorbar\": {\"outlinewidth\": 0, \"ticks\": \"\"}, \"colorscale\": [[0.0, \"#0d0887\"], [0.1111111111111111, \"#46039f\"], [0.2222222222222222, \"#7201a8\"], [0.3333333333333333, \"#9c179e\"], [0.4444444444444444, \"#bd3786\"], [0.5555555555555556, \"#d8576b\"], [0.6666666666666666, \"#ed7953\"], [0.7777777777777778, \"#fb9f3a\"], [0.8888888888888888, \"#fdca26\"], [1.0, \"#f0f921\"]], \"type\": \"surface\"}], \"table\": [{\"cells\": {\"fill\": {\"color\": \"#EBF0F8\"}, \"line\": {\"color\": \"white\"}}, \"header\": {\"fill\": {\"color\": \"#C8D4E3\"}, \"line\": {\"color\": \"white\"}}, \"type\": \"table\"}]}, \"layout\": {\"annotationdefaults\": {\"arrowcolor\": \"#2a3f5f\", \"arrowhead\": 0, \"arrowwidth\": 1}, \"coloraxis\": {\"colorbar\": {\"outlinewidth\": 0, \"ticks\": \"\"}}, \"colorscale\": {\"diverging\": [[0, \"#8e0152\"], [0.1, \"#c51b7d\"], [0.2, \"#de77ae\"], [0.3, \"#f1b6da\"], [0.4, \"#fde0ef\"], [0.5, \"#f7f7f7\"], [0.6, \"#e6f5d0\"], [0.7, \"#b8e186\"], [0.8, \"#7fbc41\"], [0.9, \"#4d9221\"], [1, \"#276419\"]], \"sequential\": [[0.0, \"#0d0887\"], [0.1111111111111111, \"#46039f\"], [0.2222222222222222, \"#7201a8\"], [0.3333333333333333, \"#9c179e\"], [0.4444444444444444, \"#bd3786\"], [0.5555555555555556, \"#d8576b\"], [0.6666666666666666, \"#ed7953\"], [0.7777777777777778, \"#fb9f3a\"], [0.8888888888888888, \"#fdca26\"], [1.0, \"#f0f921\"]], \"sequentialminus\": [[0.0, \"#0d0887\"], [0.1111111111111111, \"#46039f\"], [0.2222222222222222, \"#7201a8\"], [0.3333333333333333, \"#9c179e\"], [0.4444444444444444, \"#bd3786\"], [0.5555555555555556, \"#d8576b\"], [0.6666666666666666, \"#ed7953\"], [0.7777777777777778, \"#fb9f3a\"], [0.8888888888888888, \"#fdca26\"], [1.0, \"#f0f921\"]]}, \"colorway\": [\"#636efa\", \"#EF553B\", \"#00cc96\", \"#ab63fa\", \"#FFA15A\", \"#19d3f3\", \"#FF6692\", \"#B6E880\", \"#FF97FF\", \"#FECB52\"], \"font\": {\"color\": \"#2a3f5f\"}, \"geo\": {\"bgcolor\": \"white\", \"lakecolor\": \"white\", \"landcolor\": \"#E5ECF6\", \"showlakes\": true, \"showland\": true, \"subunitcolor\": \"white\"}, \"hoverlabel\": {\"align\": \"left\"}, \"hovermode\": \"closest\", \"mapbox\": {\"style\": \"light\"}, \"paper_bgcolor\": \"white\", \"plot_bgcolor\": \"#E5ECF6\", \"polar\": {\"angularaxis\": {\"gridcolor\": \"white\", \"linecolor\": \"white\", \"ticks\": \"\"}, \"bgcolor\": \"#E5ECF6\", \"radialaxis\": {\"gridcolor\": \"white\", \"linecolor\": \"white\", \"ticks\": \"\"}}, \"scene\": {\"xaxis\": {\"backgroundcolor\": \"#E5ECF6\", \"gridcolor\": \"white\", \"gridwidth\": 2, \"linecolor\": \"white\", \"showbackground\": true, \"ticks\": \"\", \"zerolinecolor\": \"white\"}, \"yaxis\": {\"backgroundcolor\": \"#E5ECF6\", \"gridcolor\": \"white\", \"gridwidth\": 2, \"linecolor\": \"white\", \"showbackground\": true, \"ticks\": \"\", \"zerolinecolor\": \"white\"}, \"zaxis\": {\"backgroundcolor\": \"#E5ECF6\", \"gridcolor\": \"white\", \"gridwidth\": 2, \"linecolor\": \"white\", \"showbackground\": true, \"ticks\": \"\", \"zerolinecolor\": \"white\"}}, \"shapedefaults\": {\"line\": {\"color\": \"#2a3f5f\"}}, \"ternary\": {\"aaxis\": {\"gridcolor\": \"white\", \"linecolor\": \"white\", \"ticks\": \"\"}, \"baxis\": {\"gridcolor\": \"white\", \"linecolor\": \"white\", \"ticks\": \"\"}, \"bgcolor\": \"#E5ECF6\", \"caxis\": {\"gridcolor\": \"white\", \"linecolor\": \"white\", \"ticks\": \"\"}}, \"title\": {\"x\": 0.05}, \"xaxis\": {\"automargin\": true, \"gridcolor\": \"white\", \"linecolor\": \"white\", \"ticks\": \"\", \"title\": {\"standoff\": 15}, \"zerolinecolor\": \"white\", \"zerolinewidth\": 2}, \"yaxis\": {\"automargin\": true, \"gridcolor\": \"white\", \"linecolor\": \"white\", \"ticks\": \"\", \"title\": {\"standoff\": 15}, \"zerolinecolor\": \"white\", \"zerolinewidth\": 2}}}},\n",
       "                        {\"responsive\": true}\n",
       "                    ).then(function(){\n",
       "                            \n",
       "var gd = document.getElementById('d1a24a7d-dc2a-445a-8f8e-3969ca228a91');\n",
       "var x = new MutationObserver(function (mutations, observer) {{\n",
       "        var display = window.getComputedStyle(gd).display;\n",
       "        if (!display || display === 'none') {{\n",
       "            console.log([gd, 'removed!']);\n",
       "            Plotly.purge(gd);\n",
       "            observer.disconnect();\n",
       "        }}\n",
       "}});\n",
       "\n",
       "// Listen for the removal of the full notebook cells\n",
       "var notebookContainer = gd.closest('#notebook-container');\n",
       "if (notebookContainer) {{\n",
       "    x.observe(notebookContainer, {childList: true});\n",
       "}}\n",
       "\n",
       "// Listen for the clearing of the current output cell\n",
       "var outputEl = gd.closest('.output');\n",
       "if (outputEl) {{\n",
       "    x.observe(outputEl, {childList: true});\n",
       "}}\n",
       "\n",
       "                        })\n",
       "                };\n",
       "                });\n",
       "            </script>\n",
       "        </div>"
      ]
     },
     "metadata": {},
     "output_type": "display_data"
    }
   ],
   "source": [
    "fig = go.Figure(go.Histogram2d(\n",
    "        x=crime_day_2018['day'],\n",
    "        y=crime_day_2018['hour']\n",
    "    ))\n",
    "fig.show()"
   ]
  },
  {
   "cell_type": "code",
   "execution_count": null,
   "id": "congressional-fraction",
   "metadata": {},
   "outputs": [],
   "source": []
  }
 ],
 "metadata": {
  "kernelspec": {
   "display_name": "PythonData",
   "language": "python",
   "name": "pythondata"
  },
  "language_info": {
   "codemirror_mode": {
    "name": "ipython",
    "version": 3
   },
   "file_extension": ".py",
   "mimetype": "text/x-python",
   "name": "python",
   "nbconvert_exporter": "python",
   "pygments_lexer": "ipython3",
   "version": "3.7.9"
  }
 },
 "nbformat": 4,
 "nbformat_minor": 5
}

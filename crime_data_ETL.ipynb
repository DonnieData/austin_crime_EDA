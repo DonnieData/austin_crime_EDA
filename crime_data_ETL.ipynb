{
 "cells": [
  {
   "cell_type": "markdown",
   "id": "focused-donor",
   "metadata": {},
   "source": [
    "## ETL Data pipeline"
   ]
  },
  {
   "cell_type": "code",
   "execution_count": 1,
   "id": "functional-power",
   "metadata": {
    "execution": {
     "iopub.execute_input": "2021-03-03T18:14:59.690770Z",
     "iopub.status.busy": "2021-03-03T18:14:59.689748Z",
     "iopub.status.idle": "2021-03-03T18:14:59.794560Z",
     "shell.execute_reply": "2021-03-03T18:14:59.794560Z",
     "shell.execute_reply.started": "2021-03-03T18:14:59.690770Z"
    }
   },
   "outputs": [],
   "source": [
    "# import dependencies \n",
    "import requests \n",
    "import pandas as pd\n",
    "import time \n",
    "from datetime import datetime\n",
    "import numpy as np \n",
    "import config "
   ]
  },
  {
   "cell_type": "markdown",
   "id": "hindu-leave",
   "metadata": {
    "execution": {
     "iopub.execute_input": "2021-03-03T18:32:12.935249Z",
     "iopub.status.busy": "2021-03-03T18:32:12.935249Z",
     "iopub.status.idle": "2021-03-03T18:32:12.939240Z",
     "shell.execute_reply": "2021-03-03T18:32:12.938276Z",
     "shell.execute_reply.started": "2021-03-03T18:32:12.935249Z"
    }
   },
   "source": [
    "### Build Extraction Steps"
   ]
  },
  {
   "cell_type": "code",
   "execution_count": 11,
   "id": "alpine-ensemble",
   "metadata": {
    "execution": {
     "iopub.execute_input": "2021-03-03T18:34:09.125375Z",
     "iopub.status.busy": "2021-03-03T18:34:09.125375Z",
     "iopub.status.idle": "2021-03-03T18:34:09.131359Z",
     "shell.execute_reply": "2021-03-03T18:34:09.130362Z",
     "shell.execute_reply.started": "2021-03-03T18:34:09.125375Z"
    }
   },
   "outputs": [],
   "source": [
    "url = \"https://data.austintexas.gov/resource/fdj4-gpfu.json?$limit=78&$where=occ_date between '2018-01-01T00:00:00.000' and '2020-12-31T00:00:00.000'\""
   ]
  },
  {
   "cell_type": "code",
   "execution_count": 12,
   "id": "arctic-adjustment",
   "metadata": {
    "execution": {
     "iopub.execute_input": "2021-03-03T18:34:10.764119Z",
     "iopub.status.busy": "2021-03-03T18:34:10.763120Z",
     "iopub.status.idle": "2021-03-03T18:34:10.767112Z",
     "shell.execute_reply": "2021-03-03T18:34:10.767112Z",
     "shell.execute_reply.started": "2021-03-03T18:34:10.764119Z"
    }
   },
   "outputs": [],
   "source": [
    "# optional parameter for aditonal api parameters/filters\n",
    "def extract_data(api_endpoint,parameters=None): \n",
    "    data_request = requests.get(url=api_endpoint, params=parameters)\n",
    "    \n",
    "    data_df = pd.DataFrame.from_records(data_request.json())\n",
    "    \n",
    "    return data_df"
   ]
  },
  {
   "cell_type": "code",
   "execution_count": 13,
   "id": "confidential-constitution",
   "metadata": {
    "execution": {
     "iopub.execute_input": "2021-03-03T18:34:11.475742Z",
     "iopub.status.busy": "2021-03-03T18:34:11.474742Z",
     "iopub.status.idle": "2021-03-03T18:34:11.931145Z",
     "shell.execute_reply": "2021-03-03T18:34:11.931145Z",
     "shell.execute_reply.started": "2021-03-03T18:34:11.475742Z"
    }
   },
   "outputs": [],
   "source": [
    "extract_data(url)"
   ]
  },
  {
   "cell_type": "code",
   "execution_count": null,
   "id": "breathing-holder",
   "metadata": {},
   "outputs": [],
   "source": [
    "data"
   ]
  }
 ],
 "metadata": {
  "kernelspec": {
   "display_name": "PythonData",
   "language": "python",
   "name": "pythondata"
  },
  "language_info": {
   "codemirror_mode": {
    "name": "ipython",
    "version": 3
   },
   "file_extension": ".py",
   "mimetype": "text/x-python",
   "name": "python",
   "nbconvert_exporter": "python",
   "pygments_lexer": "ipython3",
   "version": "3.7.9"
  }
 },
 "nbformat": 4,
 "nbformat_minor": 5
}

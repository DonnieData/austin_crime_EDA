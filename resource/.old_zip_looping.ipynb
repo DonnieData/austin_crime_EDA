{
 "cells": [
  {
   "cell_type": "code",
   "execution_count": null,
   "id": "wrong-vertex",
   "metadata": {},
   "outputs": [],
   "source": [
    "cat_zip_18.head().to_dict(orient='split')"
   ]
  },
  {
   "cell_type": "code",
   "execution_count": null,
   "id": "sorted-anchor",
   "metadata": {},
   "outputs": [],
   "source": [
    "xx = cat_zip_18.set_index('zip_code')[['offense_type','count']].head().to_dict(orient='split').copy()\n",
    "xx['index'] = '78701'\n",
    "xxd = dict({'78701':xx})\n",
    "xxd['78701']['data']"
   ]
  },
  {
   "cell_type": "code",
   "execution_count": null,
   "id": "comprehensive-tokyo",
   "metadata": {},
   "outputs": [],
   "source": []
  }
 ],
 "metadata": {
  "kernelspec": {
   "display_name": "PythonData",
   "language": "python",
   "name": "pythondata"
  },
  "language_info": {
   "codemirror_mode": {
    "name": "ipython",
    "version": 3
   },
   "file_extension": ".py",
   "mimetype": "text/x-python",
   "name": "python",
   "nbconvert_exporter": "python",
   "pygments_lexer": "ipython3",
   "version": "3.7.9"
  }
 },
 "nbformat": 4,
 "nbformat_minor": 5
}

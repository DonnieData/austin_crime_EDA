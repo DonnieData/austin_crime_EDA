{
 "cells": [
  {
   "cell_type": "code",
   "execution_count": null,
   "id": "popular-freight",
   "metadata": {},
   "outputs": [],
   "source": [
    "from sodapy import Socrata \n",
    "import pandas as pd "
   ]
  },
  {
   "cell_type": "code",
   "execution_count": null,
   "id": "amended-impossible",
   "metadata": {},
   "outputs": [],
   "source": [
    "client = Socrata(\"data.austintexas.gov\", None)"
   ]
  },
  {
   "cell_type": "code",
   "execution_count": null,
   "id": "institutional-monitoring",
   "metadata": {},
   "outputs": [],
   "source": [
    "results = client.get(\"fdj4-gpfu\",limit='100',offset='1000')"
   ]
  },
  {
   "cell_type": "code",
   "execution_count": null,
   "id": "european-shuttle",
   "metadata": {},
   "outputs": [],
   "source": [
    "len(results)"
   ]
  }
 ],
 "metadata": {
  "kernelspec": {
   "display_name": "PythonData",
   "language": "python",
   "name": "pythondata"
  },
  "language_info": {
   "codemirror_mode": {
    "name": "ipython",
    "version": 3
   },
   "file_extension": ".py",
   "mimetype": "text/x-python",
   "name": "python",
   "nbconvert_exporter": "python",
   "pygments_lexer": "ipython3",
   "version": "3.7.9"
  }
 },
 "nbformat": 4,
 "nbformat_minor": 5
}

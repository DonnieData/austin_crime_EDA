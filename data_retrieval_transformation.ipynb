{
 "cells": [
  {
   "cell_type": "code",
   "execution_count": 11,
   "id": "middle-monitor",
   "metadata": {
    "execution": {
     "iopub.execute_input": "2021-03-01T00:55:45.392041Z",
     "iopub.status.busy": "2021-03-01T00:55:45.392041Z",
     "iopub.status.idle": "2021-03-01T00:55:45.395034Z",
     "shell.execute_reply": "2021-03-01T00:55:45.395034Z",
     "shell.execute_reply.started": "2021-03-01T00:55:45.392041Z"
    }
   },
   "outputs": [],
   "source": [
    "# import dependencies \n",
    "import requests \n",
    "import pandas as pd\n",
    "import time "
   ]
  },
  {
   "cell_type": "markdown",
   "id": "antique-motel",
   "metadata": {},
   "source": [
    "## Test API / Data retrieval "
   ]
  },
  {
   "cell_type": "code",
   "execution_count": 12,
   "id": "charming-moore",
   "metadata": {
    "execution": {
     "iopub.execute_input": "2021-03-01T00:58:37.001819Z",
     "iopub.status.busy": "2021-03-01T00:58:37.001819Z",
     "iopub.status.idle": "2021-03-01T00:58:44.246446Z",
     "shell.execute_reply": "2021-03-01T00:58:44.246446Z",
     "shell.execute_reply.started": "2021-03-01T00:58:37.001819Z"
    }
   },
   "outputs": [
    {
     "data": {
      "text/plain": [
       "200"
      ]
     },
     "execution_count": 12,
     "metadata": {},
     "output_type": "execute_result"
    }
   ],
   "source": [
    "# API request for crime data \n",
    "r = requests.get(\"https://data.austintexas.gov/resource/fdj4-gpfu.json?$limit=10000\")\n",
    "# status for API request\n",
    "r.status_code"
   ]
  },
  {
   "cell_type": "code",
   "execution_count": 13,
   "id": "grave-battery",
   "metadata": {
    "execution": {
     "iopub.execute_input": "2021-03-01T00:59:13.332914Z",
     "iopub.status.busy": "2021-03-01T00:59:13.332914Z",
     "iopub.status.idle": "2021-03-01T00:59:13.471518Z",
     "shell.execute_reply": "2021-03-01T00:59:13.470520Z",
     "shell.execute_reply.started": "2021-03-01T00:59:13.332914Z"
    }
   },
   "outputs": [
    {
     "data": {
      "text/plain": [
       "10000"
      ]
     },
     "execution_count": 13,
     "metadata": {},
     "output_type": "execute_result"
    }
   ],
   "source": [
    "len(r.json())"
   ]
  },
  {
   "cell_type": "code",
   "execution_count": 15,
   "id": "invalid-cycle",
   "metadata": {
    "execution": {
     "iopub.execute_input": "2021-03-01T00:59:23.479170Z",
     "iopub.status.busy": "2021-03-01T00:59:23.479170Z",
     "iopub.status.idle": "2021-03-01T00:59:23.721553Z",
     "shell.execute_reply": "2021-03-01T00:59:23.721553Z",
     "shell.execute_reply.started": "2021-03-01T00:59:23.479170Z"
    }
   },
   "outputs": [],
   "source": [
    "crime_incident_data = pd.DataFrame.from_records(r.json())"
   ]
  },
  {
   "cell_type": "markdown",
   "id": "optical-desire",
   "metadata": {
    "execution": {
     "iopub.execute_input": "2021-03-01T00:59:56.530710Z",
     "iopub.status.busy": "2021-03-01T00:59:56.529713Z",
     "iopub.status.idle": "2021-03-01T00:59:56.535671Z",
     "shell.execute_reply": "2021-03-01T00:59:56.534673Z",
     "shell.execute_reply.started": "2021-03-01T00:59:56.530710Z"
    }
   },
   "source": [
    "----------------"
   ]
  },
  {
   "cell_type": "markdown",
   "id": "figured-seven",
   "metadata": {},
   "source": [
    "## Review Data "
   ]
  },
  {
   "cell_type": "code",
   "execution_count": 46,
   "id": "intermediate-block",
   "metadata": {
    "execution": {
     "iopub.execute_input": "2021-03-01T20:19:25.414917Z",
     "iopub.status.busy": "2021-03-01T20:19:25.414917Z",
     "iopub.status.idle": "2021-03-01T20:19:25.447787Z",
     "shell.execute_reply": "2021-03-01T20:19:25.447787Z",
     "shell.execute_reply.started": "2021-03-01T20:19:25.414917Z"
    }
   },
   "outputs": [
    {
     "data": {
      "text/html": [
       "<div>\n",
       "<style scoped>\n",
       "    .dataframe tbody tr th:only-of-type {\n",
       "        vertical-align: middle;\n",
       "    }\n",
       "\n",
       "    .dataframe tbody tr th {\n",
       "        vertical-align: top;\n",
       "    }\n",
       "\n",
       "    .dataframe thead th {\n",
       "        text-align: right;\n",
       "    }\n",
       "</style>\n",
       "<table border=\"1\" class=\"dataframe\">\n",
       "  <thead>\n",
       "    <tr style=\"text-align: right;\">\n",
       "      <th></th>\n",
       "      <th>incident_report_number</th>\n",
       "      <th>crime_type</th>\n",
       "      <th>ucr_code</th>\n",
       "      <th>family_violence</th>\n",
       "      <th>occ_date_time</th>\n",
       "      <th>occ_date</th>\n",
       "      <th>occ_time</th>\n",
       "      <th>rep_date_time</th>\n",
       "      <th>rep_date</th>\n",
       "      <th>rep_time</th>\n",
       "      <th>...</th>\n",
       "      <th>y_coordinate</th>\n",
       "      <th>latitude</th>\n",
       "      <th>longitude</th>\n",
       "      <th>location</th>\n",
       "      <th>:@computed_region_a3it_2a2z</th>\n",
       "      <th>:@computed_region_8spj_utxs</th>\n",
       "      <th>:@computed_region_q9nd_rr82</th>\n",
       "      <th>:@computed_region_qwte_z96m</th>\n",
       "      <th>clearance_status</th>\n",
       "      <th>clearance_date</th>\n",
       "    </tr>\n",
       "  </thead>\n",
       "  <tbody>\n",
       "    <tr>\n",
       "      <th>0</th>\n",
       "      <td>20215006549</td>\n",
       "      <td>BURGLARY OF VEHICLE</td>\n",
       "      <td>601</td>\n",
       "      <td>N</td>\n",
       "      <td>2021-02-20T17:00:00.000</td>\n",
       "      <td>2021-02-20T00:00:00.000</td>\n",
       "      <td>1700</td>\n",
       "      <td>2021-02-20T23:35:00.000</td>\n",
       "      <td>2021-02-20T00:00:00.000</td>\n",
       "      <td>2335</td>\n",
       "      <td>...</td>\n",
       "      <td>3125701</td>\n",
       "      <td>30.32530599</td>\n",
       "      <td>-97.7051651</td>\n",
       "      <td>{'latitude': '30.32530599', 'longitude': '-97....</td>\n",
       "      <td>3641</td>\n",
       "      <td>4</td>\n",
       "      <td>9</td>\n",
       "      <td>202</td>\n",
       "      <td>NaN</td>\n",
       "      <td>NaN</td>\n",
       "    </tr>\n",
       "    <tr>\n",
       "      <th>1</th>\n",
       "      <td>20215006547</td>\n",
       "      <td>BURGLARY NON RESIDENCE</td>\n",
       "      <td>502</td>\n",
       "      <td>N</td>\n",
       "      <td>2021-02-20T14:47:00.000</td>\n",
       "      <td>2021-02-20T00:00:00.000</td>\n",
       "      <td>1447</td>\n",
       "      <td>2021-02-20T18:41:00.000</td>\n",
       "      <td>2021-02-20T00:00:00.000</td>\n",
       "      <td>1841</td>\n",
       "      <td>...</td>\n",
       "      <td>3137519</td>\n",
       "      <td>30.4088995</td>\n",
       "      <td>-97.66538535</td>\n",
       "      <td>{'latitude': '30.4088995', 'longitude': '-97.6...</td>\n",
       "      <td>3642</td>\n",
       "      <td>7</td>\n",
       "      <td>7</td>\n",
       "      <td>1889</td>\n",
       "      <td>NaN</td>\n",
       "      <td>NaN</td>\n",
       "    </tr>\n",
       "    <tr>\n",
       "      <th>2</th>\n",
       "      <td>2021510833</td>\n",
       "      <td>CRIMINAL MISCHIEF</td>\n",
       "      <td>1400</td>\n",
       "      <td>N</td>\n",
       "      <td>2021-02-20T14:41:00.000</td>\n",
       "      <td>2021-02-20T00:00:00.000</td>\n",
       "      <td>1441</td>\n",
       "      <td>2021-02-20T14:41:00.000</td>\n",
       "      <td>2021-02-20T00:00:00.000</td>\n",
       "      <td>1441</td>\n",
       "      <td>...</td>\n",
       "      <td>3129379</td>\n",
       "      <td>30.37078232</td>\n",
       "      <td>-97.69225943</td>\n",
       "      <td>{'latitude': '30.37078232', 'longitude': '-97....</td>\n",
       "      <td>3642</td>\n",
       "      <td>4</td>\n",
       "      <td>9</td>\n",
       "      <td>1404</td>\n",
       "      <td>NaN</td>\n",
       "      <td>NaN</td>\n",
       "    </tr>\n",
       "    <tr>\n",
       "      <th>3</th>\n",
       "      <td>2021510758</td>\n",
       "      <td>RESISTING ARREST OR SEARCH</td>\n",
       "      <td>905</td>\n",
       "      <td>N</td>\n",
       "      <td>2021-02-20T14:30:00.000</td>\n",
       "      <td>2021-02-20T00:00:00.000</td>\n",
       "      <td>1430</td>\n",
       "      <td>2021-02-20T16:30:00.000</td>\n",
       "      <td>2021-02-20T00:00:00.000</td>\n",
       "      <td>1630</td>\n",
       "      <td>...</td>\n",
       "      <td>3115258</td>\n",
       "      <td>30.26755605</td>\n",
       "      <td>-97.73982607</td>\n",
       "      <td>{'latitude': '30.26755605', 'longitude': '-97....</td>\n",
       "      <td>2856</td>\n",
       "      <td>9</td>\n",
       "      <td>10</td>\n",
       "      <td>NaN</td>\n",
       "      <td>NaN</td>\n",
       "      <td>NaN</td>\n",
       "    </tr>\n",
       "    <tr>\n",
       "      <th>4</th>\n",
       "      <td>2021210510728</td>\n",
       "      <td>CRIMINAL TRESPASS</td>\n",
       "      <td>2716</td>\n",
       "      <td>N</td>\n",
       "      <td>2021-02-20T13:47:00.000</td>\n",
       "      <td>2021-02-20T00:00:00.000</td>\n",
       "      <td>1347</td>\n",
       "      <td>2021-02-20T13:47:00.000</td>\n",
       "      <td>2021-02-20T00:00:00.000</td>\n",
       "      <td>1347</td>\n",
       "      <td>...</td>\n",
       "      <td>3129379</td>\n",
       "      <td>30.37078232</td>\n",
       "      <td>-97.69225943</td>\n",
       "      <td>{'latitude': '30.37078232', 'longitude': '-97....</td>\n",
       "      <td>3642</td>\n",
       "      <td>4</td>\n",
       "      <td>9</td>\n",
       "      <td>1404</td>\n",
       "      <td>NaN</td>\n",
       "      <td>NaN</td>\n",
       "    </tr>\n",
       "  </tbody>\n",
       "</table>\n",
       "<p>5 rows × 30 columns</p>\n",
       "</div>"
      ],
      "text/plain": [
       "  incident_report_number                  crime_type ucr_code family_violence  \\\n",
       "0            20215006549         BURGLARY OF VEHICLE      601               N   \n",
       "1            20215006547      BURGLARY NON RESIDENCE      502               N   \n",
       "2             2021510833           CRIMINAL MISCHIEF     1400               N   \n",
       "3             2021510758  RESISTING ARREST OR SEARCH      905               N   \n",
       "4          2021210510728           CRIMINAL TRESPASS     2716               N   \n",
       "\n",
       "             occ_date_time                 occ_date occ_time  \\\n",
       "0  2021-02-20T17:00:00.000  2021-02-20T00:00:00.000     1700   \n",
       "1  2021-02-20T14:47:00.000  2021-02-20T00:00:00.000     1447   \n",
       "2  2021-02-20T14:41:00.000  2021-02-20T00:00:00.000     1441   \n",
       "3  2021-02-20T14:30:00.000  2021-02-20T00:00:00.000     1430   \n",
       "4  2021-02-20T13:47:00.000  2021-02-20T00:00:00.000     1347   \n",
       "\n",
       "             rep_date_time                 rep_date rep_time  ...  \\\n",
       "0  2021-02-20T23:35:00.000  2021-02-20T00:00:00.000     2335  ...   \n",
       "1  2021-02-20T18:41:00.000  2021-02-20T00:00:00.000     1841  ...   \n",
       "2  2021-02-20T14:41:00.000  2021-02-20T00:00:00.000     1441  ...   \n",
       "3  2021-02-20T16:30:00.000  2021-02-20T00:00:00.000     1630  ...   \n",
       "4  2021-02-20T13:47:00.000  2021-02-20T00:00:00.000     1347  ...   \n",
       "\n",
       "  y_coordinate     latitude     longitude  \\\n",
       "0      3125701  30.32530599   -97.7051651   \n",
       "1      3137519   30.4088995  -97.66538535   \n",
       "2      3129379  30.37078232  -97.69225943   \n",
       "3      3115258  30.26755605  -97.73982607   \n",
       "4      3129379  30.37078232  -97.69225943   \n",
       "\n",
       "                                            location  \\\n",
       "0  {'latitude': '30.32530599', 'longitude': '-97....   \n",
       "1  {'latitude': '30.4088995', 'longitude': '-97.6...   \n",
       "2  {'latitude': '30.37078232', 'longitude': '-97....   \n",
       "3  {'latitude': '30.26755605', 'longitude': '-97....   \n",
       "4  {'latitude': '30.37078232', 'longitude': '-97....   \n",
       "\n",
       "  :@computed_region_a3it_2a2z :@computed_region_8spj_utxs  \\\n",
       "0                        3641                           4   \n",
       "1                        3642                           7   \n",
       "2                        3642                           4   \n",
       "3                        2856                           9   \n",
       "4                        3642                           4   \n",
       "\n",
       "  :@computed_region_q9nd_rr82 :@computed_region_qwte_z96m clearance_status  \\\n",
       "0                           9                         202              NaN   \n",
       "1                           7                        1889              NaN   \n",
       "2                           9                        1404              NaN   \n",
       "3                          10                         NaN              NaN   \n",
       "4                           9                        1404              NaN   \n",
       "\n",
       "  clearance_date  \n",
       "0            NaN  \n",
       "1            NaN  \n",
       "2            NaN  \n",
       "3            NaN  \n",
       "4            NaN  \n",
       "\n",
       "[5 rows x 30 columns]"
      ]
     },
     "execution_count": 46,
     "metadata": {},
     "output_type": "execute_result"
    }
   ],
   "source": [
    "# display all column \n",
    "crime_incident_data[crime_incident_data.columns][0:5]"
   ]
  },
  {
   "cell_type": "code",
   "execution_count": 226,
   "id": "caring-dining",
   "metadata": {
    "execution": {
     "iopub.execute_input": "2021-03-02T04:42:24.709504Z",
     "iopub.status.busy": "2021-03-02T04:42:24.708502Z",
     "iopub.status.idle": "2021-03-02T04:42:24.715484Z",
     "shell.execute_reply": "2021-03-02T04:42:24.714487Z",
     "shell.execute_reply.started": "2021-03-02T04:42:24.709504Z"
    }
   },
   "outputs": [
    {
     "data": {
      "text/plain": [
       "'2021-02-20T17:00:00.000'"
      ]
     },
     "execution_count": 226,
     "metadata": {},
     "output_type": "execute_result"
    }
   ],
   "source": [
    "# review time columns \n",
    "crime_incident_data.occ_date_time[0]"
   ]
  },
  {
   "cell_type": "code",
   "execution_count": 47,
   "id": "comprehensive-partner",
   "metadata": {
    "execution": {
     "iopub.execute_input": "2021-03-01T20:34:58.803229Z",
     "iopub.status.busy": "2021-03-01T20:34:58.802231Z",
     "iopub.status.idle": "2021-03-01T20:34:58.839155Z",
     "shell.execute_reply": "2021-03-01T20:34:58.839155Z",
     "shell.execute_reply.started": "2021-03-01T20:34:58.803229Z"
    }
   },
   "outputs": [],
   "source": [
    "#create list of unneeded/redundant columns to drop \n",
    "drop_column_list = ['latitude', 'longitude', 'x_coordinate', 'y_coordinate',\n",
    "                    'occ_date', 'occ_time','rep_date','rep_time','category_description', 'address'\n",
    "                    ':@computed_region_a3it_2a2z', ':@computed_region_8spj_utxs',\n",
    "                    ':@computed_region_q9nd_rr82', ':@computed_region_qwte_z96m',\n",
    "                   ]"
   ]
  },
  {
   "cell_type": "code",
   "execution_count": 31,
   "id": "atomic-nature",
   "metadata": {
    "execution": {
     "iopub.execute_input": "2021-03-01T18:56:37.654936Z",
     "iopub.status.busy": "2021-03-01T18:56:37.654936Z",
     "iopub.status.idle": "2021-03-01T18:56:37.661133Z",
     "shell.execute_reply": "2021-03-01T18:56:37.661133Z",
     "shell.execute_reply.started": "2021-03-01T18:56:37.654936Z"
    }
   },
   "outputs": [
    {
     "data": {
      "text/plain": [
       "Index(['incident_report_number', 'crime_type', 'ucr_code', 'family_violence',\n",
       "       'occ_date_time', 'occ_date', 'occ_time', 'rep_date_time', 'rep_date',\n",
       "       'rep_time', 'location_type', 'address', 'zip_code', 'council_district',\n",
       "       'sector', 'district', 'pra', 'ucr_category', 'category_description',\n",
       "       'x_coordinate', 'y_coordinate', 'latitude', 'longitude', 'location',\n",
       "       ':@computed_region_a3it_2a2z', ':@computed_region_8spj_utxs',\n",
       "       ':@computed_region_q9nd_rr82', ':@computed_region_qwte_z96m',\n",
       "       'clearance_status', 'clearance_date'],\n",
       "      dtype='object')"
      ]
     },
     "execution_count": 31,
     "metadata": {},
     "output_type": "execute_result"
    },
    {
     "data": {
      "text/plain": [
       "(30,)"
      ]
     },
     "execution_count": 31,
     "metadata": {},
     "output_type": "execute_result"
    }
   ],
   "source": [
    "crime_incident_data.columns\n",
    "crime_incident_data.columns.shape"
   ]
  },
  {
   "cell_type": "code",
   "execution_count": 48,
   "id": "historic-disorder",
   "metadata": {
    "execution": {
     "iopub.execute_input": "2021-03-01T21:14:05.617326Z",
     "iopub.status.busy": "2021-03-01T21:14:05.614363Z",
     "iopub.status.idle": "2021-03-01T21:14:05.760222Z",
     "shell.execute_reply": "2021-03-01T21:14:05.760222Z",
     "shell.execute_reply.started": "2021-03-01T21:14:05.617326Z"
    }
   },
   "outputs": [],
   "source": [
    "stripped_crime_data = crime_incident_data.copy()\n",
    "stripped_crime_data.drop(drop_column_list, axis=1, inplace=True)"
   ]
  },
  {
   "cell_type": "code",
   "execution_count": 55,
   "id": "dependent-frederick",
   "metadata": {
    "execution": {
     "iopub.execute_input": "2021-03-01T21:15:53.596476Z",
     "iopub.status.busy": "2021-03-01T21:15:53.596476Z",
     "iopub.status.idle": "2021-03-01T21:15:53.639362Z",
     "shell.execute_reply": "2021-03-01T21:15:53.638364Z",
     "shell.execute_reply.started": "2021-03-01T21:15:53.596476Z"
    }
   },
   "outputs": [
    {
     "name": "stdout",
     "output_type": "stream",
     "text": [
      "<class 'pandas.core.frame.DataFrame'>\n",
      "RangeIndex: 10000 entries, 0 to 9999\n",
      "Data columns (total 18 columns):\n",
      " #   Column                  Non-Null Count  Dtype \n",
      "---  ------                  --------------  ----- \n",
      " 0   incident_report_number  10000 non-null  object\n",
      " 1   crime_type              10000 non-null  object\n",
      " 2   ucr_code                10000 non-null  object\n",
      " 3   family_violence         10000 non-null  object\n",
      " 4   occ_date_time           10000 non-null  object\n",
      " 5   rep_date_time           10000 non-null  object\n",
      " 6   location_type           9999 non-null   object\n",
      " 7   address                 10000 non-null  object\n",
      " 8   zip_code                9898 non-null   object\n",
      " 9   council_district        9883 non-null   object\n",
      " 10  sector                  9923 non-null   object\n",
      " 11  district                9920 non-null   object\n",
      " 12  pra                     9910 non-null   object\n",
      " 13  ucr_category            3930 non-null   object\n",
      " 14  category_description    3930 non-null   object\n",
      " 15  location                9834 non-null   object\n",
      " 16  clearance_status        7378 non-null   object\n",
      " 17  clearance_date          7378 non-null   object\n",
      "dtypes: object(18)\n",
      "memory usage: 1.4+ MB\n"
     ]
    },
    {
     "data": {
      "text/plain": [
       "18"
      ]
     },
     "execution_count": 55,
     "metadata": {},
     "output_type": "execute_result"
    }
   ],
   "source": [
    "# review remaining columns data types\n",
    "stripped_crime_data.info()\n",
    "# print remaining number of columns \n",
    "stripped_crime_data.columns.size"
   ]
  },
  {
   "cell_type": "code",
   "execution_count": 217,
   "id": "british-redhead",
   "metadata": {
    "execution": {
     "iopub.execute_input": "2021-03-02T02:07:23.282856Z",
     "iopub.status.busy": "2021-03-02T02:07:23.281831Z",
     "iopub.status.idle": "2021-03-02T02:07:23.353851Z",
     "shell.execute_reply": "2021-03-02T02:07:23.351857Z",
     "shell.execute_reply.started": "2021-03-02T02:07:23.282856Z"
    }
   },
   "outputs": [
    {
     "data": {
      "text/html": [
       "<div>\n",
       "<style scoped>\n",
       "    .dataframe tbody tr th:only-of-type {\n",
       "        vertical-align: middle;\n",
       "    }\n",
       "\n",
       "    .dataframe tbody tr th {\n",
       "        vertical-align: top;\n",
       "    }\n",
       "\n",
       "    .dataframe thead th {\n",
       "        text-align: right;\n",
       "    }\n",
       "</style>\n",
       "<table border=\"1\" class=\"dataframe\">\n",
       "  <thead>\n",
       "    <tr style=\"text-align: right;\">\n",
       "      <th></th>\n",
       "      <th>incident_report_number</th>\n",
       "      <th>crime_type</th>\n",
       "      <th>ucr_code</th>\n",
       "      <th>family_violence</th>\n",
       "      <th>occ_date_time</th>\n",
       "      <th>rep_date_time</th>\n",
       "      <th>location_type</th>\n",
       "      <th>address</th>\n",
       "      <th>zip_code</th>\n",
       "      <th>council_district</th>\n",
       "      <th>sector</th>\n",
       "      <th>district</th>\n",
       "      <th>pra</th>\n",
       "      <th>ucr_category</th>\n",
       "      <th>category_description</th>\n",
       "      <th>location</th>\n",
       "      <th>clearance_status</th>\n",
       "      <th>clearance_date</th>\n",
       "    </tr>\n",
       "  </thead>\n",
       "  <tbody>\n",
       "    <tr>\n",
       "      <th>9621</th>\n",
       "      <td>20215001076</td>\n",
       "      <td>CRIMINAL MISCHIEF</td>\n",
       "      <td>1400</td>\n",
       "      <td>N</td>\n",
       "      <td>2021-01-07T19:00:00.000</td>\n",
       "      <td>2021-01-08T12:09:00.000</td>\n",
       "      <td>COMMERCIAL / OFFICE BUILDING</td>\n",
       "      <td>2004 BERT AVE</td>\n",
       "      <td>78704</td>\n",
       "      <td>5</td>\n",
       "      <td>DA</td>\n",
       "      <td>4</td>\n",
       "      <td>467</td>\n",
       "      <td>NaN</td>\n",
       "      <td>NaN</td>\n",
       "      <td>{'latitude': '30.23335975', 'longitude': '-97....</td>\n",
       "      <td>N</td>\n",
       "      <td>2021-01-08T00:00:00.000</td>\n",
       "    </tr>\n",
       "    <tr>\n",
       "      <th>9538</th>\n",
       "      <td>202180084</td>\n",
       "      <td>ASSAULT WITH INJURY</td>\n",
       "      <td>900</td>\n",
       "      <td>N</td>\n",
       "      <td>2021-01-08T01:25:00.000</td>\n",
       "      <td>2021-01-08T01:25:00.000</td>\n",
       "      <td>RESIDENCE / HOME</td>\n",
       "      <td>2300 W NORTH LOOP BLVD</td>\n",
       "      <td>78756</td>\n",
       "      <td>7</td>\n",
       "      <td>BA</td>\n",
       "      <td>6</td>\n",
       "      <td>287</td>\n",
       "      <td>NaN</td>\n",
       "      <td>NaN</td>\n",
       "      <td>{'latitude': '30.32591896', 'longitude': '-97....</td>\n",
       "      <td>N</td>\n",
       "      <td>2021-02-01T00:00:00.000</td>\n",
       "    </tr>\n",
       "    <tr>\n",
       "      <th>4291</th>\n",
       "      <td>2021281122</td>\n",
       "      <td>RESISTING ARREST OR SEARCH</td>\n",
       "      <td>905</td>\n",
       "      <td>N</td>\n",
       "      <td>2021-01-28T19:35:00.000</td>\n",
       "      <td>2021-01-28T19:35:00.000</td>\n",
       "      <td>STREETS / HWY / ROAD / ALLEY</td>\n",
       "      <td>W BEN WHITE BLVD SVRD EB / MENCHACA RD</td>\n",
       "      <td>78745</td>\n",
       "      <td>5</td>\n",
       "      <td>DA</td>\n",
       "      <td>3</td>\n",
       "      <td>489</td>\n",
       "      <td>NaN</td>\n",
       "      <td>NaN</td>\n",
       "      <td>{'latitude': '30.22963221', 'longitude': '-97....</td>\n",
       "      <td>C</td>\n",
       "      <td>2021-01-28T00:00:00.000</td>\n",
       "    </tr>\n",
       "    <tr>\n",
       "      <th>8895</th>\n",
       "      <td>2021101355</td>\n",
       "      <td>CRIMINAL MISCHIEF</td>\n",
       "      <td>1400</td>\n",
       "      <td>N</td>\n",
       "      <td>2021-01-10T22:42:00.000</td>\n",
       "      <td>2021-01-10T22:42:00.000</td>\n",
       "      <td>COMMERCIAL / OFFICE BUILDING</td>\n",
       "      <td>5800 TECHNI CENTER DR</td>\n",
       "      <td>78721</td>\n",
       "      <td>1</td>\n",
       "      <td>CH</td>\n",
       "      <td>5</td>\n",
       "      <td>397</td>\n",
       "      <td>NaN</td>\n",
       "      <td>NaN</td>\n",
       "      <td>{'latitude': '30.27877475', 'longitude': '-97....</td>\n",
       "      <td>N</td>\n",
       "      <td>2021-01-26T00:00:00.000</td>\n",
       "    </tr>\n",
       "    <tr>\n",
       "      <th>3950</th>\n",
       "      <td>2021300191</td>\n",
       "      <td>FAMILY DISTURBANCE</td>\n",
       "      <td>3400</td>\n",
       "      <td>N</td>\n",
       "      <td>2021-01-30T02:28:00.000</td>\n",
       "      <td>2021-01-30T02:28:00.000</td>\n",
       "      <td>STREETS / HWY / ROAD / ALLEY</td>\n",
       "      <td>W 8TH ST / WEST AVE</td>\n",
       "      <td>78701</td>\n",
       "      <td>9</td>\n",
       "      <td>GE</td>\n",
       "      <td>1</td>\n",
       "      <td>373</td>\n",
       "      <td>NaN</td>\n",
       "      <td>NaN</td>\n",
       "      <td>{'latitude': '30.27209998', 'longitude': '-97....</td>\n",
       "      <td>NaN</td>\n",
       "      <td>NaN</td>\n",
       "    </tr>\n",
       "    <tr>\n",
       "      <th>3364</th>\n",
       "      <td>2021320946</td>\n",
       "      <td>THEFT FROM PERSON</td>\n",
       "      <td>610</td>\n",
       "      <td>N</td>\n",
       "      <td>2021-02-01T15:45:00.000</td>\n",
       "      <td>2021-02-01T15:52:00.000</td>\n",
       "      <td>RESIDENCE / HOME</td>\n",
       "      <td>9801 W PARMER LN</td>\n",
       "      <td>78717</td>\n",
       "      <td>6</td>\n",
       "      <td>AD</td>\n",
       "      <td>5</td>\n",
       "      <td>574</td>\n",
       "      <td>23A</td>\n",
       "      <td>Theft</td>\n",
       "      <td>{'latitude': '30.48543801', 'longitude': '-97....</td>\n",
       "      <td>N</td>\n",
       "      <td>2021-02-10T00:00:00.000</td>\n",
       "    </tr>\n",
       "    <tr>\n",
       "      <th>9911</th>\n",
       "      <td>20215000871</td>\n",
       "      <td>BURGLARY OF VEH-NO SUSPECT/FU</td>\n",
       "      <td>601</td>\n",
       "      <td>N</td>\n",
       "      <td>2021-01-06T15:00:00.000</td>\n",
       "      <td>2021-01-07T10:11:00.000</td>\n",
       "      <td>PARKING LOTS / GARAGE</td>\n",
       "      <td>3800 MOUNT BONNELL RD</td>\n",
       "      <td>78731</td>\n",
       "      <td>10</td>\n",
       "      <td>BA</td>\n",
       "      <td>7</td>\n",
       "      <td>314</td>\n",
       "      <td>23F</td>\n",
       "      <td>Theft</td>\n",
       "      <td>{'latitude': '30.32104847', 'longitude': '-97....</td>\n",
       "      <td>N</td>\n",
       "      <td>2021-01-22T00:00:00.000</td>\n",
       "    </tr>\n",
       "    <tr>\n",
       "      <th>8543</th>\n",
       "      <td>20218000628</td>\n",
       "      <td>THEFT</td>\n",
       "      <td>600</td>\n",
       "      <td>N</td>\n",
       "      <td>2021-01-12T14:30:00.000</td>\n",
       "      <td>2021-01-29T10:16:00.000</td>\n",
       "      <td>RESIDENCE / HOME</td>\n",
       "      <td>1505 LORRAIN ST</td>\n",
       "      <td>78703</td>\n",
       "      <td>9</td>\n",
       "      <td>BA</td>\n",
       "      <td>2</td>\n",
       "      <td>357</td>\n",
       "      <td>23H</td>\n",
       "      <td>Theft</td>\n",
       "      <td>{'latitude': '30.28165965', 'longitude': '-97....</td>\n",
       "      <td>N</td>\n",
       "      <td>2021-01-29T00:00:00.000</td>\n",
       "    </tr>\n",
       "    <tr>\n",
       "      <th>6307</th>\n",
       "      <td>20215002873</td>\n",
       "      <td>BURGLARY NON RESIDENCE</td>\n",
       "      <td>502</td>\n",
       "      <td>N</td>\n",
       "      <td>2021-01-21T08:00:00.000</td>\n",
       "      <td>2021-01-21T14:01:00.000</td>\n",
       "      <td>RESTAURANTS</td>\n",
       "      <td>10515 N MOPAC EXPY NB</td>\n",
       "      <td>78758</td>\n",
       "      <td>7</td>\n",
       "      <td>AD</td>\n",
       "      <td>1</td>\n",
       "      <td>216</td>\n",
       "      <td>220</td>\n",
       "      <td>Burglary</td>\n",
       "      <td>{'latitude': '30.38938097', 'longitude': '-97....</td>\n",
       "      <td>N</td>\n",
       "      <td>2021-01-25T00:00:00.000</td>\n",
       "    </tr>\n",
       "    <tr>\n",
       "      <th>8804</th>\n",
       "      <td>2021110542</td>\n",
       "      <td>DATING DISTURBANCE</td>\n",
       "      <td>2400</td>\n",
       "      <td>N</td>\n",
       "      <td>2021-01-11T11:47:00.000</td>\n",
       "      <td>2021-01-11T11:47:00.000</td>\n",
       "      <td>RESIDENCE / HOME</td>\n",
       "      <td>2808 LYONS RD</td>\n",
       "      <td>78702</td>\n",
       "      <td>3</td>\n",
       "      <td>CH</td>\n",
       "      <td>2</td>\n",
       "      <td>423</td>\n",
       "      <td>NaN</td>\n",
       "      <td>NaN</td>\n",
       "      <td>{'latitude': '30.26377086', 'longitude': '-97....</td>\n",
       "      <td>NaN</td>\n",
       "      <td>NaN</td>\n",
       "    </tr>\n",
       "  </tbody>\n",
       "</table>\n",
       "</div>"
      ],
      "text/plain": [
       "     incident_report_number                     crime_type ucr_code  \\\n",
       "9621            20215001076              CRIMINAL MISCHIEF     1400   \n",
       "9538              202180084            ASSAULT WITH INJURY      900   \n",
       "4291             2021281122     RESISTING ARREST OR SEARCH      905   \n",
       "8895             2021101355              CRIMINAL MISCHIEF     1400   \n",
       "3950             2021300191             FAMILY DISTURBANCE     3400   \n",
       "3364             2021320946              THEFT FROM PERSON      610   \n",
       "9911            20215000871  BURGLARY OF VEH-NO SUSPECT/FU      601   \n",
       "8543            20218000628                          THEFT      600   \n",
       "6307            20215002873         BURGLARY NON RESIDENCE      502   \n",
       "8804             2021110542             DATING DISTURBANCE     2400   \n",
       "\n",
       "     family_violence            occ_date_time            rep_date_time  \\\n",
       "9621               N  2021-01-07T19:00:00.000  2021-01-08T12:09:00.000   \n",
       "9538               N  2021-01-08T01:25:00.000  2021-01-08T01:25:00.000   \n",
       "4291               N  2021-01-28T19:35:00.000  2021-01-28T19:35:00.000   \n",
       "8895               N  2021-01-10T22:42:00.000  2021-01-10T22:42:00.000   \n",
       "3950               N  2021-01-30T02:28:00.000  2021-01-30T02:28:00.000   \n",
       "3364               N  2021-02-01T15:45:00.000  2021-02-01T15:52:00.000   \n",
       "9911               N  2021-01-06T15:00:00.000  2021-01-07T10:11:00.000   \n",
       "8543               N  2021-01-12T14:30:00.000  2021-01-29T10:16:00.000   \n",
       "6307               N  2021-01-21T08:00:00.000  2021-01-21T14:01:00.000   \n",
       "8804               N  2021-01-11T11:47:00.000  2021-01-11T11:47:00.000   \n",
       "\n",
       "                     location_type                                 address  \\\n",
       "9621  COMMERCIAL / OFFICE BUILDING                           2004 BERT AVE   \n",
       "9538              RESIDENCE / HOME                  2300 W NORTH LOOP BLVD   \n",
       "4291  STREETS / HWY / ROAD / ALLEY  W BEN WHITE BLVD SVRD EB / MENCHACA RD   \n",
       "8895  COMMERCIAL / OFFICE BUILDING                   5800 TECHNI CENTER DR   \n",
       "3950  STREETS / HWY / ROAD / ALLEY                     W 8TH ST / WEST AVE   \n",
       "3364              RESIDENCE / HOME                        9801 W PARMER LN   \n",
       "9911         PARKING LOTS / GARAGE                   3800 MOUNT BONNELL RD   \n",
       "8543              RESIDENCE / HOME                         1505 LORRAIN ST   \n",
       "6307                   RESTAURANTS                   10515 N MOPAC EXPY NB   \n",
       "8804              RESIDENCE / HOME                           2808 LYONS RD   \n",
       "\n",
       "     zip_code council_district sector district  pra ucr_category  \\\n",
       "9621    78704                5     DA        4  467          NaN   \n",
       "9538    78756                7     BA        6  287          NaN   \n",
       "4291    78745                5     DA        3  489          NaN   \n",
       "8895    78721                1     CH        5  397          NaN   \n",
       "3950    78701                9     GE        1  373          NaN   \n",
       "3364    78717                6     AD        5  574          23A   \n",
       "9911    78731               10     BA        7  314          23F   \n",
       "8543    78703                9     BA        2  357          23H   \n",
       "6307    78758                7     AD        1  216          220   \n",
       "8804    78702                3     CH        2  423          NaN   \n",
       "\n",
       "     category_description                                           location  \\\n",
       "9621                  NaN  {'latitude': '30.23335975', 'longitude': '-97....   \n",
       "9538                  NaN  {'latitude': '30.32591896', 'longitude': '-97....   \n",
       "4291                  NaN  {'latitude': '30.22963221', 'longitude': '-97....   \n",
       "8895                  NaN  {'latitude': '30.27877475', 'longitude': '-97....   \n",
       "3950                  NaN  {'latitude': '30.27209998', 'longitude': '-97....   \n",
       "3364                Theft  {'latitude': '30.48543801', 'longitude': '-97....   \n",
       "9911                Theft  {'latitude': '30.32104847', 'longitude': '-97....   \n",
       "8543                Theft  {'latitude': '30.28165965', 'longitude': '-97....   \n",
       "6307             Burglary  {'latitude': '30.38938097', 'longitude': '-97....   \n",
       "8804                  NaN  {'latitude': '30.26377086', 'longitude': '-97....   \n",
       "\n",
       "     clearance_status           clearance_date  \n",
       "9621                N  2021-01-08T00:00:00.000  \n",
       "9538                N  2021-02-01T00:00:00.000  \n",
       "4291                C  2021-01-28T00:00:00.000  \n",
       "8895                N  2021-01-26T00:00:00.000  \n",
       "3950              NaN                      NaN  \n",
       "3364                N  2021-02-10T00:00:00.000  \n",
       "9911                N  2021-01-22T00:00:00.000  \n",
       "8543                N  2021-01-29T00:00:00.000  \n",
       "6307                N  2021-01-25T00:00:00.000  \n",
       "8804              NaN                      NaN  "
      ]
     },
     "execution_count": 217,
     "metadata": {},
     "output_type": "execute_result"
    }
   ],
   "source": [
    "# review data \n",
    "stripped_crime_data.sample(10)"
   ]
  },
  {
   "cell_type": "markdown",
   "id": "provincial-aspect",
   "metadata": {},
   "source": [
    "### datetime formats "
   ]
  },
  {
   "cell_type": "code",
   "execution_count": 241,
   "id": "suburban-counter",
   "metadata": {
    "execution": {
     "iopub.execute_input": "2021-03-02T04:57:12.388755Z",
     "iopub.status.busy": "2021-03-02T04:57:12.388755Z",
     "iopub.status.idle": "2021-03-02T04:57:12.441679Z",
     "shell.execute_reply": "2021-03-02T04:57:12.441679Z",
     "shell.execute_reply.started": "2021-03-02T04:57:12.388755Z"
    }
   },
   "outputs": [],
   "source": [
    "import plotly.graph_objects as go\n",
    "import numpy as np\n",
    "\n",
    "fig = go.Figure(data=go.Scatter(x=stripped_crime_data['occ_date_time'][20:80], y=stripped_crime_data['ucr_code'][20:80]))\n",
    "fig.write_html('viz_0.html')"
   ]
  },
  {
   "cell_type": "code",
   "execution_count": 306,
   "id": "toxic-occurrence",
   "metadata": {
    "execution": {
     "iopub.execute_input": "2021-03-02T17:03:17.893183Z",
     "iopub.status.busy": "2021-03-02T17:03:17.892224Z",
     "iopub.status.idle": "2021-03-02T17:03:17.932279Z",
     "shell.execute_reply": "2021-03-02T17:03:17.931325Z",
     "shell.execute_reply.started": "2021-03-02T17:03:17.893183Z"
    }
   },
   "outputs": [
    {
     "data": {
      "text/plain": [
       "'2021-02-20 17:00:00.000'"
      ]
     },
     "execution_count": 306,
     "metadata": {},
     "output_type": "execute_result"
    }
   ],
   "source": []
  },
  {
   "cell_type": "code",
   "execution_count": 311,
   "id": "analyzed-outreach",
   "metadata": {
    "execution": {
     "iopub.execute_input": "2021-03-02T17:24:17.180401Z",
     "iopub.status.busy": "2021-03-02T17:24:17.180401Z",
     "iopub.status.idle": "2021-03-02T17:24:17.185395Z",
     "shell.execute_reply": "2021-03-02T17:24:17.185395Z",
     "shell.execute_reply.started": "2021-03-02T17:24:17.180401Z"
    }
   },
   "outputs": [
    {
     "data": {
      "text/plain": [
       "'2021-02-20T17:00:00.000'"
      ]
     },
     "execution_count": 311,
     "metadata": {},
     "output_type": "execute_result"
    }
   ],
   "source": []
  },
  {
   "cell_type": "code",
   "execution_count": 335,
   "id": "mobile-nerve",
   "metadata": {
    "execution": {
     "iopub.execute_input": "2021-03-02T17:46:28.501800Z",
     "iopub.status.busy": "2021-03-02T17:46:28.500803Z",
     "iopub.status.idle": "2021-03-02T17:46:28.528725Z",
     "shell.execute_reply": "2021-03-02T17:46:28.527728Z",
     "shell.execute_reply.started": "2021-03-02T17:46:28.501800Z"
    }
   },
   "outputs": [
    {
     "data": {
      "text/plain": [
       "'2021-02-20 17:00:00.000'"
      ]
     },
     "execution_count": 335,
     "metadata": {},
     "output_type": "execute_result"
    },
    {
     "data": {
      "text/plain": [
       "'2021-02-20 17:00:00.000'"
      ]
     },
     "execution_count": 335,
     "metadata": {},
     "output_type": "execute_result"
    },
    {
     "data": {
      "text/plain": [
       "datetime.datetime(2021, 2, 20, 17, 0)"
      ]
     },
     "execution_count": 335,
     "metadata": {},
     "output_type": "execute_result"
    },
    {
     "data": {
      "text/plain": [
       "datetime.date(2021, 2, 20)"
      ]
     },
     "execution_count": 335,
     "metadata": {},
     "output_type": "execute_result"
    },
    {
     "data": {
      "text/plain": [
       "datetime.time(17, 0)"
      ]
     },
     "execution_count": 335,
     "metadata": {},
     "output_type": "execute_result"
    }
   ],
   "source": [
    "#import dependency \n",
    "from datetime import datetime\n",
    "\n",
    "#remove timestamp denotation\n",
    "date_series = stripped_crime_data.occ_date_time.apply(lambda x: x.replace('T',' '))\n",
    "date_series[0]\n",
    "\n",
    "#convert from string to datetime format \n",
    "date_string = date_series[0]\n",
    "date_string\n",
    "\n",
    "date_object1 = datetime.strptime(date_string,\"%Y-%m-%d %H:%M:%S.%f\")\n",
    "date_object1\n",
    "\n",
    "# access date in from datetime \n",
    "date_object2 = date_object1.date()\n",
    "date_object2\n",
    "\n",
    "#access time from datetime \n",
    "date_object3 = date_object1.time()\n",
    "date_object3\n"
   ]
  },
  {
   "cell_type": "markdown",
   "id": "experienced-poetry",
   "metadata": {},
   "source": [
    "---------------------------"
   ]
  },
  {
   "cell_type": "markdown",
   "id": "numerous-lotus",
   "metadata": {
    "execution": {
     "iopub.execute_input": "2021-03-01T19:18:24.288503Z",
     "iopub.status.busy": "2021-03-01T19:18:24.287505Z",
     "iopub.status.idle": "2021-03-01T19:18:24.291495Z",
     "shell.execute_reply": "2021-03-01T19:18:24.291495Z",
     "shell.execute_reply.started": "2021-03-01T19:18:24.288503Z"
    }
   },
   "source": [
    "## Database Tables \n",
    "creating dataframes to match database schema \n"
   ]
  },
  {
   "cell_type": "markdown",
   "id": "collect-brave",
   "metadata": {
    "execution": {
     "iopub.execute_input": "2021-03-02T01:55:49.615122Z",
     "iopub.status.busy": "2021-03-02T01:55:49.614122Z",
     "iopub.status.idle": "2021-03-02T01:55:49.618117Z",
     "shell.execute_reply": "2021-03-02T01:55:49.618117Z",
     "shell.execute_reply.started": "2021-03-02T01:55:49.614122Z"
    }
   },
   "source": [
    "### Offense table "
   ]
  },
  {
   "cell_type": "code",
   "execution_count": 204,
   "id": "outdoor-concentration",
   "metadata": {
    "execution": {
     "iopub.execute_input": "2021-03-02T00:26:51.292936Z",
     "iopub.status.busy": "2021-03-02T00:26:51.292936Z",
     "iopub.status.idle": "2021-03-02T00:26:51.329464Z",
     "shell.execute_reply": "2021-03-02T00:26:51.329464Z",
     "shell.execute_reply.started": "2021-03-02T00:26:51.292936Z"
    }
   },
   "outputs": [],
   "source": [
    "# offense_type table \n",
    "offense_type_df = stripped_crime_data[['ucr_code','crime_type']].copy()\n",
    "offense_type_df.drop_duplicates(subset='ucr_code', inplace=True)"
   ]
  },
  {
   "cell_type": "code",
   "execution_count": 208,
   "id": "direct-recycling",
   "metadata": {
    "execution": {
     "iopub.execute_input": "2021-03-02T00:27:36.464074Z",
     "iopub.status.busy": "2021-03-02T00:27:36.463077Z",
     "iopub.status.idle": "2021-03-02T00:27:36.474048Z",
     "shell.execute_reply": "2021-03-02T00:27:36.473051Z",
     "shell.execute_reply.started": "2021-03-02T00:27:36.464074Z"
    }
   },
   "outputs": [
    {
     "data": {
      "text/html": [
       "<div>\n",
       "<style scoped>\n",
       "    .dataframe tbody tr th:only-of-type {\n",
       "        vertical-align: middle;\n",
       "    }\n",
       "\n",
       "    .dataframe tbody tr th {\n",
       "        vertical-align: top;\n",
       "    }\n",
       "\n",
       "    .dataframe thead th {\n",
       "        text-align: right;\n",
       "    }\n",
       "</style>\n",
       "<table border=\"1\" class=\"dataframe\">\n",
       "  <thead>\n",
       "    <tr style=\"text-align: right;\">\n",
       "      <th></th>\n",
       "      <th>ucr_code</th>\n",
       "      <th>crime_type</th>\n",
       "    </tr>\n",
       "  </thead>\n",
       "  <tbody>\n",
       "    <tr>\n",
       "      <th>0</th>\n",
       "      <td>601</td>\n",
       "      <td>BURGLARY OF VEHICLE</td>\n",
       "    </tr>\n",
       "    <tr>\n",
       "      <th>1</th>\n",
       "      <td>502</td>\n",
       "      <td>BURGLARY NON RESIDENCE</td>\n",
       "    </tr>\n",
       "    <tr>\n",
       "      <th>2</th>\n",
       "      <td>1400</td>\n",
       "      <td>CRIMINAL MISCHIEF</td>\n",
       "    </tr>\n",
       "    <tr>\n",
       "      <th>3</th>\n",
       "      <td>905</td>\n",
       "      <td>RESISTING ARREST OR SEARCH</td>\n",
       "    </tr>\n",
       "    <tr>\n",
       "      <th>4</th>\n",
       "      <td>2716</td>\n",
       "      <td>CRIMINAL TRESPASS</td>\n",
       "    </tr>\n",
       "  </tbody>\n",
       "</table>\n",
       "</div>"
      ],
      "text/plain": [
       "  ucr_code                  crime_type\n",
       "0      601         BURGLARY OF VEHICLE\n",
       "1      502      BURGLARY NON RESIDENCE\n",
       "2     1400           CRIMINAL MISCHIEF\n",
       "3      905  RESISTING ARREST OR SEARCH\n",
       "4     2716           CRIMINAL TRESPASS"
      ]
     },
     "execution_count": 208,
     "metadata": {},
     "output_type": "execute_result"
    },
    {
     "data": {
      "text/plain": [
       "(189, 2)"
      ]
     },
     "execution_count": 208,
     "metadata": {},
     "output_type": "execute_result"
    }
   ],
   "source": [
    "# 189 unique offense codes\n",
    "offense_type_df.head()\n",
    "offense_type_df.shape"
   ]
  },
  {
   "cell_type": "code",
   "execution_count": 212,
   "id": "aerial-harbor",
   "metadata": {
    "execution": {
     "iopub.execute_input": "2021-03-02T01:35:33.835580Z",
     "iopub.status.busy": "2021-03-02T01:35:33.835580Z",
     "iopub.status.idle": "2021-03-02T01:35:33.842099Z",
     "shell.execute_reply": "2021-03-02T01:35:33.841567Z",
     "shell.execute_reply.started": "2021-03-02T01:35:33.835580Z"
    }
   },
   "outputs": [
    {
     "data": {
      "text/plain": [
       "False"
      ]
     },
     "execution_count": 212,
     "metadata": {},
     "output_type": "execute_result"
    }
   ],
   "source": [
    "offense_type_df.isnull().values.any()"
   ]
  },
  {
   "cell_type": "code",
   "execution_count": 214,
   "id": "continued-mayor",
   "metadata": {
    "execution": {
     "iopub.execute_input": "2021-03-02T01:52:26.852008Z",
     "iopub.status.busy": "2021-03-02T01:52:26.852008Z",
     "iopub.status.idle": "2021-03-02T01:52:26.867935Z",
     "shell.execute_reply": "2021-03-02T01:52:26.866938Z",
     "shell.execute_reply.started": "2021-03-02T01:52:26.852008Z"
    }
   },
   "outputs": [
    {
     "data": {
      "text/html": [
       "<div>\n",
       "<style scoped>\n",
       "    .dataframe tbody tr th:only-of-type {\n",
       "        vertical-align: middle;\n",
       "    }\n",
       "\n",
       "    .dataframe tbody tr th {\n",
       "        vertical-align: top;\n",
       "    }\n",
       "\n",
       "    .dataframe thead th {\n",
       "        text-align: right;\n",
       "    }\n",
       "</style>\n",
       "<table border=\"1\" class=\"dataframe\">\n",
       "  <thead>\n",
       "    <tr style=\"text-align: right;\">\n",
       "      <th></th>\n",
       "      <th>offense_code</th>\n",
       "      <th>offense_description</th>\n",
       "    </tr>\n",
       "  </thead>\n",
       "  <tbody>\n",
       "    <tr>\n",
       "      <th>0</th>\n",
       "      <td>601</td>\n",
       "      <td>BURGLARY OF VEHICLE</td>\n",
       "    </tr>\n",
       "    <tr>\n",
       "      <th>1</th>\n",
       "      <td>502</td>\n",
       "      <td>BURGLARY NON RESIDENCE</td>\n",
       "    </tr>\n",
       "    <tr>\n",
       "      <th>2</th>\n",
       "      <td>1400</td>\n",
       "      <td>CRIMINAL MISCHIEF</td>\n",
       "    </tr>\n",
       "    <tr>\n",
       "      <th>3</th>\n",
       "      <td>905</td>\n",
       "      <td>RESISTING ARREST OR SEARCH</td>\n",
       "    </tr>\n",
       "    <tr>\n",
       "      <th>4</th>\n",
       "      <td>2716</td>\n",
       "      <td>CRIMINAL TRESPASS</td>\n",
       "    </tr>\n",
       "    <tr>\n",
       "      <th>...</th>\n",
       "      <td>...</td>\n",
       "      <td>...</td>\n",
       "    </tr>\n",
       "    <tr>\n",
       "      <th>9301</th>\n",
       "      <td>1716</td>\n",
       "      <td>FORCED SODOMY</td>\n",
       "    </tr>\n",
       "    <tr>\n",
       "      <th>9572</th>\n",
       "      <td>2718</td>\n",
       "      <td>THEFT BY EXTORTION</td>\n",
       "    </tr>\n",
       "    <tr>\n",
       "      <th>9616</th>\n",
       "      <td>907</td>\n",
       "      <td>TAMPERING WITH CONSUMER PROD</td>\n",
       "    </tr>\n",
       "    <tr>\n",
       "      <th>9721</th>\n",
       "      <td>2601</td>\n",
       "      <td>OBSCENITY</td>\n",
       "    </tr>\n",
       "    <tr>\n",
       "      <th>9949</th>\n",
       "      <td>1001</td>\n",
       "      <td>FORGERY BY ALTERATION</td>\n",
       "    </tr>\n",
       "  </tbody>\n",
       "</table>\n",
       "<p>189 rows × 2 columns</p>\n",
       "</div>"
      ],
      "text/plain": [
       "     offense_code           offense_description\n",
       "0             601           BURGLARY OF VEHICLE\n",
       "1             502        BURGLARY NON RESIDENCE\n",
       "2            1400             CRIMINAL MISCHIEF\n",
       "3             905    RESISTING ARREST OR SEARCH\n",
       "4            2716             CRIMINAL TRESPASS\n",
       "...           ...                           ...\n",
       "9301         1716                 FORCED SODOMY\n",
       "9572         2718            THEFT BY EXTORTION\n",
       "9616          907  TAMPERING WITH CONSUMER PROD\n",
       "9721         2601                     OBSCENITY\n",
       "9949         1001         FORGERY BY ALTERATION\n",
       "\n",
       "[189 rows x 2 columns]"
      ]
     },
     "execution_count": 214,
     "metadata": {},
     "output_type": "execute_result"
    }
   ],
   "source": [
    "#rename test \n",
    "offense_type_df.rename(columns={'ucr_code':'offense_code','crime_type':'offense_description'})"
   ]
  },
  {
   "cell_type": "code",
   "execution_count": null,
   "id": "assigned-dispute",
   "metadata": {},
   "outputs": [],
   "source": []
  }
 ],
 "metadata": {
  "kernelspec": {
   "display_name": "PythonData",
   "language": "python",
   "name": "pythondata"
  },
  "language_info": {
   "codemirror_mode": {
    "name": "ipython",
    "version": 3
   },
   "file_extension": ".py",
   "mimetype": "text/x-python",
   "name": "python",
   "nbconvert_exporter": "python",
   "pygments_lexer": "ipython3",
   "version": "3.7.9"
  }
 },
 "nbformat": 4,
 "nbformat_minor": 5
}

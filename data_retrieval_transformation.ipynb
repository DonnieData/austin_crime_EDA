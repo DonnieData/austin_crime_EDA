{
 "cells": [
  {
   "cell_type": "code",
   "execution_count": 11,
   "id": "capital-journey",
   "metadata": {
    "execution": {
     "iopub.execute_input": "2021-03-01T00:55:45.392041Z",
     "iopub.status.busy": "2021-03-01T00:55:45.392041Z",
     "iopub.status.idle": "2021-03-01T00:55:45.395034Z",
     "shell.execute_reply": "2021-03-01T00:55:45.395034Z",
     "shell.execute_reply.started": "2021-03-01T00:55:45.392041Z"
    }
   },
   "outputs": [],
   "source": [
    "# import dependencies \n",
    "import requests \n",
    "import pandas as pd\n",
    "import time "
   ]
  },
  {
   "cell_type": "markdown",
   "id": "ecological-authority",
   "metadata": {},
   "source": [
    "## Test API / Data retrieval "
   ]
  },
  {
   "cell_type": "code",
   "execution_count": 12,
   "id": "whole-inquiry",
   "metadata": {
    "execution": {
     "iopub.execute_input": "2021-03-01T00:58:37.001819Z",
     "iopub.status.busy": "2021-03-01T00:58:37.001819Z",
     "iopub.status.idle": "2021-03-01T00:58:44.246446Z",
     "shell.execute_reply": "2021-03-01T00:58:44.246446Z",
     "shell.execute_reply.started": "2021-03-01T00:58:37.001819Z"
    }
   },
   "outputs": [
    {
     "data": {
      "text/plain": [
       "200"
      ]
     },
     "execution_count": 12,
     "metadata": {},
     "output_type": "execute_result"
    }
   ],
   "source": [
    "# API request for crime data \n",
    "r = requests.get(\"https://data.austintexas.gov/resource/fdj4-gpfu.json?$limit=10000\")\n",
    "# status for API request\n",
    "r.status_code"
   ]
  },
  {
   "cell_type": "code",
   "execution_count": 13,
   "id": "royal-bridal",
   "metadata": {
    "execution": {
     "iopub.execute_input": "2021-03-01T00:59:13.332914Z",
     "iopub.status.busy": "2021-03-01T00:59:13.332914Z",
     "iopub.status.idle": "2021-03-01T00:59:13.471518Z",
     "shell.execute_reply": "2021-03-01T00:59:13.470520Z",
     "shell.execute_reply.started": "2021-03-01T00:59:13.332914Z"
    }
   },
   "outputs": [
    {
     "data": {
      "text/plain": [
       "10000"
      ]
     },
     "execution_count": 13,
     "metadata": {},
     "output_type": "execute_result"
    }
   ],
   "source": [
    "len(r.json())"
   ]
  },
  {
   "cell_type": "code",
   "execution_count": 15,
   "id": "activated-provincial",
   "metadata": {
    "execution": {
     "iopub.execute_input": "2021-03-01T00:59:23.479170Z",
     "iopub.status.busy": "2021-03-01T00:59:23.479170Z",
     "iopub.status.idle": "2021-03-01T00:59:23.721553Z",
     "shell.execute_reply": "2021-03-01T00:59:23.721553Z",
     "shell.execute_reply.started": "2021-03-01T00:59:23.479170Z"
    }
   },
   "outputs": [],
   "source": [
    "crime_incident_data = pd.DataFrame.from_records(r.json())"
   ]
  },
  {
   "cell_type": "markdown",
   "id": "subject-pakistan",
   "metadata": {
    "execution": {
     "iopub.execute_input": "2021-03-01T00:59:56.530710Z",
     "iopub.status.busy": "2021-03-01T00:59:56.529713Z",
     "iopub.status.idle": "2021-03-01T00:59:56.535671Z",
     "shell.execute_reply": "2021-03-01T00:59:56.534673Z",
     "shell.execute_reply.started": "2021-03-01T00:59:56.530710Z"
    }
   },
   "source": [
    "----------------"
   ]
  },
  {
   "cell_type": "markdown",
   "id": "proved-experience",
   "metadata": {},
   "source": [
    "## Review Data "
   ]
  },
  {
   "cell_type": "code",
   "execution_count": 46,
   "id": "outstanding-character",
   "metadata": {
    "execution": {
     "iopub.execute_input": "2021-03-01T20:19:25.414917Z",
     "iopub.status.busy": "2021-03-01T20:19:25.414917Z",
     "iopub.status.idle": "2021-03-01T20:19:25.447787Z",
     "shell.execute_reply": "2021-03-01T20:19:25.447787Z",
     "shell.execute_reply.started": "2021-03-01T20:19:25.414917Z"
    }
   },
   "outputs": [
    {
     "data": {
      "text/html": [
       "<div>\n",
       "<style scoped>\n",
       "    .dataframe tbody tr th:only-of-type {\n",
       "        vertical-align: middle;\n",
       "    }\n",
       "\n",
       "    .dataframe tbody tr th {\n",
       "        vertical-align: top;\n",
       "    }\n",
       "\n",
       "    .dataframe thead th {\n",
       "        text-align: right;\n",
       "    }\n",
       "</style>\n",
       "<table border=\"1\" class=\"dataframe\">\n",
       "  <thead>\n",
       "    <tr style=\"text-align: right;\">\n",
       "      <th></th>\n",
       "      <th>incident_report_number</th>\n",
       "      <th>crime_type</th>\n",
       "      <th>ucr_code</th>\n",
       "      <th>family_violence</th>\n",
       "      <th>occ_date_time</th>\n",
       "      <th>occ_date</th>\n",
       "      <th>occ_time</th>\n",
       "      <th>rep_date_time</th>\n",
       "      <th>rep_date</th>\n",
       "      <th>rep_time</th>\n",
       "      <th>...</th>\n",
       "      <th>y_coordinate</th>\n",
       "      <th>latitude</th>\n",
       "      <th>longitude</th>\n",
       "      <th>location</th>\n",
       "      <th>:@computed_region_a3it_2a2z</th>\n",
       "      <th>:@computed_region_8spj_utxs</th>\n",
       "      <th>:@computed_region_q9nd_rr82</th>\n",
       "      <th>:@computed_region_qwte_z96m</th>\n",
       "      <th>clearance_status</th>\n",
       "      <th>clearance_date</th>\n",
       "    </tr>\n",
       "  </thead>\n",
       "  <tbody>\n",
       "    <tr>\n",
       "      <th>0</th>\n",
       "      <td>20215006549</td>\n",
       "      <td>BURGLARY OF VEHICLE</td>\n",
       "      <td>601</td>\n",
       "      <td>N</td>\n",
       "      <td>2021-02-20T17:00:00.000</td>\n",
       "      <td>2021-02-20T00:00:00.000</td>\n",
       "      <td>1700</td>\n",
       "      <td>2021-02-20T23:35:00.000</td>\n",
       "      <td>2021-02-20T00:00:00.000</td>\n",
       "      <td>2335</td>\n",
       "      <td>...</td>\n",
       "      <td>3125701</td>\n",
       "      <td>30.32530599</td>\n",
       "      <td>-97.7051651</td>\n",
       "      <td>{'latitude': '30.32530599', 'longitude': '-97....</td>\n",
       "      <td>3641</td>\n",
       "      <td>4</td>\n",
       "      <td>9</td>\n",
       "      <td>202</td>\n",
       "      <td>NaN</td>\n",
       "      <td>NaN</td>\n",
       "    </tr>\n",
       "    <tr>\n",
       "      <th>1</th>\n",
       "      <td>20215006547</td>\n",
       "      <td>BURGLARY NON RESIDENCE</td>\n",
       "      <td>502</td>\n",
       "      <td>N</td>\n",
       "      <td>2021-02-20T14:47:00.000</td>\n",
       "      <td>2021-02-20T00:00:00.000</td>\n",
       "      <td>1447</td>\n",
       "      <td>2021-02-20T18:41:00.000</td>\n",
       "      <td>2021-02-20T00:00:00.000</td>\n",
       "      <td>1841</td>\n",
       "      <td>...</td>\n",
       "      <td>3137519</td>\n",
       "      <td>30.4088995</td>\n",
       "      <td>-97.66538535</td>\n",
       "      <td>{'latitude': '30.4088995', 'longitude': '-97.6...</td>\n",
       "      <td>3642</td>\n",
       "      <td>7</td>\n",
       "      <td>7</td>\n",
       "      <td>1889</td>\n",
       "      <td>NaN</td>\n",
       "      <td>NaN</td>\n",
       "    </tr>\n",
       "    <tr>\n",
       "      <th>2</th>\n",
       "      <td>2021510833</td>\n",
       "      <td>CRIMINAL MISCHIEF</td>\n",
       "      <td>1400</td>\n",
       "      <td>N</td>\n",
       "      <td>2021-02-20T14:41:00.000</td>\n",
       "      <td>2021-02-20T00:00:00.000</td>\n",
       "      <td>1441</td>\n",
       "      <td>2021-02-20T14:41:00.000</td>\n",
       "      <td>2021-02-20T00:00:00.000</td>\n",
       "      <td>1441</td>\n",
       "      <td>...</td>\n",
       "      <td>3129379</td>\n",
       "      <td>30.37078232</td>\n",
       "      <td>-97.69225943</td>\n",
       "      <td>{'latitude': '30.37078232', 'longitude': '-97....</td>\n",
       "      <td>3642</td>\n",
       "      <td>4</td>\n",
       "      <td>9</td>\n",
       "      <td>1404</td>\n",
       "      <td>NaN</td>\n",
       "      <td>NaN</td>\n",
       "    </tr>\n",
       "    <tr>\n",
       "      <th>3</th>\n",
       "      <td>2021510758</td>\n",
       "      <td>RESISTING ARREST OR SEARCH</td>\n",
       "      <td>905</td>\n",
       "      <td>N</td>\n",
       "      <td>2021-02-20T14:30:00.000</td>\n",
       "      <td>2021-02-20T00:00:00.000</td>\n",
       "      <td>1430</td>\n",
       "      <td>2021-02-20T16:30:00.000</td>\n",
       "      <td>2021-02-20T00:00:00.000</td>\n",
       "      <td>1630</td>\n",
       "      <td>...</td>\n",
       "      <td>3115258</td>\n",
       "      <td>30.26755605</td>\n",
       "      <td>-97.73982607</td>\n",
       "      <td>{'latitude': '30.26755605', 'longitude': '-97....</td>\n",
       "      <td>2856</td>\n",
       "      <td>9</td>\n",
       "      <td>10</td>\n",
       "      <td>NaN</td>\n",
       "      <td>NaN</td>\n",
       "      <td>NaN</td>\n",
       "    </tr>\n",
       "    <tr>\n",
       "      <th>4</th>\n",
       "      <td>2021210510728</td>\n",
       "      <td>CRIMINAL TRESPASS</td>\n",
       "      <td>2716</td>\n",
       "      <td>N</td>\n",
       "      <td>2021-02-20T13:47:00.000</td>\n",
       "      <td>2021-02-20T00:00:00.000</td>\n",
       "      <td>1347</td>\n",
       "      <td>2021-02-20T13:47:00.000</td>\n",
       "      <td>2021-02-20T00:00:00.000</td>\n",
       "      <td>1347</td>\n",
       "      <td>...</td>\n",
       "      <td>3129379</td>\n",
       "      <td>30.37078232</td>\n",
       "      <td>-97.69225943</td>\n",
       "      <td>{'latitude': '30.37078232', 'longitude': '-97....</td>\n",
       "      <td>3642</td>\n",
       "      <td>4</td>\n",
       "      <td>9</td>\n",
       "      <td>1404</td>\n",
       "      <td>NaN</td>\n",
       "      <td>NaN</td>\n",
       "    </tr>\n",
       "  </tbody>\n",
       "</table>\n",
       "<p>5 rows × 30 columns</p>\n",
       "</div>"
      ],
      "text/plain": [
       "  incident_report_number                  crime_type ucr_code family_violence  \\\n",
       "0            20215006549         BURGLARY OF VEHICLE      601               N   \n",
       "1            20215006547      BURGLARY NON RESIDENCE      502               N   \n",
       "2             2021510833           CRIMINAL MISCHIEF     1400               N   \n",
       "3             2021510758  RESISTING ARREST OR SEARCH      905               N   \n",
       "4          2021210510728           CRIMINAL TRESPASS     2716               N   \n",
       "\n",
       "             occ_date_time                 occ_date occ_time  \\\n",
       "0  2021-02-20T17:00:00.000  2021-02-20T00:00:00.000     1700   \n",
       "1  2021-02-20T14:47:00.000  2021-02-20T00:00:00.000     1447   \n",
       "2  2021-02-20T14:41:00.000  2021-02-20T00:00:00.000     1441   \n",
       "3  2021-02-20T14:30:00.000  2021-02-20T00:00:00.000     1430   \n",
       "4  2021-02-20T13:47:00.000  2021-02-20T00:00:00.000     1347   \n",
       "\n",
       "             rep_date_time                 rep_date rep_time  ...  \\\n",
       "0  2021-02-20T23:35:00.000  2021-02-20T00:00:00.000     2335  ...   \n",
       "1  2021-02-20T18:41:00.000  2021-02-20T00:00:00.000     1841  ...   \n",
       "2  2021-02-20T14:41:00.000  2021-02-20T00:00:00.000     1441  ...   \n",
       "3  2021-02-20T16:30:00.000  2021-02-20T00:00:00.000     1630  ...   \n",
       "4  2021-02-20T13:47:00.000  2021-02-20T00:00:00.000     1347  ...   \n",
       "\n",
       "  y_coordinate     latitude     longitude  \\\n",
       "0      3125701  30.32530599   -97.7051651   \n",
       "1      3137519   30.4088995  -97.66538535   \n",
       "2      3129379  30.37078232  -97.69225943   \n",
       "3      3115258  30.26755605  -97.73982607   \n",
       "4      3129379  30.37078232  -97.69225943   \n",
       "\n",
       "                                            location  \\\n",
       "0  {'latitude': '30.32530599', 'longitude': '-97....   \n",
       "1  {'latitude': '30.4088995', 'longitude': '-97.6...   \n",
       "2  {'latitude': '30.37078232', 'longitude': '-97....   \n",
       "3  {'latitude': '30.26755605', 'longitude': '-97....   \n",
       "4  {'latitude': '30.37078232', 'longitude': '-97....   \n",
       "\n",
       "  :@computed_region_a3it_2a2z :@computed_region_8spj_utxs  \\\n",
       "0                        3641                           4   \n",
       "1                        3642                           7   \n",
       "2                        3642                           4   \n",
       "3                        2856                           9   \n",
       "4                        3642                           4   \n",
       "\n",
       "  :@computed_region_q9nd_rr82 :@computed_region_qwte_z96m clearance_status  \\\n",
       "0                           9                         202              NaN   \n",
       "1                           7                        1889              NaN   \n",
       "2                           9                        1404              NaN   \n",
       "3                          10                         NaN              NaN   \n",
       "4                           9                        1404              NaN   \n",
       "\n",
       "  clearance_date  \n",
       "0            NaN  \n",
       "1            NaN  \n",
       "2            NaN  \n",
       "3            NaN  \n",
       "4            NaN  \n",
       "\n",
       "[5 rows x 30 columns]"
      ]
     },
     "execution_count": 46,
     "metadata": {},
     "output_type": "execute_result"
    }
   ],
   "source": [
    "# display all column \n",
    "crime_incident_data[crime_incident_data.columns][0:5]"
   ]
  },
  {
   "cell_type": "code",
   "execution_count": 226,
   "id": "dynamic-frame",
   "metadata": {
    "execution": {
     "iopub.execute_input": "2021-03-02T04:42:24.709504Z",
     "iopub.status.busy": "2021-03-02T04:42:24.708502Z",
     "iopub.status.idle": "2021-03-02T04:42:24.715484Z",
     "shell.execute_reply": "2021-03-02T04:42:24.714487Z",
     "shell.execute_reply.started": "2021-03-02T04:42:24.709504Z"
    }
   },
   "outputs": [
    {
     "data": {
      "text/plain": [
       "'2021-02-20T17:00:00.000'"
      ]
     },
     "execution_count": 226,
     "metadata": {},
     "output_type": "execute_result"
    }
   ],
   "source": [
    "# review time columns \n",
    "crime_incident_data.occ_date_time[0]"
   ]
  },
  {
   "cell_type": "code",
   "execution_count": 47,
   "id": "patent-armor",
   "metadata": {
    "execution": {
     "iopub.execute_input": "2021-03-01T20:34:58.803229Z",
     "iopub.status.busy": "2021-03-01T20:34:58.802231Z",
     "iopub.status.idle": "2021-03-01T20:34:58.839155Z",
     "shell.execute_reply": "2021-03-01T20:34:58.839155Z",
     "shell.execute_reply.started": "2021-03-01T20:34:58.803229Z"
    }
   },
   "outputs": [],
   "source": [
    "#create list of unneeded/redundant columns to drop \n",
    "drop_column_list = ['latitude', 'longitude', 'x_coordinate', 'y_coordinate',\n",
    "                    'occ_date', 'occ_time','rep_date','rep_time','category_description', 'address'\n",
    "                    ':@computed_region_a3it_2a2z', ':@computed_region_8spj_utxs',\n",
    "                    ':@computed_region_q9nd_rr82', ':@computed_region_qwte_z96m',\n",
    "                   ]"
   ]
  },
  {
   "cell_type": "code",
   "execution_count": 31,
   "id": "successful-karaoke",
   "metadata": {
    "execution": {
     "iopub.execute_input": "2021-03-01T18:56:37.654936Z",
     "iopub.status.busy": "2021-03-01T18:56:37.654936Z",
     "iopub.status.idle": "2021-03-01T18:56:37.661133Z",
     "shell.execute_reply": "2021-03-01T18:56:37.661133Z",
     "shell.execute_reply.started": "2021-03-01T18:56:37.654936Z"
    }
   },
   "outputs": [
    {
     "data": {
      "text/plain": [
       "Index(['incident_report_number', 'crime_type', 'ucr_code', 'family_violence',\n",
       "       'occ_date_time', 'occ_date', 'occ_time', 'rep_date_time', 'rep_date',\n",
       "       'rep_time', 'location_type', 'address', 'zip_code', 'council_district',\n",
       "       'sector', 'district', 'pra', 'ucr_category', 'category_description',\n",
       "       'x_coordinate', 'y_coordinate', 'latitude', 'longitude', 'location',\n",
       "       ':@computed_region_a3it_2a2z', ':@computed_region_8spj_utxs',\n",
       "       ':@computed_region_q9nd_rr82', ':@computed_region_qwte_z96m',\n",
       "       'clearance_status', 'clearance_date'],\n",
       "      dtype='object')"
      ]
     },
     "execution_count": 31,
     "metadata": {},
     "output_type": "execute_result"
    },
    {
     "data": {
      "text/plain": [
       "(30,)"
      ]
     },
     "execution_count": 31,
     "metadata": {},
     "output_type": "execute_result"
    }
   ],
   "source": [
    "crime_incident_data.columns\n",
    "crime_incident_data.columns.shape"
   ]
  },
  {
   "cell_type": "code",
   "execution_count": 48,
   "id": "composed-sociology",
   "metadata": {
    "execution": {
     "iopub.execute_input": "2021-03-01T21:14:05.617326Z",
     "iopub.status.busy": "2021-03-01T21:14:05.614363Z",
     "iopub.status.idle": "2021-03-01T21:14:05.760222Z",
     "shell.execute_reply": "2021-03-01T21:14:05.760222Z",
     "shell.execute_reply.started": "2021-03-01T21:14:05.617326Z"
    }
   },
   "outputs": [],
   "source": [
    "stripped_crime_data = crime_incident_data.copy()\n",
    "stripped_crime_data.drop(drop_column_list, axis=1, inplace=True)"
   ]
  },
  {
   "cell_type": "code",
   "execution_count": 55,
   "id": "dangerous-peninsula",
   "metadata": {
    "execution": {
     "iopub.execute_input": "2021-03-01T21:15:53.596476Z",
     "iopub.status.busy": "2021-03-01T21:15:53.596476Z",
     "iopub.status.idle": "2021-03-01T21:15:53.639362Z",
     "shell.execute_reply": "2021-03-01T21:15:53.638364Z",
     "shell.execute_reply.started": "2021-03-01T21:15:53.596476Z"
    }
   },
   "outputs": [
    {
     "name": "stdout",
     "output_type": "stream",
     "text": [
      "<class 'pandas.core.frame.DataFrame'>\n",
      "RangeIndex: 10000 entries, 0 to 9999\n",
      "Data columns (total 18 columns):\n",
      " #   Column                  Non-Null Count  Dtype \n",
      "---  ------                  --------------  ----- \n",
      " 0   incident_report_number  10000 non-null  object\n",
      " 1   crime_type              10000 non-null  object\n",
      " 2   ucr_code                10000 non-null  object\n",
      " 3   family_violence         10000 non-null  object\n",
      " 4   occ_date_time           10000 non-null  object\n",
      " 5   rep_date_time           10000 non-null  object\n",
      " 6   location_type           9999 non-null   object\n",
      " 7   address                 10000 non-null  object\n",
      " 8   zip_code                9898 non-null   object\n",
      " 9   council_district        9883 non-null   object\n",
      " 10  sector                  9923 non-null   object\n",
      " 11  district                9920 non-null   object\n",
      " 12  pra                     9910 non-null   object\n",
      " 13  ucr_category            3930 non-null   object\n",
      " 14  category_description    3930 non-null   object\n",
      " 15  location                9834 non-null   object\n",
      " 16  clearance_status        7378 non-null   object\n",
      " 17  clearance_date          7378 non-null   object\n",
      "dtypes: object(18)\n",
      "memory usage: 1.4+ MB\n"
     ]
    },
    {
     "data": {
      "text/plain": [
       "18"
      ]
     },
     "execution_count": 55,
     "metadata": {},
     "output_type": "execute_result"
    }
   ],
   "source": [
    "# review remaining columns data types\n",
    "stripped_crime_data.info()\n",
    "# print remaining number of columns \n",
    "stripped_crime_data.columns.size"
   ]
  },
  {
   "cell_type": "code",
   "execution_count": 217,
   "id": "brilliant-employer",
   "metadata": {
    "execution": {
     "iopub.execute_input": "2021-03-02T02:07:23.282856Z",
     "iopub.status.busy": "2021-03-02T02:07:23.281831Z",
     "iopub.status.idle": "2021-03-02T02:07:23.353851Z",
     "shell.execute_reply": "2021-03-02T02:07:23.351857Z",
     "shell.execute_reply.started": "2021-03-02T02:07:23.282856Z"
    }
   },
   "outputs": [
    {
     "data": {
      "text/html": [
       "<div>\n",
       "<style scoped>\n",
       "    .dataframe tbody tr th:only-of-type {\n",
       "        vertical-align: middle;\n",
       "    }\n",
       "\n",
       "    .dataframe tbody tr th {\n",
       "        vertical-align: top;\n",
       "    }\n",
       "\n",
       "    .dataframe thead th {\n",
       "        text-align: right;\n",
       "    }\n",
       "</style>\n",
       "<table border=\"1\" class=\"dataframe\">\n",
       "  <thead>\n",
       "    <tr style=\"text-align: right;\">\n",
       "      <th></th>\n",
       "      <th>incident_report_number</th>\n",
       "      <th>crime_type</th>\n",
       "      <th>ucr_code</th>\n",
       "      <th>family_violence</th>\n",
       "      <th>occ_date_time</th>\n",
       "      <th>rep_date_time</th>\n",
       "      <th>location_type</th>\n",
       "      <th>address</th>\n",
       "      <th>zip_code</th>\n",
       "      <th>council_district</th>\n",
       "      <th>sector</th>\n",
       "      <th>district</th>\n",
       "      <th>pra</th>\n",
       "      <th>ucr_category</th>\n",
       "      <th>category_description</th>\n",
       "      <th>location</th>\n",
       "      <th>clearance_status</th>\n",
       "      <th>clearance_date</th>\n",
       "    </tr>\n",
       "  </thead>\n",
       "  <tbody>\n",
       "    <tr>\n",
       "      <th>9621</th>\n",
       "      <td>20215001076</td>\n",
       "      <td>CRIMINAL MISCHIEF</td>\n",
       "      <td>1400</td>\n",
       "      <td>N</td>\n",
       "      <td>2021-01-07T19:00:00.000</td>\n",
       "      <td>2021-01-08T12:09:00.000</td>\n",
       "      <td>COMMERCIAL / OFFICE BUILDING</td>\n",
       "      <td>2004 BERT AVE</td>\n",
       "      <td>78704</td>\n",
       "      <td>5</td>\n",
       "      <td>DA</td>\n",
       "      <td>4</td>\n",
       "      <td>467</td>\n",
       "      <td>NaN</td>\n",
       "      <td>NaN</td>\n",
       "      <td>{'latitude': '30.23335975', 'longitude': '-97....</td>\n",
       "      <td>N</td>\n",
       "      <td>2021-01-08T00:00:00.000</td>\n",
       "    </tr>\n",
       "    <tr>\n",
       "      <th>9538</th>\n",
       "      <td>202180084</td>\n",
       "      <td>ASSAULT WITH INJURY</td>\n",
       "      <td>900</td>\n",
       "      <td>N</td>\n",
       "      <td>2021-01-08T01:25:00.000</td>\n",
       "      <td>2021-01-08T01:25:00.000</td>\n",
       "      <td>RESIDENCE / HOME</td>\n",
       "      <td>2300 W NORTH LOOP BLVD</td>\n",
       "      <td>78756</td>\n",
       "      <td>7</td>\n",
       "      <td>BA</td>\n",
       "      <td>6</td>\n",
       "      <td>287</td>\n",
       "      <td>NaN</td>\n",
       "      <td>NaN</td>\n",
       "      <td>{'latitude': '30.32591896', 'longitude': '-97....</td>\n",
       "      <td>N</td>\n",
       "      <td>2021-02-01T00:00:00.000</td>\n",
       "    </tr>\n",
       "    <tr>\n",
       "      <th>4291</th>\n",
       "      <td>2021281122</td>\n",
       "      <td>RESISTING ARREST OR SEARCH</td>\n",
       "      <td>905</td>\n",
       "      <td>N</td>\n",
       "      <td>2021-01-28T19:35:00.000</td>\n",
       "      <td>2021-01-28T19:35:00.000</td>\n",
       "      <td>STREETS / HWY / ROAD / ALLEY</td>\n",
       "      <td>W BEN WHITE BLVD SVRD EB / MENCHACA RD</td>\n",
       "      <td>78745</td>\n",
       "      <td>5</td>\n",
       "      <td>DA</td>\n",
       "      <td>3</td>\n",
       "      <td>489</td>\n",
       "      <td>NaN</td>\n",
       "      <td>NaN</td>\n",
       "      <td>{'latitude': '30.22963221', 'longitude': '-97....</td>\n",
       "      <td>C</td>\n",
       "      <td>2021-01-28T00:00:00.000</td>\n",
       "    </tr>\n",
       "    <tr>\n",
       "      <th>8895</th>\n",
       "      <td>2021101355</td>\n",
       "      <td>CRIMINAL MISCHIEF</td>\n",
       "      <td>1400</td>\n",
       "      <td>N</td>\n",
       "      <td>2021-01-10T22:42:00.000</td>\n",
       "      <td>2021-01-10T22:42:00.000</td>\n",
       "      <td>COMMERCIAL / OFFICE BUILDING</td>\n",
       "      <td>5800 TECHNI CENTER DR</td>\n",
       "      <td>78721</td>\n",
       "      <td>1</td>\n",
       "      <td>CH</td>\n",
       "      <td>5</td>\n",
       "      <td>397</td>\n",
       "      <td>NaN</td>\n",
       "      <td>NaN</td>\n",
       "      <td>{'latitude': '30.27877475', 'longitude': '-97....</td>\n",
       "      <td>N</td>\n",
       "      <td>2021-01-26T00:00:00.000</td>\n",
       "    </tr>\n",
       "    <tr>\n",
       "      <th>3950</th>\n",
       "      <td>2021300191</td>\n",
       "      <td>FAMILY DISTURBANCE</td>\n",
       "      <td>3400</td>\n",
       "      <td>N</td>\n",
       "      <td>2021-01-30T02:28:00.000</td>\n",
       "      <td>2021-01-30T02:28:00.000</td>\n",
       "      <td>STREETS / HWY / ROAD / ALLEY</td>\n",
       "      <td>W 8TH ST / WEST AVE</td>\n",
       "      <td>78701</td>\n",
       "      <td>9</td>\n",
       "      <td>GE</td>\n",
       "      <td>1</td>\n",
       "      <td>373</td>\n",
       "      <td>NaN</td>\n",
       "      <td>NaN</td>\n",
       "      <td>{'latitude': '30.27209998', 'longitude': '-97....</td>\n",
       "      <td>NaN</td>\n",
       "      <td>NaN</td>\n",
       "    </tr>\n",
       "    <tr>\n",
       "      <th>3364</th>\n",
       "      <td>2021320946</td>\n",
       "      <td>THEFT FROM PERSON</td>\n",
       "      <td>610</td>\n",
       "      <td>N</td>\n",
       "      <td>2021-02-01T15:45:00.000</td>\n",
       "      <td>2021-02-01T15:52:00.000</td>\n",
       "      <td>RESIDENCE / HOME</td>\n",
       "      <td>9801 W PARMER LN</td>\n",
       "      <td>78717</td>\n",
       "      <td>6</td>\n",
       "      <td>AD</td>\n",
       "      <td>5</td>\n",
       "      <td>574</td>\n",
       "      <td>23A</td>\n",
       "      <td>Theft</td>\n",
       "      <td>{'latitude': '30.48543801', 'longitude': '-97....</td>\n",
       "      <td>N</td>\n",
       "      <td>2021-02-10T00:00:00.000</td>\n",
       "    </tr>\n",
       "    <tr>\n",
       "      <th>9911</th>\n",
       "      <td>20215000871</td>\n",
       "      <td>BURGLARY OF VEH-NO SUSPECT/FU</td>\n",
       "      <td>601</td>\n",
       "      <td>N</td>\n",
       "      <td>2021-01-06T15:00:00.000</td>\n",
       "      <td>2021-01-07T10:11:00.000</td>\n",
       "      <td>PARKING LOTS / GARAGE</td>\n",
       "      <td>3800 MOUNT BONNELL RD</td>\n",
       "      <td>78731</td>\n",
       "      <td>10</td>\n",
       "      <td>BA</td>\n",
       "      <td>7</td>\n",
       "      <td>314</td>\n",
       "      <td>23F</td>\n",
       "      <td>Theft</td>\n",
       "      <td>{'latitude': '30.32104847', 'longitude': '-97....</td>\n",
       "      <td>N</td>\n",
       "      <td>2021-01-22T00:00:00.000</td>\n",
       "    </tr>\n",
       "    <tr>\n",
       "      <th>8543</th>\n",
       "      <td>20218000628</td>\n",
       "      <td>THEFT</td>\n",
       "      <td>600</td>\n",
       "      <td>N</td>\n",
       "      <td>2021-01-12T14:30:00.000</td>\n",
       "      <td>2021-01-29T10:16:00.000</td>\n",
       "      <td>RESIDENCE / HOME</td>\n",
       "      <td>1505 LORRAIN ST</td>\n",
       "      <td>78703</td>\n",
       "      <td>9</td>\n",
       "      <td>BA</td>\n",
       "      <td>2</td>\n",
       "      <td>357</td>\n",
       "      <td>23H</td>\n",
       "      <td>Theft</td>\n",
       "      <td>{'latitude': '30.28165965', 'longitude': '-97....</td>\n",
       "      <td>N</td>\n",
       "      <td>2021-01-29T00:00:00.000</td>\n",
       "    </tr>\n",
       "    <tr>\n",
       "      <th>6307</th>\n",
       "      <td>20215002873</td>\n",
       "      <td>BURGLARY NON RESIDENCE</td>\n",
       "      <td>502</td>\n",
       "      <td>N</td>\n",
       "      <td>2021-01-21T08:00:00.000</td>\n",
       "      <td>2021-01-21T14:01:00.000</td>\n",
       "      <td>RESTAURANTS</td>\n",
       "      <td>10515 N MOPAC EXPY NB</td>\n",
       "      <td>78758</td>\n",
       "      <td>7</td>\n",
       "      <td>AD</td>\n",
       "      <td>1</td>\n",
       "      <td>216</td>\n",
       "      <td>220</td>\n",
       "      <td>Burglary</td>\n",
       "      <td>{'latitude': '30.38938097', 'longitude': '-97....</td>\n",
       "      <td>N</td>\n",
       "      <td>2021-01-25T00:00:00.000</td>\n",
       "    </tr>\n",
       "    <tr>\n",
       "      <th>8804</th>\n",
       "      <td>2021110542</td>\n",
       "      <td>DATING DISTURBANCE</td>\n",
       "      <td>2400</td>\n",
       "      <td>N</td>\n",
       "      <td>2021-01-11T11:47:00.000</td>\n",
       "      <td>2021-01-11T11:47:00.000</td>\n",
       "      <td>RESIDENCE / HOME</td>\n",
       "      <td>2808 LYONS RD</td>\n",
       "      <td>78702</td>\n",
       "      <td>3</td>\n",
       "      <td>CH</td>\n",
       "      <td>2</td>\n",
       "      <td>423</td>\n",
       "      <td>NaN</td>\n",
       "      <td>NaN</td>\n",
       "      <td>{'latitude': '30.26377086', 'longitude': '-97....</td>\n",
       "      <td>NaN</td>\n",
       "      <td>NaN</td>\n",
       "    </tr>\n",
       "  </tbody>\n",
       "</table>\n",
       "</div>"
      ],
      "text/plain": [
       "     incident_report_number                     crime_type ucr_code  \\\n",
       "9621            20215001076              CRIMINAL MISCHIEF     1400   \n",
       "9538              202180084            ASSAULT WITH INJURY      900   \n",
       "4291             2021281122     RESISTING ARREST OR SEARCH      905   \n",
       "8895             2021101355              CRIMINAL MISCHIEF     1400   \n",
       "3950             2021300191             FAMILY DISTURBANCE     3400   \n",
       "3364             2021320946              THEFT FROM PERSON      610   \n",
       "9911            20215000871  BURGLARY OF VEH-NO SUSPECT/FU      601   \n",
       "8543            20218000628                          THEFT      600   \n",
       "6307            20215002873         BURGLARY NON RESIDENCE      502   \n",
       "8804             2021110542             DATING DISTURBANCE     2400   \n",
       "\n",
       "     family_violence            occ_date_time            rep_date_time  \\\n",
       "9621               N  2021-01-07T19:00:00.000  2021-01-08T12:09:00.000   \n",
       "9538               N  2021-01-08T01:25:00.000  2021-01-08T01:25:00.000   \n",
       "4291               N  2021-01-28T19:35:00.000  2021-01-28T19:35:00.000   \n",
       "8895               N  2021-01-10T22:42:00.000  2021-01-10T22:42:00.000   \n",
       "3950               N  2021-01-30T02:28:00.000  2021-01-30T02:28:00.000   \n",
       "3364               N  2021-02-01T15:45:00.000  2021-02-01T15:52:00.000   \n",
       "9911               N  2021-01-06T15:00:00.000  2021-01-07T10:11:00.000   \n",
       "8543               N  2021-01-12T14:30:00.000  2021-01-29T10:16:00.000   \n",
       "6307               N  2021-01-21T08:00:00.000  2021-01-21T14:01:00.000   \n",
       "8804               N  2021-01-11T11:47:00.000  2021-01-11T11:47:00.000   \n",
       "\n",
       "                     location_type                                 address  \\\n",
       "9621  COMMERCIAL / OFFICE BUILDING                           2004 BERT AVE   \n",
       "9538              RESIDENCE / HOME                  2300 W NORTH LOOP BLVD   \n",
       "4291  STREETS / HWY / ROAD / ALLEY  W BEN WHITE BLVD SVRD EB / MENCHACA RD   \n",
       "8895  COMMERCIAL / OFFICE BUILDING                   5800 TECHNI CENTER DR   \n",
       "3950  STREETS / HWY / ROAD / ALLEY                     W 8TH ST / WEST AVE   \n",
       "3364              RESIDENCE / HOME                        9801 W PARMER LN   \n",
       "9911         PARKING LOTS / GARAGE                   3800 MOUNT BONNELL RD   \n",
       "8543              RESIDENCE / HOME                         1505 LORRAIN ST   \n",
       "6307                   RESTAURANTS                   10515 N MOPAC EXPY NB   \n",
       "8804              RESIDENCE / HOME                           2808 LYONS RD   \n",
       "\n",
       "     zip_code council_district sector district  pra ucr_category  \\\n",
       "9621    78704                5     DA        4  467          NaN   \n",
       "9538    78756                7     BA        6  287          NaN   \n",
       "4291    78745                5     DA        3  489          NaN   \n",
       "8895    78721                1     CH        5  397          NaN   \n",
       "3950    78701                9     GE        1  373          NaN   \n",
       "3364    78717                6     AD        5  574          23A   \n",
       "9911    78731               10     BA        7  314          23F   \n",
       "8543    78703                9     BA        2  357          23H   \n",
       "6307    78758                7     AD        1  216          220   \n",
       "8804    78702                3     CH        2  423          NaN   \n",
       "\n",
       "     category_description                                           location  \\\n",
       "9621                  NaN  {'latitude': '30.23335975', 'longitude': '-97....   \n",
       "9538                  NaN  {'latitude': '30.32591896', 'longitude': '-97....   \n",
       "4291                  NaN  {'latitude': '30.22963221', 'longitude': '-97....   \n",
       "8895                  NaN  {'latitude': '30.27877475', 'longitude': '-97....   \n",
       "3950                  NaN  {'latitude': '30.27209998', 'longitude': '-97....   \n",
       "3364                Theft  {'latitude': '30.48543801', 'longitude': '-97....   \n",
       "9911                Theft  {'latitude': '30.32104847', 'longitude': '-97....   \n",
       "8543                Theft  {'latitude': '30.28165965', 'longitude': '-97....   \n",
       "6307             Burglary  {'latitude': '30.38938097', 'longitude': '-97....   \n",
       "8804                  NaN  {'latitude': '30.26377086', 'longitude': '-97....   \n",
       "\n",
       "     clearance_status           clearance_date  \n",
       "9621                N  2021-01-08T00:00:00.000  \n",
       "9538                N  2021-02-01T00:00:00.000  \n",
       "4291                C  2021-01-28T00:00:00.000  \n",
       "8895                N  2021-01-26T00:00:00.000  \n",
       "3950              NaN                      NaN  \n",
       "3364                N  2021-02-10T00:00:00.000  \n",
       "9911                N  2021-01-22T00:00:00.000  \n",
       "8543                N  2021-01-29T00:00:00.000  \n",
       "6307                N  2021-01-25T00:00:00.000  \n",
       "8804              NaN                      NaN  "
      ]
     },
     "execution_count": 217,
     "metadata": {},
     "output_type": "execute_result"
    }
   ],
   "source": [
    "# review data \n",
    "stripped_crime_data.sample(10)"
   ]
  },
  {
   "cell_type": "markdown",
   "id": "continental-exclusive",
   "metadata": {},
   "source": [
    "### datetime formats "
   ]
  },
  {
   "cell_type": "code",
   "execution_count": 241,
   "id": "exotic-australian",
   "metadata": {
    "execution": {
     "iopub.execute_input": "2021-03-02T04:57:12.388755Z",
     "iopub.status.busy": "2021-03-02T04:57:12.388755Z",
     "iopub.status.idle": "2021-03-02T04:57:12.441679Z",
     "shell.execute_reply": "2021-03-02T04:57:12.441679Z",
     "shell.execute_reply.started": "2021-03-02T04:57:12.388755Z"
    }
   },
   "outputs": [],
   "source": [
    "# test visualization of datetime format\n",
    "import plotly.graph_objects as go\n",
    "import numpy as np\n",
    "\n",
    "fig = go.Figure(data=go.Scatter(x=stripped_crime_data['occ_date_time'][20:80], y=stripped_crime_data['ucr_code'][20:80]))\n",
    "fig.write_html('viz_0.html')"
   ]
  },
  {
   "cell_type": "code",
   "execution_count": 335,
   "id": "false-first",
   "metadata": {
    "execution": {
     "iopub.execute_input": "2021-03-02T17:46:28.501800Z",
     "iopub.status.busy": "2021-03-02T17:46:28.500803Z",
     "iopub.status.idle": "2021-03-02T17:46:28.528725Z",
     "shell.execute_reply": "2021-03-02T17:46:28.527728Z",
     "shell.execute_reply.started": "2021-03-02T17:46:28.501800Z"
    }
   },
   "outputs": [
    {
     "data": {
      "text/plain": [
       "'2021-02-20 17:00:00.000'"
      ]
     },
     "execution_count": 335,
     "metadata": {},
     "output_type": "execute_result"
    },
    {
     "data": {
      "text/plain": [
       "'2021-02-20 17:00:00.000'"
      ]
     },
     "execution_count": 335,
     "metadata": {},
     "output_type": "execute_result"
    },
    {
     "data": {
      "text/plain": [
       "datetime.datetime(2021, 2, 20, 17, 0)"
      ]
     },
     "execution_count": 335,
     "metadata": {},
     "output_type": "execute_result"
    },
    {
     "data": {
      "text/plain": [
       "datetime.date(2021, 2, 20)"
      ]
     },
     "execution_count": 335,
     "metadata": {},
     "output_type": "execute_result"
    },
    {
     "data": {
      "text/plain": [
       "datetime.time(17, 0)"
      ]
     },
     "execution_count": 335,
     "metadata": {},
     "output_type": "execute_result"
    }
   ],
   "source": [
    "#import dependency \n",
    "from datetime import datetime\n",
    "\n",
    "#remove timestamp denotation\n",
    "date_series = stripped_crime_data.occ_date_time.apply(lambda x: x.replace('T',' '))\n",
    "date_series[0]\n",
    "\n",
    "#convert from string to datetime format \n",
    "date_string = date_series[0]\n",
    "date_string\n",
    "\n",
    "date_object1 = datetime.strptime(date_string,\"%Y-%m-%d %H:%M:%S.%f\")\n",
    "date_object1\n",
    "\n",
    "# access date in from datetime \n",
    "date_object2 = date_object1.date()\n",
    "date_object2\n",
    "\n",
    "#access time from datetime \n",
    "date_object3 = date_object1.time()\n",
    "date_object3\n"
   ]
  },
  {
   "cell_type": "markdown",
   "id": "given-track",
   "metadata": {},
   "source": [
    "---------------------------"
   ]
  },
  {
   "cell_type": "markdown",
   "id": "agreed-buffer",
   "metadata": {
    "execution": {
     "iopub.execute_input": "2021-03-01T19:18:24.288503Z",
     "iopub.status.busy": "2021-03-01T19:18:24.287505Z",
     "iopub.status.idle": "2021-03-01T19:18:24.291495Z",
     "shell.execute_reply": "2021-03-01T19:18:24.291495Z",
     "shell.execute_reply.started": "2021-03-01T19:18:24.288503Z"
    }
   },
   "source": [
    "## Database  \n",
    "creating dataframes to map database table relationships\n"
   ]
  },
  {
   "cell_type": "markdown",
   "id": "pressing-tract",
   "metadata": {
    "execution": {
     "iopub.execute_input": "2021-03-02T01:55:49.615122Z",
     "iopub.status.busy": "2021-03-02T01:55:49.614122Z",
     "iopub.status.idle": "2021-03-02T01:55:49.618117Z",
     "shell.execute_reply": "2021-03-02T01:55:49.618117Z",
     "shell.execute_reply.started": "2021-03-02T01:55:49.614122Z"
    }
   },
   "source": [
    "### Offense table "
   ]
  },
  {
   "cell_type": "code",
   "execution_count": 204,
   "id": "animal-drama",
   "metadata": {
    "execution": {
     "iopub.execute_input": "2021-03-02T00:26:51.292936Z",
     "iopub.status.busy": "2021-03-02T00:26:51.292936Z",
     "iopub.status.idle": "2021-03-02T00:26:51.329464Z",
     "shell.execute_reply": "2021-03-02T00:26:51.329464Z",
     "shell.execute_reply.started": "2021-03-02T00:26:51.292936Z"
    }
   },
   "outputs": [],
   "source": [
    "# offense_type table \n",
    "offense_type_df = stripped_crime_data[['ucr_code','crime_type']].copy()\n",
    "offense_type_df.drop_duplicates(subset='ucr_code', inplace=True)"
   ]
  },
  {
   "cell_type": "code",
   "execution_count": 208,
   "id": "dynamic-paris",
   "metadata": {
    "execution": {
     "iopub.execute_input": "2021-03-02T00:27:36.464074Z",
     "iopub.status.busy": "2021-03-02T00:27:36.463077Z",
     "iopub.status.idle": "2021-03-02T00:27:36.474048Z",
     "shell.execute_reply": "2021-03-02T00:27:36.473051Z",
     "shell.execute_reply.started": "2021-03-02T00:27:36.464074Z"
    }
   },
   "outputs": [
    {
     "data": {
      "text/html": [
       "<div>\n",
       "<style scoped>\n",
       "    .dataframe tbody tr th:only-of-type {\n",
       "        vertical-align: middle;\n",
       "    }\n",
       "\n",
       "    .dataframe tbody tr th {\n",
       "        vertical-align: top;\n",
       "    }\n",
       "\n",
       "    .dataframe thead th {\n",
       "        text-align: right;\n",
       "    }\n",
       "</style>\n",
       "<table border=\"1\" class=\"dataframe\">\n",
       "  <thead>\n",
       "    <tr style=\"text-align: right;\">\n",
       "      <th></th>\n",
       "      <th>ucr_code</th>\n",
       "      <th>crime_type</th>\n",
       "    </tr>\n",
       "  </thead>\n",
       "  <tbody>\n",
       "    <tr>\n",
       "      <th>0</th>\n",
       "      <td>601</td>\n",
       "      <td>BURGLARY OF VEHICLE</td>\n",
       "    </tr>\n",
       "    <tr>\n",
       "      <th>1</th>\n",
       "      <td>502</td>\n",
       "      <td>BURGLARY NON RESIDENCE</td>\n",
       "    </tr>\n",
       "    <tr>\n",
       "      <th>2</th>\n",
       "      <td>1400</td>\n",
       "      <td>CRIMINAL MISCHIEF</td>\n",
       "    </tr>\n",
       "    <tr>\n",
       "      <th>3</th>\n",
       "      <td>905</td>\n",
       "      <td>RESISTING ARREST OR SEARCH</td>\n",
       "    </tr>\n",
       "    <tr>\n",
       "      <th>4</th>\n",
       "      <td>2716</td>\n",
       "      <td>CRIMINAL TRESPASS</td>\n",
       "    </tr>\n",
       "  </tbody>\n",
       "</table>\n",
       "</div>"
      ],
      "text/plain": [
       "  ucr_code                  crime_type\n",
       "0      601         BURGLARY OF VEHICLE\n",
       "1      502      BURGLARY NON RESIDENCE\n",
       "2     1400           CRIMINAL MISCHIEF\n",
       "3      905  RESISTING ARREST OR SEARCH\n",
       "4     2716           CRIMINAL TRESPASS"
      ]
     },
     "execution_count": 208,
     "metadata": {},
     "output_type": "execute_result"
    },
    {
     "data": {
      "text/plain": [
       "(189, 2)"
      ]
     },
     "execution_count": 208,
     "metadata": {},
     "output_type": "execute_result"
    }
   ],
   "source": [
    "# 189 unique offense codes\n",
    "offense_type_df.head()\n",
    "offense_type_df.shape"
   ]
  },
  {
   "cell_type": "code",
   "execution_count": 212,
   "id": "analyzed-contemporary",
   "metadata": {
    "execution": {
     "iopub.execute_input": "2021-03-02T01:35:33.835580Z",
     "iopub.status.busy": "2021-03-02T01:35:33.835580Z",
     "iopub.status.idle": "2021-03-02T01:35:33.842099Z",
     "shell.execute_reply": "2021-03-02T01:35:33.841567Z",
     "shell.execute_reply.started": "2021-03-02T01:35:33.835580Z"
    }
   },
   "outputs": [
    {
     "data": {
      "text/plain": [
       "False"
      ]
     },
     "execution_count": 212,
     "metadata": {},
     "output_type": "execute_result"
    }
   ],
   "source": [
    "offense_type_df.isnull().values.any()"
   ]
  },
  {
   "cell_type": "code",
   "execution_count": 214,
   "id": "dependent-dealing",
   "metadata": {
    "execution": {
     "iopub.execute_input": "2021-03-02T01:52:26.852008Z",
     "iopub.status.busy": "2021-03-02T01:52:26.852008Z",
     "iopub.status.idle": "2021-03-02T01:52:26.867935Z",
     "shell.execute_reply": "2021-03-02T01:52:26.866938Z",
     "shell.execute_reply.started": "2021-03-02T01:52:26.852008Z"
    }
   },
   "outputs": [
    {
     "data": {
      "text/html": [
       "<div>\n",
       "<style scoped>\n",
       "    .dataframe tbody tr th:only-of-type {\n",
       "        vertical-align: middle;\n",
       "    }\n",
       "\n",
       "    .dataframe tbody tr th {\n",
       "        vertical-align: top;\n",
       "    }\n",
       "\n",
       "    .dataframe thead th {\n",
       "        text-align: right;\n",
       "    }\n",
       "</style>\n",
       "<table border=\"1\" class=\"dataframe\">\n",
       "  <thead>\n",
       "    <tr style=\"text-align: right;\">\n",
       "      <th></th>\n",
       "      <th>offense_code</th>\n",
       "      <th>offense_description</th>\n",
       "    </tr>\n",
       "  </thead>\n",
       "  <tbody>\n",
       "    <tr>\n",
       "      <th>0</th>\n",
       "      <td>601</td>\n",
       "      <td>BURGLARY OF VEHICLE</td>\n",
       "    </tr>\n",
       "    <tr>\n",
       "      <th>1</th>\n",
       "      <td>502</td>\n",
       "      <td>BURGLARY NON RESIDENCE</td>\n",
       "    </tr>\n",
       "    <tr>\n",
       "      <th>2</th>\n",
       "      <td>1400</td>\n",
       "      <td>CRIMINAL MISCHIEF</td>\n",
       "    </tr>\n",
       "    <tr>\n",
       "      <th>3</th>\n",
       "      <td>905</td>\n",
       "      <td>RESISTING ARREST OR SEARCH</td>\n",
       "    </tr>\n",
       "    <tr>\n",
       "      <th>4</th>\n",
       "      <td>2716</td>\n",
       "      <td>CRIMINAL TRESPASS</td>\n",
       "    </tr>\n",
       "    <tr>\n",
       "      <th>...</th>\n",
       "      <td>...</td>\n",
       "      <td>...</td>\n",
       "    </tr>\n",
       "    <tr>\n",
       "      <th>9301</th>\n",
       "      <td>1716</td>\n",
       "      <td>FORCED SODOMY</td>\n",
       "    </tr>\n",
       "    <tr>\n",
       "      <th>9572</th>\n",
       "      <td>2718</td>\n",
       "      <td>THEFT BY EXTORTION</td>\n",
       "    </tr>\n",
       "    <tr>\n",
       "      <th>9616</th>\n",
       "      <td>907</td>\n",
       "      <td>TAMPERING WITH CONSUMER PROD</td>\n",
       "    </tr>\n",
       "    <tr>\n",
       "      <th>9721</th>\n",
       "      <td>2601</td>\n",
       "      <td>OBSCENITY</td>\n",
       "    </tr>\n",
       "    <tr>\n",
       "      <th>9949</th>\n",
       "      <td>1001</td>\n",
       "      <td>FORGERY BY ALTERATION</td>\n",
       "    </tr>\n",
       "  </tbody>\n",
       "</table>\n",
       "<p>189 rows × 2 columns</p>\n",
       "</div>"
      ],
      "text/plain": [
       "     offense_code           offense_description\n",
       "0             601           BURGLARY OF VEHICLE\n",
       "1             502        BURGLARY NON RESIDENCE\n",
       "2            1400             CRIMINAL MISCHIEF\n",
       "3             905    RESISTING ARREST OR SEARCH\n",
       "4            2716             CRIMINAL TRESPASS\n",
       "...           ...                           ...\n",
       "9301         1716                 FORCED SODOMY\n",
       "9572         2718            THEFT BY EXTORTION\n",
       "9616          907  TAMPERING WITH CONSUMER PROD\n",
       "9721         2601                     OBSCENITY\n",
       "9949         1001         FORGERY BY ALTERATION\n",
       "\n",
       "[189 rows x 2 columns]"
      ]
     },
     "execution_count": 214,
     "metadata": {},
     "output_type": "execute_result"
    }
   ],
   "source": [
    "#rename test \n",
    "offense_type_df.rename(columns={'ucr_code':'offense_code','crime_type':'offense_description'})"
   ]
  },
  {
   "cell_type": "markdown",
   "id": "geological-purchase",
   "metadata": {},
   "source": [
    "## location table"
   ]
  },
  {
   "cell_type": "code",
   "execution_count": 337,
   "id": "offshore-blair",
   "metadata": {
    "execution": {
     "iopub.execute_input": "2021-03-02T17:53:35.096002Z",
     "iopub.status.busy": "2021-03-02T17:53:35.096002Z",
     "iopub.status.idle": "2021-03-02T17:53:35.115116Z",
     "shell.execute_reply": "2021-03-02T17:53:35.115116Z",
     "shell.execute_reply.started": "2021-03-02T17:53:35.096002Z"
    }
   },
   "outputs": [
    {
     "data": {
      "text/html": [
       "<div>\n",
       "<style scoped>\n",
       "    .dataframe tbody tr th:only-of-type {\n",
       "        vertical-align: middle;\n",
       "    }\n",
       "\n",
       "    .dataframe tbody tr th {\n",
       "        vertical-align: top;\n",
       "    }\n",
       "\n",
       "    .dataframe thead th {\n",
       "        text-align: right;\n",
       "    }\n",
       "</style>\n",
       "<table border=\"1\" class=\"dataframe\">\n",
       "  <thead>\n",
       "    <tr style=\"text-align: right;\">\n",
       "      <th></th>\n",
       "      <th>incident_report_number</th>\n",
       "      <th>crime_type</th>\n",
       "      <th>ucr_code</th>\n",
       "      <th>family_violence</th>\n",
       "      <th>occ_date_time</th>\n",
       "      <th>rep_date_time</th>\n",
       "      <th>location_type</th>\n",
       "      <th>address</th>\n",
       "      <th>zip_code</th>\n",
       "      <th>council_district</th>\n",
       "      <th>sector</th>\n",
       "      <th>district</th>\n",
       "      <th>pra</th>\n",
       "      <th>ucr_category</th>\n",
       "      <th>category_description</th>\n",
       "      <th>location</th>\n",
       "      <th>clearance_status</th>\n",
       "      <th>clearance_date</th>\n",
       "    </tr>\n",
       "  </thead>\n",
       "  <tbody>\n",
       "    <tr>\n",
       "      <th>0</th>\n",
       "      <td>20215006549</td>\n",
       "      <td>BURGLARY OF VEHICLE</td>\n",
       "      <td>601</td>\n",
       "      <td>N</td>\n",
       "      <td>2021-02-20T17:00:00.000</td>\n",
       "      <td>2021-02-20T23:35:00.000</td>\n",
       "      <td>RESTAURANTS</td>\n",
       "      <td>6319 N IH 35 SVRD NB</td>\n",
       "      <td>78752</td>\n",
       "      <td>4</td>\n",
       "      <td>ID</td>\n",
       "      <td>1</td>\n",
       "      <td>280</td>\n",
       "      <td>23F</td>\n",
       "      <td>Theft</td>\n",
       "      <td>{'latitude': '30.32530599', 'longitude': '-97....</td>\n",
       "      <td>NaN</td>\n",
       "      <td>NaN</td>\n",
       "    </tr>\n",
       "    <tr>\n",
       "      <th>1</th>\n",
       "      <td>20215006547</td>\n",
       "      <td>BURGLARY NON RESIDENCE</td>\n",
       "      <td>502</td>\n",
       "      <td>N</td>\n",
       "      <td>2021-02-20T14:47:00.000</td>\n",
       "      <td>2021-02-20T18:41:00.000</td>\n",
       "      <td>PARKING LOTS / GARAGE</td>\n",
       "      <td>13301 CENTER LAKE DR</td>\n",
       "      <td>78753</td>\n",
       "      <td>7</td>\n",
       "      <td>ED</td>\n",
       "      <td>6</td>\n",
       "      <td>206</td>\n",
       "      <td>220</td>\n",
       "      <td>Burglary</td>\n",
       "      <td>{'latitude': '30.4088995', 'longitude': '-97.6...</td>\n",
       "      <td>NaN</td>\n",
       "      <td>NaN</td>\n",
       "    </tr>\n",
       "    <tr>\n",
       "      <th>2</th>\n",
       "      <td>2021510833</td>\n",
       "      <td>CRIMINAL MISCHIEF</td>\n",
       "      <td>1400</td>\n",
       "      <td>N</td>\n",
       "      <td>2021-02-20T14:41:00.000</td>\n",
       "      <td>2021-02-20T14:41:00.000</td>\n",
       "      <td>CONVENIENCE STORE</td>\n",
       "      <td>10111 N LAMAR BLVD</td>\n",
       "      <td>78753</td>\n",
       "      <td>4</td>\n",
       "      <td>ED</td>\n",
       "      <td>1</td>\n",
       "      <td>240</td>\n",
       "      <td>NaN</td>\n",
       "      <td>NaN</td>\n",
       "      <td>{'latitude': '30.37078232', 'longitude': '-97....</td>\n",
       "      <td>NaN</td>\n",
       "      <td>NaN</td>\n",
       "    </tr>\n",
       "    <tr>\n",
       "      <th>3</th>\n",
       "      <td>2021510758</td>\n",
       "      <td>RESISTING ARREST OR SEARCH</td>\n",
       "      <td>905</td>\n",
       "      <td>N</td>\n",
       "      <td>2021-02-20T14:30:00.000</td>\n",
       "      <td>2021-02-20T16:30:00.000</td>\n",
       "      <td>STREETS / HWY / ROAD / ALLEY</td>\n",
       "      <td>310 E 6TH ST</td>\n",
       "      <td>78701</td>\n",
       "      <td>9</td>\n",
       "      <td>GE</td>\n",
       "      <td>2</td>\n",
       "      <td>381</td>\n",
       "      <td>NaN</td>\n",
       "      <td>NaN</td>\n",
       "      <td>{'latitude': '30.26755605', 'longitude': '-97....</td>\n",
       "      <td>NaN</td>\n",
       "      <td>NaN</td>\n",
       "    </tr>\n",
       "    <tr>\n",
       "      <th>4</th>\n",
       "      <td>2021210510728</td>\n",
       "      <td>CRIMINAL TRESPASS</td>\n",
       "      <td>2716</td>\n",
       "      <td>N</td>\n",
       "      <td>2021-02-20T13:47:00.000</td>\n",
       "      <td>2021-02-20T13:47:00.000</td>\n",
       "      <td>CONVENIENCE STORE</td>\n",
       "      <td>10111 N LAMAR BLVD</td>\n",
       "      <td>78753</td>\n",
       "      <td>4</td>\n",
       "      <td>ED</td>\n",
       "      <td>1</td>\n",
       "      <td>240</td>\n",
       "      <td>NaN</td>\n",
       "      <td>NaN</td>\n",
       "      <td>{'latitude': '30.37078232', 'longitude': '-97....</td>\n",
       "      <td>NaN</td>\n",
       "      <td>NaN</td>\n",
       "    </tr>\n",
       "  </tbody>\n",
       "</table>\n",
       "</div>"
      ],
      "text/plain": [
       "  incident_report_number                  crime_type ucr_code family_violence  \\\n",
       "0            20215006549         BURGLARY OF VEHICLE      601               N   \n",
       "1            20215006547      BURGLARY NON RESIDENCE      502               N   \n",
       "2             2021510833           CRIMINAL MISCHIEF     1400               N   \n",
       "3             2021510758  RESISTING ARREST OR SEARCH      905               N   \n",
       "4          2021210510728           CRIMINAL TRESPASS     2716               N   \n",
       "\n",
       "             occ_date_time            rep_date_time  \\\n",
       "0  2021-02-20T17:00:00.000  2021-02-20T23:35:00.000   \n",
       "1  2021-02-20T14:47:00.000  2021-02-20T18:41:00.000   \n",
       "2  2021-02-20T14:41:00.000  2021-02-20T14:41:00.000   \n",
       "3  2021-02-20T14:30:00.000  2021-02-20T16:30:00.000   \n",
       "4  2021-02-20T13:47:00.000  2021-02-20T13:47:00.000   \n",
       "\n",
       "                  location_type               address zip_code  \\\n",
       "0                   RESTAURANTS  6319 N IH 35 SVRD NB    78752   \n",
       "1         PARKING LOTS / GARAGE  13301 CENTER LAKE DR    78753   \n",
       "2             CONVENIENCE STORE    10111 N LAMAR BLVD    78753   \n",
       "3  STREETS / HWY / ROAD / ALLEY          310 E 6TH ST    78701   \n",
       "4             CONVENIENCE STORE    10111 N LAMAR BLVD    78753   \n",
       "\n",
       "  council_district sector district  pra ucr_category category_description  \\\n",
       "0                4     ID        1  280          23F                Theft   \n",
       "1                7     ED        6  206          220             Burglary   \n",
       "2                4     ED        1  240          NaN                  NaN   \n",
       "3                9     GE        2  381          NaN                  NaN   \n",
       "4                4     ED        1  240          NaN                  NaN   \n",
       "\n",
       "                                            location clearance_status  \\\n",
       "0  {'latitude': '30.32530599', 'longitude': '-97....              NaN   \n",
       "1  {'latitude': '30.4088995', 'longitude': '-97.6...              NaN   \n",
       "2  {'latitude': '30.37078232', 'longitude': '-97....              NaN   \n",
       "3  {'latitude': '30.26755605', 'longitude': '-97....              NaN   \n",
       "4  {'latitude': '30.37078232', 'longitude': '-97....              NaN   \n",
       "\n",
       "  clearance_date  \n",
       "0            NaN  \n",
       "1            NaN  \n",
       "2            NaN  \n",
       "3            NaN  \n",
       "4            NaN  "
      ]
     },
     "execution_count": 337,
     "metadata": {},
     "output_type": "execute_result"
    }
   ],
   "source": [
    "stripped_crime_data.head()"
   ]
  },
  {
   "cell_type": "code",
   "execution_count": 381,
   "id": "successful-charleston",
   "metadata": {
    "execution": {
     "iopub.execute_input": "2021-03-02T18:09:07.449456Z",
     "iopub.status.busy": "2021-03-02T18:09:07.449456Z",
     "iopub.status.idle": "2021-03-02T18:09:07.457949Z",
     "shell.execute_reply": "2021-03-02T18:09:07.457949Z",
     "shell.execute_reply.started": "2021-03-02T18:09:07.449456Z"
    }
   },
   "outputs": [
    {
     "data": {
      "text/plain": [
       "43"
      ]
     },
     "execution_count": 381,
     "metadata": {},
     "output_type": "execute_result"
    }
   ],
   "source": [
    "#43 unique location types out of 1000 rows (by default does not count null values)\n",
    "stripped_crime_data.location_type.nunique()"
   ]
  },
  {
   "cell_type": "code",
   "execution_count": 529,
   "id": "absolute-period",
   "metadata": {
    "execution": {
     "iopub.execute_input": "2021-03-02T19:43:57.959118Z",
     "iopub.status.busy": "2021-03-02T19:43:57.958090Z",
     "iopub.status.idle": "2021-03-02T19:43:57.969085Z",
     "shell.execute_reply": "2021-03-02T19:43:57.969085Z",
     "shell.execute_reply.started": "2021-03-02T19:43:57.959118Z"
    }
   },
   "outputs": [],
   "source": [
    "# create location dataframe with only unique values  \n",
    "location_df = stripped_crime_data['location_type'].copy()\n",
    "location_df = location_df.to_frame()\n",
    " \n",
    "location_df.drop_duplicates(inplace=True)"
   ]
  },
  {
   "cell_type": "code",
   "execution_count": 530,
   "id": "italian-hormone",
   "metadata": {
    "execution": {
     "iopub.execute_input": "2021-03-02T19:44:00.422552Z",
     "iopub.status.busy": "2021-03-02T19:44:00.422552Z",
     "iopub.status.idle": "2021-03-02T19:44:00.432482Z",
     "shell.execute_reply": "2021-03-02T19:44:00.431486Z",
     "shell.execute_reply.started": "2021-03-02T19:44:00.422552Z"
    }
   },
   "outputs": [
    {
     "data": {
      "text/plain": [
       "1"
      ]
     },
     "execution_count": 530,
     "metadata": {},
     "output_type": "execute_result"
    }
   ],
   "source": [
    "# check for null values, if any remove\n",
    "location_null_list = location_df[location_df['location_type'].isnull()].index\n",
    "# print ammount of null values\n",
    "len(location_null_list)\n",
    "\n",
    "#dro null value(s)\n",
    "location_df.drop(location_null_list, axis=0,inplace=True)"
   ]
  },
  {
   "cell_type": "code",
   "execution_count": 531,
   "id": "fifty-adobe",
   "metadata": {
    "execution": {
     "iopub.execute_input": "2021-03-02T19:44:05.009767Z",
     "iopub.status.busy": "2021-03-02T19:44:05.009767Z",
     "iopub.status.idle": "2021-03-02T19:44:05.014751Z",
     "shell.execute_reply": "2021-03-02T19:44:05.014751Z",
     "shell.execute_reply.started": "2021-03-02T19:44:05.009767Z"
    }
   },
   "outputs": [],
   "source": [
    "#create numbered column to be used as unique identifier between tables \n",
    "location_df['location_code'] = np.arange(len(location_df))\n",
    "# rearange dataframe "
   ]
  },
  {
   "cell_type": "code",
   "execution_count": 532,
   "id": "angry-annual",
   "metadata": {
    "execution": {
     "iopub.execute_input": "2021-03-02T19:44:05.611202Z",
     "iopub.status.busy": "2021-03-02T19:44:05.611202Z",
     "iopub.status.idle": "2021-03-02T19:44:05.633097Z",
     "shell.execute_reply": "2021-03-02T19:44:05.632102Z",
     "shell.execute_reply.started": "2021-03-02T19:44:05.611202Z"
    }
   },
   "outputs": [
    {
     "name": "stdout",
     "output_type": "stream",
     "text": [
      "<class 'pandas.core.frame.DataFrame'>\n",
      "Int64Index: 43 entries, 0 to 9981\n",
      "Data columns (total 2 columns):\n",
      " #   Column         Non-Null Count  Dtype \n",
      "---  ------         --------------  ----- \n",
      " 0   location_type  43 non-null     object\n",
      " 1   location_code  43 non-null     int32 \n",
      "dtypes: int32(1), object(1)\n",
      "memory usage: 860.0+ bytes\n",
      "\n",
      "\n"
     ]
    },
    {
     "data": {
      "text/html": [
       "<div>\n",
       "<style scoped>\n",
       "    .dataframe tbody tr th:only-of-type {\n",
       "        vertical-align: middle;\n",
       "    }\n",
       "\n",
       "    .dataframe tbody tr th {\n",
       "        vertical-align: top;\n",
       "    }\n",
       "\n",
       "    .dataframe thead th {\n",
       "        text-align: right;\n",
       "    }\n",
       "</style>\n",
       "<table border=\"1\" class=\"dataframe\">\n",
       "  <thead>\n",
       "    <tr style=\"text-align: right;\">\n",
       "      <th></th>\n",
       "      <th>location_type</th>\n",
       "      <th>location_code</th>\n",
       "    </tr>\n",
       "  </thead>\n",
       "  <tbody>\n",
       "    <tr>\n",
       "      <th>0</th>\n",
       "      <td>RESTAURANTS</td>\n",
       "      <td>0</td>\n",
       "    </tr>\n",
       "    <tr>\n",
       "      <th>1</th>\n",
       "      <td>PARKING LOTS / GARAGE</td>\n",
       "      <td>1</td>\n",
       "    </tr>\n",
       "    <tr>\n",
       "      <th>2</th>\n",
       "      <td>CONVENIENCE STORE</td>\n",
       "      <td>2</td>\n",
       "    </tr>\n",
       "    <tr>\n",
       "      <th>3</th>\n",
       "      <td>STREETS / HWY / ROAD / ALLEY</td>\n",
       "      <td>3</td>\n",
       "    </tr>\n",
       "    <tr>\n",
       "      <th>7</th>\n",
       "      <td>RESIDENCE / HOME</td>\n",
       "      <td>4</td>\n",
       "    </tr>\n",
       "  </tbody>\n",
       "</table>\n",
       "</div>"
      ],
      "text/plain": [
       "                  location_type  location_code\n",
       "0                   RESTAURANTS              0\n",
       "1         PARKING LOTS / GARAGE              1\n",
       "2             CONVENIENCE STORE              2\n",
       "3  STREETS / HWY / ROAD / ALLEY              3\n",
       "7              RESIDENCE / HOME              4"
      ]
     },
     "execution_count": 532,
     "metadata": {},
     "output_type": "execute_result"
    }
   ],
   "source": [
    "location_df.info() \n",
    "print('\\n')\n",
    "location_df.head()"
   ]
  },
  {
   "cell_type": "code",
   "execution_count": 539,
   "id": "brazilian-default",
   "metadata": {
    "execution": {
     "iopub.execute_input": "2021-03-02T19:48:59.526559Z",
     "iopub.status.busy": "2021-03-02T19:48:59.526559Z",
     "iopub.status.idle": "2021-03-02T19:48:59.538527Z",
     "shell.execute_reply": "2021-03-02T19:48:59.538527Z",
     "shell.execute_reply.started": "2021-03-02T19:48:59.526559Z"
    }
   },
   "outputs": [
    {
     "data": {
      "text/html": [
       "<div>\n",
       "<style scoped>\n",
       "    .dataframe tbody tr th:only-of-type {\n",
       "        vertical-align: middle;\n",
       "    }\n",
       "\n",
       "    .dataframe tbody tr th {\n",
       "        vertical-align: top;\n",
       "    }\n",
       "\n",
       "    .dataframe thead th {\n",
       "        text-align: right;\n",
       "    }\n",
       "</style>\n",
       "<table border=\"1\" class=\"dataframe\">\n",
       "  <thead>\n",
       "    <tr style=\"text-align: right;\">\n",
       "      <th></th>\n",
       "      <th>location_code</th>\n",
       "      <th>location_type</th>\n",
       "    </tr>\n",
       "  </thead>\n",
       "  <tbody>\n",
       "    <tr>\n",
       "      <th>0</th>\n",
       "      <td>0</td>\n",
       "      <td>RESTAURANTS</td>\n",
       "    </tr>\n",
       "    <tr>\n",
       "      <th>1</th>\n",
       "      <td>1</td>\n",
       "      <td>PARKING LOTS / GARAGE</td>\n",
       "    </tr>\n",
       "    <tr>\n",
       "      <th>2</th>\n",
       "      <td>2</td>\n",
       "      <td>CONVENIENCE STORE</td>\n",
       "    </tr>\n",
       "    <tr>\n",
       "      <th>3</th>\n",
       "      <td>3</td>\n",
       "      <td>STREETS / HWY / ROAD / ALLEY</td>\n",
       "    </tr>\n",
       "    <tr>\n",
       "      <th>7</th>\n",
       "      <td>4</td>\n",
       "      <td>RESIDENCE / HOME</td>\n",
       "    </tr>\n",
       "  </tbody>\n",
       "</table>\n",
       "</div>"
      ],
      "text/plain": [
       "   location_code                 location_type\n",
       "0              0                   RESTAURANTS\n",
       "1              1         PARKING LOTS / GARAGE\n",
       "2              2             CONVENIENCE STORE\n",
       "3              3  STREETS / HWY / ROAD / ALLEY\n",
       "7              4              RESIDENCE / HOME"
      ]
     },
     "execution_count": 539,
     "metadata": {},
     "output_type": "execute_result"
    }
   ],
   "source": [
    "# rearange dataframe\n",
    "location_df = location_df[['location_code','location_type']]\n",
    "location_df.head()"
   ]
  },
  {
   "cell_type": "markdown",
   "id": "common-mixture",
   "metadata": {
    "execution": {
     "iopub.execute_input": "2021-03-02T19:47:58.653022Z",
     "iopub.status.busy": "2021-03-02T19:47:58.653022Z",
     "iopub.status.idle": "2021-03-02T19:47:58.660045Z",
     "shell.execute_reply": "2021-03-02T19:47:58.659063Z",
     "shell.execute_reply.started": "2021-03-02T19:47:58.653022Z"
    }
   },
   "source": [
    "-----"
   ]
  },
  {
   "cell_type": "code",
   "execution_count": 533,
   "id": "rural-times",
   "metadata": {
    "execution": {
     "iopub.execute_input": "2021-03-02T19:44:08.768823Z",
     "iopub.status.busy": "2021-03-02T19:44:08.768823Z",
     "iopub.status.idle": "2021-03-02T19:44:08.775779Z",
     "shell.execute_reply": "2021-03-02T19:44:08.774802Z",
     "shell.execute_reply.started": "2021-03-02T19:44:08.768823Z"
    }
   },
   "outputs": [],
   "source": [
    "# creating mapping of location type to use as encoder for main incident dataframe\n",
    "map_location_df = location_df.copy()\n",
    "map_location_df.set_index('location_type', inplace=True)"
   ]
  },
  {
   "cell_type": "code",
   "execution_count": 534,
   "id": "inappropriate-intention",
   "metadata": {
    "execution": {
     "iopub.execute_input": "2021-03-02T19:44:15.298352Z",
     "iopub.status.busy": "2021-03-02T19:44:15.297317Z",
     "iopub.status.idle": "2021-03-02T19:44:15.303298Z",
     "shell.execute_reply": "2021-03-02T19:44:15.302301Z",
     "shell.execute_reply.started": "2021-03-02T19:44:15.298352Z"
    }
   },
   "outputs": [
    {
     "name": "stdout",
     "output_type": "stream",
     "text": [
      "{'RESTAURANTS': 0, 'PARKING LOTS / GARAGE': 1, 'CONVENIENCE STORE': 2, 'STREETS / HWY / ROAD / ALLEY': 3, 'RESIDENCE / HOME': 4, 'RENTAL STORAGE FACILITY': 5, 'DEPARTMENT / DISCOUNT STORE': 6, 'BANKS / SAVINGS & LOAN': 7, 'TRANSPORTATION (AIR / BUS / TRAIN - TERMINALS)': 8, 'HOTEL / MOTEL / ETC.': 9, 'DRUG STORE / DR. OFFICE / HOSPITAL': 10, 'GAS / SERVICE STATIONS': 11, 'SHELTER-MISSION / HOMELESS': 12, 'COMMERCIAL / OFFICE BUILDING': 13, 'OTHER / UNKNOWN': 14, 'SPECIALTY  STORE (TV  FUR ETC.)': 15, 'ARENA / STADIUM / FAIRGROUNDS / COLISEUM': 16, 'LIQUOR STORE': 17, 'INDUSTRIAL SITE': 18, 'GROCERY / SUPERMARKET': 19, 'COMMUNITY CENTER': 20, 'BAR / NIGHT CLUB': 21, 'CHURCH / SYNAGOGUE / TEMPLE / MOSQUE': 22, 'SHOPPING MALL': 23, 'GOVERNMENT / PUBLIC BUILDING': 24, 'CYBERSPACE': 25, 'AMUSEMENT PARK': 26, 'PARK / PLAYGROUND': 27, 'CAMP / CAMPGROUND': 28, 'AUTO DEALERSHIP NEW / USED': 29, 'SCHOOL - ELEMENTARY / SECONDARY': 30, 'CONSTRUCTION SITE': 31, 'SCHOOL - COLLEGE / UNIVERSITY': 32, 'DAYCARE FACILITY': 33, 'ATM SEPARATE FROM BANK': 34, 'FIELD / WOODS': 35, 'GAMBLING FACILITY / CASINO / RACE TRACK': 36, 'JAIL / PRISON': 37, 'LAKE / WATERWAY': 38, 'ABANDONED/CONDEMNED STRUCTURE': 39, 'DOCK / WHARF / FREIGHT / MODAL TERMINAL': 40, 'SCHOOLS / COLLEGES': 41, 'REST AREA': 42}\n"
     ]
    }
   ],
   "source": [
    "location_mapper = map_location_df.to_dict()['location_code'].copy()\n",
    "print(location_mapper)"
   ]
  },
  {
   "cell_type": "code",
   "execution_count": 551,
   "id": "sublime-accommodation",
   "metadata": {
    "execution": {
     "iopub.execute_input": "2021-03-02T20:00:32.912606Z",
     "iopub.status.busy": "2021-03-02T20:00:32.912606Z",
     "iopub.status.idle": "2021-03-02T20:00:32.918593Z",
     "shell.execute_reply": "2021-03-02T20:00:32.917599Z",
     "shell.execute_reply.started": "2021-03-02T20:00:32.912606Z"
    }
   },
   "outputs": [
    {
     "data": {
      "text/plain": [
       "0"
      ]
     },
     "execution_count": 551,
     "metadata": {},
     "output_type": "execute_result"
    }
   ],
   "source": [
    "location_mapper[stripped_crime_data['location_type'][0]]"
   ]
  },
  {
   "cell_type": "code",
   "execution_count": 548,
   "id": "logical-engineer",
   "metadata": {
    "execution": {
     "iopub.execute_input": "2021-03-02T19:51:26.339324Z",
     "iopub.status.busy": "2021-03-02T19:51:26.339324Z",
     "iopub.status.idle": "2021-03-02T19:51:26.358231Z",
     "shell.execute_reply": "2021-03-02T19:51:26.358231Z",
     "shell.execute_reply.started": "2021-03-02T19:51:26.339324Z"
    }
   },
   "outputs": [
    {
     "data": {
      "text/html": [
       "<div>\n",
       "<style scoped>\n",
       "    .dataframe tbody tr th:only-of-type {\n",
       "        vertical-align: middle;\n",
       "    }\n",
       "\n",
       "    .dataframe tbody tr th {\n",
       "        vertical-align: top;\n",
       "    }\n",
       "\n",
       "    .dataframe thead th {\n",
       "        text-align: right;\n",
       "    }\n",
       "</style>\n",
       "<table border=\"1\" class=\"dataframe\">\n",
       "  <thead>\n",
       "    <tr style=\"text-align: right;\">\n",
       "      <th></th>\n",
       "      <th>incident_report_number</th>\n",
       "      <th>crime_type</th>\n",
       "      <th>ucr_code</th>\n",
       "      <th>family_violence</th>\n",
       "      <th>occ_date_time</th>\n",
       "      <th>rep_date_time</th>\n",
       "      <th>location_type</th>\n",
       "    </tr>\n",
       "  </thead>\n",
       "  <tbody>\n",
       "    <tr>\n",
       "      <th>0</th>\n",
       "      <td>20215006549</td>\n",
       "      <td>BURGLARY OF VEHICLE</td>\n",
       "      <td>601</td>\n",
       "      <td>N</td>\n",
       "      <td>2021-02-20T17:00:00.000</td>\n",
       "      <td>2021-02-20T23:35:00.000</td>\n",
       "      <td>RESTAURANTS</td>\n",
       "    </tr>\n",
       "    <tr>\n",
       "      <th>1</th>\n",
       "      <td>20215006547</td>\n",
       "      <td>BURGLARY NON RESIDENCE</td>\n",
       "      <td>502</td>\n",
       "      <td>N</td>\n",
       "      <td>2021-02-20T14:47:00.000</td>\n",
       "      <td>2021-02-20T18:41:00.000</td>\n",
       "      <td>PARKING LOTS / GARAGE</td>\n",
       "    </tr>\n",
       "  </tbody>\n",
       "</table>\n",
       "</div>"
      ],
      "text/plain": [
       "  incident_report_number              crime_type ucr_code family_violence  \\\n",
       "0            20215006549     BURGLARY OF VEHICLE      601               N   \n",
       "1            20215006547  BURGLARY NON RESIDENCE      502               N   \n",
       "\n",
       "             occ_date_time            rep_date_time          location_type  \n",
       "0  2021-02-20T17:00:00.000  2021-02-20T23:35:00.000            RESTAURANTS  \n",
       "1  2021-02-20T14:47:00.000  2021-02-20T18:41:00.000  PARKING LOTS / GARAGE  "
      ]
     },
     "execution_count": 548,
     "metadata": {},
     "output_type": "execute_result"
    }
   ],
   "source": [
    "# test mapper \n",
    "stripped_crime_data[stripped_crime_data.columns[0:7]].head(2)"
   ]
  },
  {
   "cell_type": "code",
   "execution_count": 550,
   "id": "abstract-boundary",
   "metadata": {
    "execution": {
     "iopub.execute_input": "2021-03-02T19:59:40.885774Z",
     "iopub.status.busy": "2021-03-02T19:59:40.884750Z",
     "iopub.status.idle": "2021-03-02T19:59:40.907687Z",
     "shell.execute_reply": "2021-03-02T19:59:40.906731Z",
     "shell.execute_reply.started": "2021-03-02T19:59:40.885774Z"
    }
   },
   "outputs": [
    {
     "ename": "KeyError",
     "evalue": "nan",
     "output_type": "error",
     "traceback": [
      "\u001b[1;31m---------------------------------------------------------------------------\u001b[0m",
      "\u001b[1;31mKeyError\u001b[0m                                  Traceback (most recent call last)",
      "\u001b[1;32m<ipython-input-550-1645ba2b46b3>\u001b[0m in \u001b[0;36m<module>\u001b[1;34m\u001b[0m\n\u001b[0;32m      1\u001b[0m \u001b[1;31m# replace and encode location column\u001b[0m\u001b[1;33m\u001b[0m\u001b[1;33m\u001b[0m\u001b[1;33m\u001b[0m\u001b[0m\n\u001b[1;32m----> 2\u001b[1;33m \u001b[0mstripped_crime_data\u001b[0m\u001b[1;33m[\u001b[0m\u001b[1;34m'location_type'\u001b[0m\u001b[1;33m]\u001b[0m \u001b[1;33m=\u001b[0m \u001b[0mstripped_crime_data\u001b[0m\u001b[1;33m[\u001b[0m\u001b[1;34m'location_type'\u001b[0m\u001b[1;33m]\u001b[0m\u001b[1;33m.\u001b[0m\u001b[0mapply\u001b[0m\u001b[1;33m(\u001b[0m\u001b[1;32mlambda\u001b[0m \u001b[0mx\u001b[0m\u001b[1;33m:\u001b[0m \u001b[0mlocation_mapper\u001b[0m\u001b[1;33m[\u001b[0m\u001b[0mx\u001b[0m\u001b[1;33m]\u001b[0m\u001b[1;33m)\u001b[0m\u001b[1;33m\u001b[0m\u001b[1;33m\u001b[0m\u001b[0m\n\u001b[0m",
      "\u001b[1;32m~\\Anaconda3\\lib\\site-packages\\pandas\\core\\series.py\u001b[0m in \u001b[0;36mapply\u001b[1;34m(self, func, convert_dtype, args, **kwds)\u001b[0m\n\u001b[0;32m   4106\u001b[0m             \u001b[1;32melse\u001b[0m\u001b[1;33m:\u001b[0m\u001b[1;33m\u001b[0m\u001b[1;33m\u001b[0m\u001b[0m\n\u001b[0;32m   4107\u001b[0m                 \u001b[0mvalues\u001b[0m \u001b[1;33m=\u001b[0m \u001b[0mself\u001b[0m\u001b[1;33m.\u001b[0m\u001b[0mastype\u001b[0m\u001b[1;33m(\u001b[0m\u001b[0mobject\u001b[0m\u001b[1;33m)\u001b[0m\u001b[1;33m.\u001b[0m\u001b[0m_values\u001b[0m\u001b[1;33m\u001b[0m\u001b[1;33m\u001b[0m\u001b[0m\n\u001b[1;32m-> 4108\u001b[1;33m                 \u001b[0mmapped\u001b[0m \u001b[1;33m=\u001b[0m \u001b[0mlib\u001b[0m\u001b[1;33m.\u001b[0m\u001b[0mmap_infer\u001b[0m\u001b[1;33m(\u001b[0m\u001b[0mvalues\u001b[0m\u001b[1;33m,\u001b[0m \u001b[0mf\u001b[0m\u001b[1;33m,\u001b[0m \u001b[0mconvert\u001b[0m\u001b[1;33m=\u001b[0m\u001b[0mconvert_dtype\u001b[0m\u001b[1;33m)\u001b[0m\u001b[1;33m\u001b[0m\u001b[1;33m\u001b[0m\u001b[0m\n\u001b[0m\u001b[0;32m   4109\u001b[0m \u001b[1;33m\u001b[0m\u001b[0m\n\u001b[0;32m   4110\u001b[0m         \u001b[1;32mif\u001b[0m \u001b[0mlen\u001b[0m\u001b[1;33m(\u001b[0m\u001b[0mmapped\u001b[0m\u001b[1;33m)\u001b[0m \u001b[1;32mand\u001b[0m \u001b[0misinstance\u001b[0m\u001b[1;33m(\u001b[0m\u001b[0mmapped\u001b[0m\u001b[1;33m[\u001b[0m\u001b[1;36m0\u001b[0m\u001b[1;33m]\u001b[0m\u001b[1;33m,\u001b[0m \u001b[0mSeries\u001b[0m\u001b[1;33m)\u001b[0m\u001b[1;33m:\u001b[0m\u001b[1;33m\u001b[0m\u001b[1;33m\u001b[0m\u001b[0m\n",
      "\u001b[1;32mpandas\\_libs\\lib.pyx\u001b[0m in \u001b[0;36mpandas._libs.lib.map_infer\u001b[1;34m()\u001b[0m\n",
      "\u001b[1;32m<ipython-input-550-1645ba2b46b3>\u001b[0m in \u001b[0;36m<lambda>\u001b[1;34m(x)\u001b[0m\n\u001b[0;32m      1\u001b[0m \u001b[1;31m# replace and encode location column\u001b[0m\u001b[1;33m\u001b[0m\u001b[1;33m\u001b[0m\u001b[1;33m\u001b[0m\u001b[0m\n\u001b[1;32m----> 2\u001b[1;33m \u001b[0mstripped_crime_data\u001b[0m\u001b[1;33m[\u001b[0m\u001b[1;34m'location_type'\u001b[0m\u001b[1;33m]\u001b[0m \u001b[1;33m=\u001b[0m \u001b[0mstripped_crime_data\u001b[0m\u001b[1;33m[\u001b[0m\u001b[1;34m'location_type'\u001b[0m\u001b[1;33m]\u001b[0m\u001b[1;33m.\u001b[0m\u001b[0mapply\u001b[0m\u001b[1;33m(\u001b[0m\u001b[1;32mlambda\u001b[0m \u001b[0mx\u001b[0m\u001b[1;33m:\u001b[0m \u001b[0mlocation_mapper\u001b[0m\u001b[1;33m[\u001b[0m\u001b[0mx\u001b[0m\u001b[1;33m]\u001b[0m\u001b[1;33m)\u001b[0m\u001b[1;33m\u001b[0m\u001b[1;33m\u001b[0m\u001b[0m\n\u001b[0m",
      "\u001b[1;31mKeyError\u001b[0m: nan"
     ]
    }
   ],
   "source": [
    "# replace and encode location column \n",
    "stripped_crime_data['location_type'] = stripped_crime_data['location_type'].apply(lambda x: location_mapper[x])"
   ]
  },
  {
   "cell_type": "code",
   "execution_count": 554,
   "id": "optimum-proceeding",
   "metadata": {
    "execution": {
     "iopub.execute_input": "2021-03-02T20:02:42.897611Z",
     "iopub.status.busy": "2021-03-02T20:02:42.897611Z",
     "iopub.status.idle": "2021-03-02T20:02:42.937311Z",
     "shell.execute_reply": "2021-03-02T20:02:42.937311Z",
     "shell.execute_reply.started": "2021-03-02T20:02:42.897611Z"
    }
   },
   "outputs": [
    {
     "data": {
      "text/html": [
       "<div>\n",
       "<style scoped>\n",
       "    .dataframe tbody tr th:only-of-type {\n",
       "        vertical-align: middle;\n",
       "    }\n",
       "\n",
       "    .dataframe tbody tr th {\n",
       "        vertical-align: top;\n",
       "    }\n",
       "\n",
       "    .dataframe thead th {\n",
       "        text-align: right;\n",
       "    }\n",
       "</style>\n",
       "<table border=\"1\" class=\"dataframe\">\n",
       "  <thead>\n",
       "    <tr style=\"text-align: right;\">\n",
       "      <th></th>\n",
       "      <th>incident_report_number</th>\n",
       "      <th>crime_type</th>\n",
       "      <th>ucr_code</th>\n",
       "      <th>family_violence</th>\n",
       "      <th>occ_date_time</th>\n",
       "      <th>rep_date_time</th>\n",
       "      <th>location_type</th>\n",
       "      <th>address</th>\n",
       "      <th>zip_code</th>\n",
       "      <th>council_district</th>\n",
       "      <th>sector</th>\n",
       "      <th>district</th>\n",
       "      <th>pra</th>\n",
       "      <th>ucr_category</th>\n",
       "      <th>category_description</th>\n",
       "      <th>location</th>\n",
       "      <th>clearance_status</th>\n",
       "      <th>clearance_date</th>\n",
       "    </tr>\n",
       "  </thead>\n",
       "  <tbody>\n",
       "    <tr>\n",
       "      <th>0</th>\n",
       "      <td>NaN</td>\n",
       "      <td>NaN</td>\n",
       "      <td>NaN</td>\n",
       "      <td>NaN</td>\n",
       "      <td>NaN</td>\n",
       "      <td>NaN</td>\n",
       "      <td>NaN</td>\n",
       "      <td>NaN</td>\n",
       "      <td>NaN</td>\n",
       "      <td>NaN</td>\n",
       "      <td>NaN</td>\n",
       "      <td>NaN</td>\n",
       "      <td>NaN</td>\n",
       "      <td>NaN</td>\n",
       "      <td>NaN</td>\n",
       "      <td>NaN</td>\n",
       "      <td>NaN</td>\n",
       "      <td>NaN</td>\n",
       "    </tr>\n",
       "    <tr>\n",
       "      <th>1</th>\n",
       "      <td>NaN</td>\n",
       "      <td>NaN</td>\n",
       "      <td>NaN</td>\n",
       "      <td>NaN</td>\n",
       "      <td>NaN</td>\n",
       "      <td>NaN</td>\n",
       "      <td>NaN</td>\n",
       "      <td>NaN</td>\n",
       "      <td>NaN</td>\n",
       "      <td>NaN</td>\n",
       "      <td>NaN</td>\n",
       "      <td>NaN</td>\n",
       "      <td>NaN</td>\n",
       "      <td>NaN</td>\n",
       "      <td>NaN</td>\n",
       "      <td>NaN</td>\n",
       "      <td>NaN</td>\n",
       "      <td>NaN</td>\n",
       "    </tr>\n",
       "    <tr>\n",
       "      <th>2</th>\n",
       "      <td>NaN</td>\n",
       "      <td>NaN</td>\n",
       "      <td>NaN</td>\n",
       "      <td>NaN</td>\n",
       "      <td>NaN</td>\n",
       "      <td>NaN</td>\n",
       "      <td>NaN</td>\n",
       "      <td>NaN</td>\n",
       "      <td>NaN</td>\n",
       "      <td>NaN</td>\n",
       "      <td>NaN</td>\n",
       "      <td>NaN</td>\n",
       "      <td>NaN</td>\n",
       "      <td>NaN</td>\n",
       "      <td>NaN</td>\n",
       "      <td>NaN</td>\n",
       "      <td>NaN</td>\n",
       "      <td>NaN</td>\n",
       "    </tr>\n",
       "    <tr>\n",
       "      <th>3</th>\n",
       "      <td>NaN</td>\n",
       "      <td>NaN</td>\n",
       "      <td>NaN</td>\n",
       "      <td>NaN</td>\n",
       "      <td>NaN</td>\n",
       "      <td>NaN</td>\n",
       "      <td>NaN</td>\n",
       "      <td>NaN</td>\n",
       "      <td>NaN</td>\n",
       "      <td>NaN</td>\n",
       "      <td>NaN</td>\n",
       "      <td>NaN</td>\n",
       "      <td>NaN</td>\n",
       "      <td>NaN</td>\n",
       "      <td>NaN</td>\n",
       "      <td>NaN</td>\n",
       "      <td>NaN</td>\n",
       "      <td>NaN</td>\n",
       "    </tr>\n",
       "    <tr>\n",
       "      <th>4</th>\n",
       "      <td>NaN</td>\n",
       "      <td>NaN</td>\n",
       "      <td>NaN</td>\n",
       "      <td>NaN</td>\n",
       "      <td>NaN</td>\n",
       "      <td>NaN</td>\n",
       "      <td>NaN</td>\n",
       "      <td>NaN</td>\n",
       "      <td>NaN</td>\n",
       "      <td>NaN</td>\n",
       "      <td>NaN</td>\n",
       "      <td>NaN</td>\n",
       "      <td>NaN</td>\n",
       "      <td>NaN</td>\n",
       "      <td>NaN</td>\n",
       "      <td>NaN</td>\n",
       "      <td>NaN</td>\n",
       "      <td>NaN</td>\n",
       "    </tr>\n",
       "    <tr>\n",
       "      <th>...</th>\n",
       "      <td>...</td>\n",
       "      <td>...</td>\n",
       "      <td>...</td>\n",
       "      <td>...</td>\n",
       "      <td>...</td>\n",
       "      <td>...</td>\n",
       "      <td>...</td>\n",
       "      <td>...</td>\n",
       "      <td>...</td>\n",
       "      <td>...</td>\n",
       "      <td>...</td>\n",
       "      <td>...</td>\n",
       "      <td>...</td>\n",
       "      <td>...</td>\n",
       "      <td>...</td>\n",
       "      <td>...</td>\n",
       "      <td>...</td>\n",
       "      <td>...</td>\n",
       "    </tr>\n",
       "    <tr>\n",
       "      <th>9995</th>\n",
       "      <td>NaN</td>\n",
       "      <td>NaN</td>\n",
       "      <td>NaN</td>\n",
       "      <td>NaN</td>\n",
       "      <td>NaN</td>\n",
       "      <td>NaN</td>\n",
       "      <td>NaN</td>\n",
       "      <td>NaN</td>\n",
       "      <td>NaN</td>\n",
       "      <td>NaN</td>\n",
       "      <td>NaN</td>\n",
       "      <td>NaN</td>\n",
       "      <td>NaN</td>\n",
       "      <td>NaN</td>\n",
       "      <td>NaN</td>\n",
       "      <td>NaN</td>\n",
       "      <td>NaN</td>\n",
       "      <td>NaN</td>\n",
       "    </tr>\n",
       "    <tr>\n",
       "      <th>9996</th>\n",
       "      <td>NaN</td>\n",
       "      <td>NaN</td>\n",
       "      <td>NaN</td>\n",
       "      <td>NaN</td>\n",
       "      <td>NaN</td>\n",
       "      <td>NaN</td>\n",
       "      <td>NaN</td>\n",
       "      <td>NaN</td>\n",
       "      <td>NaN</td>\n",
       "      <td>NaN</td>\n",
       "      <td>NaN</td>\n",
       "      <td>NaN</td>\n",
       "      <td>NaN</td>\n",
       "      <td>NaN</td>\n",
       "      <td>NaN</td>\n",
       "      <td>NaN</td>\n",
       "      <td>NaN</td>\n",
       "      <td>NaN</td>\n",
       "    </tr>\n",
       "    <tr>\n",
       "      <th>9997</th>\n",
       "      <td>NaN</td>\n",
       "      <td>NaN</td>\n",
       "      <td>NaN</td>\n",
       "      <td>NaN</td>\n",
       "      <td>NaN</td>\n",
       "      <td>NaN</td>\n",
       "      <td>NaN</td>\n",
       "      <td>NaN</td>\n",
       "      <td>NaN</td>\n",
       "      <td>NaN</td>\n",
       "      <td>NaN</td>\n",
       "      <td>NaN</td>\n",
       "      <td>NaN</td>\n",
       "      <td>NaN</td>\n",
       "      <td>NaN</td>\n",
       "      <td>NaN</td>\n",
       "      <td>NaN</td>\n",
       "      <td>NaN</td>\n",
       "    </tr>\n",
       "    <tr>\n",
       "      <th>9998</th>\n",
       "      <td>NaN</td>\n",
       "      <td>NaN</td>\n",
       "      <td>NaN</td>\n",
       "      <td>NaN</td>\n",
       "      <td>NaN</td>\n",
       "      <td>NaN</td>\n",
       "      <td>NaN</td>\n",
       "      <td>NaN</td>\n",
       "      <td>NaN</td>\n",
       "      <td>NaN</td>\n",
       "      <td>NaN</td>\n",
       "      <td>NaN</td>\n",
       "      <td>NaN</td>\n",
       "      <td>NaN</td>\n",
       "      <td>NaN</td>\n",
       "      <td>NaN</td>\n",
       "      <td>NaN</td>\n",
       "      <td>NaN</td>\n",
       "    </tr>\n",
       "    <tr>\n",
       "      <th>9999</th>\n",
       "      <td>NaN</td>\n",
       "      <td>NaN</td>\n",
       "      <td>NaN</td>\n",
       "      <td>NaN</td>\n",
       "      <td>NaN</td>\n",
       "      <td>NaN</td>\n",
       "      <td>NaN</td>\n",
       "      <td>NaN</td>\n",
       "      <td>NaN</td>\n",
       "      <td>NaN</td>\n",
       "      <td>NaN</td>\n",
       "      <td>NaN</td>\n",
       "      <td>NaN</td>\n",
       "      <td>NaN</td>\n",
       "      <td>NaN</td>\n",
       "      <td>NaN</td>\n",
       "      <td>NaN</td>\n",
       "      <td>NaN</td>\n",
       "    </tr>\n",
       "  </tbody>\n",
       "</table>\n",
       "<p>10000 rows × 18 columns</p>\n",
       "</div>"
      ],
      "text/plain": [
       "     incident_report_number crime_type ucr_code family_violence occ_date_time  \\\n",
       "0                       NaN        NaN      NaN             NaN           NaN   \n",
       "1                       NaN        NaN      NaN             NaN           NaN   \n",
       "2                       NaN        NaN      NaN             NaN           NaN   \n",
       "3                       NaN        NaN      NaN             NaN           NaN   \n",
       "4                       NaN        NaN      NaN             NaN           NaN   \n",
       "...                     ...        ...      ...             ...           ...   \n",
       "9995                    NaN        NaN      NaN             NaN           NaN   \n",
       "9996                    NaN        NaN      NaN             NaN           NaN   \n",
       "9997                    NaN        NaN      NaN             NaN           NaN   \n",
       "9998                    NaN        NaN      NaN             NaN           NaN   \n",
       "9999                    NaN        NaN      NaN             NaN           NaN   \n",
       "\n",
       "     rep_date_time location_type address zip_code council_district sector  \\\n",
       "0              NaN           NaN     NaN      NaN              NaN    NaN   \n",
       "1              NaN           NaN     NaN      NaN              NaN    NaN   \n",
       "2              NaN           NaN     NaN      NaN              NaN    NaN   \n",
       "3              NaN           NaN     NaN      NaN              NaN    NaN   \n",
       "4              NaN           NaN     NaN      NaN              NaN    NaN   \n",
       "...            ...           ...     ...      ...              ...    ...   \n",
       "9995           NaN           NaN     NaN      NaN              NaN    NaN   \n",
       "9996           NaN           NaN     NaN      NaN              NaN    NaN   \n",
       "9997           NaN           NaN     NaN      NaN              NaN    NaN   \n",
       "9998           NaN           NaN     NaN      NaN              NaN    NaN   \n",
       "9999           NaN           NaN     NaN      NaN              NaN    NaN   \n",
       "\n",
       "     district  pra ucr_category category_description location  \\\n",
       "0         NaN  NaN          NaN                  NaN      NaN   \n",
       "1         NaN  NaN          NaN                  NaN      NaN   \n",
       "2         NaN  NaN          NaN                  NaN      NaN   \n",
       "3         NaN  NaN          NaN                  NaN      NaN   \n",
       "4         NaN  NaN          NaN                  NaN      NaN   \n",
       "...       ...  ...          ...                  ...      ...   \n",
       "9995      NaN  NaN          NaN                  NaN      NaN   \n",
       "9996      NaN  NaN          NaN                  NaN      NaN   \n",
       "9997      NaN  NaN          NaN                  NaN      NaN   \n",
       "9998      NaN  NaN          NaN                  NaN      NaN   \n",
       "9999      NaN  NaN          NaN                  NaN      NaN   \n",
       "\n",
       "     clearance_status clearance_date  \n",
       "0                 NaN            NaN  \n",
       "1                 NaN            NaN  \n",
       "2                 NaN            NaN  \n",
       "3                 NaN            NaN  \n",
       "4                 NaN            NaN  \n",
       "...               ...            ...  \n",
       "9995              NaN            NaN  \n",
       "9996              NaN            NaN  \n",
       "9997              NaN            NaN  \n",
       "9998              NaN            NaN  \n",
       "9999              NaN            NaN  \n",
       "\n",
       "[10000 rows x 18 columns]"
      ]
     },
     "execution_count": 554,
     "metadata": {},
     "output_type": "execute_result"
    }
   ],
   "source": [
    "stripped_crime_data[stripped_crime_data.isnull()]"
   ]
  },
  {
   "cell_type": "code",
   "execution_count": null,
   "id": "forward-elder",
   "metadata": {},
   "outputs": [],
   "source": []
  }
 ],
 "metadata": {
  "kernelspec": {
   "display_name": "PythonData",
   "language": "python",
   "name": "pythondata"
  },
  "language_info": {
   "codemirror_mode": {
    "name": "ipython",
    "version": 3
   },
   "file_extension": ".py",
   "mimetype": "text/x-python",
   "name": "python",
   "nbconvert_exporter": "python",
   "pygments_lexer": "ipython3",
   "version": "3.7.9"
  }
 },
 "nbformat": 4,
 "nbformat_minor": 5
}

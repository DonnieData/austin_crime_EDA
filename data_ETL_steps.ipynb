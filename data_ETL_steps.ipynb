{
 "cells": [
  {
   "cell_type": "markdown",
   "id": "crude-equipment",
   "metadata": {},
   "source": [
    "## ETL Data pipeline"
   ]
  },
  {
   "cell_type": "code",
   "execution_count": 1,
   "id": "small-compensation",
   "metadata": {
    "execution": {
     "iopub.execute_input": "2021-03-03T18:14:59.690770Z",
     "iopub.status.busy": "2021-03-03T18:14:59.689748Z",
     "iopub.status.idle": "2021-03-03T18:14:59.794560Z",
     "shell.execute_reply": "2021-03-03T18:14:59.794560Z",
     "shell.execute_reply.started": "2021-03-03T18:14:59.690770Z"
    }
   },
   "outputs": [],
   "source": [
    "# import dependencies \n",
    "import requests \n",
    "import pandas as pd\n",
    "import time \n",
    "from datetime import datetime\n",
    "import numpy as np \n",
    "import config "
   ]
  },
  {
   "cell_type": "markdown",
   "id": "comprehensive-mining",
   "metadata": {
    "execution": {
     "iopub.execute_input": "2021-03-03T18:32:12.935249Z",
     "iopub.status.busy": "2021-03-03T18:32:12.935249Z",
     "iopub.status.idle": "2021-03-03T18:32:12.939240Z",
     "shell.execute_reply": "2021-03-03T18:32:12.938276Z",
     "shell.execute_reply.started": "2021-03-03T18:32:12.935249Z"
    }
   },
   "source": [
    "### Extraction "
   ]
  },
  {
   "cell_type": "code",
   "execution_count": 18,
   "id": "extraordinary-donna",
   "metadata": {
    "execution": {
     "iopub.execute_input": "2021-03-03T18:40:55.764400Z",
     "iopub.status.busy": "2021-03-03T18:40:55.763432Z",
     "iopub.status.idle": "2021-03-03T18:40:55.768389Z",
     "shell.execute_reply": "2021-03-03T18:40:55.767391Z",
     "shell.execute_reply.started": "2021-03-03T18:40:55.764400Z"
    }
   },
   "outputs": [],
   "source": [
    "url = \"https://data.austintexas.gov/resource/fdj4-gpfu.json?$limit=100&$where=occ_date between '2018-01-01T00:00:00.000' and '2020-12-31T00:00:00.000'\""
   ]
  },
  {
   "cell_type": "code",
   "execution_count": 24,
   "id": "binding-azerbaijan",
   "metadata": {
    "execution": {
     "iopub.execute_input": "2021-03-03T20:20:18.584215Z",
     "iopub.status.busy": "2021-03-03T20:20:18.584215Z",
     "iopub.status.idle": "2021-03-03T20:20:18.594188Z",
     "shell.execute_reply": "2021-03-03T20:20:18.593191Z",
     "shell.execute_reply.started": "2021-03-03T20:20:18.584215Z"
    }
   },
   "outputs": [],
   "source": [
    "# optional parameter for aditonal api parameters/filters\n",
    "def extract_data(api_endpoint,parameters=None): \n",
    "    data_request = requests.get(url=api_endpoint, params=parameters)\n",
    "    \n",
    "    data_df = pd.DataFrame.from_records(data_request.json())\n",
    "    \n",
    "    return data_df"
   ]
  },
  {
   "cell_type": "code",
   "execution_count": 25,
   "id": "formal-treasure",
   "metadata": {
    "execution": {
     "iopub.execute_input": "2021-03-03T20:20:19.240203Z",
     "iopub.status.busy": "2021-03-03T20:20:19.239242Z",
     "iopub.status.idle": "2021-03-03T20:20:20.785348Z",
     "shell.execute_reply": "2021-03-03T20:20:20.784350Z",
     "shell.execute_reply.started": "2021-03-03T20:20:19.240203Z"
    }
   },
   "outputs": [],
   "source": [
    "crime_df = extract_data(url)"
   ]
  },
  {
   "cell_type": "code",
   "execution_count": 27,
   "id": "sharing-lobby",
   "metadata": {
    "execution": {
     "iopub.execute_input": "2021-03-03T20:28:02.327989Z",
     "iopub.status.busy": "2021-03-03T20:28:02.326953Z",
     "iopub.status.idle": "2021-03-03T20:28:02.354856Z",
     "shell.execute_reply": "2021-03-03T20:28:02.354856Z",
     "shell.execute_reply.started": "2021-03-03T20:28:02.327989Z"
    }
   },
   "outputs": [
    {
     "data": {
      "text/html": [
       "<div>\n",
       "<style scoped>\n",
       "    .dataframe tbody tr th:only-of-type {\n",
       "        vertical-align: middle;\n",
       "    }\n",
       "\n",
       "    .dataframe tbody tr th {\n",
       "        vertical-align: top;\n",
       "    }\n",
       "\n",
       "    .dataframe thead th {\n",
       "        text-align: right;\n",
       "    }\n",
       "</style>\n",
       "<table border=\"1\" class=\"dataframe\">\n",
       "  <thead>\n",
       "    <tr style=\"text-align: right;\">\n",
       "      <th></th>\n",
       "      <th>incident_report_number</th>\n",
       "      <th>crime_type</th>\n",
       "      <th>ucr_code</th>\n",
       "      <th>family_violence</th>\n",
       "      <th>occ_date_time</th>\n",
       "      <th>occ_date</th>\n",
       "      <th>occ_time</th>\n",
       "      <th>rep_date_time</th>\n",
       "      <th>rep_date</th>\n",
       "      <th>rep_time</th>\n",
       "      <th>...</th>\n",
       "      <th>x_coordinate</th>\n",
       "      <th>y_coordinate</th>\n",
       "      <th>latitude</th>\n",
       "      <th>longitude</th>\n",
       "      <th>location</th>\n",
       "      <th>census_tract</th>\n",
       "      <th>clearance_status</th>\n",
       "      <th>clearance_date</th>\n",
       "      <th>ucr_category</th>\n",
       "      <th>category_description</th>\n",
       "    </tr>\n",
       "  </thead>\n",
       "  <tbody>\n",
       "    <tr>\n",
       "      <th>0</th>\n",
       "      <td>201811444</td>\n",
       "      <td>FAMILY DISTURBANCE</td>\n",
       "      <td>3400</td>\n",
       "      <td>N</td>\n",
       "      <td>2018-01-01T16:58:00.000</td>\n",
       "      <td>2018-01-01T00:00:00.000</td>\n",
       "      <td>1658</td>\n",
       "      <td>2018-01-01T16:58:00.000</td>\n",
       "      <td>2018-01-01T00:00:00.000</td>\n",
       "      <td>1658</td>\n",
       "      <td>...</td>\n",
       "      <td>3093814</td>\n",
       "      <td>3093814</td>\n",
       "      <td>30.19737037</td>\n",
       "      <td>-97.80960579</td>\n",
       "      <td>{'latitude': '30.19737037', 'longitude': '-97....</td>\n",
       "      <td>NaN</td>\n",
       "      <td>NaN</td>\n",
       "      <td>NaN</td>\n",
       "      <td>NaN</td>\n",
       "      <td>NaN</td>\n",
       "    </tr>\n",
       "    <tr>\n",
       "      <th>1</th>\n",
       "      <td>20195024716</td>\n",
       "      <td>CRUELTY TO ANIMALS</td>\n",
       "      <td>2717</td>\n",
       "      <td>N</td>\n",
       "      <td>2018-01-01T14:00:00.000</td>\n",
       "      <td>2018-01-01T00:00:00.000</td>\n",
       "      <td>1400</td>\n",
       "      <td>2019-06-17T10:20:00.000</td>\n",
       "      <td>2019-06-17T00:00:00.000</td>\n",
       "      <td>1020</td>\n",
       "      <td>...</td>\n",
       "      <td>3103707</td>\n",
       "      <td>3103707</td>\n",
       "      <td>30.14716858</td>\n",
       "      <td>-97.77960983</td>\n",
       "      <td>{'latitude': '30.14716858', 'longitude': '-97....</td>\n",
       "      <td>24.28</td>\n",
       "      <td>N</td>\n",
       "      <td>2019-06-18T00:00:00.000</td>\n",
       "      <td>NaN</td>\n",
       "      <td>NaN</td>\n",
       "    </tr>\n",
       "  </tbody>\n",
       "</table>\n",
       "<p>2 rows × 27 columns</p>\n",
       "</div>"
      ],
      "text/plain": [
       "  incident_report_number          crime_type ucr_code family_violence  \\\n",
       "0              201811444  FAMILY DISTURBANCE     3400               N   \n",
       "1            20195024716  CRUELTY TO ANIMALS     2717               N   \n",
       "\n",
       "             occ_date_time                 occ_date occ_time  \\\n",
       "0  2018-01-01T16:58:00.000  2018-01-01T00:00:00.000     1658   \n",
       "1  2018-01-01T14:00:00.000  2018-01-01T00:00:00.000     1400   \n",
       "\n",
       "             rep_date_time                 rep_date rep_time  ...  \\\n",
       "0  2018-01-01T16:58:00.000  2018-01-01T00:00:00.000     1658  ...   \n",
       "1  2019-06-17T10:20:00.000  2019-06-17T00:00:00.000     1020  ...   \n",
       "\n",
       "  x_coordinate y_coordinate     latitude     longitude  \\\n",
       "0      3093814      3093814  30.19737037  -97.80960579   \n",
       "1      3103707      3103707  30.14716858  -97.77960983   \n",
       "\n",
       "                                            location census_tract  \\\n",
       "0  {'latitude': '30.19737037', 'longitude': '-97....          NaN   \n",
       "1  {'latitude': '30.14716858', 'longitude': '-97....        24.28   \n",
       "\n",
       "  clearance_status           clearance_date ucr_category category_description  \n",
       "0              NaN                      NaN          NaN                  NaN  \n",
       "1                N  2019-06-18T00:00:00.000          NaN                  NaN  \n",
       "\n",
       "[2 rows x 27 columns]"
      ]
     },
     "execution_count": 27,
     "metadata": {},
     "output_type": "execute_result"
    }
   ],
   "source": [
    "crime_df.head(2)"
   ]
  },
  {
   "cell_type": "code",
   "execution_count": 38,
   "id": "structural-venture",
   "metadata": {
    "execution": {
     "iopub.execute_input": "2021-03-03T20:48:07.948144Z",
     "iopub.status.busy": "2021-03-03T20:48:07.948144Z",
     "iopub.status.idle": "2021-03-03T20:48:07.953119Z",
     "shell.execute_reply": "2021-03-03T20:48:07.953119Z",
     "shell.execute_reply.started": "2021-03-03T20:48:07.948144Z"
    }
   },
   "outputs": [
    {
     "data": {
      "text/plain": [
       "['incident_report_number',\n",
       " 'crime_type',\n",
       " 'ucr_code',\n",
       " 'family_violence',\n",
       " 'occ_date_time',\n",
       " 'occ_date',\n",
       " 'occ_time',\n",
       " 'rep_date_time',\n",
       " 'rep_date',\n",
       " 'rep_time',\n",
       " 'location_type',\n",
       " 'address',\n",
       " 'zip_code',\n",
       " 'council_district',\n",
       " 'sector',\n",
       " 'district',\n",
       " 'pra',\n",
       " 'x_coordinate',\n",
       " 'y_coordinate',\n",
       " 'latitude',\n",
       " 'longitude',\n",
       " 'location',\n",
       " 'census_tract',\n",
       " 'clearance_status',\n",
       " 'clearance_date',\n",
       " 'ucr_category',\n",
       " 'category_description']"
      ]
     },
     "execution_count": 38,
     "metadata": {},
     "output_type": "execute_result"
    }
   ],
   "source": [
    "[i for i in crime_df.columns]"
   ]
  },
  {
   "cell_type": "markdown",
   "id": "attached-antenna",
   "metadata": {
    "execution": {
     "iopub.execute_input": "2021-03-03T18:50:15.329115Z",
     "iopub.status.busy": "2021-03-03T18:50:15.328116Z",
     "iopub.status.idle": "2021-03-03T18:50:15.332106Z",
     "shell.execute_reply": "2021-03-03T18:50:15.331273Z",
     "shell.execute_reply.started": "2021-03-03T18:50:15.329115Z"
    }
   },
   "source": [
    "### Transform   "
   ]
  },
  {
   "cell_type": "code",
   "execution_count": null,
   "id": "lesser-discussion",
   "metadata": {},
   "outputs": [],
   "source": [
    "def clean_data(data_df):\n",
    "    \n",
    "    #drop columns \n",
    "    drop_column = ['latitude', 'longitude', 'location',\n",
    "                    'occ_date', 'occ_time','rep_date','rep_time','category_description', 'address',\n",
    "                    'ucr_category', ':@computed_region_a3it_2a2z', ':@computed_region_8spj_utxs',\n",
    "                    ':@computed_region_q9nd_rr82', ':@computed_region_qwte_z96m']\n",
    "    \n",
    "    data_df.drop(drop_column, axis=1, inplace=True)\n",
    "    \n",
    "    #rename columns \n",
    "    column_names = {'ucr_code':'offense_code','occ_date_time':'ocurred_date',\n",
    "                    'rep_date_time':'reported_date','crime_type':'offense_type'}\n",
    "    \n",
    "    data_df.rename(columns = column_names)\n",
    "    \n",
    "    #drop null values \n",
    "    \n",
    "    \n",
    "    return cleaned_data_df"
   ]
  },
  {
   "cell_type": "code",
   "execution_count": null,
   "id": "desperate-burst",
   "metadata": {},
   "outputs": [],
   "source": [
    "def create_tables(cleaned_data_df):\n",
    "     \n",
    "    #offense_type_table \n",
    "    offense_df = cleaned_data_df[['offense_code','offense_type']].copy()\n",
    "    offense_df.drop_duplicates(subset='offense_code',inplace=True)\n",
    "    \n",
    "    \n",
    "    #create incident_location_table \n",
    "    location_df = cleaned_data_df['location_type'].copy()\n",
    "    location_df.to_frame()\n",
    "    location_df.drop_duplicates(inplace=True)\n",
    "    location_df['location_code'] = np.arrange(len(incident_loc_df))\n",
    "    \n",
    "    #create mapping for location_code column\n",
    "    loc_mapping_df = location_df.copy()\n",
    "    loc_mapping_df.set_index('location_type', inplace=True)\n",
    "    location_mapper = loc_mapping_df.to_dict()['location_code']\n",
    "    \n",
    "    # rearrange location_df\n",
    "    location_df = lcoation_df[['locations_code','location_type']]\n",
    "    \n",
    "    \n",
    "    #crime_incidents_table \n",
    "    #create encoded location_code column\n",
    "    crime_incident_df = cleaned_data_df.copy()\n",
    "    crime_incident_df['location_code'] = crime_incident_df['location_type'] \\\n",
    "    .apply(lambda x: location_mapper[x])\n",
    "    \n",
    "    #crate encoded offense_code colum\n",
    "    crime_incident_df['offense_code']\n",
    "    \n",
    "    #drop columns \n",
    "    \n",
    "    \n",
    "    return crime_incident_df, location_df, offense_df \n",
    "\n"
   ]
  },
  {
   "cell_type": "code",
   "execution_count": null,
   "id": "assumed-place",
   "metadata": {},
   "outputs": [],
   "source": []
  }
 ],
 "metadata": {
  "kernelspec": {
   "display_name": "PythonData",
   "language": "python",
   "name": "pythondata"
  },
  "language_info": {
   "codemirror_mode": {
    "name": "ipython",
    "version": 3
   },
   "file_extension": ".py",
   "mimetype": "text/x-python",
   "name": "python",
   "nbconvert_exporter": "python",
   "pygments_lexer": "ipython3",
   "version": "3.7.9"
  }
 },
 "nbformat": 4,
 "nbformat_minor": 5
}

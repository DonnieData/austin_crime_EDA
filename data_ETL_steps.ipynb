{
 "cells": [
  {
   "cell_type": "markdown",
   "id": "selected-muslim",
   "metadata": {},
   "source": [
    "## ETL Data pipeline"
   ]
  },
  {
   "cell_type": "code",
   "execution_count": 1,
   "id": "inner-reason",
   "metadata": {
    "execution": {
     "iopub.execute_input": "2021-03-03T18:14:59.690770Z",
     "iopub.status.busy": "2021-03-03T18:14:59.689748Z",
     "iopub.status.idle": "2021-03-03T18:14:59.794560Z",
     "shell.execute_reply": "2021-03-03T18:14:59.794560Z",
     "shell.execute_reply.started": "2021-03-03T18:14:59.690770Z"
    }
   },
   "outputs": [],
   "source": [
    "# import dependencies \n",
    "import requests \n",
    "import pandas as pd\n",
    "import time \n",
    "from datetime import datetime\n",
    "import numpy as np \n",
    "import config "
   ]
  },
  {
   "cell_type": "markdown",
   "id": "wooden-nothing",
   "metadata": {
    "execution": {
     "iopub.execute_input": "2021-03-03T18:32:12.935249Z",
     "iopub.status.busy": "2021-03-03T18:32:12.935249Z",
     "iopub.status.idle": "2021-03-03T18:32:12.939240Z",
     "shell.execute_reply": "2021-03-03T18:32:12.938276Z",
     "shell.execute_reply.started": "2021-03-03T18:32:12.935249Z"
    }
   },
   "source": [
    "### Extraction "
   ]
  },
  {
   "cell_type": "code",
   "execution_count": 18,
   "id": "chronic-wages",
   "metadata": {
    "execution": {
     "iopub.execute_input": "2021-03-03T18:40:55.764400Z",
     "iopub.status.busy": "2021-03-03T18:40:55.763432Z",
     "iopub.status.idle": "2021-03-03T18:40:55.768389Z",
     "shell.execute_reply": "2021-03-03T18:40:55.767391Z",
     "shell.execute_reply.started": "2021-03-03T18:40:55.764400Z"
    }
   },
   "outputs": [],
   "source": [
    "url = \"https://data.austintexas.gov/resource/fdj4-gpfu.json?$limit=100&$where=occ_date between '2018-01-01T00:00:00.000' and '2020-12-31T00:00:00.000'\""
   ]
  },
  {
   "cell_type": "code",
   "execution_count": 19,
   "id": "educated-implementation",
   "metadata": {
    "execution": {
     "iopub.execute_input": "2021-03-03T18:41:00.262259Z",
     "iopub.status.busy": "2021-03-03T18:41:00.262259Z",
     "iopub.status.idle": "2021-03-03T18:41:00.266222Z",
     "shell.execute_reply": "2021-03-03T18:41:00.266222Z",
     "shell.execute_reply.started": "2021-03-03T18:41:00.262259Z"
    }
   },
   "outputs": [],
   "source": [
    "# optional parameter for aditonal api parameters/filters\n",
    "def extract_data(api_endpoint,parameters=None): \n",
    "    data_request = requests.get(url=api_endpoint, params=parameters)\n",
    "    \n",
    "    data_df = pd.DataFrame.from_records(data_request.json())\n",
    "    \n",
    "    return data_df"
   ]
  },
  {
   "cell_type": "code",
   "execution_count": 20,
   "id": "rural-welding",
   "metadata": {
    "execution": {
     "iopub.execute_input": "2021-03-03T18:41:03.075479Z",
     "iopub.status.busy": "2021-03-03T18:41:03.075479Z",
     "iopub.status.idle": "2021-03-03T18:41:03.530939Z",
     "shell.execute_reply": "2021-03-03T18:41:03.529941Z",
     "shell.execute_reply.started": "2021-03-03T18:41:03.075479Z"
    }
   },
   "outputs": [],
   "source": [
    "crime_df = extract_data(url)"
   ]
  },
  {
   "cell_type": "code",
   "execution_count": 22,
   "id": "normal-serial",
   "metadata": {
    "execution": {
     "iopub.execute_input": "2021-03-03T18:41:09.169507Z",
     "iopub.status.busy": "2021-03-03T18:41:09.168510Z",
     "iopub.status.idle": "2021-03-03T18:41:09.221370Z",
     "shell.execute_reply": "2021-03-03T18:41:09.220372Z",
     "shell.execute_reply.started": "2021-03-03T18:41:09.169507Z"
    }
   },
   "outputs": [
    {
     "data": {
      "text/html": [
       "<div>\n",
       "<style scoped>\n",
       "    .dataframe tbody tr th:only-of-type {\n",
       "        vertical-align: middle;\n",
       "    }\n",
       "\n",
       "    .dataframe tbody tr th {\n",
       "        vertical-align: top;\n",
       "    }\n",
       "\n",
       "    .dataframe thead th {\n",
       "        text-align: right;\n",
       "    }\n",
       "</style>\n",
       "<table border=\"1\" class=\"dataframe\">\n",
       "  <thead>\n",
       "    <tr style=\"text-align: right;\">\n",
       "      <th></th>\n",
       "      <th>incident_report_number</th>\n",
       "      <th>crime_type</th>\n",
       "      <th>ucr_code</th>\n",
       "      <th>family_violence</th>\n",
       "      <th>occ_date_time</th>\n",
       "      <th>occ_date</th>\n",
       "      <th>occ_time</th>\n",
       "      <th>rep_date_time</th>\n",
       "      <th>rep_date</th>\n",
       "      <th>rep_time</th>\n",
       "      <th>...</th>\n",
       "      <th>x_coordinate</th>\n",
       "      <th>y_coordinate</th>\n",
       "      <th>latitude</th>\n",
       "      <th>longitude</th>\n",
       "      <th>location</th>\n",
       "      <th>census_tract</th>\n",
       "      <th>clearance_status</th>\n",
       "      <th>clearance_date</th>\n",
       "      <th>ucr_category</th>\n",
       "      <th>category_description</th>\n",
       "    </tr>\n",
       "  </thead>\n",
       "  <tbody>\n",
       "    <tr>\n",
       "      <th>0</th>\n",
       "      <td>201811444</td>\n",
       "      <td>FAMILY DISTURBANCE</td>\n",
       "      <td>3400</td>\n",
       "      <td>N</td>\n",
       "      <td>2018-01-01T16:58:00.000</td>\n",
       "      <td>2018-01-01T00:00:00.000</td>\n",
       "      <td>1658</td>\n",
       "      <td>2018-01-01T16:58:00.000</td>\n",
       "      <td>2018-01-01T00:00:00.000</td>\n",
       "      <td>1658</td>\n",
       "      <td>...</td>\n",
       "      <td>3093814</td>\n",
       "      <td>3093814</td>\n",
       "      <td>30.19737037</td>\n",
       "      <td>-97.80960579</td>\n",
       "      <td>{'latitude': '30.19737037', 'longitude': '-97....</td>\n",
       "      <td>NaN</td>\n",
       "      <td>NaN</td>\n",
       "      <td>NaN</td>\n",
       "      <td>NaN</td>\n",
       "      <td>NaN</td>\n",
       "    </tr>\n",
       "    <tr>\n",
       "      <th>1</th>\n",
       "      <td>20195024716</td>\n",
       "      <td>CRUELTY TO ANIMALS</td>\n",
       "      <td>2717</td>\n",
       "      <td>N</td>\n",
       "      <td>2018-01-01T14:00:00.000</td>\n",
       "      <td>2018-01-01T00:00:00.000</td>\n",
       "      <td>1400</td>\n",
       "      <td>2019-06-17T10:20:00.000</td>\n",
       "      <td>2019-06-17T00:00:00.000</td>\n",
       "      <td>1020</td>\n",
       "      <td>...</td>\n",
       "      <td>3103707</td>\n",
       "      <td>3103707</td>\n",
       "      <td>30.14716858</td>\n",
       "      <td>-97.77960983</td>\n",
       "      <td>{'latitude': '30.14716858', 'longitude': '-97....</td>\n",
       "      <td>24.28</td>\n",
       "      <td>N</td>\n",
       "      <td>2019-06-18T00:00:00.000</td>\n",
       "      <td>NaN</td>\n",
       "      <td>NaN</td>\n",
       "    </tr>\n",
       "    <tr>\n",
       "      <th>2</th>\n",
       "      <td>201811667</td>\n",
       "      <td>AGG ROBBERY/DEADLY WEAPON</td>\n",
       "      <td>300</td>\n",
       "      <td>N</td>\n",
       "      <td>2018-01-01T19:47:00.000</td>\n",
       "      <td>2018-01-01T00:00:00.000</td>\n",
       "      <td>1947</td>\n",
       "      <td>2018-01-01T19:47:00.000</td>\n",
       "      <td>2018-01-01T00:00:00.000</td>\n",
       "      <td>1947</td>\n",
       "      <td>...</td>\n",
       "      <td>3128703</td>\n",
       "      <td>3128703</td>\n",
       "      <td>30.36582905</td>\n",
       "      <td>-97.69453919</td>\n",
       "      <td>{'latitude': '30.36582905', 'longitude': '-97....</td>\n",
       "      <td>NaN</td>\n",
       "      <td>C</td>\n",
       "      <td>2018-01-03T00:00:00.000</td>\n",
       "      <td>120</td>\n",
       "      <td>Robbery</td>\n",
       "    </tr>\n",
       "    <tr>\n",
       "      <th>3</th>\n",
       "      <td>201810550</td>\n",
       "      <td>POSSESSION OF MARIJUANA</td>\n",
       "      <td>1803</td>\n",
       "      <td>N</td>\n",
       "      <td>2018-01-01T02:51:00.000</td>\n",
       "      <td>2018-01-01T00:00:00.000</td>\n",
       "      <td>251</td>\n",
       "      <td>2018-01-01T06:49:00.000</td>\n",
       "      <td>2018-01-01T00:00:00.000</td>\n",
       "      <td>649</td>\n",
       "      <td>...</td>\n",
       "      <td>3118581</td>\n",
       "      <td>3118581</td>\n",
       "      <td>30.19247824</td>\n",
       "      <td>-97.73132061</td>\n",
       "      <td>{'latitude': '30.19247824', 'longitude': '-97....</td>\n",
       "      <td>NaN</td>\n",
       "      <td>NaN</td>\n",
       "      <td>NaN</td>\n",
       "      <td>NaN</td>\n",
       "      <td>NaN</td>\n",
       "    </tr>\n",
       "    <tr>\n",
       "      <th>4</th>\n",
       "      <td>20205045035</td>\n",
       "      <td>IDENTITY THEFT</td>\n",
       "      <td>4022</td>\n",
       "      <td>N</td>\n",
       "      <td>2018-01-01T12:00:00.000</td>\n",
       "      <td>2018-01-01T00:00:00.000</td>\n",
       "      <td>1200</td>\n",
       "      <td>2020-11-06T10:37:00.000</td>\n",
       "      <td>2020-11-06T00:00:00.000</td>\n",
       "      <td>1037</td>\n",
       "      <td>...</td>\n",
       "      <td>3127109</td>\n",
       "      <td>3127109</td>\n",
       "      <td>30.38646396</td>\n",
       "      <td>-97.69903136</td>\n",
       "      <td>{'latitude': '30.38646396', 'longitude': '-97....</td>\n",
       "      <td>NaN</td>\n",
       "      <td>N</td>\n",
       "      <td>2020-11-06T00:00:00.000</td>\n",
       "      <td>NaN</td>\n",
       "      <td>NaN</td>\n",
       "    </tr>\n",
       "  </tbody>\n",
       "</table>\n",
       "<p>5 rows × 27 columns</p>\n",
       "</div>"
      ],
      "text/plain": [
       "  incident_report_number                 crime_type ucr_code family_violence  \\\n",
       "0              201811444         FAMILY DISTURBANCE     3400               N   \n",
       "1            20195024716         CRUELTY TO ANIMALS     2717               N   \n",
       "2              201811667  AGG ROBBERY/DEADLY WEAPON      300               N   \n",
       "3              201810550    POSSESSION OF MARIJUANA     1803               N   \n",
       "4            20205045035             IDENTITY THEFT     4022               N   \n",
       "\n",
       "             occ_date_time                 occ_date occ_time  \\\n",
       "0  2018-01-01T16:58:00.000  2018-01-01T00:00:00.000     1658   \n",
       "1  2018-01-01T14:00:00.000  2018-01-01T00:00:00.000     1400   \n",
       "2  2018-01-01T19:47:00.000  2018-01-01T00:00:00.000     1947   \n",
       "3  2018-01-01T02:51:00.000  2018-01-01T00:00:00.000      251   \n",
       "4  2018-01-01T12:00:00.000  2018-01-01T00:00:00.000     1200   \n",
       "\n",
       "             rep_date_time                 rep_date rep_time  ...  \\\n",
       "0  2018-01-01T16:58:00.000  2018-01-01T00:00:00.000     1658  ...   \n",
       "1  2019-06-17T10:20:00.000  2019-06-17T00:00:00.000     1020  ...   \n",
       "2  2018-01-01T19:47:00.000  2018-01-01T00:00:00.000     1947  ...   \n",
       "3  2018-01-01T06:49:00.000  2018-01-01T00:00:00.000      649  ...   \n",
       "4  2020-11-06T10:37:00.000  2020-11-06T00:00:00.000     1037  ...   \n",
       "\n",
       "  x_coordinate y_coordinate     latitude     longitude  \\\n",
       "0      3093814      3093814  30.19737037  -97.80960579   \n",
       "1      3103707      3103707  30.14716858  -97.77960983   \n",
       "2      3128703      3128703  30.36582905  -97.69453919   \n",
       "3      3118581      3118581  30.19247824  -97.73132061   \n",
       "4      3127109      3127109  30.38646396  -97.69903136   \n",
       "\n",
       "                                            location census_tract  \\\n",
       "0  {'latitude': '30.19737037', 'longitude': '-97....          NaN   \n",
       "1  {'latitude': '30.14716858', 'longitude': '-97....        24.28   \n",
       "2  {'latitude': '30.36582905', 'longitude': '-97....          NaN   \n",
       "3  {'latitude': '30.19247824', 'longitude': '-97....          NaN   \n",
       "4  {'latitude': '30.38646396', 'longitude': '-97....          NaN   \n",
       "\n",
       "  clearance_status           clearance_date ucr_category category_description  \n",
       "0              NaN                      NaN          NaN                  NaN  \n",
       "1                N  2019-06-18T00:00:00.000          NaN                  NaN  \n",
       "2                C  2018-01-03T00:00:00.000          120              Robbery  \n",
       "3              NaN                      NaN          NaN                  NaN  \n",
       "4                N  2020-11-06T00:00:00.000          NaN                  NaN  \n",
       "\n",
       "[5 rows x 27 columns]"
      ]
     },
     "execution_count": 22,
     "metadata": {},
     "output_type": "execute_result"
    }
   ],
   "source": [
    "crime_df.head()"
   ]
  },
  {
   "cell_type": "markdown",
   "id": "arbitrary-coordination",
   "metadata": {
    "execution": {
     "iopub.execute_input": "2021-03-03T18:50:15.329115Z",
     "iopub.status.busy": "2021-03-03T18:50:15.328116Z",
     "iopub.status.idle": "2021-03-03T18:50:15.332106Z",
     "shell.execute_reply": "2021-03-03T18:50:15.331273Z",
     "shell.execute_reply.started": "2021-03-03T18:50:15.329115Z"
    }
   },
   "source": [
    "### Transform   "
   ]
  },
  {
   "cell_type": "code",
   "execution_count": null,
   "id": "clinical-insured",
   "metadata": {},
   "outputs": [],
   "source": [
    "def clean_data():\n",
    "    \n",
    "    \n",
    "    return crime_df"
   ]
  },
  {
   "cell_type": "code",
   "execution_count": null,
   "id": "temporal-istanbul",
   "metadata": {},
   "outputs": [],
   "source": [
    "def create_tables(cleaned_data_df):\n",
    "     \n",
    "    #offense_type_table \n",
    "    offense_type_df = cleaned_data_df[['offense_code','offense_type']].copy()\n",
    "    \n",
    "    \n",
    "    #create incident_location_table \n",
    "    location_df = cleaned_data_df['location_type'].copy()\n",
    "    location_df.to_frame()\n",
    "    location_df.drop_duplicates(inplace=True)\n",
    "    location_df['location_code'] = np.arrange(len(incident_loc_df))\n",
    "    \n",
    "    #create mapping for location_code column\n",
    "    loc_mapping_df = location_df.copy()\n",
    "    loc_mapping_df.set_index('location_type', inplace=True)\n",
    "    location_mapper = loc_mapping_df.to_dict()['location_code']\n",
    "    \n",
    "    # rearrange location_df\n",
    "    location_df = lcoation_df[['locations_code','location_type']]\n",
    "    \n",
    "    \n",
    "    #crime_incidents_table \n",
    "    crime_incident_df = crime_df\n",
    "    \n",
    "    \n",
    "    return \n",
    "\n"
   ]
  }
 ],
 "metadata": {
  "kernelspec": {
   "display_name": "PythonData",
   "language": "python",
   "name": "pythondata"
  },
  "language_info": {
   "codemirror_mode": {
    "name": "ipython",
    "version": 3
   },
   "file_extension": ".py",
   "mimetype": "text/x-python",
   "name": "python",
   "nbconvert_exporter": "python",
   "pygments_lexer": "ipython3",
   "version": "3.7.9"
  }
 },
 "nbformat": 4,
 "nbformat_minor": 5
}

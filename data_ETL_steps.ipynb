{
 "cells": [
  {
   "cell_type": "markdown",
   "id": "varying-chase",
   "metadata": {},
   "source": [
    "## ETL Data pipeline"
   ]
  },
  {
   "cell_type": "code",
   "execution_count": 1,
   "id": "expected-table",
   "metadata": {
    "execution": {
     "iopub.execute_input": "2021-03-03T18:14:59.690770Z",
     "iopub.status.busy": "2021-03-03T18:14:59.689748Z",
     "iopub.status.idle": "2021-03-03T18:14:59.794560Z",
     "shell.execute_reply": "2021-03-03T18:14:59.794560Z",
     "shell.execute_reply.started": "2021-03-03T18:14:59.690770Z"
    }
   },
   "outputs": [],
   "source": [
    "# import dependencies \n",
    "import requests \n",
    "import pandas as pd\n",
    "import time \n",
    "from datetime import datetime\n",
    "import numpy as np \n",
    "import config "
   ]
  },
  {
   "cell_type": "markdown",
   "id": "crazy-surname",
   "metadata": {
    "execution": {
     "iopub.execute_input": "2021-03-03T18:32:12.935249Z",
     "iopub.status.busy": "2021-03-03T18:32:12.935249Z",
     "iopub.status.idle": "2021-03-03T18:32:12.939240Z",
     "shell.execute_reply": "2021-03-03T18:32:12.938276Z",
     "shell.execute_reply.started": "2021-03-03T18:32:12.935249Z"
    }
   },
   "source": [
    "### Extraction "
   ]
  },
  {
   "cell_type": "code",
   "execution_count": 18,
   "id": "suffering-shower",
   "metadata": {
    "execution": {
     "iopub.execute_input": "2021-03-03T18:40:55.764400Z",
     "iopub.status.busy": "2021-03-03T18:40:55.763432Z",
     "iopub.status.idle": "2021-03-03T18:40:55.768389Z",
     "shell.execute_reply": "2021-03-03T18:40:55.767391Z",
     "shell.execute_reply.started": "2021-03-03T18:40:55.764400Z"
    }
   },
   "outputs": [],
   "source": [
    "url = \"https://data.austintexas.gov/resource/fdj4-gpfu.json?$limit=100&$where=occ_date between '2018-01-01T00:00:00.000' and '2020-12-31T00:00:00.000'\""
   ]
  },
  {
   "cell_type": "code",
   "execution_count": 24,
   "id": "comparative-calculator",
   "metadata": {
    "execution": {
     "iopub.execute_input": "2021-03-03T20:20:18.584215Z",
     "iopub.status.busy": "2021-03-03T20:20:18.584215Z",
     "iopub.status.idle": "2021-03-03T20:20:18.594188Z",
     "shell.execute_reply": "2021-03-03T20:20:18.593191Z",
     "shell.execute_reply.started": "2021-03-03T20:20:18.584215Z"
    }
   },
   "outputs": [],
   "source": [
    "# optional parameter for aditonal api parameters/filters\n",
    "def extract_data(api_endpoint,parameters=None): \n",
    "    data_request = requests.get(url=api_endpoint, params=parameters)\n",
    "    \n",
    "    data_df = pd.DataFrame.from_records(data_request.json())\n",
    "    \n",
    "    return data_df\n",
    "\n",
    "# print no of rows retrieved "
   ]
  },
  {
   "cell_type": "code",
   "execution_count": 25,
   "id": "vertical-sleeping",
   "metadata": {
    "execution": {
     "iopub.execute_input": "2021-03-03T20:20:19.240203Z",
     "iopub.status.busy": "2021-03-03T20:20:19.239242Z",
     "iopub.status.idle": "2021-03-03T20:20:20.785348Z",
     "shell.execute_reply": "2021-03-03T20:20:20.784350Z",
     "shell.execute_reply.started": "2021-03-03T20:20:19.240203Z"
    }
   },
   "outputs": [],
   "source": [
    "crime_df = extract_data(url)"
   ]
  },
  {
   "cell_type": "code",
   "execution_count": 350,
   "id": "weird-antibody",
   "metadata": {
    "execution": {
     "iopub.execute_input": "2021-03-04T22:15:48.583258Z",
     "iopub.status.busy": "2021-03-04T22:15:48.582260Z",
     "iopub.status.idle": "2021-03-04T22:15:48.589242Z",
     "shell.execute_reply": "2021-03-04T22:15:48.588244Z",
     "shell.execute_reply.started": "2021-03-04T22:15:48.583258Z"
    }
   },
   "outputs": [],
   "source": [
    "test_df = crime_df.copy()"
   ]
  },
  {
   "cell_type": "markdown",
   "id": "labeled-repository",
   "metadata": {
    "execution": {
     "iopub.execute_input": "2021-03-03T18:50:15.329115Z",
     "iopub.status.busy": "2021-03-03T18:50:15.328116Z",
     "iopub.status.idle": "2021-03-03T18:50:15.332106Z",
     "shell.execute_reply": "2021-03-03T18:50:15.331273Z",
     "shell.execute_reply.started": "2021-03-03T18:50:15.329115Z"
    }
   },
   "source": [
    "### Transform   "
   ]
  },
  {
   "cell_type": "code",
   "execution_count": 300,
   "id": "cooked-candy",
   "metadata": {
    "execution": {
     "iopub.execute_input": "2021-03-04T20:47:49.487535Z",
     "iopub.status.busy": "2021-03-04T20:47:49.487535Z",
     "iopub.status.idle": "2021-03-04T20:47:49.500498Z",
     "shell.execute_reply": "2021-03-04T20:47:49.499502Z",
     "shell.execute_reply.started": "2021-03-04T20:47:49.487535Z"
    }
   },
   "outputs": [],
   "source": [
    "def clean_data(data_df):\n",
    "    \n",
    "    #drop columns \n",
    "    drop_columns = ['latitude', 'x_coordinate', 'y_coordinate,\n",
    "                    'occ_date', 'occ_time','rep_date','rep_time','category_description', 'address',\n",
    "                    'ucr_category']\n",
    "    \n",
    "    data_df.drop(drop_column, axis=1, inplace=True)\n",
    "    \n",
    "    #drop null values \n",
    "    def data_drop(data_df):\n",
    "        # drop rows with missing data\n",
    "        column_checklist = ['incident_report_number', 'crime_type', 'ucr_code', 'family_violence',\n",
    "                       'occ_date_time', 'rep_date_time', 'location_type', 'zip_code',\n",
    "                         'longitude', 'location','district']\n",
    "        row_counter = 0\n",
    "        for i in column_list:\n",
    "            if data_df[i].isnull().sum() > 0:\n",
    "                row_counter += data_df[i].isnull().sum()\n",
    "                data_df.drop(data_df[data_df[i].isnull()].index, inplace=True)\n",
    "        print(pd.DataFrame({'Total Rows Dropped':{0:row_counter}}))\n",
    "        \n",
    "    \n",
    "    #output frame of ammount being dropped\n",
    "          \n",
    "    #fill in clearance data with placeholders \n",
    "    data_df['clearance_date'].fillna(values='0000-00-00T00:00:00.000',inplace=True)\n",
    "    data_df['clearance_status'].fillna(values='N', inplace=True)\n",
    "        \n",
    "    \n",
    "    #rename columns \n",
    "    column_names = {'ucr_code':'offense_code','occ_date_time':'ocurred_date',\n",
    "                    'rep_date_time':'reported_date','crime_type':'offense_type'}\n",
    "    \n",
    "    data_df.rename(columns=column_names, inplace=True)\n",
    "    \n",
    "    \n",
    "    \n",
    "    return cleaned_data_df"
   ]
  },
  {
   "cell_type": "code",
   "execution_count": null,
   "id": "surprising-parks",
   "metadata": {},
   "outputs": [],
   "source": [
    "def create_tables(cleaned_data_df):\n",
    "     \n",
    "    #offense_type_table \n",
    "    offense_df = cleaned_data_df[['offense_code','offense_type']].copy()\n",
    "    offense_df.drop_duplicates(subset='offense_code',inplace=True)\n",
    "    \n",
    "    #create incident_location_table \n",
    "    location_df = cleaned_data_df['location_type'].copy()\n",
    "    location_df.to_frame()\n",
    "    location_df.drop_duplicates(inplace=True)\n",
    "    location_df['location_code'] = np.arrange(len(incident_loc_df))\n",
    "    \n",
    "    #create mapping for location_code column\n",
    "    loc_mapping_df = location_df.copy().set_index('location_type', inplace=True)\n",
    "    location_mapper = loc_mapping_df.to_dict()['location_code']\n",
    "    \n",
    "    # rearrange location_df\n",
    "    location_df = lcoation_df[['locations_code','location_type']]\n",
    "    \n",
    "    #crime_incidents_table \n",
    "    #create encoded location_code column\n",
    "    crime_incident_df = cleaned_data_df.copy()\n",
    "    crime_incident_df['location_code'] = crime_incident_df['location_type'] \\\n",
    "    .apply(lambda x: location_mapper[x])\n",
    "    \n",
    "    #drop columns \n",
    "    drop_column_2 = ['offense_type','offense_code']\n",
    "    crime_incident_df.drop(drop_column_2, inplace=True)\n",
    "    \n",
    "    \n",
    "    return crime_incident_df, location_df, offense_df \n"
   ]
  },
  {
   "cell_type": "code",
   "execution_count": null,
   "id": "orange-appliance",
   "metadata": {},
   "outputs": [],
   "source": []
  }
 ],
 "metadata": {
  "kernelspec": {
   "display_name": "PythonData",
   "language": "python",
   "name": "pythondata"
  },
  "language_info": {
   "codemirror_mode": {
    "name": "ipython",
    "version": 3
   },
   "file_extension": ".py",
   "mimetype": "text/x-python",
   "name": "python",
   "nbconvert_exporter": "python",
   "pygments_lexer": "ipython3",
   "version": "3.7.9"
  }
 },
 "nbformat": 4,
 "nbformat_minor": 5
}

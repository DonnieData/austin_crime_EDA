{
 "cells": [
  {
   "cell_type": "markdown",
   "id": "nervous-joint",
   "metadata": {},
   "source": [
    "## ETL Data pipeline"
   ]
  },
  {
   "cell_type": "code",
   "execution_count": 1,
   "id": "imperial-parish",
   "metadata": {
    "execution": {
     "iopub.execute_input": "2021-03-03T18:14:59.690770Z",
     "iopub.status.busy": "2021-03-03T18:14:59.689748Z",
     "iopub.status.idle": "2021-03-03T18:14:59.794560Z",
     "shell.execute_reply": "2021-03-03T18:14:59.794560Z",
     "shell.execute_reply.started": "2021-03-03T18:14:59.690770Z"
    }
   },
   "outputs": [],
   "source": [
    "# import dependencies \n",
    "import requests \n",
    "import pandas as pd\n",
    "import time \n",
    "from datetime import datetime\n",
    "import numpy as np \n",
    "import config "
   ]
  },
  {
   "cell_type": "markdown",
   "id": "heated-vault",
   "metadata": {
    "execution": {
     "iopub.execute_input": "2021-03-03T18:32:12.935249Z",
     "iopub.status.busy": "2021-03-03T18:32:12.935249Z",
     "iopub.status.idle": "2021-03-03T18:32:12.939240Z",
     "shell.execute_reply": "2021-03-03T18:32:12.938276Z",
     "shell.execute_reply.started": "2021-03-03T18:32:12.935249Z"
    }
   },
   "source": [
    "### Extraction "
   ]
  },
  {
   "cell_type": "code",
   "execution_count": 18,
   "id": "impressed-mambo",
   "metadata": {
    "execution": {
     "iopub.execute_input": "2021-03-03T18:40:55.764400Z",
     "iopub.status.busy": "2021-03-03T18:40:55.763432Z",
     "iopub.status.idle": "2021-03-03T18:40:55.768389Z",
     "shell.execute_reply": "2021-03-03T18:40:55.767391Z",
     "shell.execute_reply.started": "2021-03-03T18:40:55.764400Z"
    }
   },
   "outputs": [],
   "source": [
    "url = \"https://data.austintexas.gov/resource/fdj4-gpfu.json?$limit=100&$where=occ_date between '2018-01-01T00:00:00.000' and '2020-12-31T00:00:00.000'\""
   ]
  },
  {
   "cell_type": "code",
   "execution_count": 24,
   "id": "recorded-hammer",
   "metadata": {
    "execution": {
     "iopub.execute_input": "2021-03-03T20:20:18.584215Z",
     "iopub.status.busy": "2021-03-03T20:20:18.584215Z",
     "iopub.status.idle": "2021-03-03T20:20:18.594188Z",
     "shell.execute_reply": "2021-03-03T20:20:18.593191Z",
     "shell.execute_reply.started": "2021-03-03T20:20:18.584215Z"
    }
   },
   "outputs": [],
   "source": [
    "# optional parameter for aditonal api parameters/filters\n",
    "def extract_data(api_endpoint,parameters=None): \n",
    "    data_request = requests.get(url=api_endpoint, params=parameters)\n",
    "    \n",
    "    data_df = pd.DataFrame.from_records(data_request.json())\n",
    "    \n",
    "    return data_df\n",
    "\n",
    "# print no of rows retrieved "
   ]
  },
  {
   "cell_type": "code",
   "execution_count": 25,
   "id": "powerful-performer",
   "metadata": {
    "execution": {
     "iopub.execute_input": "2021-03-03T20:20:19.240203Z",
     "iopub.status.busy": "2021-03-03T20:20:19.239242Z",
     "iopub.status.idle": "2021-03-03T20:20:20.785348Z",
     "shell.execute_reply": "2021-03-03T20:20:20.784350Z",
     "shell.execute_reply.started": "2021-03-03T20:20:19.240203Z"
    }
   },
   "outputs": [],
   "source": [
    "crime_df = extract_data(url)"
   ]
  },
  {
   "cell_type": "code",
   "execution_count": 27,
   "id": "hydraulic-closing",
   "metadata": {
    "execution": {
     "iopub.execute_input": "2021-03-03T20:28:02.327989Z",
     "iopub.status.busy": "2021-03-03T20:28:02.326953Z",
     "iopub.status.idle": "2021-03-03T20:28:02.354856Z",
     "shell.execute_reply": "2021-03-03T20:28:02.354856Z",
     "shell.execute_reply.started": "2021-03-03T20:28:02.327989Z"
    }
   },
   "outputs": [
    {
     "data": {
      "text/html": [
       "<div>\n",
       "<style scoped>\n",
       "    .dataframe tbody tr th:only-of-type {\n",
       "        vertical-align: middle;\n",
       "    }\n",
       "\n",
       "    .dataframe tbody tr th {\n",
       "        vertical-align: top;\n",
       "    }\n",
       "\n",
       "    .dataframe thead th {\n",
       "        text-align: right;\n",
       "    }\n",
       "</style>\n",
       "<table border=\"1\" class=\"dataframe\">\n",
       "  <thead>\n",
       "    <tr style=\"text-align: right;\">\n",
       "      <th></th>\n",
       "      <th>incident_report_number</th>\n",
       "      <th>crime_type</th>\n",
       "      <th>ucr_code</th>\n",
       "      <th>family_violence</th>\n",
       "      <th>occ_date_time</th>\n",
       "      <th>occ_date</th>\n",
       "      <th>occ_time</th>\n",
       "      <th>rep_date_time</th>\n",
       "      <th>rep_date</th>\n",
       "      <th>rep_time</th>\n",
       "      <th>...</th>\n",
       "      <th>x_coordinate</th>\n",
       "      <th>y_coordinate</th>\n",
       "      <th>latitude</th>\n",
       "      <th>longitude</th>\n",
       "      <th>location</th>\n",
       "      <th>census_tract</th>\n",
       "      <th>clearance_status</th>\n",
       "      <th>clearance_date</th>\n",
       "      <th>ucr_category</th>\n",
       "      <th>category_description</th>\n",
       "    </tr>\n",
       "  </thead>\n",
       "  <tbody>\n",
       "    <tr>\n",
       "      <th>0</th>\n",
       "      <td>201811444</td>\n",
       "      <td>FAMILY DISTURBANCE</td>\n",
       "      <td>3400</td>\n",
       "      <td>N</td>\n",
       "      <td>2018-01-01T16:58:00.000</td>\n",
       "      <td>2018-01-01T00:00:00.000</td>\n",
       "      <td>1658</td>\n",
       "      <td>2018-01-01T16:58:00.000</td>\n",
       "      <td>2018-01-01T00:00:00.000</td>\n",
       "      <td>1658</td>\n",
       "      <td>...</td>\n",
       "      <td>3093814</td>\n",
       "      <td>3093814</td>\n",
       "      <td>30.19737037</td>\n",
       "      <td>-97.80960579</td>\n",
       "      <td>{'latitude': '30.19737037', 'longitude': '-97....</td>\n",
       "      <td>NaN</td>\n",
       "      <td>NaN</td>\n",
       "      <td>NaN</td>\n",
       "      <td>NaN</td>\n",
       "      <td>NaN</td>\n",
       "    </tr>\n",
       "    <tr>\n",
       "      <th>1</th>\n",
       "      <td>20195024716</td>\n",
       "      <td>CRUELTY TO ANIMALS</td>\n",
       "      <td>2717</td>\n",
       "      <td>N</td>\n",
       "      <td>2018-01-01T14:00:00.000</td>\n",
       "      <td>2018-01-01T00:00:00.000</td>\n",
       "      <td>1400</td>\n",
       "      <td>2019-06-17T10:20:00.000</td>\n",
       "      <td>2019-06-17T00:00:00.000</td>\n",
       "      <td>1020</td>\n",
       "      <td>...</td>\n",
       "      <td>3103707</td>\n",
       "      <td>3103707</td>\n",
       "      <td>30.14716858</td>\n",
       "      <td>-97.77960983</td>\n",
       "      <td>{'latitude': '30.14716858', 'longitude': '-97....</td>\n",
       "      <td>24.28</td>\n",
       "      <td>N</td>\n",
       "      <td>2019-06-18T00:00:00.000</td>\n",
       "      <td>NaN</td>\n",
       "      <td>NaN</td>\n",
       "    </tr>\n",
       "  </tbody>\n",
       "</table>\n",
       "<p>2 rows × 27 columns</p>\n",
       "</div>"
      ],
      "text/plain": [
       "  incident_report_number          crime_type ucr_code family_violence  \\\n",
       "0              201811444  FAMILY DISTURBANCE     3400               N   \n",
       "1            20195024716  CRUELTY TO ANIMALS     2717               N   \n",
       "\n",
       "             occ_date_time                 occ_date occ_time  \\\n",
       "0  2018-01-01T16:58:00.000  2018-01-01T00:00:00.000     1658   \n",
       "1  2018-01-01T14:00:00.000  2018-01-01T00:00:00.000     1400   \n",
       "\n",
       "             rep_date_time                 rep_date rep_time  ...  \\\n",
       "0  2018-01-01T16:58:00.000  2018-01-01T00:00:00.000     1658  ...   \n",
       "1  2019-06-17T10:20:00.000  2019-06-17T00:00:00.000     1020  ...   \n",
       "\n",
       "  x_coordinate y_coordinate     latitude     longitude  \\\n",
       "0      3093814      3093814  30.19737037  -97.80960579   \n",
       "1      3103707      3103707  30.14716858  -97.77960983   \n",
       "\n",
       "                                            location census_tract  \\\n",
       "0  {'latitude': '30.19737037', 'longitude': '-97....          NaN   \n",
       "1  {'latitude': '30.14716858', 'longitude': '-97....        24.28   \n",
       "\n",
       "  clearance_status           clearance_date ucr_category category_description  \n",
       "0              NaN                      NaN          NaN                  NaN  \n",
       "1                N  2019-06-18T00:00:00.000          NaN                  NaN  \n",
       "\n",
       "[2 rows x 27 columns]"
      ]
     },
     "execution_count": 27,
     "metadata": {},
     "output_type": "execute_result"
    }
   ],
   "source": [
    "crime_df.head(2)"
   ]
  },
  {
   "cell_type": "code",
   "execution_count": 41,
   "id": "single-repeat",
   "metadata": {
    "execution": {
     "iopub.execute_input": "2021-03-04T16:28:17.294408Z",
     "iopub.status.busy": "2021-03-04T16:28:17.293411Z",
     "iopub.status.idle": "2021-03-04T16:28:17.300394Z",
     "shell.execute_reply": "2021-03-04T16:28:17.300394Z",
     "shell.execute_reply.started": "2021-03-04T16:28:17.294408Z"
    }
   },
   "outputs": [
    {
     "data": {
      "text/plain": [
       "Index(['incident_report_number', 'crime_type', 'ucr_code', 'family_violence',\n",
       "       'occ_date_time', 'occ_date', 'occ_time', 'rep_date_time', 'rep_date',\n",
       "       'rep_time', 'location_type', 'address', 'zip_code', 'council_district',\n",
       "       'sector', 'district', 'pra', 'x_coordinate', 'y_coordinate', 'latitude',\n",
       "       'longitude', 'location', 'census_tract', 'clearance_status',\n",
       "       'clearance_date', 'ucr_category', 'category_description'],\n",
       "      dtype='object')"
      ]
     },
     "execution_count": 41,
     "metadata": {},
     "output_type": "execute_result"
    }
   ],
   "source": [
    "crime_df.columns"
   ]
  },
  {
   "cell_type": "code",
   "execution_count": 285,
   "id": "convertible-proposal",
   "metadata": {
    "execution": {
     "iopub.execute_input": "2021-03-04T19:58:50.232413Z",
     "iopub.status.busy": "2021-03-04T19:58:50.232413Z",
     "iopub.status.idle": "2021-03-04T19:58:50.241383Z",
     "shell.execute_reply": "2021-03-04T19:58:50.240439Z",
     "shell.execute_reply.started": "2021-03-04T19:58:50.232413Z"
    }
   },
   "outputs": [
    {
     "data": {
      "text/plain": [
       "incident_report_number     0\n",
       "crime_type                 0\n",
       "ucr_code                   0\n",
       "family_violence            0\n",
       "occ_date_time              0\n",
       "rep_date_time              0\n",
       "location_type              1\n",
       "zip_code                   1\n",
       "district                   1\n",
       "x_coordinate               0\n",
       "y_coordinate               0\n",
       "clearance_status          11\n",
       "clearance_date            11\n",
       "dtype: int64"
      ]
     },
     "execution_count": 285,
     "metadata": {},
     "output_type": "execute_result"
    }
   ],
   "source": [
    "test_df = crime_df.copy()\n",
    "drop_columns = ['latitude', 'longitude', 'location',\n",
    "                    'occ_date', 'occ_time','rep_date','rep_time','category_description', 'address',\n",
    "                    'ucr_category','pra','sector','census_tract','council_district']\n",
    "\n",
    "test_df.drop(drop_columns, axis=1, inplace=True)\n",
    "test_df.isnull().sum()"
   ]
  },
  {
   "cell_type": "code",
   "execution_count": 164,
   "id": "popular-wonder",
   "metadata": {
    "execution": {
     "iopub.execute_input": "2021-03-04T18:54:34.901717Z",
     "iopub.status.busy": "2021-03-04T18:54:34.901717Z",
     "iopub.status.idle": "2021-03-04T18:54:34.907700Z",
     "shell.execute_reply": "2021-03-04T18:54:34.906703Z",
     "shell.execute_reply.started": "2021-03-04T18:54:34.901717Z"
    },
    "jupyter": {
     "source_hidden": true
    }
   },
   "outputs": [],
   "source": [
    "def drop_f(data_df):\n",
    "    column_checklist = ['incident_report_number', 'crime_type', 'ucr_code', 'family_violence',\n",
    "       'occ_date_time', 'rep_date_time', 'location_type', 'zip_code','x_coordinate', 'y_coordinate']\n",
    "    for i in column_list:\n",
    "        if data_df[i].isnull().sum() > 0:\n",
    "            data_df.drop(data_df[data_df[i].isnull()].index, inplace=True)\n",
    "    return data_df"
   ]
  },
  {
   "cell_type": "code",
   "execution_count": 284,
   "id": "patient-error",
   "metadata": {
    "execution": {
     "iopub.execute_input": "2021-03-04T19:58:48.507568Z",
     "iopub.status.busy": "2021-03-04T19:58:48.507568Z",
     "iopub.status.idle": "2021-03-04T19:58:48.514552Z",
     "shell.execute_reply": "2021-03-04T19:58:48.514552Z",
     "shell.execute_reply.started": "2021-03-04T19:58:48.507568Z"
    }
   },
   "outputs": [],
   "source": [
    "def data_drop(data_df):\n",
    "        # drop rows where crucial data is necesary \n",
    "    column_checklist = ['incident_report_number', 'crime_type', 'ucr_code', 'family_violence',\n",
    "                       'occ_date_time', 'rep_date_time', 'location_type', 'zip_code',\n",
    "                        'x_coordinate', 'y_coordinate']\n",
    "    row_counter = 0\n",
    "    for i in column_list:\n",
    "        if data_df[i].isnull().sum() > 0:\n",
    "            row_counter += data_df[i].isnull().sum()\n",
    "            data_df.drop(data_df[data_df[i].isnull()].index, inplace=True)\n",
    "    print(pd.DataFrame({'Total Rows Dropped':{0:row_counter}}))\n",
    "    return data_df"
   ]
  },
  {
   "cell_type": "code",
   "execution_count": 286,
   "id": "occasional-hamilton",
   "metadata": {
    "execution": {
     "iopub.execute_input": "2021-03-04T19:58:52.975285Z",
     "iopub.status.busy": "2021-03-04T19:58:52.974251Z",
     "iopub.status.idle": "2021-03-04T19:58:52.996776Z",
     "shell.execute_reply": "2021-03-04T19:58:52.996776Z",
     "shell.execute_reply.started": "2021-03-04T19:58:52.975285Z"
    }
   },
   "outputs": [
    {
     "name": "stdout",
     "output_type": "stream",
     "text": [
      "   Total Rows Dropped\n",
      "0                   2\n"
     ]
    },
    {
     "data": {
      "text/html": [
       "<div>\n",
       "<style scoped>\n",
       "    .dataframe tbody tr th:only-of-type {\n",
       "        vertical-align: middle;\n",
       "    }\n",
       "\n",
       "    .dataframe tbody tr th {\n",
       "        vertical-align: top;\n",
       "    }\n",
       "\n",
       "    .dataframe thead th {\n",
       "        text-align: right;\n",
       "    }\n",
       "</style>\n",
       "<table border=\"1\" class=\"dataframe\">\n",
       "  <thead>\n",
       "    <tr style=\"text-align: right;\">\n",
       "      <th></th>\n",
       "      <th>incident_report_number</th>\n",
       "      <th>crime_type</th>\n",
       "      <th>ucr_code</th>\n",
       "      <th>family_violence</th>\n",
       "      <th>occ_date_time</th>\n",
       "      <th>rep_date_time</th>\n",
       "      <th>location_type</th>\n",
       "      <th>zip_code</th>\n",
       "      <th>district</th>\n",
       "      <th>x_coordinate</th>\n",
       "      <th>y_coordinate</th>\n",
       "      <th>clearance_status</th>\n",
       "      <th>clearance_date</th>\n",
       "    </tr>\n",
       "  </thead>\n",
       "  <tbody>\n",
       "    <tr>\n",
       "      <th>0</th>\n",
       "      <td>201811444</td>\n",
       "      <td>FAMILY DISTURBANCE</td>\n",
       "      <td>3400</td>\n",
       "      <td>N</td>\n",
       "      <td>2018-01-01T16:58:00.000</td>\n",
       "      <td>2018-01-01T16:58:00.000</td>\n",
       "      <td>STREETS / HWY / ROAD / ALLEY</td>\n",
       "      <td>78745</td>\n",
       "      <td>1</td>\n",
       "      <td>3093814</td>\n",
       "      <td>3093814</td>\n",
       "      <td>NaN</td>\n",
       "      <td>NaN</td>\n",
       "    </tr>\n",
       "    <tr>\n",
       "      <th>1</th>\n",
       "      <td>20195024716</td>\n",
       "      <td>CRUELTY TO ANIMALS</td>\n",
       "      <td>2717</td>\n",
       "      <td>N</td>\n",
       "      <td>2018-01-01T14:00:00.000</td>\n",
       "      <td>2019-06-17T10:20:00.000</td>\n",
       "      <td>RESIDENCE / HOME</td>\n",
       "      <td>78747</td>\n",
       "      <td>7</td>\n",
       "      <td>3103707</td>\n",
       "      <td>3103707</td>\n",
       "      <td>N</td>\n",
       "      <td>2019-06-18T00:00:00.000</td>\n",
       "    </tr>\n",
       "    <tr>\n",
       "      <th>2</th>\n",
       "      <td>201811667</td>\n",
       "      <td>AGG ROBBERY/DEADLY WEAPON</td>\n",
       "      <td>300</td>\n",
       "      <td>N</td>\n",
       "      <td>2018-01-01T19:47:00.000</td>\n",
       "      <td>2018-01-01T19:47:00.000</td>\n",
       "      <td>DEPARTMENT / DISCOUNT STORE</td>\n",
       "      <td>78753</td>\n",
       "      <td>1</td>\n",
       "      <td>3128703</td>\n",
       "      <td>3128703</td>\n",
       "      <td>C</td>\n",
       "      <td>2018-01-03T00:00:00.000</td>\n",
       "    </tr>\n",
       "    <tr>\n",
       "      <th>3</th>\n",
       "      <td>201810550</td>\n",
       "      <td>POSSESSION OF MARIJUANA</td>\n",
       "      <td>1803</td>\n",
       "      <td>N</td>\n",
       "      <td>2018-01-01T02:51:00.000</td>\n",
       "      <td>2018-01-01T06:49:00.000</td>\n",
       "      <td>STREETS / HWY / ROAD / ALLEY</td>\n",
       "      <td>78744</td>\n",
       "      <td>6</td>\n",
       "      <td>3118581</td>\n",
       "      <td>3118581</td>\n",
       "      <td>NaN</td>\n",
       "      <td>NaN</td>\n",
       "    </tr>\n",
       "    <tr>\n",
       "      <th>4</th>\n",
       "      <td>20205045035</td>\n",
       "      <td>IDENTITY THEFT</td>\n",
       "      <td>4022</td>\n",
       "      <td>N</td>\n",
       "      <td>2018-01-01T12:00:00.000</td>\n",
       "      <td>2020-11-06T10:37:00.000</td>\n",
       "      <td>RESIDENCE / HOME</td>\n",
       "      <td>78758</td>\n",
       "      <td>4</td>\n",
       "      <td>3127109</td>\n",
       "      <td>3127109</td>\n",
       "      <td>N</td>\n",
       "      <td>2020-11-06T00:00:00.000</td>\n",
       "    </tr>\n",
       "    <tr>\n",
       "      <th>...</th>\n",
       "      <td>...</td>\n",
       "      <td>...</td>\n",
       "      <td>...</td>\n",
       "      <td>...</td>\n",
       "      <td>...</td>\n",
       "      <td>...</td>\n",
       "      <td>...</td>\n",
       "      <td>...</td>\n",
       "      <td>...</td>\n",
       "      <td>...</td>\n",
       "      <td>...</td>\n",
       "      <td>...</td>\n",
       "      <td>...</td>\n",
       "    </tr>\n",
       "    <tr>\n",
       "      <th>95</th>\n",
       "      <td>201811617</td>\n",
       "      <td>PUBLIC INTOXICATION</td>\n",
       "      <td>2300</td>\n",
       "      <td>N</td>\n",
       "      <td>2018-01-01T19:45:00.000</td>\n",
       "      <td>2018-01-01T20:59:00.000</td>\n",
       "      <td>GAS / SERVICE STATIONS</td>\n",
       "      <td>78758</td>\n",
       "      <td>4</td>\n",
       "      <td>3128613</td>\n",
       "      <td>3128613</td>\n",
       "      <td>C</td>\n",
       "      <td>2018-01-01T00:00:00.000</td>\n",
       "    </tr>\n",
       "    <tr>\n",
       "      <th>96</th>\n",
       "      <td>201810723</td>\n",
       "      <td>ASSAULT BY CONTACT FAM/DATING</td>\n",
       "      <td>902</td>\n",
       "      <td>Y</td>\n",
       "      <td>2018-01-01T03:56:00.000</td>\n",
       "      <td>2018-01-01T04:45:00.000</td>\n",
       "      <td>STREETS / HWY / ROAD / ALLEY</td>\n",
       "      <td>78729</td>\n",
       "      <td>4</td>\n",
       "      <td>3099634</td>\n",
       "      <td>3099634</td>\n",
       "      <td>N</td>\n",
       "      <td>2018-01-04T00:00:00.000</td>\n",
       "    </tr>\n",
       "    <tr>\n",
       "      <th>97</th>\n",
       "      <td>201820726</td>\n",
       "      <td>THEFT OF TRAILER</td>\n",
       "      <td>613</td>\n",
       "      <td>N</td>\n",
       "      <td>2018-01-01T12:00:00.000</td>\n",
       "      <td>2018-01-02T17:00:00.000</td>\n",
       "      <td>STREETS / HWY / ROAD / ALLEY</td>\n",
       "      <td>78751</td>\n",
       "      <td>5</td>\n",
       "      <td>3121407</td>\n",
       "      <td>3121407</td>\n",
       "      <td>N</td>\n",
       "      <td>2018-01-05T00:00:00.000</td>\n",
       "    </tr>\n",
       "    <tr>\n",
       "      <th>98</th>\n",
       "      <td>201811794</td>\n",
       "      <td>ASSAULT W/INJURY-FAM/DATE VIOL</td>\n",
       "      <td>900</td>\n",
       "      <td>N</td>\n",
       "      <td>2018-01-01T21:25:00.000</td>\n",
       "      <td>2018-01-01T21:49:00.000</td>\n",
       "      <td>RESIDENCE / HOME</td>\n",
       "      <td>78735</td>\n",
       "      <td>6</td>\n",
       "      <td>3068872</td>\n",
       "      <td>3068872</td>\n",
       "      <td>N</td>\n",
       "      <td>2018-01-09T00:00:00.000</td>\n",
       "    </tr>\n",
       "    <tr>\n",
       "      <th>99</th>\n",
       "      <td>20185011358</td>\n",
       "      <td>HARASSMENT</td>\n",
       "      <td>2703</td>\n",
       "      <td>Y</td>\n",
       "      <td>2018-01-01T12:00:00.000</td>\n",
       "      <td>2018-03-26T23:37:00.000</td>\n",
       "      <td>RESIDENCE / HOME</td>\n",
       "      <td>78744</td>\n",
       "      <td>8</td>\n",
       "      <td>3106106</td>\n",
       "      <td>3106106</td>\n",
       "      <td>N</td>\n",
       "      <td>2018-03-27T00:00:00.000</td>\n",
       "    </tr>\n",
       "  </tbody>\n",
       "</table>\n",
       "<p>98 rows × 13 columns</p>\n",
       "</div>"
      ],
      "text/plain": [
       "   incident_report_number                      crime_type ucr_code  \\\n",
       "0               201811444              FAMILY DISTURBANCE     3400   \n",
       "1             20195024716              CRUELTY TO ANIMALS     2717   \n",
       "2               201811667       AGG ROBBERY/DEADLY WEAPON      300   \n",
       "3               201810550         POSSESSION OF MARIJUANA     1803   \n",
       "4             20205045035                  IDENTITY THEFT     4022   \n",
       "..                    ...                             ...      ...   \n",
       "95              201811617             PUBLIC INTOXICATION     2300   \n",
       "96              201810723   ASSAULT BY CONTACT FAM/DATING      902   \n",
       "97              201820726                THEFT OF TRAILER      613   \n",
       "98              201811794  ASSAULT W/INJURY-FAM/DATE VIOL      900   \n",
       "99            20185011358                      HARASSMENT     2703   \n",
       "\n",
       "   family_violence            occ_date_time            rep_date_time  \\\n",
       "0                N  2018-01-01T16:58:00.000  2018-01-01T16:58:00.000   \n",
       "1                N  2018-01-01T14:00:00.000  2019-06-17T10:20:00.000   \n",
       "2                N  2018-01-01T19:47:00.000  2018-01-01T19:47:00.000   \n",
       "3                N  2018-01-01T02:51:00.000  2018-01-01T06:49:00.000   \n",
       "4                N  2018-01-01T12:00:00.000  2020-11-06T10:37:00.000   \n",
       "..             ...                      ...                      ...   \n",
       "95               N  2018-01-01T19:45:00.000  2018-01-01T20:59:00.000   \n",
       "96               Y  2018-01-01T03:56:00.000  2018-01-01T04:45:00.000   \n",
       "97               N  2018-01-01T12:00:00.000  2018-01-02T17:00:00.000   \n",
       "98               N  2018-01-01T21:25:00.000  2018-01-01T21:49:00.000   \n",
       "99               Y  2018-01-01T12:00:00.000  2018-03-26T23:37:00.000   \n",
       "\n",
       "                   location_type zip_code district x_coordinate y_coordinate  \\\n",
       "0   STREETS / HWY / ROAD / ALLEY    78745        1      3093814      3093814   \n",
       "1               RESIDENCE / HOME    78747        7      3103707      3103707   \n",
       "2    DEPARTMENT / DISCOUNT STORE    78753        1      3128703      3128703   \n",
       "3   STREETS / HWY / ROAD / ALLEY    78744        6      3118581      3118581   \n",
       "4               RESIDENCE / HOME    78758        4      3127109      3127109   \n",
       "..                           ...      ...      ...          ...          ...   \n",
       "95        GAS / SERVICE STATIONS    78758        4      3128613      3128613   \n",
       "96  STREETS / HWY / ROAD / ALLEY    78729        4      3099634      3099634   \n",
       "97  STREETS / HWY / ROAD / ALLEY    78751        5      3121407      3121407   \n",
       "98              RESIDENCE / HOME    78735        6      3068872      3068872   \n",
       "99              RESIDENCE / HOME    78744        8      3106106      3106106   \n",
       "\n",
       "   clearance_status           clearance_date  \n",
       "0               NaN                      NaN  \n",
       "1                 N  2019-06-18T00:00:00.000  \n",
       "2                 C  2018-01-03T00:00:00.000  \n",
       "3               NaN                      NaN  \n",
       "4                 N  2020-11-06T00:00:00.000  \n",
       "..              ...                      ...  \n",
       "95                C  2018-01-01T00:00:00.000  \n",
       "96                N  2018-01-04T00:00:00.000  \n",
       "97                N  2018-01-05T00:00:00.000  \n",
       "98                N  2018-01-09T00:00:00.000  \n",
       "99                N  2018-03-27T00:00:00.000  \n",
       "\n",
       "[98 rows x 13 columns]"
      ]
     },
     "execution_count": 286,
     "metadata": {},
     "output_type": "execute_result"
    }
   ],
   "source": [
    "data_drop(test_df)"
   ]
  },
  {
   "cell_type": "code",
   "execution_count": 287,
   "id": "tired-college",
   "metadata": {
    "execution": {
     "iopub.execute_input": "2021-03-04T19:59:24.912135Z",
     "iopub.status.busy": "2021-03-04T19:59:24.911103Z",
     "iopub.status.idle": "2021-03-04T19:59:24.918600Z",
     "shell.execute_reply": "2021-03-04T19:59:24.918600Z",
     "shell.execute_reply.started": "2021-03-04T19:59:24.912135Z"
    }
   },
   "outputs": [
    {
     "data": {
      "text/plain": [
       "incident_report_number     0\n",
       "crime_type                 0\n",
       "ucr_code                   0\n",
       "family_violence            0\n",
       "occ_date_time              0\n",
       "rep_date_time              0\n",
       "location_type              0\n",
       "zip_code                   0\n",
       "district                   0\n",
       "x_coordinate               0\n",
       "y_coordinate               0\n",
       "clearance_status          11\n",
       "clearance_date            11\n",
       "dtype: int64"
      ]
     },
     "execution_count": 287,
     "metadata": {},
     "output_type": "execute_result"
    }
   ],
   "source": [
    "test_df.isnull().sum()"
   ]
  },
  {
   "cell_type": "code",
   "execution_count": 170,
   "id": "christian-camera",
   "metadata": {
    "execution": {
     "iopub.execute_input": "2021-03-04T19:05:39.370099Z",
     "iopub.status.busy": "2021-03-04T19:05:39.369100Z",
     "iopub.status.idle": "2021-03-04T19:05:39.377112Z",
     "shell.execute_reply": "2021-03-04T19:05:39.377112Z",
     "shell.execute_reply.started": "2021-03-04T19:05:39.370099Z"
    }
   },
   "outputs": [
    {
     "data": {
      "text/plain": [
       "10"
      ]
     },
     "execution_count": 170,
     "metadata": {},
     "output_type": "execute_result"
    },
    {
     "data": {
      "text/plain": [
       "13"
      ]
     },
     "execution_count": 170,
     "metadata": {},
     "output_type": "execute_result"
    }
   ],
   "source": [
    "column_checklist = ['incident_report_number', 'crime_type', 'ucr_code', 'family_violence',\n",
    "                       'occ_date_time', 'rep_date_time', 'location_type', 'zip_code',\n",
    "                        'x_coordinate', 'y_coordinate']\n",
    "len(column_checklist)\n",
    "len(test_df.columns)"
   ]
  },
  {
   "cell_type": "markdown",
   "id": "sensitive-miami",
   "metadata": {
    "execution": {
     "iopub.execute_input": "2021-03-03T18:50:15.329115Z",
     "iopub.status.busy": "2021-03-03T18:50:15.328116Z",
     "iopub.status.idle": "2021-03-03T18:50:15.332106Z",
     "shell.execute_reply": "2021-03-03T18:50:15.331273Z",
     "shell.execute_reply.started": "2021-03-03T18:50:15.329115Z"
    }
   },
   "source": [
    "### Transform   "
   ]
  },
  {
   "cell_type": "code",
   "execution_count": 183,
   "id": "worst-competition",
   "metadata": {
    "execution": {
     "iopub.execute_input": "2021-03-04T19:24:11.202235Z",
     "iopub.status.busy": "2021-03-04T19:24:11.202235Z",
     "iopub.status.idle": "2021-03-04T19:24:11.207761Z",
     "shell.execute_reply": "2021-03-04T19:24:11.207221Z",
     "shell.execute_reply.started": "2021-03-04T19:24:11.202235Z"
    }
   },
   "outputs": [
    {
     "data": {
      "text/plain": [
       "14"
      ]
     },
     "execution_count": 183,
     "metadata": {},
     "output_type": "execute_result"
    }
   ],
   "source": [
    "test_df.clearance_date.isnull().sum() + 3"
   ]
  },
  {
   "cell_type": "code",
   "execution_count": 190,
   "id": "combined-jurisdiction",
   "metadata": {
    "execution": {
     "iopub.execute_input": "2021-03-04T19:28:34.889725Z",
     "iopub.status.busy": "2021-03-04T19:28:34.889725Z",
     "iopub.status.idle": "2021-03-04T19:28:34.897702Z",
     "shell.execute_reply": "2021-03-04T19:28:34.897702Z",
     "shell.execute_reply.started": "2021-03-04T19:28:34.889725Z"
    }
   },
   "outputs": [
    {
     "data": {
      "text/plain": [
       "{'incident_report_number': {0: '201811444', 1: '20195024716', 2: '201811667'},\n",
       " 'crime_type': {0: 'FAMILY DISTURBANCE',\n",
       "  1: 'CRUELTY TO ANIMALS',\n",
       "  2: 'AGG ROBBERY/DEADLY WEAPON'}}"
      ]
     },
     "execution_count": 190,
     "metadata": {},
     "output_type": "execute_result"
    }
   ],
   "source": [
    "test_df[['incident_report_number','crime_type']][0:3].to_dict()"
   ]
  },
  {
   "cell_type": "code",
   "execution_count": 202,
   "id": "cathedral-symbol",
   "metadata": {
    "execution": {
     "iopub.execute_input": "2021-03-04T19:41:38.223135Z",
     "iopub.status.busy": "2021-03-04T19:41:38.222104Z",
     "iopub.status.idle": "2021-03-04T19:41:38.232135Z",
     "shell.execute_reply": "2021-03-04T19:41:38.232135Z",
     "shell.execute_reply.started": "2021-03-04T19:41:38.223135Z"
    }
   },
   "outputs": [
    {
     "data": {
      "text/html": [
       "<div>\n",
       "<style scoped>\n",
       "    .dataframe tbody tr th:only-of-type {\n",
       "        vertical-align: middle;\n",
       "    }\n",
       "\n",
       "    .dataframe tbody tr th {\n",
       "        vertical-align: top;\n",
       "    }\n",
       "\n",
       "    .dataframe thead th {\n",
       "        text-align: right;\n",
       "    }\n",
       "</style>\n",
       "<table border=\"1\" class=\"dataframe\">\n",
       "  <thead>\n",
       "    <tr style=\"text-align: right;\">\n",
       "      <th></th>\n",
       "      <th>total rows dropped</th>\n",
       "    </tr>\n",
       "  </thead>\n",
       "  <tbody>\n",
       "    <tr>\n",
       "      <th>0</th>\n",
       "      <td>1</td>\n",
       "    </tr>\n",
       "  </tbody>\n",
       "</table>\n",
       "</div>"
      ],
      "text/plain": [
       "   total rows dropped\n",
       "0                   1"
      ]
     },
     "execution_count": 202,
     "metadata": {},
     "output_type": "execute_result"
    }
   ],
   "source": [
    "pd.DataFrame({'Total Rows Dropped':{0:row_counter}})"
   ]
  },
  {
   "cell_type": "code",
   "execution_count": null,
   "id": "interesting-grounds",
   "metadata": {},
   "outputs": [],
   "source": [
    "def clean_data(data_df):\n",
    "    \n",
    "    #drop columns \n",
    "    drop_columns = ['latitude', 'longitude', 'location',\n",
    "                    'occ_date', 'occ_time','rep_date','rep_time','category_description', 'address',\n",
    "                    'ucr_category']\n",
    "    \n",
    "    data_df.drop(drop_column, axis=1, inplace=True)\n",
    "    \n",
    "    #drop null values \n",
    "    def data_drop(data_df):\n",
    "        # drop rows where crucial data is necesary \n",
    "        column_checklist = ['incident_report_number', 'crime_type', 'ucr_code', 'family_violence',\n",
    "                       'occ_date_time', 'rep_date_time', 'location_type', 'zip_code',\n",
    "                        'x_coordinate', 'y_coordinate']\n",
    "        for i in column_list:\n",
    "            row_counter = 0\n",
    "            if data_df[i].isnull().sum() > 0:\n",
    "                row_counter += data_df[i].isnull().sum()\n",
    "                data_df.drop(data_df[data_df[i].isnull()].index, inplace=True)\n",
    "        print(pd.DataFrame({'Total Rows Dropped':{0:row_counter}}))\n",
    "        return data_df\n",
    "    \n",
    "    #output frame of ammount being dropped\n",
    "          \n",
    "    #fill in clearance date \n",
    "    \n",
    "    #rename columns \n",
    "    column_names = {'ucr_code':'offense_code','occ_date_time':'ocurred_date',\n",
    "                    'rep_date_time':'reported_date','crime_type':'offense_type'}\n",
    "    \n",
    "    data_df.rename(columns=column_names, inplace=True)\n",
    "    \n",
    "    \n",
    "    \n",
    "    return cleaned_data_df"
   ]
  },
  {
   "cell_type": "code",
   "execution_count": null,
   "id": "southeast-trust",
   "metadata": {},
   "outputs": [],
   "source": [
    "def create_tables(cleaned_data_df):\n",
    "     \n",
    "    #offense_type_table \n",
    "    offense_df = cleaned_data_df[['offense_code','offense_type']].copy()\n",
    "    offense_df.drop_duplicates(subset='offense_code',inplace=True)\n",
    "    \n",
    "    #create incident_location_table \n",
    "    location_df = cleaned_data_df['location_type'].copy()\n",
    "    location_df.to_frame()\n",
    "    location_df.drop_duplicates(inplace=True)\n",
    "    location_df['location_code'] = np.arrange(len(incident_loc_df))\n",
    "    \n",
    "    #create mapping for location_code column\n",
    "    loc_mapping_df = location_df.copy().set_index('location_type', inplace=True)\n",
    "    location_mapper = loc_mapping_df.to_dict()['location_code']\n",
    "    \n",
    "    # rearrange location_df\n",
    "    location_df = lcoation_df[['locations_code','location_type']]\n",
    "    \n",
    "    #crime_incidents_table \n",
    "    #create encoded location_code column\n",
    "    crime_incident_df = cleaned_data_df.copy()\n",
    "    crime_incident_df['location_code'] = crime_incident_df['location_type'] \\\n",
    "    .apply(lambda x: location_mapper[x])\n",
    "    \n",
    "    #drop columns \n",
    "    drop_column_2 = ['offense_type','offense_code']\n",
    "    crime_incident_df.drop(drop_column_2, inplace=True)\n",
    "    \n",
    "    \n",
    "    return crime_incident_df, location_df, offense_df \n",
    "\n"
   ]
  },
  {
   "cell_type": "code",
   "execution_count": null,
   "id": "interracial-mystery",
   "metadata": {},
   "outputs": [],
   "source": []
  }
 ],
 "metadata": {
  "kernelspec": {
   "display_name": "PythonData",
   "language": "python",
   "name": "pythondata"
  },
  "language_info": {
   "codemirror_mode": {
    "name": "ipython",
    "version": 3
   },
   "file_extension": ".py",
   "mimetype": "text/x-python",
   "name": "python",
   "nbconvert_exporter": "python",
   "pygments_lexer": "ipython3",
   "version": "3.7.9"
  }
 },
 "nbformat": 4,
 "nbformat_minor": 5
}

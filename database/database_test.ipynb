{
 "cells": [
  {
   "cell_type": "code",
   "execution_count": 5,
   "id": "executive-keyboard",
   "metadata": {
    "execution": {
     "iopub.execute_input": "2021-03-06T04:24:02.038116Z",
     "iopub.status.busy": "2021-03-06T04:24:02.037119Z",
     "iopub.status.idle": "2021-03-06T04:24:02.058063Z",
     "shell.execute_reply": "2021-03-06T04:24:02.058063Z",
     "shell.execute_reply.started": "2021-03-06T04:24:02.038116Z"
    }
   },
   "outputs": [],
   "source": [
    "from sqlalchemy import create_engine\n",
    "# psycopg2 works in tandem with sqlalchemy \n",
    "import psycopg2\n",
    "# import custom module with database parameters \n",
    "import config"
   ]
  },
  {
   "cell_type": "code",
   "execution_count": 27,
   "id": "ultimate-marathon",
   "metadata": {
    "execution": {
     "iopub.execute_input": "2021-03-06T05:32:30.678156Z",
     "iopub.status.busy": "2021-03-06T05:32:30.678156Z",
     "iopub.status.idle": "2021-03-06T05:32:30.730018Z",
     "shell.execute_reply": "2021-03-06T05:32:30.729023Z",
     "shell.execute_reply.started": "2021-03-06T05:32:30.678156Z"
    }
   },
   "outputs": [
    {
     "ename": "TypeError",
     "evalue": "'str' object is not callable",
     "output_type": "error",
     "traceback": [
      "\u001b[1;31m---------------------------------------------------------------------------\u001b[0m",
      "\u001b[1;31mTypeError\u001b[0m                                 Traceback (most recent call last)",
      "\u001b[1;32m<ipython-input-27-c06cfcd8b5cc>\u001b[0m in \u001b[0;36m<module>\u001b[1;34m\u001b[0m\n\u001b[0;32m      3\u001b[0m \u001b[0mcur\u001b[0m \u001b[1;33m=\u001b[0m \u001b[0mconn\u001b[0m\u001b[1;33m.\u001b[0m\u001b[0mcursor\u001b[0m\u001b[1;33m(\u001b[0m\u001b[1;33m)\u001b[0m\u001b[1;33m\u001b[0m\u001b[1;33m\u001b[0m\u001b[0m\n\u001b[0;32m      4\u001b[0m \u001b[0mconn\u001b[0m\u001b[1;33m.\u001b[0m\u001b[0mautocommit\u001b[0m \u001b[1;33m=\u001b[0m \u001b[1;32mTrue\u001b[0m\u001b[1;33m\u001b[0m\u001b[1;33m\u001b[0m\u001b[0m\n\u001b[1;32m----> 5\u001b[1;33m \u001b[0mcur\u001b[0m\u001b[1;33m.\u001b[0m\u001b[0mexecute\u001b[0m\u001b[1;33m(\u001b[0m\u001b[1;34m'''CREATE DATABASE (%s);'''\u001b[0m\u001b[1;33m(\u001b[0m\u001b[0mdar\u001b[0m\u001b[1;33m)\u001b[0m\u001b[1;33m)\u001b[0m\u001b[1;33m\u001b[0m\u001b[1;33m\u001b[0m\u001b[0m\n\u001b[0m\u001b[0;32m      6\u001b[0m \u001b[0mconn\u001b[0m\u001b[1;33m.\u001b[0m\u001b[0mclose\u001b[0m\u001b[1;33m(\u001b[0m\u001b[1;33m)\u001b[0m\u001b[1;33m\u001b[0m\u001b[1;33m\u001b[0m\u001b[0m\n",
      "\u001b[1;31mTypeError\u001b[0m: 'str' object is not callable"
     ]
    }
   ],
   "source": [
    "# connect to default database to create new database \n",
    "conn = psycopg2.connect(database=\"postgres\", user=config.db_user, password=config.db_password)\n",
    "cur = conn.cursor()\n",
    "conn.autocommit = True\n",
    "cur.execute(''f'CREATE DATABASE {dar};''')\n",
    "conn.close()"
   ]
  },
  {
   "cell_type": "code",
   "execution_count": 20,
   "id": "illegal-pregnancy",
   "metadata": {
    "execution": {
     "iopub.execute_input": "2021-03-06T05:07:25.110267Z",
     "iopub.status.busy": "2021-03-06T05:07:25.109270Z",
     "iopub.status.idle": "2021-03-06T05:07:25.202021Z",
     "shell.execute_reply": "2021-03-06T05:07:25.201024Z",
     "shell.execute_reply.started": "2021-03-06T05:07:25.109270Z"
    }
   },
   "outputs": [],
   "source": [
    "# connect to newly created database and create schema with tables \n",
    "conn = psycopg2.connect(database=\"test\", user=config.db_user, password=config.db_password)\n",
    "cur = conn.cursor()\n",
    "cur.execute('''\n",
    "\n",
    "            CREATE TABLE crime_incidents (\n",
    "                incident_report_number BIGINT PRIMARY KEY, \n",
    "                offense_code TEXT,\n",
    "                family_violence BOOLEAN,\n",
    "                occurred_date TIMESTAMP,\n",
    "                reported_date TIMESTAMP,\n",
    "                zip_code TEXT,\n",
    "                district TEXT,\n",
    "                latitude DOUBLE PRECISION,\n",
    "                longitude DOUBLE PRECISION,\n",
    "                clearance_status TEXT,\n",
    "                clearance_date DATE,\n",
    "                location_code TEXT );\n",
    "            CREATE TABLE incident_location (\n",
    "                location_code TEXT PRIMARY KEY,\n",
    "                location_type TEXT );\n",
    "            CREATE TABLE offense_type (\n",
    "                offense_code TEXT PRIMARY KEY,\n",
    "                offense_type TEXT\n",
    "            );''')\n",
    "\n",
    "conn.commit()\n",
    "conn.close()"
   ]
  },
  {
   "cell_type": "code",
   "execution_count": null,
   "id": "announced-shakespeare",
   "metadata": {},
   "outputs": [],
   "source": []
  }
 ],
 "metadata": {
  "kernelspec": {
   "display_name": "PythonData",
   "language": "python",
   "name": "pythondata"
  },
  "language_info": {
   "codemirror_mode": {
    "name": "ipython",
    "version": 3
   },
   "file_extension": ".py",
   "mimetype": "text/x-python",
   "name": "python",
   "nbconvert_exporter": "python",
   "pygments_lexer": "ipython3",
   "version": "3.7.9"
  }
 },
 "nbformat": 4,
 "nbformat_minor": 5
}

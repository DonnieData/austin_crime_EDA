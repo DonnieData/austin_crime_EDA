{
 "cells": [
  {
   "cell_type": "code",
   "execution_count": 1,
   "id": "racial-petite",
   "metadata": {
    "execution": {
     "iopub.execute_input": "2021-03-06T02:35:28.235459Z",
     "iopub.status.busy": "2021-03-06T02:35:28.235459Z",
     "iopub.status.idle": "2021-03-06T02:35:28.433962Z",
     "shell.execute_reply": "2021-03-06T02:35:28.433962Z",
     "shell.execute_reply.started": "2021-03-06T02:35:28.235459Z"
    }
   },
   "outputs": [],
   "source": [
    "from sqlalchemy import create_engine\n",
    "# psycopg2 works in tandem with sqlalchemy \n",
    "import psycopg2\n",
    "# import custom module with database parameters \n",
    "import config"
   ]
  },
  {
   "cell_type": "code",
   "execution_count": 3,
   "id": "hindu-manitoba",
   "metadata": {
    "execution": {
     "iopub.execute_input": "2021-03-06T02:35:53.666561Z",
     "iopub.status.busy": "2021-03-06T02:35:53.666561Z",
     "iopub.status.idle": "2021-03-06T02:35:55.055133Z",
     "shell.execute_reply": "2021-03-06T02:35:55.054138Z",
     "shell.execute_reply.started": "2021-03-06T02:35:53.666561Z"
    }
   },
   "outputs": [],
   "source": [
    "# connect tp default database to create new database \n",
    "conn = psycopg2.connect(database=\"postgres\", user=config.db_user, password=config.db_password)\n",
    "cur = conn.cursor()\n",
    "conn.autocommit = True\n",
    "cur.execute('''CREATE DATABASE test_1;''')\n",
    "conn.close()"
   ]
  },
  {
   "cell_type": "code",
   "execution_count": 4,
   "id": "proud-turkey",
   "metadata": {
    "execution": {
     "iopub.execute_input": "2021-03-06T02:35:56.396812Z",
     "iopub.status.busy": "2021-03-06T02:35:56.396812Z",
     "iopub.status.idle": "2021-03-06T02:35:56.514516Z",
     "shell.execute_reply": "2021-03-06T02:35:56.513518Z",
     "shell.execute_reply.started": "2021-03-06T02:35:56.396812Z"
    }
   },
   "outputs": [],
   "source": [
    "# connect to newly created database and create schema with tables \n",
    "conn = psycopg2.connect(database=\"test_1\", user=config.db_user, password=config.db_password)\n",
    "cur = conn.cursor()\n",
    "cur.execute('''\n",
    "            CREATE SCHEMA crime_data\n",
    "            CREATE TABLE crime_incidents (\n",
    "                incident_report_number BIGINT PRIMARY KEY, \n",
    "                offense_code TEXT,\n",
    "                family_violence BOOLEAN,\n",
    "                occurred_date TIMESTAMP,\n",
    "                reported_date TIMESTAMP,\n",
    "                zip_code TEXT,\n",
    "                district TEXT,\n",
    "                latitude DOUBLE PRECISION,\n",
    "                longitude DOUBLE PRECISION,\n",
    "                clearance_status TEXT,\n",
    "                clearance_date TIMESTAMP,\n",
    "                location_code TEXT)\n",
    "            CREATE TABLE incident_location (\n",
    "                location_code TEXT PRIMARY KEY,\n",
    "                lcoation_type TEXT)\n",
    "            CREATE TABLE offense_type (\n",
    "                offense_code TEXT PRIMARY KEY,\n",
    "                offense_type TEXT\n",
    "            );''')\n",
    "\n",
    "conn.commit()\n",
    "conn.close()"
   ]
  },
  {
   "cell_type": "code",
   "execution_count": null,
   "id": "steady-tsunami",
   "metadata": {},
   "outputs": [],
   "source": []
  }
 ],
 "metadata": {
  "kernelspec": {
   "display_name": "PythonData",
   "language": "python",
   "name": "pythondata"
  },
  "language_info": {
   "codemirror_mode": {
    "name": "ipython",
    "version": 3
   },
   "file_extension": ".py",
   "mimetype": "text/x-python",
   "name": "python",
   "nbconvert_exporter": "python",
   "pygments_lexer": "ipython3",
   "version": "3.7.9"
  }
 },
 "nbformat": 4,
 "nbformat_minor": 5
}

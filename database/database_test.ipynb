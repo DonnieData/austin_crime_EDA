{
 "cells": [
  {
   "cell_type": "code",
   "execution_count": 5,
   "id": "antique-generic",
   "metadata": {
    "execution": {
     "iopub.execute_input": "2021-03-06T04:24:02.038116Z",
     "iopub.status.busy": "2021-03-06T04:24:02.037119Z",
     "iopub.status.idle": "2021-03-06T04:24:02.058063Z",
     "shell.execute_reply": "2021-03-06T04:24:02.058063Z",
     "shell.execute_reply.started": "2021-03-06T04:24:02.038116Z"
    }
   },
   "outputs": [],
   "source": [
    "from sqlalchemy import create_engine\n",
    "# psycopg2 works in tandem with sqlalchemy \n",
    "import psycopg2\n",
    "# import custom module with database parameters \n",
    "import config"
   ]
  },
  {
   "cell_type": "code",
   "execution_count": null,
   "id": "round-bunch",
   "metadata": {},
   "outputs": [],
   "source": [
    "# connect to default database to create new database \n",
    "conn = psycopg2.connect(database=\"postgres\", user=config.db_user, password=config.db_password)\n",
    "cur = conn.cursor()\n",
    "conn.autocommit = True\n",
    "cur.execute(''f'CREATE DATABASE test;''')\n",
    "conn.close()"
   ]
  },
  {
   "cell_type": "code",
   "execution_count": 20,
   "id": "architectural-antigua",
   "metadata": {
    "execution": {
     "iopub.execute_input": "2021-03-06T05:07:25.110267Z",
     "iopub.status.busy": "2021-03-06T05:07:25.109270Z",
     "iopub.status.idle": "2021-03-06T05:07:25.202021Z",
     "shell.execute_reply": "2021-03-06T05:07:25.201024Z",
     "shell.execute_reply.started": "2021-03-06T05:07:25.109270Z"
    }
   },
   "outputs": [],
   "source": [
    "# connect to newly created database and create schema with tables \n",
    "conn = psycopg2.connect(database=\"test\", user=config.db_user, password=config.db_password)\n",
    "cur = conn.cursor()\n",
    "cur.execute('''\n",
    "\n",
    "            CREATE TABLE crime_incidents (\n",
    "                incident_report_number BIGINT PRIMARY KEY, \n",
    "                offense_code TEXT,\n",
    "                family_violence BOOLEAN,\n",
    "                occurred_date TIMESTAMP,\n",
    "                reported_date TIMESTAMP,\n",
    "                zip_code TEXT,\n",
    "                district TEXT,\n",
    "                latitude DOUBLE PRECISION,\n",
    "                longitude DOUBLE PRECISION,\n",
    "                clearance_status TEXT,\n",
    "                clearance_date DATE,\n",
    "                location_code TEXT );\n",
    "            CREATE TABLE incident_location (\n",
    "                location_code TEXT PRIMARY KEY,\n",
    "                location_type TEXT );\n",
    "            CREATE TABLE offense_type (\n",
    "                offense_code TEXT PRIMARY KEY,\n",
    "                offense_type TEXT\n",
    "            );''')\n",
    "\n",
    "conn.commit()\n",
    "conn.close()"
   ]
  },
  {
   "cell_type": "code",
   "execution_count": null,
   "id": "funny-candidate",
   "metadata": {},
   "outputs": [],
   "source": []
  }
 ],
 "metadata": {
  "kernelspec": {
   "display_name": "PythonData",
   "language": "python",
   "name": "pythondata"
  },
  "language_info": {
   "codemirror_mode": {
    "name": "ipython",
    "version": 3
   },
   "file_extension": ".py",
   "mimetype": "text/x-python",
   "name": "python",
   "nbconvert_exporter": "python",
   "pygments_lexer": "ipython3",
   "version": "3.7.9"
  }
 },
 "nbformat": 4,
 "nbformat_minor": 5
}
